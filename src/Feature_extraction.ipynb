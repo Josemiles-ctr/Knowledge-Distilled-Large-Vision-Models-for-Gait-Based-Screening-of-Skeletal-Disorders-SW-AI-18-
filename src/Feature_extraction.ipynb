{
 "cells": [
  {
   "cell_type": "code",
   "execution_count": 2,
   "id": "c37942e3",
   "metadata": {},
   "outputs": [],
   "source": [
    "import cv2\n",
    "import mediapipe as mp\n",
    "import numpy as np\n",
    "import pandas as pd\n",
    "import os\n",
    "import matplotlib.pyplot as plt\n",
    "from pathlib import Path"
   ]
  },
  {
   "cell_type": "code",
   "execution_count": null,
   "id": "1165f536",
   "metadata": {},
   "outputs": [],
   "source": [
    "PoseLandmark = mp.solutions.pose.PoseLandmark\n",
    "mp_pose = mp.solutions.pose\n",
    "np.set_printoptions(precision=4, suppress=True)"
   ]
  },
  {
   "cell_type": "code",
   "execution_count": null,
   "id": "b8e74719",
   "metadata": {},
   "outputs": [],
   "source": [
    "def compute_angle(a, b, c):\n",
    "    a, b, c = np.array(a), np.array(b), np.array(c)\n",
    "    ba = a - b\n",
    "    bc = c - b\n",
    "    cos_angle = np.dot(ba, bc) / (np.linalg.norm(ba) * np.linalg.norm(bc) + 1e-6)\n",
    "    angle = np.arccos(np.clip(cos_angle, -1.0, 1.0))\n",
    "    return np.degrees(angle)\n"
   ]
  },
  {
   "cell_type": "code",
   "execution_count": null,
   "id": "9ee90066",
   "metadata": {},
   "outputs": [],
   "source": [
    "def detect_heel_strike(prev_y, current_y, threshold=0.005):\n",
    "    if prev_y is None:\n",
    "        return False\n",
    "    velocity = current_y - prev_y\n",
    "    return -threshold < velocity < threshold"
   ]
  },
  {
   "cell_type": "code",
   "execution_count": null,
   "id": "79aa5e02",
   "metadata": {},
   "outputs": [],
   "source": [
    "def compute_stride_length(prev_pos, curr_pos):\n",
    "    if prev_pos is None:\n",
    "        return 0.0\n",
    "    prev = np.array(prev_pos)\n",
    "    curr = np.array(curr_pos)\n",
    "    return float(np.linalg.norm(curr - prev))"
   ]
  },
  {
   "cell_type": "code",
   "execution_count": null,
   "id": "23223ecf",
   "metadata": {},
   "outputs": [],
   "source": [
    "def extract_frame_landmarks(landmark_list):\n",
    "    d = {}\n",
    "    for idx, lm_enum in enumerate(PoseLandmark):\n",
    "        name = lm_enum.name\n",
    "        lm = landmark_list[idx]\n",
    "        d[f\"{name}_x\"] = float(lm.x)\n",
    "        d[f\"{name}_y\"] = float(lm.y)\n",
    "        d[f\"{name}_z\"] = float(lm.z)\n",
    "        d[f\"{name}_visibility\"] = float(lm.visibility)\n",
    "\n",
    "        d['left_knee_angle'] = compute_angle([d['LEFT_HIP_x'], d['LEFT_HIP_y']], [d['LEFT_KNEE_x'], d['LEFT_KNEE_y']], [d['LEFT_ANKLE_x'], d['LEFT_ANKLE_y']])\n",
    "        d['right_knee_angle'] = compute_angle([d['RIGHT_HIP_x'], d['RIGHT_HIP_y']], [d['RIGHT_KNEE_x'], d['RIGHT_KNEE_y']], [d['RIGHT_ANKLE_x'], d['RIGHT_ANKLE_y']])\n",
    "        d['left_hip_angle'] = compute_angle([d['LEFT_SHOULDER_x'], d['LEFT_SHOULDER_y']], [d['LEFT_HIP_x'], d['LEFT_HIP_y']], [d['LEFT_KNEE_x'], d['LEFT_KNEE_y']])\n",
    "        d['right_hip_angle'] = compute_angle([d['RIGHT_SHOULDER_x'], d['RIGHT_SHOULDER_y']], [d['RIGHT_HIP_x'], d['RIGHT_HIP_y']], [d['RIGHT_KNEE_x'], d['RIGHT_KNEE_y']])\n",
    "    return d\n",
    "\n"
   ]
  },
  {
   "cell_type": "code",
   "execution_count": null,
   "id": "b5fb6b65",
   "metadata": {},
   "outputs": [],
   "source": [
    "def initialize_video_processing(video_path):\n",
    "    cap = cv2.VideoCapture(video_path)\n",
    "    fps = cap.get(cv2.CAP_PROP_FPS) or 30.0\n",
    "    pose = mp_pose.Pose(static_image_mode=False, min_detection_confidence=0.5, min_tracking_confidence=0.5)\n",
    "    return cap, fps, pose\n",
    "\n",
    "print('initialize_video_processing ready')\n"
   ]
  },
  {
   "cell_type": "code",
   "execution_count": null,
   "id": "355f3bdb",
   "metadata": {},
   "outputs": [],
   "source": [
    "def process_video_for_gait(video_path, cycles_per_video=5):\n",
    "    cap, fps, pose = initialize_video_processing(video_path)\n",
    "    frame_number = 0\n",
    "    gait_count = 0\n",
    "    recording_cycle = False\n",
    "    current_cycle = []\n",
    "    prev_left_heel_y = None\n",
    "    prev_left_heel_pos = None\n",
    "    all_rows = []\n",
    "\n",
    "    while cap.isOpened() and gait_count < cycles_per_video:\n",
    "        ret, frame = cap.read()\n",
    "        if not ret:\n",
    "            break\n",
    "        frame_number += 1\n",
    "        frame_rgb = cv2.cvtColor(frame, cv2.COLOR_BGR2RGB)\n",
    "        results = pose.process(frame_rgb)\n",
    "        if results.pose_landmarks:\n",
    "            lm = results.pose_landmarks.landmark\n",
    "            row = extract_frame_landmarks(lm)\n",
    "\n",
    "            left_heel_y = row.get('LEFT_HEEL_y')\n",
    "            left_heel_pos = [row.get('LEFT_HEEL_x'), row.get('LEFT_HEEL_y')]\n",
    "\n",
    "            if detect_heel_strike(prev_left_heel_y, left_heel_y):\n",
    "                if not recording_cycle:\n",
    "                    recording_cycle = True\n",
    "                    current_cycle = []\n",
    "                    cycle_start_frame = frame_number\n",
    "                    prev_left_heel_pos = left_heel_pos\n",
    "                else:\n",
    "                    recording_cycle = False\n",
    "                    gait_count += 1\n",
    "                    cycle_end_frame = frame_number\n",
    "                    stride_length = compute_stride_length(prev_left_heel_pos, left_heel_pos)\n",
    "                    step_time_sec = (cycle_end_frame - cycle_start_frame) / fps\n",
    "                    \n",
    "                    for r in current_cycle:\n",
    "                        r['stride_length'] = stride_length\n",
    "                        r['step_time_sec'] = step_time_sec\n",
    "                    all_rows.extend(current_cycle)\n",
    "\n",
    "            prev_left_heel_y = left_heel_y\n",
    "\n",
    "            if recording_cycle:\n",
    "                current_cycle.append(row)\n",
    "\n",
    "    cap.release()\n",
    "    pose.close()\n",
    "    return all_rows"
   ]
  },
  {
   "cell_type": "code",
   "execution_count": null,
   "id": "d1a59d07",
   "metadata": {},
   "outputs": [],
   "source": [
    "def extract_gait_features_to_csv(video_paths, output_csv='gait_features.csv', cycles_per_video=5, allowed_exts=None):\n",
    "    allowed_exts = allowed_exts or ['.mp4', '.avi', '.mov', '.mkv']\n",
    "\n",
    "    if isinstance(video_paths, (str, Path)):\n",
    "        video_paths = [video_paths]\n",
    "\n",
    "    all_rows = []\n",
    "    video_items = []\n",
    "\n",
    "    for p in video_paths:\n",
    "        p = Path(p)\n",
    "        if not p.exists():\n",
    "            print(f'Warning: path does not exist, skipping: {p}')\n",
    "            continue\n",
    "        if p.is_dir():\n",
    "            for child in sorted(p.iterdir()):\n",
    "                if child.suffix.lower() in allowed_exts and child.is_file():\n",
    "                    video_items.append(child)\n",
    "        elif p.is_file():\n",
    "            video_items.append(p)\n",
    "\n",
    "    if not video_items:\n",
    "        print('No video files found in provided paths. Writing empty CSV.')\n",
    "        out_dir = Path('Datasets')\n",
    "        out_dir.mkdir(parents=True, exist_ok=True)\n",
    "        df = pd.DataFrame(all_rows)\n",
    "        out_path = out_dir / output_csv\n",
    "        df.to_csv(out_path, index=False)\n",
    "        print(f'Saved {len(df)} rows to {out_path}')\n",
    "        return df\n",
    "\n",
    "    # Process each video and tag with gait_pattern (folder name)\n",
    "    for video_path in video_items:\n",
    "        folder_name = video_path.parent.name or ''\n",
    "        try:\n",
    "            rows = process_video_for_gait(str(video_path), cycles_per_video=cycles_per_video)\n",
    "        except Exception as e:\n",
    "            print(f'Error processing {video_path}: {e}')\n",
    "            continue\n",
    "        for r in rows:\n",
    "            r['gait_pattern'] = folder_name\n",
    "        all_rows.extend(rows)\n",
    "\n",
    "    # Build DataFrame and save to Datasets/\n",
    "    out_dir = Path('Datasets')\n",
    "    out_dir.mkdir(parents=True, exist_ok=True)\n",
    "    df = pd.DataFrame(all_rows)\n",
    "    out_path = out_dir / output_csv\n",
    "    df.to_csv(out_path, index=False)\n",
    "    print(f'Saved {len(df)} rows to {out_path}')\n",
    "    return df"
   ]
  },
  {
   "cell_type": "code",
   "execution_count": null,
   "id": "7b642ab0",
   "metadata": {},
   "outputs": [],
   "source": [
    "\n",
    "df_test = extract_gait_features_to_csv([], output_csv='test_empty_restored.csv')\n",
    "print('Rows:', len(df_test))\n",
    "print('Datasets files:', [p.name for p in Path('Datasets').glob('*')])\n"
   ]
  },
  {
   "cell_type": "code",
   "execution_count": 5,
   "id": "16a91f3b",
   "metadata": {},
   "outputs": [
    {
     "name": "stderr",
     "output_type": "stream",
     "text": [
      "c:\\Users\\user\\Desktop\\GaitLab\\GaitEnv\\Lib\\site-packages\\google\\protobuf\\symbol_database.py:55: UserWarning: SymbolDatabase.GetPrototype() is deprecated. Please use message_factory.GetMessageClass() instead. SymbolDatabase.GetPrototype() will be removed soon.\n",
      "  warnings.warn('SymbolDatabase.GetPrototype() is deprecated. Please '\n"
     ]
    },
    {
     "name": "stdout",
     "output_type": "stream",
     "text": [
      "Saved CSV: keypoints_csv\\001_NM_01_Normal.csv\n"
     ]
    }
   ],
   "source": [
    "#This is to test the function for a single video\n",
    "test_video = r\"C:\\Users\\user\\Desktop\\Sem 1 Year 2\\Artifical Intelligence\\GiatLabDatset\\Normal\\001_NM_01.MOV\"\n",
    "saved_csv = process_video(test_video, \"Normal\")\n",
    "print(\"Saved CSV:\", saved_csv)"
   ]
  },
  {
   "cell_type": "code",
   "execution_count": 6,
   "id": "25cebea1",
   "metadata": {},
   "outputs": [
    {
     "name": "stderr",
     "output_type": "stream",
     "text": [
      "0it [00:00, ?it/s]\n",
      "0it [00:00, ?it/s]\n",
      "  0%|          | 0/26 [00:00<?, ?it/s]c:\\Users\\user\\Desktop\\GaitLab\\GaitEnv\\Lib\\site-packages\\google\\protobuf\\symbol_database.py:55: UserWarning: SymbolDatabase.GetPrototype() is deprecated. Please use message_factory.GetMessageClass() instead. SymbolDatabase.GetPrototype() will be removed soon.\n",
      "  warnings.warn('SymbolDatabase.GetPrototype() is deprecated. Please '\n",
      "  4%|▍         | 1/26 [00:09<04:06,  9.85s/it]"
     ]
    },
    {
     "name": "stdout",
     "output_type": "stream",
     "text": [
      "Saved: keypoints_csv\\B01_Assistive.csv\n"
     ]
    },
    {
     "name": "stderr",
     "output_type": "stream",
     "text": [
      "c:\\Users\\user\\Desktop\\GaitLab\\GaitEnv\\Lib\\site-packages\\google\\protobuf\\symbol_database.py:55: UserWarning: SymbolDatabase.GetPrototype() is deprecated. Please use message_factory.GetMessageClass() instead. SymbolDatabase.GetPrototype() will be removed soon.\n",
      "  warnings.warn('SymbolDatabase.GetPrototype() is deprecated. Please '\n",
      "  8%|▊         | 2/26 [00:16<03:05,  7.73s/it]"
     ]
    },
    {
     "name": "stdout",
     "output_type": "stream",
     "text": [
      "Saved: keypoints_csv\\B010_Assistive.csv\n"
     ]
    },
    {
     "name": "stderr",
     "output_type": "stream",
     "text": [
      "c:\\Users\\user\\Desktop\\GaitLab\\GaitEnv\\Lib\\site-packages\\google\\protobuf\\symbol_database.py:55: UserWarning: SymbolDatabase.GetPrototype() is deprecated. Please use message_factory.GetMessageClass() instead. SymbolDatabase.GetPrototype() will be removed soon.\n",
      "  warnings.warn('SymbolDatabase.GetPrototype() is deprecated. Please '\n",
      " 12%|█▏        | 3/26 [00:20<02:21,  6.13s/it]"
     ]
    },
    {
     "name": "stdout",
     "output_type": "stream",
     "text": [
      "Saved: keypoints_csv\\B02_Assistive.csv\n"
     ]
    },
    {
     "name": "stderr",
     "output_type": "stream",
     "text": [
      "c:\\Users\\user\\Desktop\\GaitLab\\GaitEnv\\Lib\\site-packages\\google\\protobuf\\symbol_database.py:55: UserWarning: SymbolDatabase.GetPrototype() is deprecated. Please use message_factory.GetMessageClass() instead. SymbolDatabase.GetPrototype() will be removed soon.\n",
      "  warnings.warn('SymbolDatabase.GetPrototype() is deprecated. Please '\n",
      " 15%|█▌        | 4/26 [00:23<01:52,  5.11s/it]"
     ]
    },
    {
     "name": "stdout",
     "output_type": "stream",
     "text": [
      "Saved: keypoints_csv\\B03_Assistive.csv\n"
     ]
    },
    {
     "name": "stderr",
     "output_type": "stream",
     "text": [
      "c:\\Users\\user\\Desktop\\GaitLab\\GaitEnv\\Lib\\site-packages\\google\\protobuf\\symbol_database.py:55: UserWarning: SymbolDatabase.GetPrototype() is deprecated. Please use message_factory.GetMessageClass() instead. SymbolDatabase.GetPrototype() will be removed soon.\n",
      "  warnings.warn('SymbolDatabase.GetPrototype() is deprecated. Please '\n",
      " 19%|█▉        | 5/26 [00:28<01:41,  4.82s/it]"
     ]
    },
    {
     "name": "stdout",
     "output_type": "stream",
     "text": [
      "Saved: keypoints_csv\\B04_Assistive.csv\n"
     ]
    },
    {
     "name": "stderr",
     "output_type": "stream",
     "text": [
      "c:\\Users\\user\\Desktop\\GaitLab\\GaitEnv\\Lib\\site-packages\\google\\protobuf\\symbol_database.py:55: UserWarning: SymbolDatabase.GetPrototype() is deprecated. Please use message_factory.GetMessageClass() instead. SymbolDatabase.GetPrototype() will be removed soon.\n",
      "  warnings.warn('SymbolDatabase.GetPrototype() is deprecated. Please '\n",
      " 23%|██▎       | 6/26 [00:33<01:38,  4.93s/it]"
     ]
    },
    {
     "name": "stdout",
     "output_type": "stream",
     "text": [
      "Saved: keypoints_csv\\B05_Assistive.csv\n"
     ]
    },
    {
     "name": "stderr",
     "output_type": "stream",
     "text": [
      "c:\\Users\\user\\Desktop\\GaitLab\\GaitEnv\\Lib\\site-packages\\google\\protobuf\\symbol_database.py:55: UserWarning: SymbolDatabase.GetPrototype() is deprecated. Please use message_factory.GetMessageClass() instead. SymbolDatabase.GetPrototype() will be removed soon.\n",
      "  warnings.warn('SymbolDatabase.GetPrototype() is deprecated. Please '\n",
      " 27%|██▋       | 7/26 [00:37<01:27,  4.58s/it]"
     ]
    },
    {
     "name": "stdout",
     "output_type": "stream",
     "text": [
      "Saved: keypoints_csv\\B06_Assistive.csv\n"
     ]
    },
    {
     "name": "stderr",
     "output_type": "stream",
     "text": [
      "c:\\Users\\user\\Desktop\\GaitLab\\GaitEnv\\Lib\\site-packages\\google\\protobuf\\symbol_database.py:55: UserWarning: SymbolDatabase.GetPrototype() is deprecated. Please use message_factory.GetMessageClass() instead. SymbolDatabase.GetPrototype() will be removed soon.\n",
      "  warnings.warn('SymbolDatabase.GetPrototype() is deprecated. Please '\n",
      " 31%|███       | 8/26 [00:41<01:22,  4.59s/it]"
     ]
    },
    {
     "name": "stdout",
     "output_type": "stream",
     "text": [
      "Saved: keypoints_csv\\B07_Assistive.csv\n"
     ]
    },
    {
     "name": "stderr",
     "output_type": "stream",
     "text": [
      "c:\\Users\\user\\Desktop\\GaitLab\\GaitEnv\\Lib\\site-packages\\google\\protobuf\\symbol_database.py:55: UserWarning: SymbolDatabase.GetPrototype() is deprecated. Please use message_factory.GetMessageClass() instead. SymbolDatabase.GetPrototype() will be removed soon.\n",
      "  warnings.warn('SymbolDatabase.GetPrototype() is deprecated. Please '\n",
      " 35%|███▍      | 9/26 [00:48<01:29,  5.25s/it]"
     ]
    },
    {
     "name": "stdout",
     "output_type": "stream",
     "text": [
      "Saved: keypoints_csv\\B08_Assistive.csv\n"
     ]
    },
    {
     "name": "stderr",
     "output_type": "stream",
     "text": [
      "c:\\Users\\user\\Desktop\\GaitLab\\GaitEnv\\Lib\\site-packages\\google\\protobuf\\symbol_database.py:55: UserWarning: SymbolDatabase.GetPrototype() is deprecated. Please use message_factory.GetMessageClass() instead. SymbolDatabase.GetPrototype() will be removed soon.\n",
      "  warnings.warn('SymbolDatabase.GetPrototype() is deprecated. Please '\n",
      " 38%|███▊      | 10/26 [00:53<01:25,  5.32s/it]"
     ]
    },
    {
     "name": "stdout",
     "output_type": "stream",
     "text": [
      "Saved: keypoints_csv\\B09_Assistive.csv\n"
     ]
    },
    {
     "name": "stderr",
     "output_type": "stream",
     "text": [
      "c:\\Users\\user\\Desktop\\GaitLab\\GaitEnv\\Lib\\site-packages\\google\\protobuf\\symbol_database.py:55: UserWarning: SymbolDatabase.GetPrototype() is deprecated. Please use message_factory.GetMessageClass() instead. SymbolDatabase.GetPrototype() will be removed soon.\n",
      "  warnings.warn('SymbolDatabase.GetPrototype() is deprecated. Please '\n",
      " 42%|████▏     | 11/26 [00:57<01:12,  4.85s/it]"
     ]
    },
    {
     "name": "stdout",
     "output_type": "stream",
     "text": [
      "Saved: keypoints_csv\\B11_Assistive.csv\n"
     ]
    },
    {
     "name": "stderr",
     "output_type": "stream",
     "text": [
      "c:\\Users\\user\\Desktop\\GaitLab\\GaitEnv\\Lib\\site-packages\\google\\protobuf\\symbol_database.py:55: UserWarning: SymbolDatabase.GetPrototype() is deprecated. Please use message_factory.GetMessageClass() instead. SymbolDatabase.GetPrototype() will be removed soon.\n",
      "  warnings.warn('SymbolDatabase.GetPrototype() is deprecated. Please '\n",
      " 46%|████▌     | 12/26 [01:04<01:15,  5.39s/it]"
     ]
    },
    {
     "name": "stdout",
     "output_type": "stream",
     "text": [
      "Saved: keypoints_csv\\B12_Assistive.csv\n"
     ]
    },
    {
     "name": "stderr",
     "output_type": "stream",
     "text": [
      "c:\\Users\\user\\Desktop\\GaitLab\\GaitEnv\\Lib\\site-packages\\google\\protobuf\\symbol_database.py:55: UserWarning: SymbolDatabase.GetPrototype() is deprecated. Please use message_factory.GetMessageClass() instead. SymbolDatabase.GetPrototype() will be removed soon.\n",
      "  warnings.warn('SymbolDatabase.GetPrototype() is deprecated. Please '\n",
      " 50%|█████     | 13/26 [01:12<01:20,  6.19s/it]"
     ]
    },
    {
     "name": "stdout",
     "output_type": "stream",
     "text": [
      "Saved: keypoints_csv\\B13_Assistive.csv\n"
     ]
    },
    {
     "name": "stderr",
     "output_type": "stream",
     "text": [
      "c:\\Users\\user\\Desktop\\GaitLab\\GaitEnv\\Lib\\site-packages\\google\\protobuf\\symbol_database.py:55: UserWarning: SymbolDatabase.GetPrototype() is deprecated. Please use message_factory.GetMessageClass() instead. SymbolDatabase.GetPrototype() will be removed soon.\n",
      "  warnings.warn('SymbolDatabase.GetPrototype() is deprecated. Please '\n",
      " 54%|█████▍    | 14/26 [01:19<01:17,  6.46s/it]"
     ]
    },
    {
     "name": "stdout",
     "output_type": "stream",
     "text": [
      "Saved: keypoints_csv\\D01_Assistive.csv\n"
     ]
    },
    {
     "name": "stderr",
     "output_type": "stream",
     "text": [
      "c:\\Users\\user\\Desktop\\GaitLab\\GaitEnv\\Lib\\site-packages\\google\\protobuf\\symbol_database.py:55: UserWarning: SymbolDatabase.GetPrototype() is deprecated. Please use message_factory.GetMessageClass() instead. SymbolDatabase.GetPrototype() will be removed soon.\n",
      "  warnings.warn('SymbolDatabase.GetPrototype() is deprecated. Please '\n",
      " 58%|█████▊    | 15/26 [01:27<01:16,  6.98s/it]"
     ]
    },
    {
     "name": "stdout",
     "output_type": "stream",
     "text": [
      "Saved: keypoints_csv\\D02_Assistive.csv\n"
     ]
    },
    {
     "name": "stderr",
     "output_type": "stream",
     "text": [
      "c:\\Users\\user\\Desktop\\GaitLab\\GaitEnv\\Lib\\site-packages\\google\\protobuf\\symbol_database.py:55: UserWarning: SymbolDatabase.GetPrototype() is deprecated. Please use message_factory.GetMessageClass() instead. SymbolDatabase.GetPrototype() will be removed soon.\n",
      "  warnings.warn('SymbolDatabase.GetPrototype() is deprecated. Please '\n",
      " 62%|██████▏   | 16/26 [01:37<01:17,  7.78s/it]"
     ]
    },
    {
     "name": "stdout",
     "output_type": "stream",
     "text": [
      "Saved: keypoints_csv\\D03_Assistive.csv\n"
     ]
    },
    {
     "name": "stderr",
     "output_type": "stream",
     "text": [
      "c:\\Users\\user\\Desktop\\GaitLab\\GaitEnv\\Lib\\site-packages\\google\\protobuf\\symbol_database.py:55: UserWarning: SymbolDatabase.GetPrototype() is deprecated. Please use message_factory.GetMessageClass() instead. SymbolDatabase.GetPrototype() will be removed soon.\n",
      "  warnings.warn('SymbolDatabase.GetPrototype() is deprecated. Please '\n",
      " 65%|██████▌   | 17/26 [01:46<01:14,  8.27s/it]"
     ]
    },
    {
     "name": "stdout",
     "output_type": "stream",
     "text": [
      "Saved: keypoints_csv\\D04_Assistive.csv\n"
     ]
    },
    {
     "name": "stderr",
     "output_type": "stream",
     "text": [
      "c:\\Users\\user\\Desktop\\GaitLab\\GaitEnv\\Lib\\site-packages\\google\\protobuf\\symbol_database.py:55: UserWarning: SymbolDatabase.GetPrototype() is deprecated. Please use message_factory.GetMessageClass() instead. SymbolDatabase.GetPrototype() will be removed soon.\n",
      "  warnings.warn('SymbolDatabase.GetPrototype() is deprecated. Please '\n",
      " 69%|██████▉   | 18/26 [01:52<01:00,  7.61s/it]"
     ]
    },
    {
     "name": "stdout",
     "output_type": "stream",
     "text": [
      "Saved: keypoints_csv\\D05_Assistive.csv\n"
     ]
    },
    {
     "name": "stderr",
     "output_type": "stream",
     "text": [
      "c:\\Users\\user\\Desktop\\GaitLab\\GaitEnv\\Lib\\site-packages\\google\\protobuf\\symbol_database.py:55: UserWarning: SymbolDatabase.GetPrototype() is deprecated. Please use message_factory.GetMessageClass() instead. SymbolDatabase.GetPrototype() will be removed soon.\n",
      "  warnings.warn('SymbolDatabase.GetPrototype() is deprecated. Please '\n",
      " 73%|███████▎  | 19/26 [01:59<00:50,  7.22s/it]"
     ]
    },
    {
     "name": "stdout",
     "output_type": "stream",
     "text": [
      "Saved: keypoints_csv\\D06_Assistive.csv\n"
     ]
    },
    {
     "name": "stderr",
     "output_type": "stream",
     "text": [
      "c:\\Users\\user\\Desktop\\GaitLab\\GaitEnv\\Lib\\site-packages\\google\\protobuf\\symbol_database.py:55: UserWarning: SymbolDatabase.GetPrototype() is deprecated. Please use message_factory.GetMessageClass() instead. SymbolDatabase.GetPrototype() will be removed soon.\n",
      "  warnings.warn('SymbolDatabase.GetPrototype() is deprecated. Please '\n",
      " 77%|███████▋  | 20/26 [02:06<00:43,  7.21s/it]"
     ]
    },
    {
     "name": "stdout",
     "output_type": "stream",
     "text": [
      "Saved: keypoints_csv\\D07_Assistive.csv\n"
     ]
    },
    {
     "name": "stderr",
     "output_type": "stream",
     "text": [
      "c:\\Users\\user\\Desktop\\GaitLab\\GaitEnv\\Lib\\site-packages\\google\\protobuf\\symbol_database.py:55: UserWarning: SymbolDatabase.GetPrototype() is deprecated. Please use message_factory.GetMessageClass() instead. SymbolDatabase.GetPrototype() will be removed soon.\n",
      "  warnings.warn('SymbolDatabase.GetPrototype() is deprecated. Please '\n",
      " 81%|████████  | 21/26 [02:14<00:37,  7.45s/it]"
     ]
    },
    {
     "name": "stdout",
     "output_type": "stream",
     "text": [
      "Saved: keypoints_csv\\D08_Assistive.csv\n"
     ]
    },
    {
     "name": "stderr",
     "output_type": "stream",
     "text": [
      "c:\\Users\\user\\Desktop\\GaitLab\\GaitEnv\\Lib\\site-packages\\google\\protobuf\\symbol_database.py:55: UserWarning: SymbolDatabase.GetPrototype() is deprecated. Please use message_factory.GetMessageClass() instead. SymbolDatabase.GetPrototype() will be removed soon.\n",
      "  warnings.warn('SymbolDatabase.GetPrototype() is deprecated. Please '\n",
      " 85%|████████▍ | 22/26 [02:18<00:26,  6.62s/it]"
     ]
    },
    {
     "name": "stdout",
     "output_type": "stream",
     "text": [
      "Saved: keypoints_csv\\D09_Assistive.csv\n"
     ]
    },
    {
     "name": "stderr",
     "output_type": "stream",
     "text": [
      "c:\\Users\\user\\Desktop\\GaitLab\\GaitEnv\\Lib\\site-packages\\google\\protobuf\\symbol_database.py:55: UserWarning: SymbolDatabase.GetPrototype() is deprecated. Please use message_factory.GetMessageClass() instead. SymbolDatabase.GetPrototype() will be removed soon.\n",
      "  warnings.warn('SymbolDatabase.GetPrototype() is deprecated. Please '\n",
      " 88%|████████▊ | 23/26 [02:22<00:17,  5.82s/it]"
     ]
    },
    {
     "name": "stdout",
     "output_type": "stream",
     "text": [
      "Saved: keypoints_csv\\D10_Assistive.csv\n"
     ]
    },
    {
     "name": "stderr",
     "output_type": "stream",
     "text": [
      "c:\\Users\\user\\Desktop\\GaitLab\\GaitEnv\\Lib\\site-packages\\google\\protobuf\\symbol_database.py:55: UserWarning: SymbolDatabase.GetPrototype() is deprecated. Please use message_factory.GetMessageClass() instead. SymbolDatabase.GetPrototype() will be removed soon.\n",
      "  warnings.warn('SymbolDatabase.GetPrototype() is deprecated. Please '\n",
      " 92%|█████████▏| 24/26 [02:29<00:12,  6.06s/it]"
     ]
    },
    {
     "name": "stdout",
     "output_type": "stream",
     "text": [
      "Saved: keypoints_csv\\D11_Assistive.csv\n"
     ]
    },
    {
     "name": "stderr",
     "output_type": "stream",
     "text": [
      "c:\\Users\\user\\Desktop\\GaitLab\\GaitEnv\\Lib\\site-packages\\google\\protobuf\\symbol_database.py:55: UserWarning: SymbolDatabase.GetPrototype() is deprecated. Please use message_factory.GetMessageClass() instead. SymbolDatabase.GetPrototype() will be removed soon.\n",
      "  warnings.warn('SymbolDatabase.GetPrototype() is deprecated. Please '\n",
      " 96%|█████████▌| 25/26 [02:33<00:05,  5.55s/it]"
     ]
    },
    {
     "name": "stdout",
     "output_type": "stream",
     "text": [
      "Saved: keypoints_csv\\D12_Assistive.csv\n"
     ]
    },
    {
     "name": "stderr",
     "output_type": "stream",
     "text": [
      "c:\\Users\\user\\Desktop\\GaitLab\\GaitEnv\\Lib\\site-packages\\google\\protobuf\\symbol_database.py:55: UserWarning: SymbolDatabase.GetPrototype() is deprecated. Please use message_factory.GetMessageClass() instead. SymbolDatabase.GetPrototype() will be removed soon.\n",
      "  warnings.warn('SymbolDatabase.GetPrototype() is deprecated. Please '\n",
      "100%|██████████| 26/26 [02:42<00:00,  6.26s/it]\n"
     ]
    },
    {
     "name": "stdout",
     "output_type": "stream",
     "text": [
      "Saved: keypoints_csv\\D13_Assistive.csv\n"
     ]
    },
    {
     "name": "stderr",
     "output_type": "stream",
     "text": [
      "  0%|          | 0/39 [00:00<?, ?it/s]c:\\Users\\user\\Desktop\\GaitLab\\GaitEnv\\Lib\\site-packages\\google\\protobuf\\symbol_database.py:55: UserWarning: SymbolDatabase.GetPrototype() is deprecated. Please use message_factory.GetMessageClass() instead. SymbolDatabase.GetPrototype() will be removed soon.\n",
      "  warnings.warn('SymbolDatabase.GetPrototype() is deprecated. Please '\n",
      "  3%|▎         | 1/39 [00:03<02:16,  3.60s/it]"
     ]
    },
    {
     "name": "stdout",
     "output_type": "stream",
     "text": [
      "Saved: keypoints_csv\\A01_NonAssistive.csv\n"
     ]
    },
    {
     "name": "stderr",
     "output_type": "stream",
     "text": [
      "c:\\Users\\user\\Desktop\\GaitLab\\GaitEnv\\Lib\\site-packages\\google\\protobuf\\symbol_database.py:55: UserWarning: SymbolDatabase.GetPrototype() is deprecated. Please use message_factory.GetMessageClass() instead. SymbolDatabase.GetPrototype() will be removed soon.\n",
      "  warnings.warn('SymbolDatabase.GetPrototype() is deprecated. Please '\n",
      "  5%|▌         | 2/39 [00:08<02:40,  4.33s/it]"
     ]
    },
    {
     "name": "stdout",
     "output_type": "stream",
     "text": [
      "Saved: keypoints_csv\\A02_NonAssistive.csv\n"
     ]
    },
    {
     "name": "stderr",
     "output_type": "stream",
     "text": [
      "c:\\Users\\user\\Desktop\\GaitLab\\GaitEnv\\Lib\\site-packages\\google\\protobuf\\symbol_database.py:55: UserWarning: SymbolDatabase.GetPrototype() is deprecated. Please use message_factory.GetMessageClass() instead. SymbolDatabase.GetPrototype() will be removed soon.\n",
      "  warnings.warn('SymbolDatabase.GetPrototype() is deprecated. Please '\n",
      "  8%|▊         | 3/39 [00:14<03:01,  5.04s/it]"
     ]
    },
    {
     "name": "stdout",
     "output_type": "stream",
     "text": [
      "Saved: keypoints_csv\\A03_NonAssistive.csv\n"
     ]
    },
    {
     "name": "stderr",
     "output_type": "stream",
     "text": [
      "c:\\Users\\user\\Desktop\\GaitLab\\GaitEnv\\Lib\\site-packages\\google\\protobuf\\symbol_database.py:55: UserWarning: SymbolDatabase.GetPrototype() is deprecated. Please use message_factory.GetMessageClass() instead. SymbolDatabase.GetPrototype() will be removed soon.\n",
      "  warnings.warn('SymbolDatabase.GetPrototype() is deprecated. Please '\n",
      " 10%|█         | 4/39 [00:20<03:18,  5.67s/it]"
     ]
    },
    {
     "name": "stdout",
     "output_type": "stream",
     "text": [
      "Saved: keypoints_csv\\A04_NonAssistive.csv\n"
     ]
    },
    {
     "name": "stderr",
     "output_type": "stream",
     "text": [
      "c:\\Users\\user\\Desktop\\GaitLab\\GaitEnv\\Lib\\site-packages\\google\\protobuf\\symbol_database.py:55: UserWarning: SymbolDatabase.GetPrototype() is deprecated. Please use message_factory.GetMessageClass() instead. SymbolDatabase.GetPrototype() will be removed soon.\n",
      "  warnings.warn('SymbolDatabase.GetPrototype() is deprecated. Please '\n",
      " 13%|█▎        | 5/39 [00:26<03:16,  5.79s/it]"
     ]
    },
    {
     "name": "stdout",
     "output_type": "stream",
     "text": [
      "Saved: keypoints_csv\\A05_NonAssistive.csv\n"
     ]
    },
    {
     "name": "stderr",
     "output_type": "stream",
     "text": [
      "c:\\Users\\user\\Desktop\\GaitLab\\GaitEnv\\Lib\\site-packages\\google\\protobuf\\symbol_database.py:55: UserWarning: SymbolDatabase.GetPrototype() is deprecated. Please use message_factory.GetMessageClass() instead. SymbolDatabase.GetPrototype() will be removed soon.\n",
      "  warnings.warn('SymbolDatabase.GetPrototype() is deprecated. Please '\n",
      " 15%|█▌        | 6/39 [00:34<03:26,  6.25s/it]"
     ]
    },
    {
     "name": "stdout",
     "output_type": "stream",
     "text": [
      "Saved: keypoints_csv\\A06_NonAssistive.csv\n"
     ]
    },
    {
     "name": "stderr",
     "output_type": "stream",
     "text": [
      "c:\\Users\\user\\Desktop\\GaitLab\\GaitEnv\\Lib\\site-packages\\google\\protobuf\\symbol_database.py:55: UserWarning: SymbolDatabase.GetPrototype() is deprecated. Please use message_factory.GetMessageClass() instead. SymbolDatabase.GetPrototype() will be removed soon.\n",
      "  warnings.warn('SymbolDatabase.GetPrototype() is deprecated. Please '\n",
      " 18%|█▊        | 7/39 [00:38<03:01,  5.67s/it]"
     ]
    },
    {
     "name": "stdout",
     "output_type": "stream",
     "text": [
      "Saved: keypoints_csv\\A07_NonAssistive.csv\n"
     ]
    },
    {
     "name": "stderr",
     "output_type": "stream",
     "text": [
      "c:\\Users\\user\\Desktop\\GaitLab\\GaitEnv\\Lib\\site-packages\\google\\protobuf\\symbol_database.py:55: UserWarning: SymbolDatabase.GetPrototype() is deprecated. Please use message_factory.GetMessageClass() instead. SymbolDatabase.GetPrototype() will be removed soon.\n",
      "  warnings.warn('SymbolDatabase.GetPrototype() is deprecated. Please '\n",
      " 21%|██        | 8/39 [00:47<03:29,  6.74s/it]"
     ]
    },
    {
     "name": "stdout",
     "output_type": "stream",
     "text": [
      "Saved: keypoints_csv\\A08_NonAssistive.csv\n"
     ]
    },
    {
     "name": "stderr",
     "output_type": "stream",
     "text": [
      "c:\\Users\\user\\Desktop\\GaitLab\\GaitEnv\\Lib\\site-packages\\google\\protobuf\\symbol_database.py:55: UserWarning: SymbolDatabase.GetPrototype() is deprecated. Please use message_factory.GetMessageClass() instead. SymbolDatabase.GetPrototype() will be removed soon.\n",
      "  warnings.warn('SymbolDatabase.GetPrototype() is deprecated. Please '\n",
      " 23%|██▎       | 9/39 [00:52<03:04,  6.15s/it]"
     ]
    },
    {
     "name": "stdout",
     "output_type": "stream",
     "text": [
      "Saved: keypoints_csv\\A09_NonAssistive.csv\n"
     ]
    },
    {
     "name": "stderr",
     "output_type": "stream",
     "text": [
      "c:\\Users\\user\\Desktop\\GaitLab\\GaitEnv\\Lib\\site-packages\\google\\protobuf\\symbol_database.py:55: UserWarning: SymbolDatabase.GetPrototype() is deprecated. Please use message_factory.GetMessageClass() instead. SymbolDatabase.GetPrototype() will be removed soon.\n",
      "  warnings.warn('SymbolDatabase.GetPrototype() is deprecated. Please '\n",
      " 26%|██▌       | 10/39 [00:58<02:56,  6.10s/it]"
     ]
    },
    {
     "name": "stdout",
     "output_type": "stream",
     "text": [
      "Saved: keypoints_csv\\A10_NonAssistive.csv\n"
     ]
    },
    {
     "name": "stderr",
     "output_type": "stream",
     "text": [
      "c:\\Users\\user\\Desktop\\GaitLab\\GaitEnv\\Lib\\site-packages\\google\\protobuf\\symbol_database.py:55: UserWarning: SymbolDatabase.GetPrototype() is deprecated. Please use message_factory.GetMessageClass() instead. SymbolDatabase.GetPrototype() will be removed soon.\n",
      "  warnings.warn('SymbolDatabase.GetPrototype() is deprecated. Please '\n",
      " 28%|██▊       | 11/39 [01:04<02:46,  5.95s/it]"
     ]
    },
    {
     "name": "stdout",
     "output_type": "stream",
     "text": [
      "Saved: keypoints_csv\\A11_NonAssistive.csv\n"
     ]
    },
    {
     "name": "stderr",
     "output_type": "stream",
     "text": [
      "c:\\Users\\user\\Desktop\\GaitLab\\GaitEnv\\Lib\\site-packages\\google\\protobuf\\symbol_database.py:55: UserWarning: SymbolDatabase.GetPrototype() is deprecated. Please use message_factory.GetMessageClass() instead. SymbolDatabase.GetPrototype() will be removed soon.\n",
      "  warnings.warn('SymbolDatabase.GetPrototype() is deprecated. Please '\n",
      " 31%|███       | 12/39 [01:09<02:34,  5.71s/it]"
     ]
    },
    {
     "name": "stdout",
     "output_type": "stream",
     "text": [
      "Saved: keypoints_csv\\A12_NonAssistive.csv\n"
     ]
    },
    {
     "name": "stderr",
     "output_type": "stream",
     "text": [
      "c:\\Users\\user\\Desktop\\GaitLab\\GaitEnv\\Lib\\site-packages\\google\\protobuf\\symbol_database.py:55: UserWarning: SymbolDatabase.GetPrototype() is deprecated. Please use message_factory.GetMessageClass() instead. SymbolDatabase.GetPrototype() will be removed soon.\n",
      "  warnings.warn('SymbolDatabase.GetPrototype() is deprecated. Please '\n",
      " 33%|███▎      | 13/39 [01:14<02:28,  5.72s/it]"
     ]
    },
    {
     "name": "stdout",
     "output_type": "stream",
     "text": [
      "Saved: keypoints_csv\\A13_NonAssistive.csv\n"
     ]
    },
    {
     "name": "stderr",
     "output_type": "stream",
     "text": [
      "c:\\Users\\user\\Desktop\\GaitLab\\GaitEnv\\Lib\\site-packages\\google\\protobuf\\symbol_database.py:55: UserWarning: SymbolDatabase.GetPrototype() is deprecated. Please use message_factory.GetMessageClass() instead. SymbolDatabase.GetPrototype() will be removed soon.\n",
      "  warnings.warn('SymbolDatabase.GetPrototype() is deprecated. Please '\n",
      " 36%|███▌      | 14/39 [01:21<02:26,  5.88s/it]"
     ]
    },
    {
     "name": "stdout",
     "output_type": "stream",
     "text": [
      "Saved: keypoints_csv\\C01_NonAssistive.csv\n"
     ]
    },
    {
     "name": "stderr",
     "output_type": "stream",
     "text": [
      "c:\\Users\\user\\Desktop\\GaitLab\\GaitEnv\\Lib\\site-packages\\google\\protobuf\\symbol_database.py:55: UserWarning: SymbolDatabase.GetPrototype() is deprecated. Please use message_factory.GetMessageClass() instead. SymbolDatabase.GetPrototype() will be removed soon.\n",
      "  warnings.warn('SymbolDatabase.GetPrototype() is deprecated. Please '\n",
      " 38%|███▊      | 15/39 [01:29<02:40,  6.68s/it]"
     ]
    },
    {
     "name": "stdout",
     "output_type": "stream",
     "text": [
      "Saved: keypoints_csv\\C02_NonAssistive.csv\n"
     ]
    },
    {
     "name": "stderr",
     "output_type": "stream",
     "text": [
      "c:\\Users\\user\\Desktop\\GaitLab\\GaitEnv\\Lib\\site-packages\\google\\protobuf\\symbol_database.py:55: UserWarning: SymbolDatabase.GetPrototype() is deprecated. Please use message_factory.GetMessageClass() instead. SymbolDatabase.GetPrototype() will be removed soon.\n",
      "  warnings.warn('SymbolDatabase.GetPrototype() is deprecated. Please '\n",
      " 41%|████      | 16/39 [01:35<02:28,  6.47s/it]"
     ]
    },
    {
     "name": "stdout",
     "output_type": "stream",
     "text": [
      "Saved: keypoints_csv\\C03_NonAssistive.csv\n"
     ]
    },
    {
     "name": "stderr",
     "output_type": "stream",
     "text": [
      "c:\\Users\\user\\Desktop\\GaitLab\\GaitEnv\\Lib\\site-packages\\google\\protobuf\\symbol_database.py:55: UserWarning: SymbolDatabase.GetPrototype() is deprecated. Please use message_factory.GetMessageClass() instead. SymbolDatabase.GetPrototype() will be removed soon.\n",
      "  warnings.warn('SymbolDatabase.GetPrototype() is deprecated. Please '\n",
      " 44%|████▎     | 17/39 [01:41<02:18,  6.29s/it]"
     ]
    },
    {
     "name": "stdout",
     "output_type": "stream",
     "text": [
      "Saved: keypoints_csv\\C04_NonAssistive.csv\n"
     ]
    },
    {
     "name": "stderr",
     "output_type": "stream",
     "text": [
      "c:\\Users\\user\\Desktop\\GaitLab\\GaitEnv\\Lib\\site-packages\\google\\protobuf\\symbol_database.py:55: UserWarning: SymbolDatabase.GetPrototype() is deprecated. Please use message_factory.GetMessageClass() instead. SymbolDatabase.GetPrototype() will be removed soon.\n",
      "  warnings.warn('SymbolDatabase.GetPrototype() is deprecated. Please '\n",
      " 46%|████▌     | 18/39 [01:49<02:23,  6.86s/it]"
     ]
    },
    {
     "name": "stdout",
     "output_type": "stream",
     "text": [
      "Saved: keypoints_csv\\C05_NonAssistive.csv\n"
     ]
    },
    {
     "name": "stderr",
     "output_type": "stream",
     "text": [
      "c:\\Users\\user\\Desktop\\GaitLab\\GaitEnv\\Lib\\site-packages\\google\\protobuf\\symbol_database.py:55: UserWarning: SymbolDatabase.GetPrototype() is deprecated. Please use message_factory.GetMessageClass() instead. SymbolDatabase.GetPrototype() will be removed soon.\n",
      "  warnings.warn('SymbolDatabase.GetPrototype() is deprecated. Please '\n",
      " 49%|████▊     | 19/39 [01:58<02:26,  7.34s/it]"
     ]
    },
    {
     "name": "stdout",
     "output_type": "stream",
     "text": [
      "Saved: keypoints_csv\\C06_NonAssistive.csv\n"
     ]
    },
    {
     "name": "stderr",
     "output_type": "stream",
     "text": [
      "c:\\Users\\user\\Desktop\\GaitLab\\GaitEnv\\Lib\\site-packages\\google\\protobuf\\symbol_database.py:55: UserWarning: SymbolDatabase.GetPrototype() is deprecated. Please use message_factory.GetMessageClass() instead. SymbolDatabase.GetPrototype() will be removed soon.\n",
      "  warnings.warn('SymbolDatabase.GetPrototype() is deprecated. Please '\n",
      " 51%|█████▏    | 20/39 [02:07<02:32,  8.02s/it]"
     ]
    },
    {
     "name": "stdout",
     "output_type": "stream",
     "text": [
      "Saved: keypoints_csv\\C07_NonAssistive.csv\n"
     ]
    },
    {
     "name": "stderr",
     "output_type": "stream",
     "text": [
      "c:\\Users\\user\\Desktop\\GaitLab\\GaitEnv\\Lib\\site-packages\\google\\protobuf\\symbol_database.py:55: UserWarning: SymbolDatabase.GetPrototype() is deprecated. Please use message_factory.GetMessageClass() instead. SymbolDatabase.GetPrototype() will be removed soon.\n",
      "  warnings.warn('SymbolDatabase.GetPrototype() is deprecated. Please '\n",
      " 54%|█████▍    | 21/39 [02:13<02:12,  7.36s/it]"
     ]
    },
    {
     "name": "stdout",
     "output_type": "stream",
     "text": [
      "Saved: keypoints_csv\\C08_NonAssistive.csv\n"
     ]
    },
    {
     "name": "stderr",
     "output_type": "stream",
     "text": [
      "c:\\Users\\user\\Desktop\\GaitLab\\GaitEnv\\Lib\\site-packages\\google\\protobuf\\symbol_database.py:55: UserWarning: SymbolDatabase.GetPrototype() is deprecated. Please use message_factory.GetMessageClass() instead. SymbolDatabase.GetPrototype() will be removed soon.\n",
      "  warnings.warn('SymbolDatabase.GetPrototype() is deprecated. Please '\n",
      " 56%|█████▋    | 22/39 [02:17<01:47,  6.35s/it]"
     ]
    },
    {
     "name": "stdout",
     "output_type": "stream",
     "text": [
      "Saved: keypoints_csv\\C09_NonAssistive.csv\n"
     ]
    },
    {
     "name": "stderr",
     "output_type": "stream",
     "text": [
      "c:\\Users\\user\\Desktop\\GaitLab\\GaitEnv\\Lib\\site-packages\\google\\protobuf\\symbol_database.py:55: UserWarning: SymbolDatabase.GetPrototype() is deprecated. Please use message_factory.GetMessageClass() instead. SymbolDatabase.GetPrototype() will be removed soon.\n",
      "  warnings.warn('SymbolDatabase.GetPrototype() is deprecated. Please '\n",
      " 59%|█████▉    | 23/39 [02:21<01:29,  5.61s/it]"
     ]
    },
    {
     "name": "stdout",
     "output_type": "stream",
     "text": [
      "Saved: keypoints_csv\\C10_NonAssistive.csv\n"
     ]
    },
    {
     "name": "stderr",
     "output_type": "stream",
     "text": [
      "c:\\Users\\user\\Desktop\\GaitLab\\GaitEnv\\Lib\\site-packages\\google\\protobuf\\symbol_database.py:55: UserWarning: SymbolDatabase.GetPrototype() is deprecated. Please use message_factory.GetMessageClass() instead. SymbolDatabase.GetPrototype() will be removed soon.\n",
      "  warnings.warn('SymbolDatabase.GetPrototype() is deprecated. Please '\n",
      " 62%|██████▏   | 24/39 [02:27<01:24,  5.63s/it]"
     ]
    },
    {
     "name": "stdout",
     "output_type": "stream",
     "text": [
      "Saved: keypoints_csv\\C11_NonAssistive.csv\n"
     ]
    },
    {
     "name": "stderr",
     "output_type": "stream",
     "text": [
      "c:\\Users\\user\\Desktop\\GaitLab\\GaitEnv\\Lib\\site-packages\\google\\protobuf\\symbol_database.py:55: UserWarning: SymbolDatabase.GetPrototype() is deprecated. Please use message_factory.GetMessageClass() instead. SymbolDatabase.GetPrototype() will be removed soon.\n",
      "  warnings.warn('SymbolDatabase.GetPrototype() is deprecated. Please '\n",
      " 64%|██████▍   | 25/39 [02:32<01:18,  5.62s/it]"
     ]
    },
    {
     "name": "stdout",
     "output_type": "stream",
     "text": [
      "Saved: keypoints_csv\\C12_NonAssistive.csv\n"
     ]
    },
    {
     "name": "stderr",
     "output_type": "stream",
     "text": [
      "c:\\Users\\user\\Desktop\\GaitLab\\GaitEnv\\Lib\\site-packages\\google\\protobuf\\symbol_database.py:55: UserWarning: SymbolDatabase.GetPrototype() is deprecated. Please use message_factory.GetMessageClass() instead. SymbolDatabase.GetPrototype() will be removed soon.\n",
      "  warnings.warn('SymbolDatabase.GetPrototype() is deprecated. Please '\n",
      " 67%|██████▋   | 26/39 [02:39<01:17,  5.93s/it]"
     ]
    },
    {
     "name": "stdout",
     "output_type": "stream",
     "text": [
      "Saved: keypoints_csv\\C13_NonAssistive.csv\n"
     ]
    },
    {
     "name": "stderr",
     "output_type": "stream",
     "text": [
      "c:\\Users\\user\\Desktop\\GaitLab\\GaitEnv\\Lib\\site-packages\\google\\protobuf\\symbol_database.py:55: UserWarning: SymbolDatabase.GetPrototype() is deprecated. Please use message_factory.GetMessageClass() instead. SymbolDatabase.GetPrototype() will be removed soon.\n",
      "  warnings.warn('SymbolDatabase.GetPrototype() is deprecated. Please '\n",
      " 69%|██████▉   | 27/39 [02:49<01:25,  7.11s/it]"
     ]
    },
    {
     "name": "stdout",
     "output_type": "stream",
     "text": [
      "Saved: keypoints_csv\\E01_NonAssistive.csv\n"
     ]
    },
    {
     "name": "stderr",
     "output_type": "stream",
     "text": [
      "c:\\Users\\user\\Desktop\\GaitLab\\GaitEnv\\Lib\\site-packages\\google\\protobuf\\symbol_database.py:55: UserWarning: SymbolDatabase.GetPrototype() is deprecated. Please use message_factory.GetMessageClass() instead. SymbolDatabase.GetPrototype() will be removed soon.\n",
      "  warnings.warn('SymbolDatabase.GetPrototype() is deprecated. Please '\n",
      " 72%|███████▏  | 28/39 [02:57<01:20,  7.30s/it]"
     ]
    },
    {
     "name": "stdout",
     "output_type": "stream",
     "text": [
      "Saved: keypoints_csv\\E02_NonAssistive.csv\n"
     ]
    },
    {
     "name": "stderr",
     "output_type": "stream",
     "text": [
      "c:\\Users\\user\\Desktop\\GaitLab\\GaitEnv\\Lib\\site-packages\\google\\protobuf\\symbol_database.py:55: UserWarning: SymbolDatabase.GetPrototype() is deprecated. Please use message_factory.GetMessageClass() instead. SymbolDatabase.GetPrototype() will be removed soon.\n",
      "  warnings.warn('SymbolDatabase.GetPrototype() is deprecated. Please '\n",
      " 74%|███████▍  | 29/39 [03:01<01:04,  6.42s/it]"
     ]
    },
    {
     "name": "stdout",
     "output_type": "stream",
     "text": [
      "Saved: keypoints_csv\\E03_NonAssistive.csv\n"
     ]
    },
    {
     "name": "stderr",
     "output_type": "stream",
     "text": [
      "c:\\Users\\user\\Desktop\\GaitLab\\GaitEnv\\Lib\\site-packages\\google\\protobuf\\symbol_database.py:55: UserWarning: SymbolDatabase.GetPrototype() is deprecated. Please use message_factory.GetMessageClass() instead. SymbolDatabase.GetPrototype() will be removed soon.\n",
      "  warnings.warn('SymbolDatabase.GetPrototype() is deprecated. Please '\n",
      " 77%|███████▋  | 30/39 [03:07<00:56,  6.31s/it]"
     ]
    },
    {
     "name": "stdout",
     "output_type": "stream",
     "text": [
      "Saved: keypoints_csv\\E04_NonAssistive.csv\n"
     ]
    },
    {
     "name": "stderr",
     "output_type": "stream",
     "text": [
      "c:\\Users\\user\\Desktop\\GaitLab\\GaitEnv\\Lib\\site-packages\\google\\protobuf\\symbol_database.py:55: UserWarning: SymbolDatabase.GetPrototype() is deprecated. Please use message_factory.GetMessageClass() instead. SymbolDatabase.GetPrototype() will be removed soon.\n",
      "  warnings.warn('SymbolDatabase.GetPrototype() is deprecated. Please '\n",
      " 79%|███████▉  | 31/39 [03:14<00:52,  6.55s/it]"
     ]
    },
    {
     "name": "stdout",
     "output_type": "stream",
     "text": [
      "Saved: keypoints_csv\\E05_NonAssistive.csv\n"
     ]
    },
    {
     "name": "stderr",
     "output_type": "stream",
     "text": [
      "c:\\Users\\user\\Desktop\\GaitLab\\GaitEnv\\Lib\\site-packages\\google\\protobuf\\symbol_database.py:55: UserWarning: SymbolDatabase.GetPrototype() is deprecated. Please use message_factory.GetMessageClass() instead. SymbolDatabase.GetPrototype() will be removed soon.\n",
      "  warnings.warn('SymbolDatabase.GetPrototype() is deprecated. Please '\n",
      " 82%|████████▏ | 32/39 [03:21<00:47,  6.78s/it]"
     ]
    },
    {
     "name": "stdout",
     "output_type": "stream",
     "text": [
      "Saved: keypoints_csv\\E06_NonAssistive.csv\n"
     ]
    },
    {
     "name": "stderr",
     "output_type": "stream",
     "text": [
      "c:\\Users\\user\\Desktop\\GaitLab\\GaitEnv\\Lib\\site-packages\\google\\protobuf\\symbol_database.py:55: UserWarning: SymbolDatabase.GetPrototype() is deprecated. Please use message_factory.GetMessageClass() instead. SymbolDatabase.GetPrototype() will be removed soon.\n",
      "  warnings.warn('SymbolDatabase.GetPrototype() is deprecated. Please '\n",
      " 85%|████████▍ | 33/39 [03:28<00:40,  6.73s/it]"
     ]
    },
    {
     "name": "stdout",
     "output_type": "stream",
     "text": [
      "Saved: keypoints_csv\\E07_NonAssistive.csv\n"
     ]
    },
    {
     "name": "stderr",
     "output_type": "stream",
     "text": [
      "c:\\Users\\user\\Desktop\\GaitLab\\GaitEnv\\Lib\\site-packages\\google\\protobuf\\symbol_database.py:55: UserWarning: SymbolDatabase.GetPrototype() is deprecated. Please use message_factory.GetMessageClass() instead. SymbolDatabase.GetPrototype() will be removed soon.\n",
      "  warnings.warn('SymbolDatabase.GetPrototype() is deprecated. Please '\n",
      " 87%|████████▋ | 34/39 [03:35<00:33,  6.76s/it]"
     ]
    },
    {
     "name": "stdout",
     "output_type": "stream",
     "text": [
      "Saved: keypoints_csv\\E08_NonAssistive.csv\n"
     ]
    },
    {
     "name": "stderr",
     "output_type": "stream",
     "text": [
      "c:\\Users\\user\\Desktop\\GaitLab\\GaitEnv\\Lib\\site-packages\\google\\protobuf\\symbol_database.py:55: UserWarning: SymbolDatabase.GetPrototype() is deprecated. Please use message_factory.GetMessageClass() instead. SymbolDatabase.GetPrototype() will be removed soon.\n",
      "  warnings.warn('SymbolDatabase.GetPrototype() is deprecated. Please '\n",
      " 90%|████████▉ | 35/39 [03:42<00:27,  6.97s/it]"
     ]
    },
    {
     "name": "stdout",
     "output_type": "stream",
     "text": [
      "Saved: keypoints_csv\\E09_NonAssistive.csv\n"
     ]
    },
    {
     "name": "stderr",
     "output_type": "stream",
     "text": [
      "c:\\Users\\user\\Desktop\\GaitLab\\GaitEnv\\Lib\\site-packages\\google\\protobuf\\symbol_database.py:55: UserWarning: SymbolDatabase.GetPrototype() is deprecated. Please use message_factory.GetMessageClass() instead. SymbolDatabase.GetPrototype() will be removed soon.\n",
      "  warnings.warn('SymbolDatabase.GetPrototype() is deprecated. Please '\n",
      " 92%|█████████▏| 36/39 [03:52<00:23,  7.74s/it]"
     ]
    },
    {
     "name": "stdout",
     "output_type": "stream",
     "text": [
      "Saved: keypoints_csv\\E10_NonAssistive.csv\n"
     ]
    },
    {
     "name": "stderr",
     "output_type": "stream",
     "text": [
      "c:\\Users\\user\\Desktop\\GaitLab\\GaitEnv\\Lib\\site-packages\\google\\protobuf\\symbol_database.py:55: UserWarning: SymbolDatabase.GetPrototype() is deprecated. Please use message_factory.GetMessageClass() instead. SymbolDatabase.GetPrototype() will be removed soon.\n",
      "  warnings.warn('SymbolDatabase.GetPrototype() is deprecated. Please '\n",
      " 95%|█████████▍| 37/39 [04:00<00:15,  7.72s/it]"
     ]
    },
    {
     "name": "stdout",
     "output_type": "stream",
     "text": [
      "Saved: keypoints_csv\\E11_NonAssistive.csv\n"
     ]
    },
    {
     "name": "stderr",
     "output_type": "stream",
     "text": [
      "c:\\Users\\user\\Desktop\\GaitLab\\GaitEnv\\Lib\\site-packages\\google\\protobuf\\symbol_database.py:55: UserWarning: SymbolDatabase.GetPrototype() is deprecated. Please use message_factory.GetMessageClass() instead. SymbolDatabase.GetPrototype() will be removed soon.\n",
      "  warnings.warn('SymbolDatabase.GetPrototype() is deprecated. Please '\n",
      " 97%|█████████▋| 38/39 [04:07<00:07,  7.67s/it]"
     ]
    },
    {
     "name": "stdout",
     "output_type": "stream",
     "text": [
      "Saved: keypoints_csv\\E12_NonAssistive.csv\n"
     ]
    },
    {
     "name": "stderr",
     "output_type": "stream",
     "text": [
      "c:\\Users\\user\\Desktop\\GaitLab\\GaitEnv\\Lib\\site-packages\\google\\protobuf\\symbol_database.py:55: UserWarning: SymbolDatabase.GetPrototype() is deprecated. Please use message_factory.GetMessageClass() instead. SymbolDatabase.GetPrototype() will be removed soon.\n",
      "  warnings.warn('SymbolDatabase.GetPrototype() is deprecated. Please '\n",
      "100%|██████████| 39/39 [04:19<00:00,  6.65s/it]\n"
     ]
    },
    {
     "name": "stdout",
     "output_type": "stream",
     "text": [
      "Saved: keypoints_csv\\E13_NonAssistive.csv\n"
     ]
    },
    {
     "name": "stderr",
     "output_type": "stream",
     "text": [
      "0it [00:00, ?it/s]\n",
      "  0%|          | 0/30 [00:00<?, ?it/s]c:\\Users\\user\\Desktop\\GaitLab\\GaitEnv\\Lib\\site-packages\\google\\protobuf\\symbol_database.py:55: UserWarning: SymbolDatabase.GetPrototype() is deprecated. Please use message_factory.GetMessageClass() instead. SymbolDatabase.GetPrototype() will be removed soon.\n",
      "  warnings.warn('SymbolDatabase.GetPrototype() is deprecated. Please '\n",
      "  3%|▎         | 1/30 [00:31<15:23, 31.85s/it]"
     ]
    },
    {
     "name": "stdout",
     "output_type": "stream",
     "text": [
      "Saved: keypoints_csv\\001_KOA_01_EL_KOA_Early.csv\n"
     ]
    },
    {
     "name": "stderr",
     "output_type": "stream",
     "text": [
      "c:\\Users\\user\\Desktop\\GaitLab\\GaitEnv\\Lib\\site-packages\\google\\protobuf\\symbol_database.py:55: UserWarning: SymbolDatabase.GetPrototype() is deprecated. Please use message_factory.GetMessageClass() instead. SymbolDatabase.GetPrototype() will be removed soon.\n",
      "  warnings.warn('SymbolDatabase.GetPrototype() is deprecated. Please '\n",
      "  7%|▋         | 2/30 [02:33<39:26, 84.52s/it]"
     ]
    },
    {
     "name": "stdout",
     "output_type": "stream",
     "text": [
      "Saved: keypoints_csv\\001_KOA_02_EL_KOA_Early.csv\n"
     ]
    },
    {
     "name": "stderr",
     "output_type": "stream",
     "text": [
      "c:\\Users\\user\\Desktop\\GaitLab\\GaitEnv\\Lib\\site-packages\\google\\protobuf\\symbol_database.py:55: UserWarning: SymbolDatabase.GetPrototype() is deprecated. Please use message_factory.GetMessageClass() instead. SymbolDatabase.GetPrototype() will be removed soon.\n",
      "  warnings.warn('SymbolDatabase.GetPrototype() is deprecated. Please '\n",
      " 10%|█         | 3/30 [03:00<26:13, 58.27s/it]"
     ]
    },
    {
     "name": "stdout",
     "output_type": "stream",
     "text": [
      "Saved: keypoints_csv\\002_KOA_01_EL_KOA_Early.csv\n"
     ]
    },
    {
     "name": "stderr",
     "output_type": "stream",
     "text": [
      "c:\\Users\\user\\Desktop\\GaitLab\\GaitEnv\\Lib\\site-packages\\google\\protobuf\\symbol_database.py:55: UserWarning: SymbolDatabase.GetPrototype() is deprecated. Please use message_factory.GetMessageClass() instead. SymbolDatabase.GetPrototype() will be removed soon.\n",
      "  warnings.warn('SymbolDatabase.GetPrototype() is deprecated. Please '\n",
      " 13%|█▎        | 4/30 [03:14<17:39, 40.76s/it]"
     ]
    },
    {
     "name": "stdout",
     "output_type": "stream",
     "text": [
      "Saved: keypoints_csv\\002_KOA_02_EL_KOA_Early.csv\n"
     ]
    },
    {
     "name": "stderr",
     "output_type": "stream",
     "text": [
      "c:\\Users\\user\\Desktop\\GaitLab\\GaitEnv\\Lib\\site-packages\\google\\protobuf\\symbol_database.py:55: UserWarning: SymbolDatabase.GetPrototype() is deprecated. Please use message_factory.GetMessageClass() instead. SymbolDatabase.GetPrototype() will be removed soon.\n",
      "  warnings.warn('SymbolDatabase.GetPrototype() is deprecated. Please '\n",
      " 17%|█▋        | 5/30 [03:34<13:54, 33.39s/it]"
     ]
    },
    {
     "name": "stdout",
     "output_type": "stream",
     "text": [
      "Saved: keypoints_csv\\003_KOA_01_EL_KOA_Early.csv\n"
     ]
    },
    {
     "name": "stderr",
     "output_type": "stream",
     "text": [
      "c:\\Users\\user\\Desktop\\GaitLab\\GaitEnv\\Lib\\site-packages\\google\\protobuf\\symbol_database.py:55: UserWarning: SymbolDatabase.GetPrototype() is deprecated. Please use message_factory.GetMessageClass() instead. SymbolDatabase.GetPrototype() will be removed soon.\n",
      "  warnings.warn('SymbolDatabase.GetPrototype() is deprecated. Please '\n",
      " 20%|██        | 6/30 [03:54<11:32, 28.86s/it]"
     ]
    },
    {
     "name": "stdout",
     "output_type": "stream",
     "text": [
      "Saved: keypoints_csv\\003_KOA_02_EL_KOA_Early.csv\n"
     ]
    },
    {
     "name": "stderr",
     "output_type": "stream",
     "text": [
      "c:\\Users\\user\\Desktop\\GaitLab\\GaitEnv\\Lib\\site-packages\\google\\protobuf\\symbol_database.py:55: UserWarning: SymbolDatabase.GetPrototype() is deprecated. Please use message_factory.GetMessageClass() instead. SymbolDatabase.GetPrototype() will be removed soon.\n",
      "  warnings.warn('SymbolDatabase.GetPrototype() is deprecated. Please '\n",
      " 23%|██▎       | 7/30 [04:13<09:45, 25.46s/it]"
     ]
    },
    {
     "name": "stdout",
     "output_type": "stream",
     "text": [
      "Saved: keypoints_csv\\004_KOA_01_EL_KOA_Early.csv\n"
     ]
    },
    {
     "name": "stderr",
     "output_type": "stream",
     "text": [
      "c:\\Users\\user\\Desktop\\GaitLab\\GaitEnv\\Lib\\site-packages\\google\\protobuf\\symbol_database.py:55: UserWarning: SymbolDatabase.GetPrototype() is deprecated. Please use message_factory.GetMessageClass() instead. SymbolDatabase.GetPrototype() will be removed soon.\n",
      "  warnings.warn('SymbolDatabase.GetPrototype() is deprecated. Please '\n",
      " 27%|██▋       | 8/30 [04:33<08:45, 23.90s/it]"
     ]
    },
    {
     "name": "stdout",
     "output_type": "stream",
     "text": [
      "Saved: keypoints_csv\\004_KOA_02_EL_KOA_Early.csv\n"
     ]
    },
    {
     "name": "stderr",
     "output_type": "stream",
     "text": [
      "c:\\Users\\user\\Desktop\\GaitLab\\GaitEnv\\Lib\\site-packages\\google\\protobuf\\symbol_database.py:55: UserWarning: SymbolDatabase.GetPrototype() is deprecated. Please use message_factory.GetMessageClass() instead. SymbolDatabase.GetPrototype() will be removed soon.\n",
      "  warnings.warn('SymbolDatabase.GetPrototype() is deprecated. Please '\n",
      " 30%|███       | 9/30 [04:49<07:27, 21.31s/it]"
     ]
    },
    {
     "name": "stdout",
     "output_type": "stream",
     "text": [
      "Saved: keypoints_csv\\005_KOA_01_EL_KOA_Early.csv\n"
     ]
    },
    {
     "name": "stderr",
     "output_type": "stream",
     "text": [
      "c:\\Users\\user\\Desktop\\GaitLab\\GaitEnv\\Lib\\site-packages\\google\\protobuf\\symbol_database.py:55: UserWarning: SymbolDatabase.GetPrototype() is deprecated. Please use message_factory.GetMessageClass() instead. SymbolDatabase.GetPrototype() will be removed soon.\n",
      "  warnings.warn('SymbolDatabase.GetPrototype() is deprecated. Please '\n",
      " 33%|███▎      | 10/30 [05:10<07:04, 21.24s/it]"
     ]
    },
    {
     "name": "stdout",
     "output_type": "stream",
     "text": [
      "Saved: keypoints_csv\\005_KOA_02_EL_KOA_Early.csv\n"
     ]
    },
    {
     "name": "stderr",
     "output_type": "stream",
     "text": [
      "c:\\Users\\user\\Desktop\\GaitLab\\GaitEnv\\Lib\\site-packages\\google\\protobuf\\symbol_database.py:55: UserWarning: SymbolDatabase.GetPrototype() is deprecated. Please use message_factory.GetMessageClass() instead. SymbolDatabase.GetPrototype() will be removed soon.\n",
      "  warnings.warn('SymbolDatabase.GetPrototype() is deprecated. Please '\n",
      " 37%|███▋      | 11/30 [05:28<06:27, 20.42s/it]"
     ]
    },
    {
     "name": "stdout",
     "output_type": "stream",
     "text": [
      "Saved: keypoints_csv\\006_KOA_01_EL_KOA_Early.csv\n"
     ]
    },
    {
     "name": "stderr",
     "output_type": "stream",
     "text": [
      "c:\\Users\\user\\Desktop\\GaitLab\\GaitEnv\\Lib\\site-packages\\google\\protobuf\\symbol_database.py:55: UserWarning: SymbolDatabase.GetPrototype() is deprecated. Please use message_factory.GetMessageClass() instead. SymbolDatabase.GetPrototype() will be removed soon.\n",
      "  warnings.warn('SymbolDatabase.GetPrototype() is deprecated. Please '\n",
      " 40%|████      | 12/30 [05:46<05:51, 19.50s/it]"
     ]
    },
    {
     "name": "stdout",
     "output_type": "stream",
     "text": [
      "Saved: keypoints_csv\\006_KOA_02_EL_KOA_Early.csv\n"
     ]
    },
    {
     "name": "stderr",
     "output_type": "stream",
     "text": [
      "c:\\Users\\user\\Desktop\\GaitLab\\GaitEnv\\Lib\\site-packages\\google\\protobuf\\symbol_database.py:55: UserWarning: SymbolDatabase.GetPrototype() is deprecated. Please use message_factory.GetMessageClass() instead. SymbolDatabase.GetPrototype() will be removed soon.\n",
      "  warnings.warn('SymbolDatabase.GetPrototype() is deprecated. Please '\n",
      " 43%|████▎     | 13/30 [06:01<05:09, 18.22s/it]"
     ]
    },
    {
     "name": "stdout",
     "output_type": "stream",
     "text": [
      "Saved: keypoints_csv\\007_KOA_01_EL_KOA_Early.csv\n"
     ]
    },
    {
     "name": "stderr",
     "output_type": "stream",
     "text": [
      "c:\\Users\\user\\Desktop\\GaitLab\\GaitEnv\\Lib\\site-packages\\google\\protobuf\\symbol_database.py:55: UserWarning: SymbolDatabase.GetPrototype() is deprecated. Please use message_factory.GetMessageClass() instead. SymbolDatabase.GetPrototype() will be removed soon.\n",
      "  warnings.warn('SymbolDatabase.GetPrototype() is deprecated. Please '\n",
      " 47%|████▋     | 14/30 [06:15<04:29, 16.86s/it]"
     ]
    },
    {
     "name": "stdout",
     "output_type": "stream",
     "text": [
      "Saved: keypoints_csv\\007_KOA_02_EL_KOA_Early.csv\n"
     ]
    },
    {
     "name": "stderr",
     "output_type": "stream",
     "text": [
      "c:\\Users\\user\\Desktop\\GaitLab\\GaitEnv\\Lib\\site-packages\\google\\protobuf\\symbol_database.py:55: UserWarning: SymbolDatabase.GetPrototype() is deprecated. Please use message_factory.GetMessageClass() instead. SymbolDatabase.GetPrototype() will be removed soon.\n",
      "  warnings.warn('SymbolDatabase.GetPrototype() is deprecated. Please '\n",
      " 50%|█████     | 15/30 [06:32<04:14, 16.98s/it]"
     ]
    },
    {
     "name": "stdout",
     "output_type": "stream",
     "text": [
      "Saved: keypoints_csv\\008_KOA_01_EL_KOA_Early.csv\n"
     ]
    },
    {
     "name": "stderr",
     "output_type": "stream",
     "text": [
      "c:\\Users\\user\\Desktop\\GaitLab\\GaitEnv\\Lib\\site-packages\\google\\protobuf\\symbol_database.py:55: UserWarning: SymbolDatabase.GetPrototype() is deprecated. Please use message_factory.GetMessageClass() instead. SymbolDatabase.GetPrototype() will be removed soon.\n",
      "  warnings.warn('SymbolDatabase.GetPrototype() is deprecated. Please '\n",
      " 53%|█████▎    | 16/30 [06:48<03:54, 16.78s/it]"
     ]
    },
    {
     "name": "stdout",
     "output_type": "stream",
     "text": [
      "Saved: keypoints_csv\\008_KOA_02_EL_KOA_Early.csv\n"
     ]
    },
    {
     "name": "stderr",
     "output_type": "stream",
     "text": [
      "c:\\Users\\user\\Desktop\\GaitLab\\GaitEnv\\Lib\\site-packages\\google\\protobuf\\symbol_database.py:55: UserWarning: SymbolDatabase.GetPrototype() is deprecated. Please use message_factory.GetMessageClass() instead. SymbolDatabase.GetPrototype() will be removed soon.\n",
      "  warnings.warn('SymbolDatabase.GetPrototype() is deprecated. Please '\n",
      " 57%|█████▋    | 17/30 [07:04<03:33, 16.45s/it]"
     ]
    },
    {
     "name": "stdout",
     "output_type": "stream",
     "text": [
      "Saved: keypoints_csv\\009_KOA_01_EL_KOA_Early.csv\n"
     ]
    },
    {
     "name": "stderr",
     "output_type": "stream",
     "text": [
      "c:\\Users\\user\\Desktop\\GaitLab\\GaitEnv\\Lib\\site-packages\\google\\protobuf\\symbol_database.py:55: UserWarning: SymbolDatabase.GetPrototype() is deprecated. Please use message_factory.GetMessageClass() instead. SymbolDatabase.GetPrototype() will be removed soon.\n",
      "  warnings.warn('SymbolDatabase.GetPrototype() is deprecated. Please '\n",
      " 60%|██████    | 18/30 [07:22<03:24, 17.00s/it]"
     ]
    },
    {
     "name": "stdout",
     "output_type": "stream",
     "text": [
      "Saved: keypoints_csv\\009_KOA_02_EL_KOA_Early.csv\n"
     ]
    },
    {
     "name": "stderr",
     "output_type": "stream",
     "text": [
      "c:\\Users\\user\\Desktop\\GaitLab\\GaitEnv\\Lib\\site-packages\\google\\protobuf\\symbol_database.py:55: UserWarning: SymbolDatabase.GetPrototype() is deprecated. Please use message_factory.GetMessageClass() instead. SymbolDatabase.GetPrototype() will be removed soon.\n",
      "  warnings.warn('SymbolDatabase.GetPrototype() is deprecated. Please '\n",
      " 63%|██████▎   | 19/30 [07:36<02:56, 16.04s/it]"
     ]
    },
    {
     "name": "stdout",
     "output_type": "stream",
     "text": [
      "Saved: keypoints_csv\\010_KOA_01_EL_KOA_Early.csv\n"
     ]
    },
    {
     "name": "stderr",
     "output_type": "stream",
     "text": [
      "c:\\Users\\user\\Desktop\\GaitLab\\GaitEnv\\Lib\\site-packages\\google\\protobuf\\symbol_database.py:55: UserWarning: SymbolDatabase.GetPrototype() is deprecated. Please use message_factory.GetMessageClass() instead. SymbolDatabase.GetPrototype() will be removed soon.\n",
      "  warnings.warn('SymbolDatabase.GetPrototype() is deprecated. Please '\n",
      " 67%|██████▋   | 20/30 [07:51<02:36, 15.61s/it]"
     ]
    },
    {
     "name": "stdout",
     "output_type": "stream",
     "text": [
      "Saved: keypoints_csv\\010_KOA_02_EL_KOA_Early.csv\n"
     ]
    },
    {
     "name": "stderr",
     "output_type": "stream",
     "text": [
      "c:\\Users\\user\\Desktop\\GaitLab\\GaitEnv\\Lib\\site-packages\\google\\protobuf\\symbol_database.py:55: UserWarning: SymbolDatabase.GetPrototype() is deprecated. Please use message_factory.GetMessageClass() instead. SymbolDatabase.GetPrototype() will be removed soon.\n",
      "  warnings.warn('SymbolDatabase.GetPrototype() is deprecated. Please '\n",
      " 70%|███████   | 21/30 [08:13<02:37, 17.49s/it]"
     ]
    },
    {
     "name": "stdout",
     "output_type": "stream",
     "text": [
      "Saved: keypoints_csv\\011_KOA_01_EL_KOA_Early.csv\n"
     ]
    },
    {
     "name": "stderr",
     "output_type": "stream",
     "text": [
      "c:\\Users\\user\\Desktop\\GaitLab\\GaitEnv\\Lib\\site-packages\\google\\protobuf\\symbol_database.py:55: UserWarning: SymbolDatabase.GetPrototype() is deprecated. Please use message_factory.GetMessageClass() instead. SymbolDatabase.GetPrototype() will be removed soon.\n",
      "  warnings.warn('SymbolDatabase.GetPrototype() is deprecated. Please '\n",
      " 73%|███████▎  | 22/30 [08:33<02:27, 18.48s/it]"
     ]
    },
    {
     "name": "stdout",
     "output_type": "stream",
     "text": [
      "Saved: keypoints_csv\\011_KOA_02_EL_KOA_Early.csv\n"
     ]
    },
    {
     "name": "stderr",
     "output_type": "stream",
     "text": [
      "c:\\Users\\user\\Desktop\\GaitLab\\GaitEnv\\Lib\\site-packages\\google\\protobuf\\symbol_database.py:55: UserWarning: SymbolDatabase.GetPrototype() is deprecated. Please use message_factory.GetMessageClass() instead. SymbolDatabase.GetPrototype() will be removed soon.\n",
      "  warnings.warn('SymbolDatabase.GetPrototype() is deprecated. Please '\n",
      " 77%|███████▋  | 23/30 [08:52<02:09, 18.50s/it]"
     ]
    },
    {
     "name": "stdout",
     "output_type": "stream",
     "text": [
      "Saved: keypoints_csv\\012_KOA_01_EL_KOA_Early.csv\n"
     ]
    },
    {
     "name": "stderr",
     "output_type": "stream",
     "text": [
      "c:\\Users\\user\\Desktop\\GaitLab\\GaitEnv\\Lib\\site-packages\\google\\protobuf\\symbol_database.py:55: UserWarning: SymbolDatabase.GetPrototype() is deprecated. Please use message_factory.GetMessageClass() instead. SymbolDatabase.GetPrototype() will be removed soon.\n",
      "  warnings.warn('SymbolDatabase.GetPrototype() is deprecated. Please '\n",
      " 80%|████████  | 24/30 [09:12<01:54, 19.06s/it]"
     ]
    },
    {
     "name": "stdout",
     "output_type": "stream",
     "text": [
      "Saved: keypoints_csv\\012_KOA_02_EL_KOA_Early.csv\n"
     ]
    },
    {
     "name": "stderr",
     "output_type": "stream",
     "text": [
      "c:\\Users\\user\\Desktop\\GaitLab\\GaitEnv\\Lib\\site-packages\\google\\protobuf\\symbol_database.py:55: UserWarning: SymbolDatabase.GetPrototype() is deprecated. Please use message_factory.GetMessageClass() instead. SymbolDatabase.GetPrototype() will be removed soon.\n",
      "  warnings.warn('SymbolDatabase.GetPrototype() is deprecated. Please '\n",
      " 83%|████████▎ | 25/30 [09:29<01:31, 18.28s/it]"
     ]
    },
    {
     "name": "stdout",
     "output_type": "stream",
     "text": [
      "Saved: keypoints_csv\\013_KOA_01_EL_KOA_Early.csv\n"
     ]
    },
    {
     "name": "stderr",
     "output_type": "stream",
     "text": [
      "c:\\Users\\user\\Desktop\\GaitLab\\GaitEnv\\Lib\\site-packages\\google\\protobuf\\symbol_database.py:55: UserWarning: SymbolDatabase.GetPrototype() is deprecated. Please use message_factory.GetMessageClass() instead. SymbolDatabase.GetPrototype() will be removed soon.\n",
      "  warnings.warn('SymbolDatabase.GetPrototype() is deprecated. Please '\n",
      " 87%|████████▋ | 26/30 [09:46<01:11, 17.93s/it]"
     ]
    },
    {
     "name": "stdout",
     "output_type": "stream",
     "text": [
      "Saved: keypoints_csv\\013_KOA_02_EL_KOA_Early.csv\n"
     ]
    },
    {
     "name": "stderr",
     "output_type": "stream",
     "text": [
      "c:\\Users\\user\\Desktop\\GaitLab\\GaitEnv\\Lib\\site-packages\\google\\protobuf\\symbol_database.py:55: UserWarning: SymbolDatabase.GetPrototype() is deprecated. Please use message_factory.GetMessageClass() instead. SymbolDatabase.GetPrototype() will be removed soon.\n",
      "  warnings.warn('SymbolDatabase.GetPrototype() is deprecated. Please '\n",
      " 90%|█████████ | 27/30 [10:06<00:55, 18.51s/it]"
     ]
    },
    {
     "name": "stdout",
     "output_type": "stream",
     "text": [
      "Saved: keypoints_csv\\014_KOA_01_EL_KOA_Early.csv\n"
     ]
    },
    {
     "name": "stderr",
     "output_type": "stream",
     "text": [
      "c:\\Users\\user\\Desktop\\GaitLab\\GaitEnv\\Lib\\site-packages\\google\\protobuf\\symbol_database.py:55: UserWarning: SymbolDatabase.GetPrototype() is deprecated. Please use message_factory.GetMessageClass() instead. SymbolDatabase.GetPrototype() will be removed soon.\n",
      "  warnings.warn('SymbolDatabase.GetPrototype() is deprecated. Please '\n",
      " 93%|█████████▎| 28/30 [10:27<00:38, 19.30s/it]"
     ]
    },
    {
     "name": "stdout",
     "output_type": "stream",
     "text": [
      "Saved: keypoints_csv\\014_KOA_02_EL_KOA_Early.csv\n"
     ]
    },
    {
     "name": "stderr",
     "output_type": "stream",
     "text": [
      "c:\\Users\\user\\Desktop\\GaitLab\\GaitEnv\\Lib\\site-packages\\google\\protobuf\\symbol_database.py:55: UserWarning: SymbolDatabase.GetPrototype() is deprecated. Please use message_factory.GetMessageClass() instead. SymbolDatabase.GetPrototype() will be removed soon.\n",
      "  warnings.warn('SymbolDatabase.GetPrototype() is deprecated. Please '\n",
      " 97%|█████████▋| 29/30 [10:46<00:19, 19.32s/it]"
     ]
    },
    {
     "name": "stdout",
     "output_type": "stream",
     "text": [
      "Saved: keypoints_csv\\015_KOA_01_EL_KOA_Early.csv\n"
     ]
    },
    {
     "name": "stderr",
     "output_type": "stream",
     "text": [
      "c:\\Users\\user\\Desktop\\GaitLab\\GaitEnv\\Lib\\site-packages\\google\\protobuf\\symbol_database.py:55: UserWarning: SymbolDatabase.GetPrototype() is deprecated. Please use message_factory.GetMessageClass() instead. SymbolDatabase.GetPrototype() will be removed soon.\n",
      "  warnings.warn('SymbolDatabase.GetPrototype() is deprecated. Please '\n",
      "100%|██████████| 30/30 [11:06<00:00, 22.21s/it]\n"
     ]
    },
    {
     "name": "stdout",
     "output_type": "stream",
     "text": [
      "Saved: keypoints_csv\\015_KOA_02_EL_KOA_Early.csv\n"
     ]
    },
    {
     "name": "stderr",
     "output_type": "stream",
     "text": [
      "  0%|          | 0/40 [00:00<?, ?it/s]c:\\Users\\user\\Desktop\\GaitLab\\GaitEnv\\Lib\\site-packages\\google\\protobuf\\symbol_database.py:55: UserWarning: SymbolDatabase.GetPrototype() is deprecated. Please use message_factory.GetMessageClass() instead. SymbolDatabase.GetPrototype() will be removed soon.\n",
      "  warnings.warn('SymbolDatabase.GetPrototype() is deprecated. Please '\n",
      "  2%|▎         | 1/40 [00:08<05:24,  8.33s/it]"
     ]
    },
    {
     "name": "stdout",
     "output_type": "stream",
     "text": [
      "Saved: keypoints_csv\\001_KOA_01_MD_KOA_Mild.csv\n"
     ]
    },
    {
     "name": "stderr",
     "output_type": "stream",
     "text": [
      "c:\\Users\\user\\Desktop\\GaitLab\\GaitEnv\\Lib\\site-packages\\google\\protobuf\\symbol_database.py:55: UserWarning: SymbolDatabase.GetPrototype() is deprecated. Please use message_factory.GetMessageClass() instead. SymbolDatabase.GetPrototype() will be removed soon.\n",
      "  warnings.warn('SymbolDatabase.GetPrototype() is deprecated. Please '\n",
      "  5%|▌         | 2/40 [00:17<05:43,  9.04s/it]"
     ]
    },
    {
     "name": "stdout",
     "output_type": "stream",
     "text": [
      "Saved: keypoints_csv\\001_KOA_02_MD_KOA_Mild.csv\n"
     ]
    },
    {
     "name": "stderr",
     "output_type": "stream",
     "text": [
      "c:\\Users\\user\\Desktop\\GaitLab\\GaitEnv\\Lib\\site-packages\\google\\protobuf\\symbol_database.py:55: UserWarning: SymbolDatabase.GetPrototype() is deprecated. Please use message_factory.GetMessageClass() instead. SymbolDatabase.GetPrototype() will be removed soon.\n",
      "  warnings.warn('SymbolDatabase.GetPrototype() is deprecated. Please '\n",
      "  8%|▊         | 3/40 [00:38<08:44, 14.16s/it]"
     ]
    },
    {
     "name": "stdout",
     "output_type": "stream",
     "text": [
      "Saved: keypoints_csv\\002_KOA_01_MD_KOA_Mild.csv\n"
     ]
    },
    {
     "name": "stderr",
     "output_type": "stream",
     "text": [
      "c:\\Users\\user\\Desktop\\GaitLab\\GaitEnv\\Lib\\site-packages\\google\\protobuf\\symbol_database.py:55: UserWarning: SymbolDatabase.GetPrototype() is deprecated. Please use message_factory.GetMessageClass() instead. SymbolDatabase.GetPrototype() will be removed soon.\n",
      "  warnings.warn('SymbolDatabase.GetPrototype() is deprecated. Please '\n",
      " 10%|█         | 4/40 [01:00<10:32, 17.58s/it]"
     ]
    },
    {
     "name": "stdout",
     "output_type": "stream",
     "text": [
      "Saved: keypoints_csv\\002_KOA_02_MD_KOA_Mild.csv\n"
     ]
    },
    {
     "name": "stderr",
     "output_type": "stream",
     "text": [
      "c:\\Users\\user\\Desktop\\GaitLab\\GaitEnv\\Lib\\site-packages\\google\\protobuf\\symbol_database.py:55: UserWarning: SymbolDatabase.GetPrototype() is deprecated. Please use message_factory.GetMessageClass() instead. SymbolDatabase.GetPrototype() will be removed soon.\n",
      "  warnings.warn('SymbolDatabase.GetPrototype() is deprecated. Please '\n",
      " 12%|█▎        | 5/40 [01:22<11:05, 19.03s/it]"
     ]
    },
    {
     "name": "stdout",
     "output_type": "stream",
     "text": [
      "Saved: keypoints_csv\\003_KOA_01_MD_KOA_Mild.csv\n"
     ]
    },
    {
     "name": "stderr",
     "output_type": "stream",
     "text": [
      "c:\\Users\\user\\Desktop\\GaitLab\\GaitEnv\\Lib\\site-packages\\google\\protobuf\\symbol_database.py:55: UserWarning: SymbolDatabase.GetPrototype() is deprecated. Please use message_factory.GetMessageClass() instead. SymbolDatabase.GetPrototype() will be removed soon.\n",
      "  warnings.warn('SymbolDatabase.GetPrototype() is deprecated. Please '\n",
      " 15%|█▌        | 6/40 [01:43<11:07, 19.64s/it]"
     ]
    },
    {
     "name": "stdout",
     "output_type": "stream",
     "text": [
      "Saved: keypoints_csv\\003_KOA_02_MD_KOA_Mild.csv\n"
     ]
    },
    {
     "name": "stderr",
     "output_type": "stream",
     "text": [
      "c:\\Users\\user\\Desktop\\GaitLab\\GaitEnv\\Lib\\site-packages\\google\\protobuf\\symbol_database.py:55: UserWarning: SymbolDatabase.GetPrototype() is deprecated. Please use message_factory.GetMessageClass() instead. SymbolDatabase.GetPrototype() will be removed soon.\n",
      "  warnings.warn('SymbolDatabase.GetPrototype() is deprecated. Please '\n",
      " 18%|█▊        | 7/40 [02:18<13:30, 24.56s/it]"
     ]
    },
    {
     "name": "stdout",
     "output_type": "stream",
     "text": [
      "Saved: keypoints_csv\\004_KOA_01_MD_KOA_Mild.csv\n"
     ]
    },
    {
     "name": "stderr",
     "output_type": "stream",
     "text": [
      "c:\\Users\\user\\Desktop\\GaitLab\\GaitEnv\\Lib\\site-packages\\google\\protobuf\\symbol_database.py:55: UserWarning: SymbolDatabase.GetPrototype() is deprecated. Please use message_factory.GetMessageClass() instead. SymbolDatabase.GetPrototype() will be removed soon.\n",
      "  warnings.warn('SymbolDatabase.GetPrototype() is deprecated. Please '\n",
      " 20%|██        | 8/40 [02:39<12:32, 23.51s/it]"
     ]
    },
    {
     "name": "stdout",
     "output_type": "stream",
     "text": [
      "Saved: keypoints_csv\\004_KOA_02_MD_KOA_Mild.csv\n"
     ]
    },
    {
     "name": "stderr",
     "output_type": "stream",
     "text": [
      "c:\\Users\\user\\Desktop\\GaitLab\\GaitEnv\\Lib\\site-packages\\google\\protobuf\\symbol_database.py:55: UserWarning: SymbolDatabase.GetPrototype() is deprecated. Please use message_factory.GetMessageClass() instead. SymbolDatabase.GetPrototype() will be removed soon.\n",
      "  warnings.warn('SymbolDatabase.GetPrototype() is deprecated. Please '\n",
      " 22%|██▎       | 9/40 [03:11<13:31, 26.17s/it]"
     ]
    },
    {
     "name": "stdout",
     "output_type": "stream",
     "text": [
      "Saved: keypoints_csv\\005_KOA_01_MD_KOA_Mild.csv\n"
     ]
    },
    {
     "name": "stderr",
     "output_type": "stream",
     "text": [
      "c:\\Users\\user\\Desktop\\GaitLab\\GaitEnv\\Lib\\site-packages\\google\\protobuf\\symbol_database.py:55: UserWarning: SymbolDatabase.GetPrototype() is deprecated. Please use message_factory.GetMessageClass() instead. SymbolDatabase.GetPrototype() will be removed soon.\n",
      "  warnings.warn('SymbolDatabase.GetPrototype() is deprecated. Please '\n",
      " 25%|██▌       | 10/40 [03:33<12:29, 24.97s/it]"
     ]
    },
    {
     "name": "stdout",
     "output_type": "stream",
     "text": [
      "Saved: keypoints_csv\\005_KOA_02_MD_KOA_Mild.csv\n"
     ]
    },
    {
     "name": "stderr",
     "output_type": "stream",
     "text": [
      "c:\\Users\\user\\Desktop\\GaitLab\\GaitEnv\\Lib\\site-packages\\google\\protobuf\\symbol_database.py:55: UserWarning: SymbolDatabase.GetPrototype() is deprecated. Please use message_factory.GetMessageClass() instead. SymbolDatabase.GetPrototype() will be removed soon.\n",
      "  warnings.warn('SymbolDatabase.GetPrototype() is deprecated. Please '\n",
      " 28%|██▊       | 11/40 [03:53<11:22, 23.52s/it]"
     ]
    },
    {
     "name": "stdout",
     "output_type": "stream",
     "text": [
      "Saved: keypoints_csv\\006_KOA_01_MD_KOA_Mild.csv\n"
     ]
    },
    {
     "name": "stderr",
     "output_type": "stream",
     "text": [
      "c:\\Users\\user\\Desktop\\GaitLab\\GaitEnv\\Lib\\site-packages\\google\\protobuf\\symbol_database.py:55: UserWarning: SymbolDatabase.GetPrototype() is deprecated. Please use message_factory.GetMessageClass() instead. SymbolDatabase.GetPrototype() will be removed soon.\n",
      "  warnings.warn('SymbolDatabase.GetPrototype() is deprecated. Please '\n",
      " 30%|███       | 12/40 [04:15<10:42, 22.96s/it]"
     ]
    },
    {
     "name": "stdout",
     "output_type": "stream",
     "text": [
      "Saved: keypoints_csv\\006_KOA_02_MD_KOA_Mild.csv\n"
     ]
    },
    {
     "name": "stderr",
     "output_type": "stream",
     "text": [
      "c:\\Users\\user\\Desktop\\GaitLab\\GaitEnv\\Lib\\site-packages\\google\\protobuf\\symbol_database.py:55: UserWarning: SymbolDatabase.GetPrototype() is deprecated. Please use message_factory.GetMessageClass() instead. SymbolDatabase.GetPrototype() will be removed soon.\n",
      "  warnings.warn('SymbolDatabase.GetPrototype() is deprecated. Please '\n",
      " 32%|███▎      | 13/40 [04:38<10:21, 23.00s/it]"
     ]
    },
    {
     "name": "stdout",
     "output_type": "stream",
     "text": [
      "Saved: keypoints_csv\\007_KOA_01_MD_KOA_Mild.csv\n"
     ]
    },
    {
     "name": "stderr",
     "output_type": "stream",
     "text": [
      "c:\\Users\\user\\Desktop\\GaitLab\\GaitEnv\\Lib\\site-packages\\google\\protobuf\\symbol_database.py:55: UserWarning: SymbolDatabase.GetPrototype() is deprecated. Please use message_factory.GetMessageClass() instead. SymbolDatabase.GetPrototype() will be removed soon.\n",
      "  warnings.warn('SymbolDatabase.GetPrototype() is deprecated. Please '\n",
      " 35%|███▌      | 14/40 [04:57<09:27, 21.83s/it]"
     ]
    },
    {
     "name": "stdout",
     "output_type": "stream",
     "text": [
      "Saved: keypoints_csv\\007_KOA_02_MD_KOA_Mild.csv\n"
     ]
    },
    {
     "name": "stderr",
     "output_type": "stream",
     "text": [
      "c:\\Users\\user\\Desktop\\GaitLab\\GaitEnv\\Lib\\site-packages\\google\\protobuf\\symbol_database.py:55: UserWarning: SymbolDatabase.GetPrototype() is deprecated. Please use message_factory.GetMessageClass() instead. SymbolDatabase.GetPrototype() will be removed soon.\n",
      "  warnings.warn('SymbolDatabase.GetPrototype() is deprecated. Please '\n",
      " 38%|███▊      | 15/40 [05:15<08:36, 20.65s/it]"
     ]
    },
    {
     "name": "stdout",
     "output_type": "stream",
     "text": [
      "Saved: keypoints_csv\\008_KOA_01_MD_KOA_Mild.csv\n"
     ]
    },
    {
     "name": "stderr",
     "output_type": "stream",
     "text": [
      "c:\\Users\\user\\Desktop\\GaitLab\\GaitEnv\\Lib\\site-packages\\google\\protobuf\\symbol_database.py:55: UserWarning: SymbolDatabase.GetPrototype() is deprecated. Please use message_factory.GetMessageClass() instead. SymbolDatabase.GetPrototype() will be removed soon.\n",
      "  warnings.warn('SymbolDatabase.GetPrototype() is deprecated. Please '\n",
      " 40%|████      | 16/40 [05:31<07:41, 19.23s/it]"
     ]
    },
    {
     "name": "stdout",
     "output_type": "stream",
     "text": [
      "Saved: keypoints_csv\\008_KOA_02_MD_KOA_Mild.csv\n"
     ]
    },
    {
     "name": "stderr",
     "output_type": "stream",
     "text": [
      "c:\\Users\\user\\Desktop\\GaitLab\\GaitEnv\\Lib\\site-packages\\google\\protobuf\\symbol_database.py:55: UserWarning: SymbolDatabase.GetPrototype() is deprecated. Please use message_factory.GetMessageClass() instead. SymbolDatabase.GetPrototype() will be removed soon.\n",
      "  warnings.warn('SymbolDatabase.GetPrototype() is deprecated. Please '\n",
      " 42%|████▎     | 17/40 [05:51<07:28, 19.50s/it]"
     ]
    },
    {
     "name": "stdout",
     "output_type": "stream",
     "text": [
      "Saved: keypoints_csv\\009_KOA_01_MD_KOA_Mild.csv\n"
     ]
    },
    {
     "name": "stderr",
     "output_type": "stream",
     "text": [
      "c:\\Users\\user\\Desktop\\GaitLab\\GaitEnv\\Lib\\site-packages\\google\\protobuf\\symbol_database.py:55: UserWarning: SymbolDatabase.GetPrototype() is deprecated. Please use message_factory.GetMessageClass() instead. SymbolDatabase.GetPrototype() will be removed soon.\n",
      "  warnings.warn('SymbolDatabase.GetPrototype() is deprecated. Please '\n",
      " 45%|████▌     | 18/40 [06:08<06:52, 18.77s/it]"
     ]
    },
    {
     "name": "stdout",
     "output_type": "stream",
     "text": [
      "Saved: keypoints_csv\\009_KOA_02_MD_KOA_Mild.csv\n"
     ]
    },
    {
     "name": "stderr",
     "output_type": "stream",
     "text": [
      "c:\\Users\\user\\Desktop\\GaitLab\\GaitEnv\\Lib\\site-packages\\google\\protobuf\\symbol_database.py:55: UserWarning: SymbolDatabase.GetPrototype() is deprecated. Please use message_factory.GetMessageClass() instead. SymbolDatabase.GetPrototype() will be removed soon.\n",
      "  warnings.warn('SymbolDatabase.GetPrototype() is deprecated. Please '\n",
      " 48%|████▊     | 19/40 [06:31<06:56, 19.84s/it]"
     ]
    },
    {
     "name": "stdout",
     "output_type": "stream",
     "text": [
      "Saved: keypoints_csv\\010_KOA_01_MD_KOA_Mild.csv\n"
     ]
    },
    {
     "name": "stderr",
     "output_type": "stream",
     "text": [
      "c:\\Users\\user\\Desktop\\GaitLab\\GaitEnv\\Lib\\site-packages\\google\\protobuf\\symbol_database.py:55: UserWarning: SymbolDatabase.GetPrototype() is deprecated. Please use message_factory.GetMessageClass() instead. SymbolDatabase.GetPrototype() will be removed soon.\n",
      "  warnings.warn('SymbolDatabase.GetPrototype() is deprecated. Please '\n",
      " 50%|█████     | 20/40 [06:53<06:50, 20.52s/it]"
     ]
    },
    {
     "name": "stdout",
     "output_type": "stream",
     "text": [
      "Saved: keypoints_csv\\010_KOA_02_MD_KOA_Mild.csv\n"
     ]
    },
    {
     "name": "stderr",
     "output_type": "stream",
     "text": [
      "c:\\Users\\user\\Desktop\\GaitLab\\GaitEnv\\Lib\\site-packages\\google\\protobuf\\symbol_database.py:55: UserWarning: SymbolDatabase.GetPrototype() is deprecated. Please use message_factory.GetMessageClass() instead. SymbolDatabase.GetPrototype() will be removed soon.\n",
      "  warnings.warn('SymbolDatabase.GetPrototype() is deprecated. Please '\n",
      " 52%|█████▎    | 21/40 [07:11<06:19, 19.95s/it]"
     ]
    },
    {
     "name": "stdout",
     "output_type": "stream",
     "text": [
      "Saved: keypoints_csv\\011_KOA_01_MD_KOA_Mild.csv\n"
     ]
    },
    {
     "name": "stderr",
     "output_type": "stream",
     "text": [
      "c:\\Users\\user\\Desktop\\GaitLab\\GaitEnv\\Lib\\site-packages\\google\\protobuf\\symbol_database.py:55: UserWarning: SymbolDatabase.GetPrototype() is deprecated. Please use message_factory.GetMessageClass() instead. SymbolDatabase.GetPrototype() will be removed soon.\n",
      "  warnings.warn('SymbolDatabase.GetPrototype() is deprecated. Please '\n",
      " 55%|█████▌    | 22/40 [07:32<06:00, 20.04s/it]"
     ]
    },
    {
     "name": "stdout",
     "output_type": "stream",
     "text": [
      "Saved: keypoints_csv\\011_KOA_02_MD_KOA_Mild.csv\n"
     ]
    },
    {
     "name": "stderr",
     "output_type": "stream",
     "text": [
      "c:\\Users\\user\\Desktop\\GaitLab\\GaitEnv\\Lib\\site-packages\\google\\protobuf\\symbol_database.py:55: UserWarning: SymbolDatabase.GetPrototype() is deprecated. Please use message_factory.GetMessageClass() instead. SymbolDatabase.GetPrototype() will be removed soon.\n",
      "  warnings.warn('SymbolDatabase.GetPrototype() is deprecated. Please '\n",
      " 57%|█████▊    | 23/40 [07:51<05:34, 19.70s/it]"
     ]
    },
    {
     "name": "stdout",
     "output_type": "stream",
     "text": [
      "Saved: keypoints_csv\\012_KOA_01_MD_KOA_Mild.csv\n"
     ]
    },
    {
     "name": "stderr",
     "output_type": "stream",
     "text": [
      "c:\\Users\\user\\Desktop\\GaitLab\\GaitEnv\\Lib\\site-packages\\google\\protobuf\\symbol_database.py:55: UserWarning: SymbolDatabase.GetPrototype() is deprecated. Please use message_factory.GetMessageClass() instead. SymbolDatabase.GetPrototype() will be removed soon.\n",
      "  warnings.warn('SymbolDatabase.GetPrototype() is deprecated. Please '\n",
      " 60%|██████    | 24/40 [08:10<05:13, 19.62s/it]"
     ]
    },
    {
     "name": "stdout",
     "output_type": "stream",
     "text": [
      "Saved: keypoints_csv\\012_KOA_02_MD_KOA_Mild.csv\n"
     ]
    },
    {
     "name": "stderr",
     "output_type": "stream",
     "text": [
      "c:\\Users\\user\\Desktop\\GaitLab\\GaitEnv\\Lib\\site-packages\\google\\protobuf\\symbol_database.py:55: UserWarning: SymbolDatabase.GetPrototype() is deprecated. Please use message_factory.GetMessageClass() instead. SymbolDatabase.GetPrototype() will be removed soon.\n",
      "  warnings.warn('SymbolDatabase.GetPrototype() is deprecated. Please '\n",
      " 62%|██████▎   | 25/40 [08:28<04:45, 19.03s/it]"
     ]
    },
    {
     "name": "stdout",
     "output_type": "stream",
     "text": [
      "Saved: keypoints_csv\\013_KOA_01_MD_KOA_Mild.csv\n"
     ]
    },
    {
     "name": "stderr",
     "output_type": "stream",
     "text": [
      "c:\\Users\\user\\Desktop\\GaitLab\\GaitEnv\\Lib\\site-packages\\google\\protobuf\\symbol_database.py:55: UserWarning: SymbolDatabase.GetPrototype() is deprecated. Please use message_factory.GetMessageClass() instead. SymbolDatabase.GetPrototype() will be removed soon.\n",
      "  warnings.warn('SymbolDatabase.GetPrototype() is deprecated. Please '\n",
      " 65%|██████▌   | 26/40 [08:53<04:51, 20.80s/it]"
     ]
    },
    {
     "name": "stdout",
     "output_type": "stream",
     "text": [
      "Saved: keypoints_csv\\013_KOA_02_MD_KOA_Mild.csv\n"
     ]
    },
    {
     "name": "stderr",
     "output_type": "stream",
     "text": [
      "c:\\Users\\user\\Desktop\\GaitLab\\GaitEnv\\Lib\\site-packages\\google\\protobuf\\symbol_database.py:55: UserWarning: SymbolDatabase.GetPrototype() is deprecated. Please use message_factory.GetMessageClass() instead. SymbolDatabase.GetPrototype() will be removed soon.\n",
      "  warnings.warn('SymbolDatabase.GetPrototype() is deprecated. Please '\n",
      " 68%|██████▊   | 27/40 [09:21<05:01, 23.21s/it]"
     ]
    },
    {
     "name": "stdout",
     "output_type": "stream",
     "text": [
      "Saved: keypoints_csv\\014_KOA_01_MD_KOA_Mild.csv\n"
     ]
    },
    {
     "name": "stderr",
     "output_type": "stream",
     "text": [
      "c:\\Users\\user\\Desktop\\GaitLab\\GaitEnv\\Lib\\site-packages\\google\\protobuf\\symbol_database.py:55: UserWarning: SymbolDatabase.GetPrototype() is deprecated. Please use message_factory.GetMessageClass() instead. SymbolDatabase.GetPrototype() will be removed soon.\n",
      "  warnings.warn('SymbolDatabase.GetPrototype() is deprecated. Please '\n",
      " 70%|███████   | 28/40 [09:42<04:28, 22.34s/it]"
     ]
    },
    {
     "name": "stdout",
     "output_type": "stream",
     "text": [
      "Saved: keypoints_csv\\014_KOA_02_MD_KOA_Mild.csv\n"
     ]
    },
    {
     "name": "stderr",
     "output_type": "stream",
     "text": [
      "c:\\Users\\user\\Desktop\\GaitLab\\GaitEnv\\Lib\\site-packages\\google\\protobuf\\symbol_database.py:55: UserWarning: SymbolDatabase.GetPrototype() is deprecated. Please use message_factory.GetMessageClass() instead. SymbolDatabase.GetPrototype() will be removed soon.\n",
      "  warnings.warn('SymbolDatabase.GetPrototype() is deprecated. Please '\n",
      " 72%|███████▎  | 29/40 [10:01<03:56, 21.49s/it]"
     ]
    },
    {
     "name": "stdout",
     "output_type": "stream",
     "text": [
      "Saved: keypoints_csv\\015_KOA_01_MD_KOA_Mild.csv\n"
     ]
    },
    {
     "name": "stderr",
     "output_type": "stream",
     "text": [
      "c:\\Users\\user\\Desktop\\GaitLab\\GaitEnv\\Lib\\site-packages\\google\\protobuf\\symbol_database.py:55: UserWarning: SymbolDatabase.GetPrototype() is deprecated. Please use message_factory.GetMessageClass() instead. SymbolDatabase.GetPrototype() will be removed soon.\n",
      "  warnings.warn('SymbolDatabase.GetPrototype() is deprecated. Please '\n",
      " 75%|███████▌  | 30/40 [10:22<03:31, 21.15s/it]"
     ]
    },
    {
     "name": "stdout",
     "output_type": "stream",
     "text": [
      "Saved: keypoints_csv\\015_KOA_02_MD_KOA_Mild.csv\n"
     ]
    },
    {
     "name": "stderr",
     "output_type": "stream",
     "text": [
      "c:\\Users\\user\\Desktop\\GaitLab\\GaitEnv\\Lib\\site-packages\\google\\protobuf\\symbol_database.py:55: UserWarning: SymbolDatabase.GetPrototype() is deprecated. Please use message_factory.GetMessageClass() instead. SymbolDatabase.GetPrototype() will be removed soon.\n",
      "  warnings.warn('SymbolDatabase.GetPrototype() is deprecated. Please '\n",
      " 78%|███████▊  | 31/40 [10:40<03:02, 20.23s/it]"
     ]
    },
    {
     "name": "stdout",
     "output_type": "stream",
     "text": [
      "Saved: keypoints_csv\\016_KOA_01_MD_KOA_Mild.csv\n"
     ]
    },
    {
     "name": "stderr",
     "output_type": "stream",
     "text": [
      "c:\\Users\\user\\Desktop\\GaitLab\\GaitEnv\\Lib\\site-packages\\google\\protobuf\\symbol_database.py:55: UserWarning: SymbolDatabase.GetPrototype() is deprecated. Please use message_factory.GetMessageClass() instead. SymbolDatabase.GetPrototype() will be removed soon.\n",
      "  warnings.warn('SymbolDatabase.GetPrototype() is deprecated. Please '\n",
      " 80%|████████  | 32/40 [10:56<02:33, 19.22s/it]"
     ]
    },
    {
     "name": "stdout",
     "output_type": "stream",
     "text": [
      "Saved: keypoints_csv\\016_KOA_02_MD_KOA_Mild.csv\n"
     ]
    },
    {
     "name": "stderr",
     "output_type": "stream",
     "text": [
      "c:\\Users\\user\\Desktop\\GaitLab\\GaitEnv\\Lib\\site-packages\\google\\protobuf\\symbol_database.py:55: UserWarning: SymbolDatabase.GetPrototype() is deprecated. Please use message_factory.GetMessageClass() instead. SymbolDatabase.GetPrototype() will be removed soon.\n",
      "  warnings.warn('SymbolDatabase.GetPrototype() is deprecated. Please '\n",
      " 82%|████████▎ | 33/40 [11:18<02:19, 20.00s/it]"
     ]
    },
    {
     "name": "stdout",
     "output_type": "stream",
     "text": [
      "Saved: keypoints_csv\\017_KOA_01_MD_KOA_Mild.csv\n"
     ]
    },
    {
     "name": "stderr",
     "output_type": "stream",
     "text": [
      "c:\\Users\\user\\Desktop\\GaitLab\\GaitEnv\\Lib\\site-packages\\google\\protobuf\\symbol_database.py:55: UserWarning: SymbolDatabase.GetPrototype() is deprecated. Please use message_factory.GetMessageClass() instead. SymbolDatabase.GetPrototype() will be removed soon.\n",
      "  warnings.warn('SymbolDatabase.GetPrototype() is deprecated. Please '\n",
      " 85%|████████▌ | 34/40 [11:42<02:06, 21.14s/it]"
     ]
    },
    {
     "name": "stdout",
     "output_type": "stream",
     "text": [
      "Saved: keypoints_csv\\017_KOA_02_MD_KOA_Mild.csv\n"
     ]
    },
    {
     "name": "stderr",
     "output_type": "stream",
     "text": [
      "c:\\Users\\user\\Desktop\\GaitLab\\GaitEnv\\Lib\\site-packages\\google\\protobuf\\symbol_database.py:55: UserWarning: SymbolDatabase.GetPrototype() is deprecated. Please use message_factory.GetMessageClass() instead. SymbolDatabase.GetPrototype() will be removed soon.\n",
      "  warnings.warn('SymbolDatabase.GetPrototype() is deprecated. Please '\n",
      " 88%|████████▊ | 35/40 [12:01<01:41, 20.35s/it]"
     ]
    },
    {
     "name": "stdout",
     "output_type": "stream",
     "text": [
      "Saved: keypoints_csv\\018_KOA_01_MD_KOA_Mild.csv\n"
     ]
    },
    {
     "name": "stderr",
     "output_type": "stream",
     "text": [
      "c:\\Users\\user\\Desktop\\GaitLab\\GaitEnv\\Lib\\site-packages\\google\\protobuf\\symbol_database.py:55: UserWarning: SymbolDatabase.GetPrototype() is deprecated. Please use message_factory.GetMessageClass() instead. SymbolDatabase.GetPrototype() will be removed soon.\n",
      "  warnings.warn('SymbolDatabase.GetPrototype() is deprecated. Please '\n",
      " 90%|█████████ | 36/40 [12:21<01:21, 20.26s/it]"
     ]
    },
    {
     "name": "stdout",
     "output_type": "stream",
     "text": [
      "Saved: keypoints_csv\\018_KOA_02_MD_KOA_Mild.csv\n"
     ]
    },
    {
     "name": "stderr",
     "output_type": "stream",
     "text": [
      "c:\\Users\\user\\Desktop\\GaitLab\\GaitEnv\\Lib\\site-packages\\google\\protobuf\\symbol_database.py:55: UserWarning: SymbolDatabase.GetPrototype() is deprecated. Please use message_factory.GetMessageClass() instead. SymbolDatabase.GetPrototype() will be removed soon.\n",
      "  warnings.warn('SymbolDatabase.GetPrototype() is deprecated. Please '\n",
      " 92%|█████████▎| 37/40 [12:46<01:04, 21.66s/it]"
     ]
    },
    {
     "name": "stdout",
     "output_type": "stream",
     "text": [
      "Saved: keypoints_csv\\019_KOA_01_MD_KOA_Mild.csv\n"
     ]
    },
    {
     "name": "stderr",
     "output_type": "stream",
     "text": [
      "c:\\Users\\user\\Desktop\\GaitLab\\GaitEnv\\Lib\\site-packages\\google\\protobuf\\symbol_database.py:55: UserWarning: SymbolDatabase.GetPrototype() is deprecated. Please use message_factory.GetMessageClass() instead. SymbolDatabase.GetPrototype() will be removed soon.\n",
      "  warnings.warn('SymbolDatabase.GetPrototype() is deprecated. Please '\n",
      " 95%|█████████▌| 38/40 [13:22<00:52, 26.13s/it]"
     ]
    },
    {
     "name": "stdout",
     "output_type": "stream",
     "text": [
      "Saved: keypoints_csv\\019_KOA_02_MD_KOA_Mild.csv\n"
     ]
    },
    {
     "name": "stderr",
     "output_type": "stream",
     "text": [
      "c:\\Users\\user\\Desktop\\GaitLab\\GaitEnv\\Lib\\site-packages\\google\\protobuf\\symbol_database.py:55: UserWarning: SymbolDatabase.GetPrototype() is deprecated. Please use message_factory.GetMessageClass() instead. SymbolDatabase.GetPrototype() will be removed soon.\n",
      "  warnings.warn('SymbolDatabase.GetPrototype() is deprecated. Please '\n",
      " 98%|█████████▊| 39/40 [13:38<00:23, 23.16s/it]"
     ]
    },
    {
     "name": "stdout",
     "output_type": "stream",
     "text": [
      "Saved: keypoints_csv\\020_KOA_01_MD_KOA_Mild.csv\n"
     ]
    },
    {
     "name": "stderr",
     "output_type": "stream",
     "text": [
      "c:\\Users\\user\\Desktop\\GaitLab\\GaitEnv\\Lib\\site-packages\\google\\protobuf\\symbol_database.py:55: UserWarning: SymbolDatabase.GetPrototype() is deprecated. Please use message_factory.GetMessageClass() instead. SymbolDatabase.GetPrototype() will be removed soon.\n",
      "  warnings.warn('SymbolDatabase.GetPrototype() is deprecated. Please '\n",
      "100%|██████████| 40/40 [13:58<00:00, 20.97s/it]\n"
     ]
    },
    {
     "name": "stdout",
     "output_type": "stream",
     "text": [
      "Saved: keypoints_csv\\020_KOA_02_MD_KOA_Mild.csv\n"
     ]
    },
    {
     "name": "stderr",
     "output_type": "stream",
     "text": [
      "  0%|          | 0/30 [00:00<?, ?it/s]c:\\Users\\user\\Desktop\\GaitLab\\GaitEnv\\Lib\\site-packages\\google\\protobuf\\symbol_database.py:55: UserWarning: SymbolDatabase.GetPrototype() is deprecated. Please use message_factory.GetMessageClass() instead. SymbolDatabase.GetPrototype() will be removed soon.\n",
      "  warnings.warn('SymbolDatabase.GetPrototype() is deprecated. Please '\n",
      "  3%|▎         | 1/30 [00:41<20:04, 41.55s/it]"
     ]
    },
    {
     "name": "stdout",
     "output_type": "stream",
     "text": [
      "Saved: keypoints_csv\\001_KOA_01_SV_KOA_Severe.csv\n"
     ]
    },
    {
     "name": "stderr",
     "output_type": "stream",
     "text": [
      "c:\\Users\\user\\Desktop\\GaitLab\\GaitEnv\\Lib\\site-packages\\google\\protobuf\\symbol_database.py:55: UserWarning: SymbolDatabase.GetPrototype() is deprecated. Please use message_factory.GetMessageClass() instead. SymbolDatabase.GetPrototype() will be removed soon.\n",
      "  warnings.warn('SymbolDatabase.GetPrototype() is deprecated. Please '\n",
      "  7%|▋         | 2/30 [01:08<15:24, 33.03s/it]"
     ]
    },
    {
     "name": "stdout",
     "output_type": "stream",
     "text": [
      "Saved: keypoints_csv\\001_KOA_02_SV_KOA_Severe.csv\n"
     ]
    },
    {
     "name": "stderr",
     "output_type": "stream",
     "text": [
      "c:\\Users\\user\\Desktop\\GaitLab\\GaitEnv\\Lib\\site-packages\\google\\protobuf\\symbol_database.py:55: UserWarning: SymbolDatabase.GetPrototype() is deprecated. Please use message_factory.GetMessageClass() instead. SymbolDatabase.GetPrototype() will be removed soon.\n",
      "  warnings.warn('SymbolDatabase.GetPrototype() is deprecated. Please '\n",
      " 10%|█         | 3/30 [01:48<16:12, 36.01s/it]"
     ]
    },
    {
     "name": "stdout",
     "output_type": "stream",
     "text": [
      "Saved: keypoints_csv\\002_KOA_01_SV_KOA_Severe.csv\n"
     ]
    },
    {
     "name": "stderr",
     "output_type": "stream",
     "text": [
      "c:\\Users\\user\\Desktop\\GaitLab\\GaitEnv\\Lib\\site-packages\\google\\protobuf\\symbol_database.py:55: UserWarning: SymbolDatabase.GetPrototype() is deprecated. Please use message_factory.GetMessageClass() instead. SymbolDatabase.GetPrototype() will be removed soon.\n",
      "  warnings.warn('SymbolDatabase.GetPrototype() is deprecated. Please '\n",
      " 13%|█▎        | 4/30 [02:30<16:46, 38.69s/it]"
     ]
    },
    {
     "name": "stdout",
     "output_type": "stream",
     "text": [
      "Saved: keypoints_csv\\002_KOA_02_SV_KOA_Severe.csv\n"
     ]
    },
    {
     "name": "stderr",
     "output_type": "stream",
     "text": [
      "c:\\Users\\user\\Desktop\\GaitLab\\GaitEnv\\Lib\\site-packages\\google\\protobuf\\symbol_database.py:55: UserWarning: SymbolDatabase.GetPrototype() is deprecated. Please use message_factory.GetMessageClass() instead. SymbolDatabase.GetPrototype() will be removed soon.\n",
      "  warnings.warn('SymbolDatabase.GetPrototype() is deprecated. Please '\n",
      " 17%|█▋        | 5/30 [03:24<18:19, 44.00s/it]"
     ]
    },
    {
     "name": "stdout",
     "output_type": "stream",
     "text": [
      "Saved: keypoints_csv\\003_KOA_01_SV_KOA_Severe.csv\n"
     ]
    },
    {
     "name": "stderr",
     "output_type": "stream",
     "text": [
      "c:\\Users\\user\\Desktop\\GaitLab\\GaitEnv\\Lib\\site-packages\\google\\protobuf\\symbol_database.py:55: UserWarning: SymbolDatabase.GetPrototype() is deprecated. Please use message_factory.GetMessageClass() instead. SymbolDatabase.GetPrototype() will be removed soon.\n",
      "  warnings.warn('SymbolDatabase.GetPrototype() is deprecated. Please '\n",
      " 20%|██        | 6/30 [04:10<17:51, 44.65s/it]"
     ]
    },
    {
     "name": "stdout",
     "output_type": "stream",
     "text": [
      "Saved: keypoints_csv\\003_KOA_02_SV_KOA_Severe.csv\n"
     ]
    },
    {
     "name": "stderr",
     "output_type": "stream",
     "text": [
      "c:\\Users\\user\\Desktop\\GaitLab\\GaitEnv\\Lib\\site-packages\\google\\protobuf\\symbol_database.py:55: UserWarning: SymbolDatabase.GetPrototype() is deprecated. Please use message_factory.GetMessageClass() instead. SymbolDatabase.GetPrototype() will be removed soon.\n",
      "  warnings.warn('SymbolDatabase.GetPrototype() is deprecated. Please '\n",
      " 23%|██▎       | 7/30 [04:39<15:14, 39.76s/it]"
     ]
    },
    {
     "name": "stdout",
     "output_type": "stream",
     "text": [
      "Saved: keypoints_csv\\004_KOA_01_SV_KOA_Severe.csv\n"
     ]
    },
    {
     "name": "stderr",
     "output_type": "stream",
     "text": [
      "c:\\Users\\user\\Desktop\\GaitLab\\GaitEnv\\Lib\\site-packages\\google\\protobuf\\symbol_database.py:55: UserWarning: SymbolDatabase.GetPrototype() is deprecated. Please use message_factory.GetMessageClass() instead. SymbolDatabase.GetPrototype() will be removed soon.\n",
      "  warnings.warn('SymbolDatabase.GetPrototype() is deprecated. Please '\n",
      " 27%|██▋       | 8/30 [05:12<13:45, 37.53s/it]"
     ]
    },
    {
     "name": "stdout",
     "output_type": "stream",
     "text": [
      "Saved: keypoints_csv\\004_KOA_02_SV_KOA_Severe.csv\n"
     ]
    },
    {
     "name": "stderr",
     "output_type": "stream",
     "text": [
      "c:\\Users\\user\\Desktop\\GaitLab\\GaitEnv\\Lib\\site-packages\\google\\protobuf\\symbol_database.py:55: UserWarning: SymbolDatabase.GetPrototype() is deprecated. Please use message_factory.GetMessageClass() instead. SymbolDatabase.GetPrototype() will be removed soon.\n",
      "  warnings.warn('SymbolDatabase.GetPrototype() is deprecated. Please '\n",
      " 30%|███       | 9/30 [05:50<13:07, 37.52s/it]"
     ]
    },
    {
     "name": "stdout",
     "output_type": "stream",
     "text": [
      "Saved: keypoints_csv\\005_KOA_01_SV_KOA_Severe.csv\n"
     ]
    },
    {
     "name": "stderr",
     "output_type": "stream",
     "text": [
      "c:\\Users\\user\\Desktop\\GaitLab\\GaitEnv\\Lib\\site-packages\\google\\protobuf\\symbol_database.py:55: UserWarning: SymbolDatabase.GetPrototype() is deprecated. Please use message_factory.GetMessageClass() instead. SymbolDatabase.GetPrototype() will be removed soon.\n",
      "  warnings.warn('SymbolDatabase.GetPrototype() is deprecated. Please '\n",
      " 33%|███▎      | 10/30 [06:15<11:16, 33.80s/it]"
     ]
    },
    {
     "name": "stdout",
     "output_type": "stream",
     "text": [
      "Saved: keypoints_csv\\005_KOA_02_SV_KOA_Severe.csv\n"
     ]
    },
    {
     "name": "stderr",
     "output_type": "stream",
     "text": [
      "c:\\Users\\user\\Desktop\\GaitLab\\GaitEnv\\Lib\\site-packages\\google\\protobuf\\symbol_database.py:55: UserWarning: SymbolDatabase.GetPrototype() is deprecated. Please use message_factory.GetMessageClass() instead. SymbolDatabase.GetPrototype() will be removed soon.\n",
      "  warnings.warn('SymbolDatabase.GetPrototype() is deprecated. Please '\n",
      " 37%|███▋      | 11/30 [06:47<10:32, 33.31s/it]"
     ]
    },
    {
     "name": "stdout",
     "output_type": "stream",
     "text": [
      "Saved: keypoints_csv\\006_KOA_01_SV_KOA_Severe.csv\n"
     ]
    },
    {
     "name": "stderr",
     "output_type": "stream",
     "text": [
      "c:\\Users\\user\\Desktop\\GaitLab\\GaitEnv\\Lib\\site-packages\\google\\protobuf\\symbol_database.py:55: UserWarning: SymbolDatabase.GetPrototype() is deprecated. Please use message_factory.GetMessageClass() instead. SymbolDatabase.GetPrototype() will be removed soon.\n",
      "  warnings.warn('SymbolDatabase.GetPrototype() is deprecated. Please '\n",
      " 40%|████      | 12/30 [07:14<09:21, 31.22s/it]"
     ]
    },
    {
     "name": "stdout",
     "output_type": "stream",
     "text": [
      "Saved: keypoints_csv\\006_KOA_02_SV_KOA_Severe.csv\n"
     ]
    },
    {
     "name": "stderr",
     "output_type": "stream",
     "text": [
      "c:\\Users\\user\\Desktop\\GaitLab\\GaitEnv\\Lib\\site-packages\\google\\protobuf\\symbol_database.py:55: UserWarning: SymbolDatabase.GetPrototype() is deprecated. Please use message_factory.GetMessageClass() instead. SymbolDatabase.GetPrototype() will be removed soon.\n",
      "  warnings.warn('SymbolDatabase.GetPrototype() is deprecated. Please '\n",
      " 43%|████▎     | 13/30 [07:53<09:32, 33.68s/it]"
     ]
    },
    {
     "name": "stdout",
     "output_type": "stream",
     "text": [
      "Saved: keypoints_csv\\007_KOA_01_SV_KOA_Severe.csv\n"
     ]
    },
    {
     "name": "stderr",
     "output_type": "stream",
     "text": [
      "c:\\Users\\user\\Desktop\\GaitLab\\GaitEnv\\Lib\\site-packages\\google\\protobuf\\symbol_database.py:55: UserWarning: SymbolDatabase.GetPrototype() is deprecated. Please use message_factory.GetMessageClass() instead. SymbolDatabase.GetPrototype() will be removed soon.\n",
      "  warnings.warn('SymbolDatabase.GetPrototype() is deprecated. Please '\n",
      " 47%|████▋     | 14/30 [08:29<09:06, 34.19s/it]"
     ]
    },
    {
     "name": "stdout",
     "output_type": "stream",
     "text": [
      "Saved: keypoints_csv\\007_KOA_02_SV_KOA_Severe.csv\n"
     ]
    },
    {
     "name": "stderr",
     "output_type": "stream",
     "text": [
      "c:\\Users\\user\\Desktop\\GaitLab\\GaitEnv\\Lib\\site-packages\\google\\protobuf\\symbol_database.py:55: UserWarning: SymbolDatabase.GetPrototype() is deprecated. Please use message_factory.GetMessageClass() instead. SymbolDatabase.GetPrototype() will be removed soon.\n",
      "  warnings.warn('SymbolDatabase.GetPrototype() is deprecated. Please '\n",
      " 50%|█████     | 15/30 [09:17<09:36, 38.44s/it]"
     ]
    },
    {
     "name": "stdout",
     "output_type": "stream",
     "text": [
      "Saved: keypoints_csv\\008_KOA_01_SV_KOA_Severe.csv\n"
     ]
    },
    {
     "name": "stderr",
     "output_type": "stream",
     "text": [
      "c:\\Users\\user\\Desktop\\GaitLab\\GaitEnv\\Lib\\site-packages\\google\\protobuf\\symbol_database.py:55: UserWarning: SymbolDatabase.GetPrototype() is deprecated. Please use message_factory.GetMessageClass() instead. SymbolDatabase.GetPrototype() will be removed soon.\n",
      "  warnings.warn('SymbolDatabase.GetPrototype() is deprecated. Please '\n",
      " 53%|█████▎    | 16/30 [09:57<09:05, 38.95s/it]"
     ]
    },
    {
     "name": "stdout",
     "output_type": "stream",
     "text": [
      "Saved: keypoints_csv\\008_KOA_02_SV_KOA_Severe.csv\n"
     ]
    },
    {
     "name": "stderr",
     "output_type": "stream",
     "text": [
      "c:\\Users\\user\\Desktop\\GaitLab\\GaitEnv\\Lib\\site-packages\\google\\protobuf\\symbol_database.py:55: UserWarning: SymbolDatabase.GetPrototype() is deprecated. Please use message_factory.GetMessageClass() instead. SymbolDatabase.GetPrototype() will be removed soon.\n",
      "  warnings.warn('SymbolDatabase.GetPrototype() is deprecated. Please '\n",
      " 57%|█████▋    | 17/30 [10:44<08:56, 41.28s/it]"
     ]
    },
    {
     "name": "stdout",
     "output_type": "stream",
     "text": [
      "Saved: keypoints_csv\\009_KOA_01_SV_KOA_Severe.csv\n"
     ]
    },
    {
     "name": "stderr",
     "output_type": "stream",
     "text": [
      "c:\\Users\\user\\Desktop\\GaitLab\\GaitEnv\\Lib\\site-packages\\google\\protobuf\\symbol_database.py:55: UserWarning: SymbolDatabase.GetPrototype() is deprecated. Please use message_factory.GetMessageClass() instead. SymbolDatabase.GetPrototype() will be removed soon.\n",
      "  warnings.warn('SymbolDatabase.GetPrototype() is deprecated. Please '\n",
      " 60%|██████    | 18/30 [11:22<08:04, 40.38s/it]"
     ]
    },
    {
     "name": "stdout",
     "output_type": "stream",
     "text": [
      "Saved: keypoints_csv\\009_KOA_02_SV_KOA_Severe.csv\n"
     ]
    },
    {
     "name": "stderr",
     "output_type": "stream",
     "text": [
      "c:\\Users\\user\\Desktop\\GaitLab\\GaitEnv\\Lib\\site-packages\\google\\protobuf\\symbol_database.py:55: UserWarning: SymbolDatabase.GetPrototype() is deprecated. Please use message_factory.GetMessageClass() instead. SymbolDatabase.GetPrototype() will be removed soon.\n",
      "  warnings.warn('SymbolDatabase.GetPrototype() is deprecated. Please '\n",
      " 63%|██████▎   | 19/30 [12:09<07:46, 42.43s/it]"
     ]
    },
    {
     "name": "stdout",
     "output_type": "stream",
     "text": [
      "Saved: keypoints_csv\\010_KOA_01_SV_KOA_Severe.csv\n"
     ]
    },
    {
     "name": "stderr",
     "output_type": "stream",
     "text": [
      "c:\\Users\\user\\Desktop\\GaitLab\\GaitEnv\\Lib\\site-packages\\google\\protobuf\\symbol_database.py:55: UserWarning: SymbolDatabase.GetPrototype() is deprecated. Please use message_factory.GetMessageClass() instead. SymbolDatabase.GetPrototype() will be removed soon.\n",
      "  warnings.warn('SymbolDatabase.GetPrototype() is deprecated. Please '\n",
      " 67%|██████▋   | 20/30 [12:55<07:15, 43.54s/it]"
     ]
    },
    {
     "name": "stdout",
     "output_type": "stream",
     "text": [
      "Saved: keypoints_csv\\010_KOA_02_SV_KOA_Severe.csv\n"
     ]
    },
    {
     "name": "stderr",
     "output_type": "stream",
     "text": [
      "c:\\Users\\user\\Desktop\\GaitLab\\GaitEnv\\Lib\\site-packages\\google\\protobuf\\symbol_database.py:55: UserWarning: SymbolDatabase.GetPrototype() is deprecated. Please use message_factory.GetMessageClass() instead. SymbolDatabase.GetPrototype() will be removed soon.\n",
      "  warnings.warn('SymbolDatabase.GetPrototype() is deprecated. Please '\n",
      " 70%|███████   | 21/30 [13:21<05:43, 38.21s/it]"
     ]
    },
    {
     "name": "stdout",
     "output_type": "stream",
     "text": [
      "Saved: keypoints_csv\\011_KOA_01_SV_KOA_Severe.csv\n"
     ]
    },
    {
     "name": "stderr",
     "output_type": "stream",
     "text": [
      "c:\\Users\\user\\Desktop\\GaitLab\\GaitEnv\\Lib\\site-packages\\google\\protobuf\\symbol_database.py:55: UserWarning: SymbolDatabase.GetPrototype() is deprecated. Please use message_factory.GetMessageClass() instead. SymbolDatabase.GetPrototype() will be removed soon.\n",
      "  warnings.warn('SymbolDatabase.GetPrototype() is deprecated. Please '\n",
      " 73%|███████▎  | 22/30 [13:46<04:34, 34.29s/it]"
     ]
    },
    {
     "name": "stdout",
     "output_type": "stream",
     "text": [
      "Saved: keypoints_csv\\011_KOA_02_SV_KOA_Severe.csv\n"
     ]
    },
    {
     "name": "stderr",
     "output_type": "stream",
     "text": [
      "c:\\Users\\user\\Desktop\\GaitLab\\GaitEnv\\Lib\\site-packages\\google\\protobuf\\symbol_database.py:55: UserWarning: SymbolDatabase.GetPrototype() is deprecated. Please use message_factory.GetMessageClass() instead. SymbolDatabase.GetPrototype() will be removed soon.\n",
      "  warnings.warn('SymbolDatabase.GetPrototype() is deprecated. Please '\n",
      " 77%|███████▋  | 23/30 [14:11<03:40, 31.44s/it]"
     ]
    },
    {
     "name": "stdout",
     "output_type": "stream",
     "text": [
      "Saved: keypoints_csv\\012_KOA_01_SV_KOA_Severe.csv\n"
     ]
    },
    {
     "name": "stderr",
     "output_type": "stream",
     "text": [
      "c:\\Users\\user\\Desktop\\GaitLab\\GaitEnv\\Lib\\site-packages\\google\\protobuf\\symbol_database.py:55: UserWarning: SymbolDatabase.GetPrototype() is deprecated. Please use message_factory.GetMessageClass() instead. SymbolDatabase.GetPrototype() will be removed soon.\n",
      "  warnings.warn('SymbolDatabase.GetPrototype() is deprecated. Please '\n",
      " 80%|████████  | 24/30 [14:36<02:57, 29.53s/it]"
     ]
    },
    {
     "name": "stdout",
     "output_type": "stream",
     "text": [
      "Saved: keypoints_csv\\012_KOA_02_SV_KOA_Severe.csv\n"
     ]
    },
    {
     "name": "stderr",
     "output_type": "stream",
     "text": [
      "c:\\Users\\user\\Desktop\\GaitLab\\GaitEnv\\Lib\\site-packages\\google\\protobuf\\symbol_database.py:55: UserWarning: SymbolDatabase.GetPrototype() is deprecated. Please use message_factory.GetMessageClass() instead. SymbolDatabase.GetPrototype() will be removed soon.\n",
      "  warnings.warn('SymbolDatabase.GetPrototype() is deprecated. Please '\n",
      " 83%|████████▎ | 25/30 [15:15<02:41, 32.21s/it]"
     ]
    },
    {
     "name": "stdout",
     "output_type": "stream",
     "text": [
      "Saved: keypoints_csv\\013_KOA_01_SV_KOA_Severe.csv\n"
     ]
    },
    {
     "name": "stderr",
     "output_type": "stream",
     "text": [
      "c:\\Users\\user\\Desktop\\GaitLab\\GaitEnv\\Lib\\site-packages\\google\\protobuf\\symbol_database.py:55: UserWarning: SymbolDatabase.GetPrototype() is deprecated. Please use message_factory.GetMessageClass() instead. SymbolDatabase.GetPrototype() will be removed soon.\n",
      "  warnings.warn('SymbolDatabase.GetPrototype() is deprecated. Please '\n",
      " 87%|████████▋ | 26/30 [15:48<02:10, 32.67s/it]"
     ]
    },
    {
     "name": "stdout",
     "output_type": "stream",
     "text": [
      "Saved: keypoints_csv\\013_KOA_02_SV_KOA_Severe.csv\n"
     ]
    },
    {
     "name": "stderr",
     "output_type": "stream",
     "text": [
      "c:\\Users\\user\\Desktop\\GaitLab\\GaitEnv\\Lib\\site-packages\\google\\protobuf\\symbol_database.py:55: UserWarning: SymbolDatabase.GetPrototype() is deprecated. Please use message_factory.GetMessageClass() instead. SymbolDatabase.GetPrototype() will be removed soon.\n",
      "  warnings.warn('SymbolDatabase.GetPrototype() is deprecated. Please '\n",
      " 90%|█████████ | 27/30 [16:17<01:34, 31.39s/it]"
     ]
    },
    {
     "name": "stdout",
     "output_type": "stream",
     "text": [
      "Saved: keypoints_csv\\014_KOA_01_SV_KOA_Severe.csv\n"
     ]
    },
    {
     "name": "stderr",
     "output_type": "stream",
     "text": [
      "c:\\Users\\user\\Desktop\\GaitLab\\GaitEnv\\Lib\\site-packages\\google\\protobuf\\symbol_database.py:55: UserWarning: SymbolDatabase.GetPrototype() is deprecated. Please use message_factory.GetMessageClass() instead. SymbolDatabase.GetPrototype() will be removed soon.\n",
      "  warnings.warn('SymbolDatabase.GetPrototype() is deprecated. Please '\n",
      " 93%|█████████▎| 28/30 [16:46<01:01, 30.73s/it]"
     ]
    },
    {
     "name": "stdout",
     "output_type": "stream",
     "text": [
      "Saved: keypoints_csv\\014_KOA_02_SV_KOA_Severe.csv\n"
     ]
    },
    {
     "name": "stderr",
     "output_type": "stream",
     "text": [
      "c:\\Users\\user\\Desktop\\GaitLab\\GaitEnv\\Lib\\site-packages\\google\\protobuf\\symbol_database.py:55: UserWarning: SymbolDatabase.GetPrototype() is deprecated. Please use message_factory.GetMessageClass() instead. SymbolDatabase.GetPrototype() will be removed soon.\n",
      "  warnings.warn('SymbolDatabase.GetPrototype() is deprecated. Please '\n",
      " 97%|█████████▋| 29/30 [17:22<00:32, 32.49s/it]"
     ]
    },
    {
     "name": "stdout",
     "output_type": "stream",
     "text": [
      "Saved: keypoints_csv\\015_KOA_01_SV_KOA_Severe.csv\n"
     ]
    },
    {
     "name": "stderr",
     "output_type": "stream",
     "text": [
      "c:\\Users\\user\\Desktop\\GaitLab\\GaitEnv\\Lib\\site-packages\\google\\protobuf\\symbol_database.py:55: UserWarning: SymbolDatabase.GetPrototype() is deprecated. Please use message_factory.GetMessageClass() instead. SymbolDatabase.GetPrototype() will be removed soon.\n",
      "  warnings.warn('SymbolDatabase.GetPrototype() is deprecated. Please '\n",
      "100%|██████████| 30/30 [17:48<00:00, 35.61s/it]\n"
     ]
    },
    {
     "name": "stdout",
     "output_type": "stream",
     "text": [
      "Saved: keypoints_csv\\015_KOA_02_SV_KOA_Severe.csv\n"
     ]
    },
    {
     "name": "stderr",
     "output_type": "stream",
     "text": [
      "  0%|          | 0/60 [00:00<?, ?it/s]c:\\Users\\user\\Desktop\\GaitLab\\GaitEnv\\Lib\\site-packages\\google\\protobuf\\symbol_database.py:55: UserWarning: SymbolDatabase.GetPrototype() is deprecated. Please use message_factory.GetMessageClass() instead. SymbolDatabase.GetPrototype() will be removed soon.\n",
      "  warnings.warn('SymbolDatabase.GetPrototype() is deprecated. Please '\n",
      "  2%|▏         | 1/60 [00:05<05:46,  5.87s/it]"
     ]
    },
    {
     "name": "stdout",
     "output_type": "stream",
     "text": [
      "Saved: keypoints_csv\\001_NM_01_Normal.csv\n"
     ]
    },
    {
     "name": "stderr",
     "output_type": "stream",
     "text": [
      "c:\\Users\\user\\Desktop\\GaitLab\\GaitEnv\\Lib\\site-packages\\google\\protobuf\\symbol_database.py:55: UserWarning: SymbolDatabase.GetPrototype() is deprecated. Please use message_factory.GetMessageClass() instead. SymbolDatabase.GetPrototype() will be removed soon.\n",
      "  warnings.warn('SymbolDatabase.GetPrototype() is deprecated. Please '\n",
      "  3%|▎         | 2/60 [00:12<05:52,  6.07s/it]"
     ]
    },
    {
     "name": "stdout",
     "output_type": "stream",
     "text": [
      "Saved: keypoints_csv\\001_NM_02_Normal.csv\n"
     ]
    },
    {
     "name": "stderr",
     "output_type": "stream",
     "text": [
      "c:\\Users\\user\\Desktop\\GaitLab\\GaitEnv\\Lib\\site-packages\\google\\protobuf\\symbol_database.py:55: UserWarning: SymbolDatabase.GetPrototype() is deprecated. Please use message_factory.GetMessageClass() instead. SymbolDatabase.GetPrototype() will be removed soon.\n",
      "  warnings.warn('SymbolDatabase.GetPrototype() is deprecated. Please '\n",
      "  5%|▌         | 3/60 [00:18<05:49,  6.14s/it]"
     ]
    },
    {
     "name": "stdout",
     "output_type": "stream",
     "text": [
      "Saved: keypoints_csv\\002_NM_01_Normal.csv\n"
     ]
    },
    {
     "name": "stderr",
     "output_type": "stream",
     "text": [
      "c:\\Users\\user\\Desktop\\GaitLab\\GaitEnv\\Lib\\site-packages\\google\\protobuf\\symbol_database.py:55: UserWarning: SymbolDatabase.GetPrototype() is deprecated. Please use message_factory.GetMessageClass() instead. SymbolDatabase.GetPrototype() will be removed soon.\n",
      "  warnings.warn('SymbolDatabase.GetPrototype() is deprecated. Please '\n",
      "  7%|▋         | 4/60 [00:30<07:56,  8.51s/it]"
     ]
    },
    {
     "name": "stdout",
     "output_type": "stream",
     "text": [
      "Saved: keypoints_csv\\002_NM_02_Normal.csv\n"
     ]
    },
    {
     "name": "stderr",
     "output_type": "stream",
     "text": [
      "c:\\Users\\user\\Desktop\\GaitLab\\GaitEnv\\Lib\\site-packages\\google\\protobuf\\symbol_database.py:55: UserWarning: SymbolDatabase.GetPrototype() is deprecated. Please use message_factory.GetMessageClass() instead. SymbolDatabase.GetPrototype() will be removed soon.\n",
      "  warnings.warn('SymbolDatabase.GetPrototype() is deprecated. Please '\n",
      "  8%|▊         | 5/60 [00:37<07:10,  7.82s/it]"
     ]
    },
    {
     "name": "stdout",
     "output_type": "stream",
     "text": [
      "Saved: keypoints_csv\\003_NM_01_Normal.csv\n"
     ]
    },
    {
     "name": "stderr",
     "output_type": "stream",
     "text": [
      "c:\\Users\\user\\Desktop\\GaitLab\\GaitEnv\\Lib\\site-packages\\google\\protobuf\\symbol_database.py:55: UserWarning: SymbolDatabase.GetPrototype() is deprecated. Please use message_factory.GetMessageClass() instead. SymbolDatabase.GetPrototype() will be removed soon.\n",
      "  warnings.warn('SymbolDatabase.GetPrototype() is deprecated. Please '\n",
      " 10%|█         | 6/60 [00:43<06:30,  7.24s/it]"
     ]
    },
    {
     "name": "stdout",
     "output_type": "stream",
     "text": [
      "Saved: keypoints_csv\\003_NM_02_Normal.csv\n"
     ]
    },
    {
     "name": "stderr",
     "output_type": "stream",
     "text": [
      "c:\\Users\\user\\Desktop\\GaitLab\\GaitEnv\\Lib\\site-packages\\google\\protobuf\\symbol_database.py:55: UserWarning: SymbolDatabase.GetPrototype() is deprecated. Please use message_factory.GetMessageClass() instead. SymbolDatabase.GetPrototype() will be removed soon.\n",
      "  warnings.warn('SymbolDatabase.GetPrototype() is deprecated. Please '\n",
      " 12%|█▏        | 7/60 [00:50<06:23,  7.24s/it]"
     ]
    },
    {
     "name": "stdout",
     "output_type": "stream",
     "text": [
      "Saved: keypoints_csv\\004_NM_01_Normal.csv\n"
     ]
    },
    {
     "name": "stderr",
     "output_type": "stream",
     "text": [
      "c:\\Users\\user\\Desktop\\GaitLab\\GaitEnv\\Lib\\site-packages\\google\\protobuf\\symbol_database.py:55: UserWarning: SymbolDatabase.GetPrototype() is deprecated. Please use message_factory.GetMessageClass() instead. SymbolDatabase.GetPrototype() will be removed soon.\n",
      "  warnings.warn('SymbolDatabase.GetPrototype() is deprecated. Please '\n",
      " 13%|█▎        | 8/60 [01:07<09:02, 10.43s/it]"
     ]
    },
    {
     "name": "stdout",
     "output_type": "stream",
     "text": [
      "Saved: keypoints_csv\\004_NM_02_Normal.csv\n"
     ]
    },
    {
     "name": "stderr",
     "output_type": "stream",
     "text": [
      "c:\\Users\\user\\Desktop\\GaitLab\\GaitEnv\\Lib\\site-packages\\google\\protobuf\\symbol_database.py:55: UserWarning: SymbolDatabase.GetPrototype() is deprecated. Please use message_factory.GetMessageClass() instead. SymbolDatabase.GetPrototype() will be removed soon.\n",
      "  warnings.warn('SymbolDatabase.GetPrototype() is deprecated. Please '\n",
      " 15%|█▌        | 9/60 [01:14<07:53,  9.29s/it]"
     ]
    },
    {
     "name": "stdout",
     "output_type": "stream",
     "text": [
      "Saved: keypoints_csv\\005_NM_01_Normal.csv\n"
     ]
    },
    {
     "name": "stderr",
     "output_type": "stream",
     "text": [
      "c:\\Users\\user\\Desktop\\GaitLab\\GaitEnv\\Lib\\site-packages\\google\\protobuf\\symbol_database.py:55: UserWarning: SymbolDatabase.GetPrototype() is deprecated. Please use message_factory.GetMessageClass() instead. SymbolDatabase.GetPrototype() will be removed soon.\n",
      "  warnings.warn('SymbolDatabase.GetPrototype() is deprecated. Please '\n",
      " 17%|█▋        | 10/60 [01:21<07:02,  8.45s/it]"
     ]
    },
    {
     "name": "stdout",
     "output_type": "stream",
     "text": [
      "Saved: keypoints_csv\\005_NM_02_Normal.csv\n"
     ]
    },
    {
     "name": "stderr",
     "output_type": "stream",
     "text": [
      "c:\\Users\\user\\Desktop\\GaitLab\\GaitEnv\\Lib\\site-packages\\google\\protobuf\\symbol_database.py:55: UserWarning: SymbolDatabase.GetPrototype() is deprecated. Please use message_factory.GetMessageClass() instead. SymbolDatabase.GetPrototype() will be removed soon.\n",
      "  warnings.warn('SymbolDatabase.GetPrototype() is deprecated. Please '\n",
      " 18%|█▊        | 11/60 [01:32<07:37,  9.34s/it]"
     ]
    },
    {
     "name": "stdout",
     "output_type": "stream",
     "text": [
      "Saved: keypoints_csv\\006_NM_01_Normal.csv\n"
     ]
    },
    {
     "name": "stderr",
     "output_type": "stream",
     "text": [
      "c:\\Users\\user\\Desktop\\GaitLab\\GaitEnv\\Lib\\site-packages\\google\\protobuf\\symbol_database.py:55: UserWarning: SymbolDatabase.GetPrototype() is deprecated. Please use message_factory.GetMessageClass() instead. SymbolDatabase.GetPrototype() will be removed soon.\n",
      "  warnings.warn('SymbolDatabase.GetPrototype() is deprecated. Please '\n",
      " 20%|██        | 12/60 [01:43<07:50,  9.81s/it]"
     ]
    },
    {
     "name": "stdout",
     "output_type": "stream",
     "text": [
      "Saved: keypoints_csv\\006_NM_02_Normal.csv\n"
     ]
    },
    {
     "name": "stderr",
     "output_type": "stream",
     "text": [
      "c:\\Users\\user\\Desktop\\GaitLab\\GaitEnv\\Lib\\site-packages\\google\\protobuf\\symbol_database.py:55: UserWarning: SymbolDatabase.GetPrototype() is deprecated. Please use message_factory.GetMessageClass() instead. SymbolDatabase.GetPrototype() will be removed soon.\n",
      "  warnings.warn('SymbolDatabase.GetPrototype() is deprecated. Please '\n",
      " 22%|██▏       | 13/60 [01:50<07:03,  9.02s/it]"
     ]
    },
    {
     "name": "stdout",
     "output_type": "stream",
     "text": [
      "Saved: keypoints_csv\\007_NM_01_Normal.csv\n"
     ]
    },
    {
     "name": "stderr",
     "output_type": "stream",
     "text": [
      "c:\\Users\\user\\Desktop\\GaitLab\\GaitEnv\\Lib\\site-packages\\google\\protobuf\\symbol_database.py:55: UserWarning: SymbolDatabase.GetPrototype() is deprecated. Please use message_factory.GetMessageClass() instead. SymbolDatabase.GetPrototype() will be removed soon.\n",
      "  warnings.warn('SymbolDatabase.GetPrototype() is deprecated. Please '\n",
      " 23%|██▎       | 14/60 [01:57<06:21,  8.30s/it]"
     ]
    },
    {
     "name": "stdout",
     "output_type": "stream",
     "text": [
      "Saved: keypoints_csv\\007_NM_02_Normal.csv\n"
     ]
    },
    {
     "name": "stderr",
     "output_type": "stream",
     "text": [
      "c:\\Users\\user\\Desktop\\GaitLab\\GaitEnv\\Lib\\site-packages\\google\\protobuf\\symbol_database.py:55: UserWarning: SymbolDatabase.GetPrototype() is deprecated. Please use message_factory.GetMessageClass() instead. SymbolDatabase.GetPrototype() will be removed soon.\n",
      "  warnings.warn('SymbolDatabase.GetPrototype() is deprecated. Please '\n",
      " 25%|██▌       | 15/60 [02:07<06:46,  9.04s/it]"
     ]
    },
    {
     "name": "stdout",
     "output_type": "stream",
     "text": [
      "Saved: keypoints_csv\\008_NM_01_Normal.csv\n"
     ]
    },
    {
     "name": "stderr",
     "output_type": "stream",
     "text": [
      "c:\\Users\\user\\Desktop\\GaitLab\\GaitEnv\\Lib\\site-packages\\google\\protobuf\\symbol_database.py:55: UserWarning: SymbolDatabase.GetPrototype() is deprecated. Please use message_factory.GetMessageClass() instead. SymbolDatabase.GetPrototype() will be removed soon.\n",
      "  warnings.warn('SymbolDatabase.GetPrototype() is deprecated. Please '\n",
      " 27%|██▋       | 16/60 [02:20<07:31, 10.27s/it]"
     ]
    },
    {
     "name": "stdout",
     "output_type": "stream",
     "text": [
      "Saved: keypoints_csv\\008_NM_02_Normal.csv\n"
     ]
    },
    {
     "name": "stderr",
     "output_type": "stream",
     "text": [
      "c:\\Users\\user\\Desktop\\GaitLab\\GaitEnv\\Lib\\site-packages\\google\\protobuf\\symbol_database.py:55: UserWarning: SymbolDatabase.GetPrototype() is deprecated. Please use message_factory.GetMessageClass() instead. SymbolDatabase.GetPrototype() will be removed soon.\n",
      "  warnings.warn('SymbolDatabase.GetPrototype() is deprecated. Please '\n",
      " 28%|██▊       | 17/60 [02:27<06:29,  9.07s/it]"
     ]
    },
    {
     "name": "stdout",
     "output_type": "stream",
     "text": [
      "Saved: keypoints_csv\\009_NM_01_Normal.csv\n"
     ]
    },
    {
     "name": "stderr",
     "output_type": "stream",
     "text": [
      "c:\\Users\\user\\Desktop\\GaitLab\\GaitEnv\\Lib\\site-packages\\google\\protobuf\\symbol_database.py:55: UserWarning: SymbolDatabase.GetPrototype() is deprecated. Please use message_factory.GetMessageClass() instead. SymbolDatabase.GetPrototype() will be removed soon.\n",
      "  warnings.warn('SymbolDatabase.GetPrototype() is deprecated. Please '\n",
      " 30%|███       | 18/60 [02:33<05:49,  8.33s/it]"
     ]
    },
    {
     "name": "stdout",
     "output_type": "stream",
     "text": [
      "Saved: keypoints_csv\\009_NM_02_Normal.csv\n"
     ]
    },
    {
     "name": "stderr",
     "output_type": "stream",
     "text": [
      "c:\\Users\\user\\Desktop\\GaitLab\\GaitEnv\\Lib\\site-packages\\google\\protobuf\\symbol_database.py:55: UserWarning: SymbolDatabase.GetPrototype() is deprecated. Please use message_factory.GetMessageClass() instead. SymbolDatabase.GetPrototype() will be removed soon.\n",
      "  warnings.warn('SymbolDatabase.GetPrototype() is deprecated. Please '\n",
      " 32%|███▏      | 19/60 [02:45<06:27,  9.45s/it]"
     ]
    },
    {
     "name": "stdout",
     "output_type": "stream",
     "text": [
      "Saved: keypoints_csv\\010_NM_01_Normal.csv\n"
     ]
    },
    {
     "name": "stderr",
     "output_type": "stream",
     "text": [
      "c:\\Users\\user\\Desktop\\GaitLab\\GaitEnv\\Lib\\site-packages\\google\\protobuf\\symbol_database.py:55: UserWarning: SymbolDatabase.GetPrototype() is deprecated. Please use message_factory.GetMessageClass() instead. SymbolDatabase.GetPrototype() will be removed soon.\n",
      "  warnings.warn('SymbolDatabase.GetPrototype() is deprecated. Please '\n",
      " 33%|███▎      | 20/60 [02:57<06:41, 10.03s/it]"
     ]
    },
    {
     "name": "stdout",
     "output_type": "stream",
     "text": [
      "Saved: keypoints_csv\\010_NM_02_Normal.csv\n"
     ]
    },
    {
     "name": "stderr",
     "output_type": "stream",
     "text": [
      "c:\\Users\\user\\Desktop\\GaitLab\\GaitEnv\\Lib\\site-packages\\google\\protobuf\\symbol_database.py:55: UserWarning: SymbolDatabase.GetPrototype() is deprecated. Please use message_factory.GetMessageClass() instead. SymbolDatabase.GetPrototype() will be removed soon.\n",
      "  warnings.warn('SymbolDatabase.GetPrototype() is deprecated. Please '\n",
      " 35%|███▌      | 21/60 [03:06<06:17,  9.67s/it]"
     ]
    },
    {
     "name": "stdout",
     "output_type": "stream",
     "text": [
      "Saved: keypoints_csv\\011_NM_01_Normal.csv\n"
     ]
    },
    {
     "name": "stderr",
     "output_type": "stream",
     "text": [
      "c:\\Users\\user\\Desktop\\GaitLab\\GaitEnv\\Lib\\site-packages\\google\\protobuf\\symbol_database.py:55: UserWarning: SymbolDatabase.GetPrototype() is deprecated. Please use message_factory.GetMessageClass() instead. SymbolDatabase.GetPrototype() will be removed soon.\n",
      "  warnings.warn('SymbolDatabase.GetPrototype() is deprecated. Please '\n",
      " 37%|███▋      | 22/60 [03:13<05:40,  8.97s/it]"
     ]
    },
    {
     "name": "stdout",
     "output_type": "stream",
     "text": [
      "Saved: keypoints_csv\\011_NM_02_Normal.csv\n"
     ]
    },
    {
     "name": "stderr",
     "output_type": "stream",
     "text": [
      "c:\\Users\\user\\Desktop\\GaitLab\\GaitEnv\\Lib\\site-packages\\google\\protobuf\\symbol_database.py:55: UserWarning: SymbolDatabase.GetPrototype() is deprecated. Please use message_factory.GetMessageClass() instead. SymbolDatabase.GetPrototype() will be removed soon.\n",
      "  warnings.warn('SymbolDatabase.GetPrototype() is deprecated. Please '\n",
      " 38%|███▊      | 23/60 [03:19<04:56,  8.01s/it]"
     ]
    },
    {
     "name": "stdout",
     "output_type": "stream",
     "text": [
      "Saved: keypoints_csv\\012_NM_01_Normal.csv\n"
     ]
    },
    {
     "name": "stderr",
     "output_type": "stream",
     "text": [
      "c:\\Users\\user\\Desktop\\GaitLab\\GaitEnv\\Lib\\site-packages\\google\\protobuf\\symbol_database.py:55: UserWarning: SymbolDatabase.GetPrototype() is deprecated. Please use message_factory.GetMessageClass() instead. SymbolDatabase.GetPrototype() will be removed soon.\n",
      "  warnings.warn('SymbolDatabase.GetPrototype() is deprecated. Please '\n",
      " 40%|████      | 24/60 [03:25<04:33,  7.60s/it]"
     ]
    },
    {
     "name": "stdout",
     "output_type": "stream",
     "text": [
      "Saved: keypoints_csv\\012_NM_02_Normal.csv\n"
     ]
    },
    {
     "name": "stderr",
     "output_type": "stream",
     "text": [
      "c:\\Users\\user\\Desktop\\GaitLab\\GaitEnv\\Lib\\site-packages\\google\\protobuf\\symbol_database.py:55: UserWarning: SymbolDatabase.GetPrototype() is deprecated. Please use message_factory.GetMessageClass() instead. SymbolDatabase.GetPrototype() will be removed soon.\n",
      "  warnings.warn('SymbolDatabase.GetPrototype() is deprecated. Please '\n",
      " 42%|████▏     | 25/60 [03:31<04:02,  6.92s/it]"
     ]
    },
    {
     "name": "stdout",
     "output_type": "stream",
     "text": [
      "Saved: keypoints_csv\\013_NM_01_Normal.csv\n"
     ]
    },
    {
     "name": "stderr",
     "output_type": "stream",
     "text": [
      "c:\\Users\\user\\Desktop\\GaitLab\\GaitEnv\\Lib\\site-packages\\google\\protobuf\\symbol_database.py:55: UserWarning: SymbolDatabase.GetPrototype() is deprecated. Please use message_factory.GetMessageClass() instead. SymbolDatabase.GetPrototype() will be removed soon.\n",
      "  warnings.warn('SymbolDatabase.GetPrototype() is deprecated. Please '\n",
      " 43%|████▎     | 26/60 [03:37<03:53,  6.87s/it]"
     ]
    },
    {
     "name": "stdout",
     "output_type": "stream",
     "text": [
      "Saved: keypoints_csv\\013_NM_02_Normal.csv\n"
     ]
    },
    {
     "name": "stderr",
     "output_type": "stream",
     "text": [
      "c:\\Users\\user\\Desktop\\GaitLab\\GaitEnv\\Lib\\site-packages\\google\\protobuf\\symbol_database.py:55: UserWarning: SymbolDatabase.GetPrototype() is deprecated. Please use message_factory.GetMessageClass() instead. SymbolDatabase.GetPrototype() will be removed soon.\n",
      "  warnings.warn('SymbolDatabase.GetPrototype() is deprecated. Please '\n",
      " 45%|████▌     | 27/60 [03:44<03:45,  6.83s/it]"
     ]
    },
    {
     "name": "stdout",
     "output_type": "stream",
     "text": [
      "Saved: keypoints_csv\\014_NM_01_Normal.csv\n"
     ]
    },
    {
     "name": "stderr",
     "output_type": "stream",
     "text": [
      "c:\\Users\\user\\Desktop\\GaitLab\\GaitEnv\\Lib\\site-packages\\google\\protobuf\\symbol_database.py:55: UserWarning: SymbolDatabase.GetPrototype() is deprecated. Please use message_factory.GetMessageClass() instead. SymbolDatabase.GetPrototype() will be removed soon.\n",
      "  warnings.warn('SymbolDatabase.GetPrototype() is deprecated. Please '\n",
      " 47%|████▋     | 28/60 [03:52<03:44,  7.03s/it]"
     ]
    },
    {
     "name": "stdout",
     "output_type": "stream",
     "text": [
      "Saved: keypoints_csv\\014_NM_02_Normal.csv\n"
     ]
    },
    {
     "name": "stderr",
     "output_type": "stream",
     "text": [
      "c:\\Users\\user\\Desktop\\GaitLab\\GaitEnv\\Lib\\site-packages\\google\\protobuf\\symbol_database.py:55: UserWarning: SymbolDatabase.GetPrototype() is deprecated. Please use message_factory.GetMessageClass() instead. SymbolDatabase.GetPrototype() will be removed soon.\n",
      "  warnings.warn('SymbolDatabase.GetPrototype() is deprecated. Please '\n",
      " 48%|████▊     | 29/60 [03:57<03:24,  6.60s/it]"
     ]
    },
    {
     "name": "stdout",
     "output_type": "stream",
     "text": [
      "Saved: keypoints_csv\\015_NM_01_Normal.csv\n"
     ]
    },
    {
     "name": "stderr",
     "output_type": "stream",
     "text": [
      " 50%|█████     | 30/60 [03:58<02:24,  4.82s/it]c:\\Users\\user\\Desktop\\GaitLab\\GaitEnv\\Lib\\site-packages\\google\\protobuf\\symbol_database.py:55: UserWarning: SymbolDatabase.GetPrototype() is deprecated. Please use message_factory.GetMessageClass() instead. SymbolDatabase.GetPrototype() will be removed soon.\n",
      "  warnings.warn('SymbolDatabase.GetPrototype() is deprecated. Please '\n",
      " 52%|█████▏    | 31/60 [04:03<02:26,  5.04s/it]"
     ]
    },
    {
     "name": "stdout",
     "output_type": "stream",
     "text": [
      "Saved: keypoints_csv\\016_NM_01_Normal.csv\n"
     ]
    },
    {
     "name": "stderr",
     "output_type": "stream",
     "text": [
      "c:\\Users\\user\\Desktop\\GaitLab\\GaitEnv\\Lib\\site-packages\\google\\protobuf\\symbol_database.py:55: UserWarning: SymbolDatabase.GetPrototype() is deprecated. Please use message_factory.GetMessageClass() instead. SymbolDatabase.GetPrototype() will be removed soon.\n",
      "  warnings.warn('SymbolDatabase.GetPrototype() is deprecated. Please '\n",
      " 53%|█████▎    | 32/60 [04:10<02:33,  5.47s/it]"
     ]
    },
    {
     "name": "stdout",
     "output_type": "stream",
     "text": [
      "Saved: keypoints_csv\\016_NM_02_Normal.csv\n"
     ]
    },
    {
     "name": "stderr",
     "output_type": "stream",
     "text": [
      "c:\\Users\\user\\Desktop\\GaitLab\\GaitEnv\\Lib\\site-packages\\google\\protobuf\\symbol_database.py:55: UserWarning: SymbolDatabase.GetPrototype() is deprecated. Please use message_factory.GetMessageClass() instead. SymbolDatabase.GetPrototype() will be removed soon.\n",
      "  warnings.warn('SymbolDatabase.GetPrototype() is deprecated. Please '\n",
      " 55%|█████▌    | 33/60 [04:16<02:34,  5.71s/it]"
     ]
    },
    {
     "name": "stdout",
     "output_type": "stream",
     "text": [
      "Saved: keypoints_csv\\017_NM_01_Normal.csv\n"
     ]
    },
    {
     "name": "stderr",
     "output_type": "stream",
     "text": [
      "c:\\Users\\user\\Desktop\\GaitLab\\GaitEnv\\Lib\\site-packages\\google\\protobuf\\symbol_database.py:55: UserWarning: SymbolDatabase.GetPrototype() is deprecated. Please use message_factory.GetMessageClass() instead. SymbolDatabase.GetPrototype() will be removed soon.\n",
      "  warnings.warn('SymbolDatabase.GetPrototype() is deprecated. Please '\n",
      " 57%|█████▋    | 34/60 [04:24<02:41,  6.22s/it]"
     ]
    },
    {
     "name": "stdout",
     "output_type": "stream",
     "text": [
      "Saved: keypoints_csv\\017_NM_02_Normal.csv\n"
     ]
    },
    {
     "name": "stderr",
     "output_type": "stream",
     "text": [
      "c:\\Users\\user\\Desktop\\GaitLab\\GaitEnv\\Lib\\site-packages\\google\\protobuf\\symbol_database.py:55: UserWarning: SymbolDatabase.GetPrototype() is deprecated. Please use message_factory.GetMessageClass() instead. SymbolDatabase.GetPrototype() will be removed soon.\n",
      "  warnings.warn('SymbolDatabase.GetPrototype() is deprecated. Please '\n",
      " 58%|█████▊    | 35/60 [04:33<02:58,  7.13s/it]"
     ]
    },
    {
     "name": "stdout",
     "output_type": "stream",
     "text": [
      "Saved: keypoints_csv\\018_NM_01_Normal.csv\n"
     ]
    },
    {
     "name": "stderr",
     "output_type": "stream",
     "text": [
      "c:\\Users\\user\\Desktop\\GaitLab\\GaitEnv\\Lib\\site-packages\\google\\protobuf\\symbol_database.py:55: UserWarning: SymbolDatabase.GetPrototype() is deprecated. Please use message_factory.GetMessageClass() instead. SymbolDatabase.GetPrototype() will be removed soon.\n",
      "  warnings.warn('SymbolDatabase.GetPrototype() is deprecated. Please '\n",
      " 60%|██████    | 36/60 [04:44<03:19,  8.30s/it]"
     ]
    },
    {
     "name": "stdout",
     "output_type": "stream",
     "text": [
      "Saved: keypoints_csv\\018_NM_02_Normal.csv\n"
     ]
    },
    {
     "name": "stderr",
     "output_type": "stream",
     "text": [
      "c:\\Users\\user\\Desktop\\GaitLab\\GaitEnv\\Lib\\site-packages\\google\\protobuf\\symbol_database.py:55: UserWarning: SymbolDatabase.GetPrototype() is deprecated. Please use message_factory.GetMessageClass() instead. SymbolDatabase.GetPrototype() will be removed soon.\n",
      "  warnings.warn('SymbolDatabase.GetPrototype() is deprecated. Please '\n",
      " 62%|██████▏   | 37/60 [04:51<03:05,  8.07s/it]"
     ]
    },
    {
     "name": "stdout",
     "output_type": "stream",
     "text": [
      "Saved: keypoints_csv\\019_NM_01_Normal.csv\n"
     ]
    },
    {
     "name": "stderr",
     "output_type": "stream",
     "text": [
      "c:\\Users\\user\\Desktop\\GaitLab\\GaitEnv\\Lib\\site-packages\\google\\protobuf\\symbol_database.py:55: UserWarning: SymbolDatabase.GetPrototype() is deprecated. Please use message_factory.GetMessageClass() instead. SymbolDatabase.GetPrototype() will be removed soon.\n",
      "  warnings.warn('SymbolDatabase.GetPrototype() is deprecated. Please '\n",
      " 63%|██████▎   | 38/60 [04:58<02:47,  7.63s/it]"
     ]
    },
    {
     "name": "stdout",
     "output_type": "stream",
     "text": [
      "Saved: keypoints_csv\\019_NM_02_Normal.csv\n"
     ]
    },
    {
     "name": "stderr",
     "output_type": "stream",
     "text": [
      "c:\\Users\\user\\Desktop\\GaitLab\\GaitEnv\\Lib\\site-packages\\google\\protobuf\\symbol_database.py:55: UserWarning: SymbolDatabase.GetPrototype() is deprecated. Please use message_factory.GetMessageClass() instead. SymbolDatabase.GetPrototype() will be removed soon.\n",
      "  warnings.warn('SymbolDatabase.GetPrototype() is deprecated. Please '\n",
      " 65%|██████▌   | 39/60 [05:04<02:29,  7.10s/it]"
     ]
    },
    {
     "name": "stdout",
     "output_type": "stream",
     "text": [
      "Saved: keypoints_csv\\020_NM_01_Normal.csv\n"
     ]
    },
    {
     "name": "stderr",
     "output_type": "stream",
     "text": [
      "c:\\Users\\user\\Desktop\\GaitLab\\GaitEnv\\Lib\\site-packages\\google\\protobuf\\symbol_database.py:55: UserWarning: SymbolDatabase.GetPrototype() is deprecated. Please use message_factory.GetMessageClass() instead. SymbolDatabase.GetPrototype() will be removed soon.\n",
      "  warnings.warn('SymbolDatabase.GetPrototype() is deprecated. Please '\n",
      " 67%|██████▋   | 40/60 [05:12<02:30,  7.51s/it]"
     ]
    },
    {
     "name": "stdout",
     "output_type": "stream",
     "text": [
      "Saved: keypoints_csv\\020_NM_02_Normal.csv\n"
     ]
    },
    {
     "name": "stderr",
     "output_type": "stream",
     "text": [
      "c:\\Users\\user\\Desktop\\GaitLab\\GaitEnv\\Lib\\site-packages\\google\\protobuf\\symbol_database.py:55: UserWarning: SymbolDatabase.GetPrototype() is deprecated. Please use message_factory.GetMessageClass() instead. SymbolDatabase.GetPrototype() will be removed soon.\n",
      "  warnings.warn('SymbolDatabase.GetPrototype() is deprecated. Please '\n",
      " 68%|██████▊   | 41/60 [05:19<02:16,  7.18s/it]"
     ]
    },
    {
     "name": "stdout",
     "output_type": "stream",
     "text": [
      "Saved: keypoints_csv\\021_NM_01_Normal.csv\n"
     ]
    },
    {
     "name": "stderr",
     "output_type": "stream",
     "text": [
      "c:\\Users\\user\\Desktop\\GaitLab\\GaitEnv\\Lib\\site-packages\\google\\protobuf\\symbol_database.py:55: UserWarning: SymbolDatabase.GetPrototype() is deprecated. Please use message_factory.GetMessageClass() instead. SymbolDatabase.GetPrototype() will be removed soon.\n",
      "  warnings.warn('SymbolDatabase.GetPrototype() is deprecated. Please '\n",
      " 70%|███████   | 42/60 [05:25<02:02,  6.83s/it]"
     ]
    },
    {
     "name": "stdout",
     "output_type": "stream",
     "text": [
      "Saved: keypoints_csv\\021_NM_02_Normal.csv\n"
     ]
    },
    {
     "name": "stderr",
     "output_type": "stream",
     "text": [
      "c:\\Users\\user\\Desktop\\GaitLab\\GaitEnv\\Lib\\site-packages\\google\\protobuf\\symbol_database.py:55: UserWarning: SymbolDatabase.GetPrototype() is deprecated. Please use message_factory.GetMessageClass() instead. SymbolDatabase.GetPrototype() will be removed soon.\n",
      "  warnings.warn('SymbolDatabase.GetPrototype() is deprecated. Please '\n",
      " 72%|███████▏  | 43/60 [07:56<14:11, 50.09s/it]"
     ]
    },
    {
     "name": "stdout",
     "output_type": "stream",
     "text": [
      "Saved: keypoints_csv\\022_NM_01_Normal.csv\n"
     ]
    },
    {
     "name": "stderr",
     "output_type": "stream",
     "text": [
      "c:\\Users\\user\\Desktop\\GaitLab\\GaitEnv\\Lib\\site-packages\\google\\protobuf\\symbol_database.py:55: UserWarning: SymbolDatabase.GetPrototype() is deprecated. Please use message_factory.GetMessageClass() instead. SymbolDatabase.GetPrototype() will be removed soon.\n",
      "  warnings.warn('SymbolDatabase.GetPrototype() is deprecated. Please '\n",
      " 73%|███████▎  | 44/60 [08:07<10:13, 38.31s/it]"
     ]
    },
    {
     "name": "stdout",
     "output_type": "stream",
     "text": [
      "Saved: keypoints_csv\\022_NM_02_Normal.csv\n"
     ]
    },
    {
     "name": "stderr",
     "output_type": "stream",
     "text": [
      "c:\\Users\\user\\Desktop\\GaitLab\\GaitEnv\\Lib\\site-packages\\google\\protobuf\\symbol_database.py:55: UserWarning: SymbolDatabase.GetPrototype() is deprecated. Please use message_factory.GetMessageClass() instead. SymbolDatabase.GetPrototype() will be removed soon.\n",
      "  warnings.warn('SymbolDatabase.GetPrototype() is deprecated. Please '\n",
      " 75%|███████▌  | 45/60 [08:20<07:42, 30.84s/it]"
     ]
    },
    {
     "name": "stdout",
     "output_type": "stream",
     "text": [
      "Saved: keypoints_csv\\023_NM_01_Normal.csv\n"
     ]
    },
    {
     "name": "stderr",
     "output_type": "stream",
     "text": [
      "c:\\Users\\user\\Desktop\\GaitLab\\GaitEnv\\Lib\\site-packages\\google\\protobuf\\symbol_database.py:55: UserWarning: SymbolDatabase.GetPrototype() is deprecated. Please use message_factory.GetMessageClass() instead. SymbolDatabase.GetPrototype() will be removed soon.\n",
      "  warnings.warn('SymbolDatabase.GetPrototype() is deprecated. Please '\n",
      " 77%|███████▋  | 46/60 [08:31<05:48, 24.89s/it]"
     ]
    },
    {
     "name": "stdout",
     "output_type": "stream",
     "text": [
      "Saved: keypoints_csv\\023_NM_02_Normal.csv\n"
     ]
    },
    {
     "name": "stderr",
     "output_type": "stream",
     "text": [
      "c:\\Users\\user\\Desktop\\GaitLab\\GaitEnv\\Lib\\site-packages\\google\\protobuf\\symbol_database.py:55: UserWarning: SymbolDatabase.GetPrototype() is deprecated. Please use message_factory.GetMessageClass() instead. SymbolDatabase.GetPrototype() will be removed soon.\n",
      "  warnings.warn('SymbolDatabase.GetPrototype() is deprecated. Please '\n",
      " 78%|███████▊  | 47/60 [08:42<04:30, 20.80s/it]"
     ]
    },
    {
     "name": "stdout",
     "output_type": "stream",
     "text": [
      "Saved: keypoints_csv\\024_NM_01_Normal.csv\n"
     ]
    },
    {
     "name": "stderr",
     "output_type": "stream",
     "text": [
      "c:\\Users\\user\\Desktop\\GaitLab\\GaitEnv\\Lib\\site-packages\\google\\protobuf\\symbol_database.py:55: UserWarning: SymbolDatabase.GetPrototype() is deprecated. Please use message_factory.GetMessageClass() instead. SymbolDatabase.GetPrototype() will be removed soon.\n",
      "  warnings.warn('SymbolDatabase.GetPrototype() is deprecated. Please '\n",
      " 80%|████████  | 48/60 [08:54<03:36, 18.05s/it]"
     ]
    },
    {
     "name": "stdout",
     "output_type": "stream",
     "text": [
      "Saved: keypoints_csv\\024_NM_02_Normal.csv\n"
     ]
    },
    {
     "name": "stderr",
     "output_type": "stream",
     "text": [
      "c:\\Users\\user\\Desktop\\GaitLab\\GaitEnv\\Lib\\site-packages\\google\\protobuf\\symbol_database.py:55: UserWarning: SymbolDatabase.GetPrototype() is deprecated. Please use message_factory.GetMessageClass() instead. SymbolDatabase.GetPrototype() will be removed soon.\n",
      "  warnings.warn('SymbolDatabase.GetPrototype() is deprecated. Please '\n",
      " 82%|████████▏ | 49/60 [09:04<02:52, 15.66s/it]"
     ]
    },
    {
     "name": "stdout",
     "output_type": "stream",
     "text": [
      "Saved: keypoints_csv\\025_NM_01_Normal.csv\n"
     ]
    },
    {
     "name": "stderr",
     "output_type": "stream",
     "text": [
      "c:\\Users\\user\\Desktop\\GaitLab\\GaitEnv\\Lib\\site-packages\\google\\protobuf\\symbol_database.py:55: UserWarning: SymbolDatabase.GetPrototype() is deprecated. Please use message_factory.GetMessageClass() instead. SymbolDatabase.GetPrototype() will be removed soon.\n",
      "  warnings.warn('SymbolDatabase.GetPrototype() is deprecated. Please '\n",
      " 83%|████████▎ | 50/60 [09:13<02:17, 13.76s/it]"
     ]
    },
    {
     "name": "stdout",
     "output_type": "stream",
     "text": [
      "Saved: keypoints_csv\\025_NM_02_Normal.csv\n"
     ]
    },
    {
     "name": "stderr",
     "output_type": "stream",
     "text": [
      "c:\\Users\\user\\Desktop\\GaitLab\\GaitEnv\\Lib\\site-packages\\google\\protobuf\\symbol_database.py:55: UserWarning: SymbolDatabase.GetPrototype() is deprecated. Please use message_factory.GetMessageClass() instead. SymbolDatabase.GetPrototype() will be removed soon.\n",
      "  warnings.warn('SymbolDatabase.GetPrototype() is deprecated. Please '\n",
      " 85%|████████▌ | 51/60 [09:26<01:59, 13.30s/it]"
     ]
    },
    {
     "name": "stdout",
     "output_type": "stream",
     "text": [
      "Saved: keypoints_csv\\026_NM_01_Normal.csv\n"
     ]
    },
    {
     "name": "stderr",
     "output_type": "stream",
     "text": [
      "c:\\Users\\user\\Desktop\\GaitLab\\GaitEnv\\Lib\\site-packages\\google\\protobuf\\symbol_database.py:55: UserWarning: SymbolDatabase.GetPrototype() is deprecated. Please use message_factory.GetMessageClass() instead. SymbolDatabase.GetPrototype() will be removed soon.\n",
      "  warnings.warn('SymbolDatabase.GetPrototype() is deprecated. Please '\n",
      " 87%|████████▋ | 52/60 [09:36<01:38, 12.32s/it]"
     ]
    },
    {
     "name": "stdout",
     "output_type": "stream",
     "text": [
      "Saved: keypoints_csv\\026_NM_02_Normal.csv\n"
     ]
    },
    {
     "name": "stderr",
     "output_type": "stream",
     "text": [
      "c:\\Users\\user\\Desktop\\GaitLab\\GaitEnv\\Lib\\site-packages\\google\\protobuf\\symbol_database.py:55: UserWarning: SymbolDatabase.GetPrototype() is deprecated. Please use message_factory.GetMessageClass() instead. SymbolDatabase.GetPrototype() will be removed soon.\n",
      "  warnings.warn('SymbolDatabase.GetPrototype() is deprecated. Please '\n",
      " 88%|████████▊ | 53/60 [09:46<01:21, 11.67s/it]"
     ]
    },
    {
     "name": "stdout",
     "output_type": "stream",
     "text": [
      "Saved: keypoints_csv\\027_NM_01_Normal.csv\n"
     ]
    },
    {
     "name": "stderr",
     "output_type": "stream",
     "text": [
      "c:\\Users\\user\\Desktop\\GaitLab\\GaitEnv\\Lib\\site-packages\\google\\protobuf\\symbol_database.py:55: UserWarning: SymbolDatabase.GetPrototype() is deprecated. Please use message_factory.GetMessageClass() instead. SymbolDatabase.GetPrototype() will be removed soon.\n",
      "  warnings.warn('SymbolDatabase.GetPrototype() is deprecated. Please '\n",
      " 90%|█████████ | 54/60 [09:56<01:07, 11.25s/it]"
     ]
    },
    {
     "name": "stdout",
     "output_type": "stream",
     "text": [
      "Saved: keypoints_csv\\027_NM_02_Normal.csv\n"
     ]
    },
    {
     "name": "stderr",
     "output_type": "stream",
     "text": [
      "c:\\Users\\user\\Desktop\\GaitLab\\GaitEnv\\Lib\\site-packages\\google\\protobuf\\symbol_database.py:55: UserWarning: SymbolDatabase.GetPrototype() is deprecated. Please use message_factory.GetMessageClass() instead. SymbolDatabase.GetPrototype() will be removed soon.\n",
      "  warnings.warn('SymbolDatabase.GetPrototype() is deprecated. Please '\n",
      " 92%|█████████▏| 55/60 [10:05<00:53, 10.63s/it]"
     ]
    },
    {
     "name": "stdout",
     "output_type": "stream",
     "text": [
      "Saved: keypoints_csv\\028_NM_01_Normal.csv\n"
     ]
    },
    {
     "name": "stderr",
     "output_type": "stream",
     "text": [
      "c:\\Users\\user\\Desktop\\GaitLab\\GaitEnv\\Lib\\site-packages\\google\\protobuf\\symbol_database.py:55: UserWarning: SymbolDatabase.GetPrototype() is deprecated. Please use message_factory.GetMessageClass() instead. SymbolDatabase.GetPrototype() will be removed soon.\n",
      "  warnings.warn('SymbolDatabase.GetPrototype() is deprecated. Please '\n",
      " 93%|█████████▎| 56/60 [10:13<00:39,  9.82s/it]"
     ]
    },
    {
     "name": "stdout",
     "output_type": "stream",
     "text": [
      "Saved: keypoints_csv\\028_NM_02_Normal.csv\n"
     ]
    },
    {
     "name": "stderr",
     "output_type": "stream",
     "text": [
      "c:\\Users\\user\\Desktop\\GaitLab\\GaitEnv\\Lib\\site-packages\\google\\protobuf\\symbol_database.py:55: UserWarning: SymbolDatabase.GetPrototype() is deprecated. Please use message_factory.GetMessageClass() instead. SymbolDatabase.GetPrototype() will be removed soon.\n",
      "  warnings.warn('SymbolDatabase.GetPrototype() is deprecated. Please '\n",
      " 95%|█████████▌| 57/60 [10:24<00:30, 10.03s/it]"
     ]
    },
    {
     "name": "stdout",
     "output_type": "stream",
     "text": [
      "Saved: keypoints_csv\\029_NM_01_Normal.csv\n"
     ]
    },
    {
     "name": "stderr",
     "output_type": "stream",
     "text": [
      "c:\\Users\\user\\Desktop\\GaitLab\\GaitEnv\\Lib\\site-packages\\google\\protobuf\\symbol_database.py:55: UserWarning: SymbolDatabase.GetPrototype() is deprecated. Please use message_factory.GetMessageClass() instead. SymbolDatabase.GetPrototype() will be removed soon.\n",
      "  warnings.warn('SymbolDatabase.GetPrototype() is deprecated. Please '\n",
      " 97%|█████████▋| 58/60 [10:33<00:19,  9.89s/it]"
     ]
    },
    {
     "name": "stdout",
     "output_type": "stream",
     "text": [
      "Saved: keypoints_csv\\029_NM_02_Normal.csv\n"
     ]
    },
    {
     "name": "stderr",
     "output_type": "stream",
     "text": [
      "c:\\Users\\user\\Desktop\\GaitLab\\GaitEnv\\Lib\\site-packages\\google\\protobuf\\symbol_database.py:55: UserWarning: SymbolDatabase.GetPrototype() is deprecated. Please use message_factory.GetMessageClass() instead. SymbolDatabase.GetPrototype() will be removed soon.\n",
      "  warnings.warn('SymbolDatabase.GetPrototype() is deprecated. Please '\n",
      " 98%|█████████▊| 59/60 [10:42<00:09,  9.66s/it]"
     ]
    },
    {
     "name": "stdout",
     "output_type": "stream",
     "text": [
      "Saved: keypoints_csv\\030_NM_01_Normal.csv\n"
     ]
    },
    {
     "name": "stderr",
     "output_type": "stream",
     "text": [
      "c:\\Users\\user\\Desktop\\GaitLab\\GaitEnv\\Lib\\site-packages\\google\\protobuf\\symbol_database.py:55: UserWarning: SymbolDatabase.GetPrototype() is deprecated. Please use message_factory.GetMessageClass() instead. SymbolDatabase.GetPrototype() will be removed soon.\n",
      "  warnings.warn('SymbolDatabase.GetPrototype() is deprecated. Please '\n",
      "100%|██████████| 60/60 [10:52<00:00, 10.87s/it]\n"
     ]
    },
    {
     "name": "stdout",
     "output_type": "stream",
     "text": [
      "Saved: keypoints_csv\\030_NM_02_Normal.csv\n"
     ]
    },
    {
     "name": "stderr",
     "output_type": "stream",
     "text": [
      "0it [00:00, ?it/s]\n",
      "  0%|          | 0/14 [00:00<?, ?it/s]c:\\Users\\user\\Desktop\\GaitLab\\GaitEnv\\Lib\\site-packages\\google\\protobuf\\symbol_database.py:55: UserWarning: SymbolDatabase.GetPrototype() is deprecated. Please use message_factory.GetMessageClass() instead. SymbolDatabase.GetPrototype() will be removed soon.\n",
      "  warnings.warn('SymbolDatabase.GetPrototype() is deprecated. Please '\n",
      "  7%|▋         | 1/14 [00:36<07:55, 36.56s/it]"
     ]
    },
    {
     "name": "stdout",
     "output_type": "stream",
     "text": [
      "Saved: keypoints_csv\\001_PD_01_MD_PD_Early.csv\n"
     ]
    },
    {
     "name": "stderr",
     "output_type": "stream",
     "text": [
      "c:\\Users\\user\\Desktop\\GaitLab\\GaitEnv\\Lib\\site-packages\\google\\protobuf\\symbol_database.py:55: UserWarning: SymbolDatabase.GetPrototype() is deprecated. Please use message_factory.GetMessageClass() instead. SymbolDatabase.GetPrototype() will be removed soon.\n",
      "  warnings.warn('SymbolDatabase.GetPrototype() is deprecated. Please '\n",
      " 14%|█▍        | 2/14 [01:10<07:03, 35.27s/it]"
     ]
    },
    {
     "name": "stdout",
     "output_type": "stream",
     "text": [
      "Saved: keypoints_csv\\001_PD_02_MD_PD_Early.csv\n"
     ]
    },
    {
     "name": "stderr",
     "output_type": "stream",
     "text": [
      "c:\\Users\\user\\Desktop\\GaitLab\\GaitEnv\\Lib\\site-packages\\google\\protobuf\\symbol_database.py:55: UserWarning: SymbolDatabase.GetPrototype() is deprecated. Please use message_factory.GetMessageClass() instead. SymbolDatabase.GetPrototype() will be removed soon.\n",
      "  warnings.warn('SymbolDatabase.GetPrototype() is deprecated. Please '\n",
      " 21%|██▏       | 3/14 [01:59<07:34, 41.30s/it]"
     ]
    },
    {
     "name": "stdout",
     "output_type": "stream",
     "text": [
      "Saved: keypoints_csv\\002_PD_01_MD_PD_Early.csv\n"
     ]
    },
    {
     "name": "stderr",
     "output_type": "stream",
     "text": [
      "c:\\Users\\user\\Desktop\\GaitLab\\GaitEnv\\Lib\\site-packages\\google\\protobuf\\symbol_database.py:55: UserWarning: SymbolDatabase.GetPrototype() is deprecated. Please use message_factory.GetMessageClass() instead. SymbolDatabase.GetPrototype() will be removed soon.\n",
      "  warnings.warn('SymbolDatabase.GetPrototype() is deprecated. Please '\n",
      " 29%|██▊       | 4/14 [02:38<06:42, 40.24s/it]"
     ]
    },
    {
     "name": "stdout",
     "output_type": "stream",
     "text": [
      "Saved: keypoints_csv\\002_PD_02_MD_PD_Early.csv\n"
     ]
    },
    {
     "name": "stderr",
     "output_type": "stream",
     "text": [
      "c:\\Users\\user\\Desktop\\GaitLab\\GaitEnv\\Lib\\site-packages\\google\\protobuf\\symbol_database.py:55: UserWarning: SymbolDatabase.GetPrototype() is deprecated. Please use message_factory.GetMessageClass() instead. SymbolDatabase.GetPrototype() will be removed soon.\n",
      "  warnings.warn('SymbolDatabase.GetPrototype() is deprecated. Please '\n",
      " 36%|███▌      | 5/14 [03:07<05:26, 36.31s/it]"
     ]
    },
    {
     "name": "stdout",
     "output_type": "stream",
     "text": [
      "Saved: keypoints_csv\\003_PD_01_MD_PD_Early.csv\n"
     ]
    },
    {
     "name": "stderr",
     "output_type": "stream",
     "text": [
      "c:\\Users\\user\\Desktop\\GaitLab\\GaitEnv\\Lib\\site-packages\\google\\protobuf\\symbol_database.py:55: UserWarning: SymbolDatabase.GetPrototype() is deprecated. Please use message_factory.GetMessageClass() instead. SymbolDatabase.GetPrototype() will be removed soon.\n",
      "  warnings.warn('SymbolDatabase.GetPrototype() is deprecated. Please '\n",
      " 43%|████▎     | 6/14 [03:34<04:25, 33.25s/it]"
     ]
    },
    {
     "name": "stdout",
     "output_type": "stream",
     "text": [
      "Saved: keypoints_csv\\003_PD_02_MD_PD_Early.csv\n"
     ]
    },
    {
     "name": "stderr",
     "output_type": "stream",
     "text": [
      "c:\\Users\\user\\Desktop\\GaitLab\\GaitEnv\\Lib\\site-packages\\google\\protobuf\\symbol_database.py:55: UserWarning: SymbolDatabase.GetPrototype() is deprecated. Please use message_factory.GetMessageClass() instead. SymbolDatabase.GetPrototype() will be removed soon.\n",
      "  warnings.warn('SymbolDatabase.GetPrototype() is deprecated. Please '\n",
      " 50%|█████     | 7/14 [04:04<03:45, 32.21s/it]"
     ]
    },
    {
     "name": "stdout",
     "output_type": "stream",
     "text": [
      "Saved: keypoints_csv\\004_PD_01_MD_PD_Early.csv\n"
     ]
    },
    {
     "name": "stderr",
     "output_type": "stream",
     "text": [
      "c:\\Users\\user\\Desktop\\GaitLab\\GaitEnv\\Lib\\site-packages\\google\\protobuf\\symbol_database.py:55: UserWarning: SymbolDatabase.GetPrototype() is deprecated. Please use message_factory.GetMessageClass() instead. SymbolDatabase.GetPrototype() will be removed soon.\n",
      "  warnings.warn('SymbolDatabase.GetPrototype() is deprecated. Please '\n",
      " 57%|█████▋    | 8/14 [04:31<03:03, 30.53s/it]"
     ]
    },
    {
     "name": "stdout",
     "output_type": "stream",
     "text": [
      "Saved: keypoints_csv\\004_PD_02_MD_PD_Early.csv\n"
     ]
    },
    {
     "name": "stderr",
     "output_type": "stream",
     "text": [
      "c:\\Users\\user\\Desktop\\GaitLab\\GaitEnv\\Lib\\site-packages\\google\\protobuf\\symbol_database.py:55: UserWarning: SymbolDatabase.GetPrototype() is deprecated. Please use message_factory.GetMessageClass() instead. SymbolDatabase.GetPrototype() will be removed soon.\n",
      "  warnings.warn('SymbolDatabase.GetPrototype() is deprecated. Please '\n",
      " 64%|██████▍   | 9/14 [05:45<03:40, 44.11s/it]"
     ]
    },
    {
     "name": "stdout",
     "output_type": "stream",
     "text": [
      "Saved: keypoints_csv\\005_PD_01_MD_PD_Early.csv\n"
     ]
    },
    {
     "name": "stderr",
     "output_type": "stream",
     "text": [
      "c:\\Users\\user\\Desktop\\GaitLab\\GaitEnv\\Lib\\site-packages\\google\\protobuf\\symbol_database.py:55: UserWarning: SymbolDatabase.GetPrototype() is deprecated. Please use message_factory.GetMessageClass() instead. SymbolDatabase.GetPrototype() will be removed soon.\n",
      "  warnings.warn('SymbolDatabase.GetPrototype() is deprecated. Please '\n",
      " 71%|███████▏  | 10/14 [06:47<03:18, 49.74s/it]"
     ]
    },
    {
     "name": "stdout",
     "output_type": "stream",
     "text": [
      "Saved: keypoints_csv\\005_PD_02_MD_PD_Early.csv\n"
     ]
    },
    {
     "name": "stderr",
     "output_type": "stream",
     "text": [
      "c:\\Users\\user\\Desktop\\GaitLab\\GaitEnv\\Lib\\site-packages\\google\\protobuf\\symbol_database.py:55: UserWarning: SymbolDatabase.GetPrototype() is deprecated. Please use message_factory.GetMessageClass() instead. SymbolDatabase.GetPrototype() will be removed soon.\n",
      "  warnings.warn('SymbolDatabase.GetPrototype() is deprecated. Please '\n",
      " 79%|███████▊  | 11/14 [07:13<02:07, 42.39s/it]"
     ]
    },
    {
     "name": "stdout",
     "output_type": "stream",
     "text": [
      "Saved: keypoints_csv\\006_PD_01_MD_PD_Early.csv\n"
     ]
    },
    {
     "name": "stderr",
     "output_type": "stream",
     "text": [
      "c:\\Users\\user\\Desktop\\GaitLab\\GaitEnv\\Lib\\site-packages\\google\\protobuf\\symbol_database.py:55: UserWarning: SymbolDatabase.GetPrototype() is deprecated. Please use message_factory.GetMessageClass() instead. SymbolDatabase.GetPrototype() will be removed soon.\n",
      "  warnings.warn('SymbolDatabase.GetPrototype() is deprecated. Please '\n",
      " 86%|████████▌ | 12/14 [07:42<01:16, 38.33s/it]"
     ]
    },
    {
     "name": "stdout",
     "output_type": "stream",
     "text": [
      "Saved: keypoints_csv\\006_PD_02_MD_PD_Early.csv\n"
     ]
    },
    {
     "name": "stderr",
     "output_type": "stream",
     "text": [
      "c:\\Users\\user\\Desktop\\GaitLab\\GaitEnv\\Lib\\site-packages\\google\\protobuf\\symbol_database.py:55: UserWarning: SymbolDatabase.GetPrototype() is deprecated. Please use message_factory.GetMessageClass() instead. SymbolDatabase.GetPrototype() will be removed soon.\n",
      "  warnings.warn('SymbolDatabase.GetPrototype() is deprecated. Please '\n",
      " 93%|█████████▎| 13/14 [08:24<00:39, 39.49s/it]"
     ]
    },
    {
     "name": "stdout",
     "output_type": "stream",
     "text": [
      "Saved: keypoints_csv\\007_PD_01_MD_PD_Early.csv\n"
     ]
    },
    {
     "name": "stderr",
     "output_type": "stream",
     "text": [
      "c:\\Users\\user\\Desktop\\GaitLab\\GaitEnv\\Lib\\site-packages\\google\\protobuf\\symbol_database.py:55: UserWarning: SymbolDatabase.GetPrototype() is deprecated. Please use message_factory.GetMessageClass() instead. SymbolDatabase.GetPrototype() will be removed soon.\n",
      "  warnings.warn('SymbolDatabase.GetPrototype() is deprecated. Please '\n",
      "100%|██████████| 14/14 [09:11<00:00, 39.41s/it]\n"
     ]
    },
    {
     "name": "stdout",
     "output_type": "stream",
     "text": [
      "Saved: keypoints_csv\\007_PD_02_MD_PD_Early.csv\n"
     ]
    },
    {
     "name": "stderr",
     "output_type": "stream",
     "text": [
      "  0%|          | 0/12 [00:00<?, ?it/s]c:\\Users\\user\\Desktop\\GaitLab\\GaitEnv\\Lib\\site-packages\\google\\protobuf\\symbol_database.py:55: UserWarning: SymbolDatabase.GetPrototype() is deprecated. Please use message_factory.GetMessageClass() instead. SymbolDatabase.GetPrototype() will be removed soon.\n",
      "  warnings.warn('SymbolDatabase.GetPrototype() is deprecated. Please '\n",
      "  8%|▊         | 1/12 [00:24<04:30, 24.63s/it]"
     ]
    },
    {
     "name": "stdout",
     "output_type": "stream",
     "text": [
      "Saved: keypoints_csv\\001_PD_01_ML_PD_Mild.csv\n"
     ]
    },
    {
     "name": "stderr",
     "output_type": "stream",
     "text": [
      "c:\\Users\\user\\Desktop\\GaitLab\\GaitEnv\\Lib\\site-packages\\google\\protobuf\\symbol_database.py:55: UserWarning: SymbolDatabase.GetPrototype() is deprecated. Please use message_factory.GetMessageClass() instead. SymbolDatabase.GetPrototype() will be removed soon.\n",
      "  warnings.warn('SymbolDatabase.GetPrototype() is deprecated. Please '\n",
      " 17%|█▋        | 2/12 [00:43<03:31, 21.16s/it]"
     ]
    },
    {
     "name": "stdout",
     "output_type": "stream",
     "text": [
      "Saved: keypoints_csv\\001_PD_02_ML_PD_Mild.csv\n"
     ]
    },
    {
     "name": "stderr",
     "output_type": "stream",
     "text": [
      "c:\\Users\\user\\Desktop\\GaitLab\\GaitEnv\\Lib\\site-packages\\google\\protobuf\\symbol_database.py:55: UserWarning: SymbolDatabase.GetPrototype() is deprecated. Please use message_factory.GetMessageClass() instead. SymbolDatabase.GetPrototype() will be removed soon.\n",
      "  warnings.warn('SymbolDatabase.GetPrototype() is deprecated. Please '\n",
      " 25%|██▌       | 3/12 [00:59<02:47, 18.65s/it]"
     ]
    },
    {
     "name": "stdout",
     "output_type": "stream",
     "text": [
      "Saved: keypoints_csv\\002_PD_01_ML_PD_Mild.csv\n"
     ]
    },
    {
     "name": "stderr",
     "output_type": "stream",
     "text": [
      "c:\\Users\\user\\Desktop\\GaitLab\\GaitEnv\\Lib\\site-packages\\google\\protobuf\\symbol_database.py:55: UserWarning: SymbolDatabase.GetPrototype() is deprecated. Please use message_factory.GetMessageClass() instead. SymbolDatabase.GetPrototype() will be removed soon.\n",
      "  warnings.warn('SymbolDatabase.GetPrototype() is deprecated. Please '\n",
      " 33%|███▎      | 4/12 [01:17<02:30, 18.77s/it]"
     ]
    },
    {
     "name": "stdout",
     "output_type": "stream",
     "text": [
      "Saved: keypoints_csv\\002_PD_02_ML_PD_Mild.csv\n"
     ]
    },
    {
     "name": "stderr",
     "output_type": "stream",
     "text": [
      "c:\\Users\\user\\Desktop\\GaitLab\\GaitEnv\\Lib\\site-packages\\google\\protobuf\\symbol_database.py:55: UserWarning: SymbolDatabase.GetPrototype() is deprecated. Please use message_factory.GetMessageClass() instead. SymbolDatabase.GetPrototype() will be removed soon.\n",
      "  warnings.warn('SymbolDatabase.GetPrototype() is deprecated. Please '\n",
      " 42%|████▏     | 5/12 [01:53<02:53, 24.72s/it]"
     ]
    },
    {
     "name": "stdout",
     "output_type": "stream",
     "text": [
      "Saved: keypoints_csv\\003_PD_01_ML_PD_Mild.csv\n"
     ]
    },
    {
     "name": "stderr",
     "output_type": "stream",
     "text": [
      "c:\\Users\\user\\Desktop\\GaitLab\\GaitEnv\\Lib\\site-packages\\google\\protobuf\\symbol_database.py:55: UserWarning: SymbolDatabase.GetPrototype() is deprecated. Please use message_factory.GetMessageClass() instead. SymbolDatabase.GetPrototype() will be removed soon.\n",
      "  warnings.warn('SymbolDatabase.GetPrototype() is deprecated. Please '\n",
      " 50%|█████     | 6/12 [02:35<03:03, 30.60s/it]"
     ]
    },
    {
     "name": "stdout",
     "output_type": "stream",
     "text": [
      "Saved: keypoints_csv\\003_PD_02_ML_PD_Mild.csv\n"
     ]
    },
    {
     "name": "stderr",
     "output_type": "stream",
     "text": [
      "c:\\Users\\user\\Desktop\\GaitLab\\GaitEnv\\Lib\\site-packages\\google\\protobuf\\symbol_database.py:55: UserWarning: SymbolDatabase.GetPrototype() is deprecated. Please use message_factory.GetMessageClass() instead. SymbolDatabase.GetPrototype() will be removed soon.\n",
      "  warnings.warn('SymbolDatabase.GetPrototype() is deprecated. Please '\n",
      " 58%|█████▊    | 7/12 [03:33<03:18, 39.60s/it]"
     ]
    },
    {
     "name": "stdout",
     "output_type": "stream",
     "text": [
      "Saved: keypoints_csv\\004_PD_01_ML_PD_Mild.csv\n"
     ]
    },
    {
     "name": "stderr",
     "output_type": "stream",
     "text": [
      "c:\\Users\\user\\Desktop\\GaitLab\\GaitEnv\\Lib\\site-packages\\google\\protobuf\\symbol_database.py:55: UserWarning: SymbolDatabase.GetPrototype() is deprecated. Please use message_factory.GetMessageClass() instead. SymbolDatabase.GetPrototype() will be removed soon.\n",
      "  warnings.warn('SymbolDatabase.GetPrototype() is deprecated. Please '\n",
      " 67%|██████▋   | 8/12 [04:24<02:52, 43.23s/it]"
     ]
    },
    {
     "name": "stdout",
     "output_type": "stream",
     "text": [
      "Saved: keypoints_csv\\004_PD_02_ML_PD_Mild.csv\n"
     ]
    },
    {
     "name": "stderr",
     "output_type": "stream",
     "text": [
      "c:\\Users\\user\\Desktop\\GaitLab\\GaitEnv\\Lib\\site-packages\\google\\protobuf\\symbol_database.py:55: UserWarning: SymbolDatabase.GetPrototype() is deprecated. Please use message_factory.GetMessageClass() instead. SymbolDatabase.GetPrototype() will be removed soon.\n",
      "  warnings.warn('SymbolDatabase.GetPrototype() is deprecated. Please '\n",
      " 75%|███████▌  | 9/12 [05:15<02:16, 45.63s/it]"
     ]
    },
    {
     "name": "stdout",
     "output_type": "stream",
     "text": [
      "Saved: keypoints_csv\\005_PD_01_ML_PD_Mild.csv\n"
     ]
    },
    {
     "name": "stderr",
     "output_type": "stream",
     "text": [
      "c:\\Users\\user\\Desktop\\GaitLab\\GaitEnv\\Lib\\site-packages\\google\\protobuf\\symbol_database.py:55: UserWarning: SymbolDatabase.GetPrototype() is deprecated. Please use message_factory.GetMessageClass() instead. SymbolDatabase.GetPrototype() will be removed soon.\n",
      "  warnings.warn('SymbolDatabase.GetPrototype() is deprecated. Please '\n",
      " 83%|████████▎ | 10/12 [05:56<01:28, 44.38s/it]"
     ]
    },
    {
     "name": "stdout",
     "output_type": "stream",
     "text": [
      "Saved: keypoints_csv\\005_PD_02_ML_PD_Mild.csv\n"
     ]
    },
    {
     "name": "stderr",
     "output_type": "stream",
     "text": [
      "c:\\Users\\user\\Desktop\\GaitLab\\GaitEnv\\Lib\\site-packages\\google\\protobuf\\symbol_database.py:55: UserWarning: SymbolDatabase.GetPrototype() is deprecated. Please use message_factory.GetMessageClass() instead. SymbolDatabase.GetPrototype() will be removed soon.\n",
      "  warnings.warn('SymbolDatabase.GetPrototype() is deprecated. Please '\n",
      " 92%|█████████▏| 11/12 [06:46<00:45, 45.91s/it]"
     ]
    },
    {
     "name": "stdout",
     "output_type": "stream",
     "text": [
      "Saved: keypoints_csv\\006_PD_01_ML_PD_Mild.csv\n"
     ]
    },
    {
     "name": "stderr",
     "output_type": "stream",
     "text": [
      "c:\\Users\\user\\Desktop\\GaitLab\\GaitEnv\\Lib\\site-packages\\google\\protobuf\\symbol_database.py:55: UserWarning: SymbolDatabase.GetPrototype() is deprecated. Please use message_factory.GetMessageClass() instead. SymbolDatabase.GetPrototype() will be removed soon.\n",
      "  warnings.warn('SymbolDatabase.GetPrototype() is deprecated. Please '\n",
      "100%|██████████| 12/12 [07:32<00:00, 37.68s/it]\n"
     ]
    },
    {
     "name": "stdout",
     "output_type": "stream",
     "text": [
      "Saved: keypoints_csv\\006_PD_02_ML_PD_Mild.csv\n"
     ]
    },
    {
     "name": "stderr",
     "output_type": "stream",
     "text": [
      "  0%|          | 0/5 [00:00<?, ?it/s]c:\\Users\\user\\Desktop\\GaitLab\\GaitEnv\\Lib\\site-packages\\google\\protobuf\\symbol_database.py:55: UserWarning: SymbolDatabase.GetPrototype() is deprecated. Please use message_factory.GetMessageClass() instead. SymbolDatabase.GetPrototype() will be removed soon.\n",
      "  warnings.warn('SymbolDatabase.GetPrototype() is deprecated. Please '\n",
      " 20%|██        | 1/5 [06:50<27:21, 410.42s/it]"
     ]
    },
    {
     "name": "stdout",
     "output_type": "stream",
     "text": [
      "Saved: keypoints_csv\\001_PD_01_SV_PD_Severe.csv\n"
     ]
    },
    {
     "name": "stderr",
     "output_type": "stream",
     "text": [
      "c:\\Users\\user\\Desktop\\GaitLab\\GaitEnv\\Lib\\site-packages\\google\\protobuf\\symbol_database.py:55: UserWarning: SymbolDatabase.GetPrototype() is deprecated. Please use message_factory.GetMessageClass() instead. SymbolDatabase.GetPrototype() will be removed soon.\n",
      "  warnings.warn('SymbolDatabase.GetPrototype() is deprecated. Please '\n",
      " 40%|████      | 2/5 [08:02<10:34, 211.43s/it]"
     ]
    },
    {
     "name": "stdout",
     "output_type": "stream",
     "text": [
      "Saved: keypoints_csv\\001_PD_02_SV_PD_Severe.csv\n"
     ]
    },
    {
     "name": "stderr",
     "output_type": "stream",
     "text": [
      "c:\\Users\\user\\Desktop\\GaitLab\\GaitEnv\\Lib\\site-packages\\google\\protobuf\\symbol_database.py:55: UserWarning: SymbolDatabase.GetPrototype() is deprecated. Please use message_factory.GetMessageClass() instead. SymbolDatabase.GetPrototype() will be removed soon.\n",
      "  warnings.warn('SymbolDatabase.GetPrototype() is deprecated. Please '\n",
      " 40%|████      | 2/5 [45:54<1:08:52, 1377.37s/it]\n"
     ]
    },
    {
     "ename": "KeyboardInterrupt",
     "evalue": "",
     "output_type": "error",
     "traceback": [
      "\u001b[31m---------------------------------------------------------------------------\u001b[39m",
      "\u001b[31mKeyboardInterrupt\u001b[39m                         Traceback (most recent call last)",
      "\u001b[36mCell\u001b[39m\u001b[36m \u001b[39m\u001b[32mIn[6]\u001b[39m\u001b[32m, line 11\u001b[39m\n\u001b[32m      8\u001b[39m \u001b[38;5;66;03m# Use the last folder name as label\u001b[39;00m\n\u001b[32m      9\u001b[39m label = os.path.basename(os.path.dirname(video_path))\n\u001b[32m---> \u001b[39m\u001b[32m11\u001b[39m saved_csv = \u001b[43mprocess_video\u001b[49m\u001b[43m(\u001b[49m\u001b[43mvideo_path\u001b[49m\u001b[43m,\u001b[49m\u001b[43m \u001b[49m\u001b[43mlabel\u001b[49m\u001b[43m)\u001b[49m\n\u001b[32m     12\u001b[39m \u001b[38;5;28;01mif\u001b[39;00m saved_csv:\n\u001b[32m     13\u001b[39m     \u001b[38;5;28mprint\u001b[39m(\u001b[33m\"\u001b[39m\u001b[33mSaved:\u001b[39m\u001b[33m\"\u001b[39m, saved_csv)\n",
      "\u001b[36mCell\u001b[39m\u001b[36m \u001b[39m\u001b[32mIn[4]\u001b[39m\u001b[32m, line 13\u001b[39m, in \u001b[36mprocess_video\u001b[39m\u001b[34m(video_path, label)\u001b[39m\n\u001b[32m     10\u001b[39m     \u001b[38;5;28;01mbreak\u001b[39;00m\n\u001b[32m     12\u001b[39m rgb_frame = cv2.cvtColor(frame, cv2.COLOR_BGR2RGB)\n\u001b[32m---> \u001b[39m\u001b[32m13\u001b[39m result = \u001b[43mpose\u001b[49m\u001b[43m.\u001b[49m\u001b[43mprocess\u001b[49m\u001b[43m(\u001b[49m\u001b[43mrgb_frame\u001b[49m\u001b[43m)\u001b[49m\n\u001b[32m     15\u001b[39m \u001b[38;5;28;01mif\u001b[39;00m result.pose_landmarks:\n\u001b[32m     16\u001b[39m     lm = result.pose_landmarks.landmark\n",
      "\u001b[36mFile \u001b[39m\u001b[32mc:\\Users\\user\\Desktop\\GaitLab\\GaitEnv\\Lib\\site-packages\\mediapipe\\python\\solutions\\pose.py:185\u001b[39m, in \u001b[36mPose.process\u001b[39m\u001b[34m(self, image)\u001b[39m\n\u001b[32m    164\u001b[39m \u001b[38;5;28;01mdef\u001b[39;00m\u001b[38;5;250m \u001b[39m\u001b[34mprocess\u001b[39m(\u001b[38;5;28mself\u001b[39m, image: np.ndarray) -> NamedTuple:\n\u001b[32m    165\u001b[39m \u001b[38;5;250m  \u001b[39m\u001b[33;03m\"\"\"Processes an RGB image and returns the pose landmarks on the most prominent person detected.\u001b[39;00m\n\u001b[32m    166\u001b[39m \n\u001b[32m    167\u001b[39m \u001b[33;03m  Args:\u001b[39;00m\n\u001b[32m   (...)\u001b[39m\u001b[32m    182\u001b[39m \u001b[33;03m         \"enable_segmentation\" is set to true.\u001b[39;00m\n\u001b[32m    183\u001b[39m \u001b[33;03m  \"\"\"\u001b[39;00m\n\u001b[32m--> \u001b[39m\u001b[32m185\u001b[39m   results = \u001b[38;5;28;43msuper\u001b[39;49m\u001b[43m(\u001b[49m\u001b[43m)\u001b[49m\u001b[43m.\u001b[49m\u001b[43mprocess\u001b[49m\u001b[43m(\u001b[49m\u001b[43minput_data\u001b[49m\u001b[43m=\u001b[49m\u001b[43m{\u001b[49m\u001b[33;43m'\u001b[39;49m\u001b[33;43mimage\u001b[39;49m\u001b[33;43m'\u001b[39;49m\u001b[43m:\u001b[49m\u001b[43m \u001b[49m\u001b[43mimage\u001b[49m\u001b[43m}\u001b[49m\u001b[43m)\u001b[49m\n\u001b[32m    186\u001b[39m   \u001b[38;5;28;01mif\u001b[39;00m results.pose_landmarks:  \u001b[38;5;66;03m# pytype: disable=attribute-error\u001b[39;00m\n\u001b[32m    187\u001b[39m     \u001b[38;5;28;01mfor\u001b[39;00m landmark \u001b[38;5;129;01min\u001b[39;00m results.pose_landmarks.landmark:  \u001b[38;5;66;03m# pytype: disable=attribute-error\u001b[39;00m\n",
      "\u001b[36mFile \u001b[39m\u001b[32mc:\\Users\\user\\Desktop\\GaitLab\\GaitEnv\\Lib\\site-packages\\mediapipe\\python\\solution_base.py:340\u001b[39m, in \u001b[36mSolutionBase.process\u001b[39m\u001b[34m(self, input_data)\u001b[39m\n\u001b[32m    334\u001b[39m   \u001b[38;5;28;01melse\u001b[39;00m:\n\u001b[32m    335\u001b[39m     \u001b[38;5;28mself\u001b[39m._graph.add_packet_to_input_stream(\n\u001b[32m    336\u001b[39m         stream=stream_name,\n\u001b[32m    337\u001b[39m         packet=\u001b[38;5;28mself\u001b[39m._make_packet(input_stream_type,\n\u001b[32m    338\u001b[39m                                  data).at(\u001b[38;5;28mself\u001b[39m._simulated_timestamp))\n\u001b[32m--> \u001b[39m\u001b[32m340\u001b[39m \u001b[38;5;28;43mself\u001b[39;49m\u001b[43m.\u001b[49m\u001b[43m_graph\u001b[49m\u001b[43m.\u001b[49m\u001b[43mwait_until_idle\u001b[49m\u001b[43m(\u001b[49m\u001b[43m)\u001b[49m\n\u001b[32m    341\u001b[39m \u001b[38;5;66;03m# Create a NamedTuple object where the field names are mapping to the graph\u001b[39;00m\n\u001b[32m    342\u001b[39m \u001b[38;5;66;03m# output stream names.\u001b[39;00m\n\u001b[32m    343\u001b[39m \u001b[38;5;28;01mif\u001b[39;00m \u001b[38;5;28mself\u001b[39m._output_stream_type_info \u001b[38;5;129;01mis\u001b[39;00m \u001b[38;5;28;01mNone\u001b[39;00m:\n",
      "\u001b[31mKeyboardInterrupt\u001b[39m: "
     ]
    }
   ],
   "source": [
    "# Cell 5: Process all videos in the dataset\n",
    "\n",
    "for root, dirs, files in os.walk(VIDEO_ROOT):\n",
    "    for file in tqdm(files):\n",
    "        if file.lower().endswith(('.mp4', '.avi', '.mov', '.mkv')):\n",
    "            video_path = os.path.join(root, file)\n",
    "            \n",
    "            # Use the last folder name as label\n",
    "            label = os.path.basename(os.path.dirname(video_path))\n",
    "            \n",
    "            saved_csv = process_video(video_path, label)\n",
    "            if saved_csv:\n",
    "                print(\"Saved:\", saved_csv)\n"
   ]
  },
  {
   "cell_type": "code",
   "execution_count": 10,
   "id": "7f6f39ba",
   "metadata": {},
   "outputs": [
    {
     "name": "stderr",
     "output_type": "stream",
     "text": [
      "  0%|          | 0/252 [00:00<?, ?it/s]C:\\Users\\user\\AppData\\Local\\Temp\\ipykernel_10720\\2496765150.py:22: FutureWarning: DataFrame.interpolate with object dtype is deprecated and will raise in a future version. Call obj.infer_objects(copy=False) before interpolating instead.\n",
      "  df = df.interpolate(limit_direction='both').fillna(method='bfill').fillna(method='ffill')\n",
      "C:\\Users\\user\\AppData\\Local\\Temp\\ipykernel_10720\\2496765150.py:22: FutureWarning: DataFrame.fillna with 'method' is deprecated and will raise in a future version. Use obj.ffill() or obj.bfill() instead.\n",
      "  df = df.interpolate(limit_direction='both').fillna(method='bfill').fillna(method='ffill')\n",
      "  0%|          | 1/252 [00:00<01:05,  3.85it/s]C:\\Users\\user\\AppData\\Local\\Temp\\ipykernel_10720\\2496765150.py:22: FutureWarning: DataFrame.interpolate with object dtype is deprecated and will raise in a future version. Call obj.infer_objects(copy=False) before interpolating instead.\n",
      "  df = df.interpolate(limit_direction='both').fillna(method='bfill').fillna(method='ffill')\n",
      "C:\\Users\\user\\AppData\\Local\\Temp\\ipykernel_10720\\2496765150.py:22: FutureWarning: DataFrame.fillna with 'method' is deprecated and will raise in a future version. Use obj.ffill() or obj.bfill() instead.\n",
      "  df = df.interpolate(limit_direction='both').fillna(method='bfill').fillna(method='ffill')\n",
      "  1%|          | 2/252 [00:00<00:51,  4.84it/s]C:\\Users\\user\\AppData\\Local\\Temp\\ipykernel_10720\\2496765150.py:22: FutureWarning: DataFrame.interpolate with object dtype is deprecated and will raise in a future version. Call obj.infer_objects(copy=False) before interpolating instead.\n",
      "  df = df.interpolate(limit_direction='both').fillna(method='bfill').fillna(method='ffill')\n",
      "C:\\Users\\user\\AppData\\Local\\Temp\\ipykernel_10720\\2496765150.py:22: FutureWarning: DataFrame.fillna with 'method' is deprecated and will raise in a future version. Use obj.ffill() or obj.bfill() instead.\n",
      "  df = df.interpolate(limit_direction='both').fillna(method='bfill').fillna(method='ffill')\n",
      "  1%|          | 3/252 [00:00<00:57,  4.30it/s]C:\\Users\\user\\AppData\\Local\\Temp\\ipykernel_10720\\2496765150.py:22: FutureWarning: DataFrame.interpolate with object dtype is deprecated and will raise in a future version. Call obj.infer_objects(copy=False) before interpolating instead.\n",
      "  df = df.interpolate(limit_direction='both').fillna(method='bfill').fillna(method='ffill')\n",
      "C:\\Users\\user\\AppData\\Local\\Temp\\ipykernel_10720\\2496765150.py:22: FutureWarning: DataFrame.fillna with 'method' is deprecated and will raise in a future version. Use obj.ffill() or obj.bfill() instead.\n",
      "  df = df.interpolate(limit_direction='both').fillna(method='bfill').fillna(method='ffill')\n",
      "  2%|▏         | 4/252 [00:00<00:57,  4.34it/s]C:\\Users\\user\\AppData\\Local\\Temp\\ipykernel_10720\\2496765150.py:22: FutureWarning: DataFrame.interpolate with object dtype is deprecated and will raise in a future version. Call obj.infer_objects(copy=False) before interpolating instead.\n",
      "  df = df.interpolate(limit_direction='both').fillna(method='bfill').fillna(method='ffill')\n",
      "C:\\Users\\user\\AppData\\Local\\Temp\\ipykernel_10720\\2496765150.py:22: FutureWarning: DataFrame.fillna with 'method' is deprecated and will raise in a future version. Use obj.ffill() or obj.bfill() instead.\n",
      "  df = df.interpolate(limit_direction='both').fillna(method='bfill').fillna(method='ffill')\n",
      "  2%|▏         | 5/252 [00:01<00:54,  4.54it/s]C:\\Users\\user\\AppData\\Local\\Temp\\ipykernel_10720\\2496765150.py:22: FutureWarning: DataFrame.interpolate with object dtype is deprecated and will raise in a future version. Call obj.infer_objects(copy=False) before interpolating instead.\n",
      "  df = df.interpolate(limit_direction='both').fillna(method='bfill').fillna(method='ffill')\n",
      "C:\\Users\\user\\AppData\\Local\\Temp\\ipykernel_10720\\2496765150.py:22: FutureWarning: DataFrame.fillna with 'method' is deprecated and will raise in a future version. Use obj.ffill() or obj.bfill() instead.\n",
      "  df = df.interpolate(limit_direction='both').fillna(method='bfill').fillna(method='ffill')\n",
      "  2%|▏         | 6/252 [00:01<00:57,  4.28it/s]C:\\Users\\user\\AppData\\Local\\Temp\\ipykernel_10720\\2496765150.py:22: FutureWarning: DataFrame.interpolate with object dtype is deprecated and will raise in a future version. Call obj.infer_objects(copy=False) before interpolating instead.\n",
      "  df = df.interpolate(limit_direction='both').fillna(method='bfill').fillna(method='ffill')\n",
      "C:\\Users\\user\\AppData\\Local\\Temp\\ipykernel_10720\\2496765150.py:22: FutureWarning: DataFrame.fillna with 'method' is deprecated and will raise in a future version. Use obj.ffill() or obj.bfill() instead.\n",
      "  df = df.interpolate(limit_direction='both').fillna(method='bfill').fillna(method='ffill')\n",
      "  3%|▎         | 7/252 [00:01<00:54,  4.49it/s]C:\\Users\\user\\AppData\\Local\\Temp\\ipykernel_10720\\2496765150.py:22: FutureWarning: DataFrame.interpolate with object dtype is deprecated and will raise in a future version. Call obj.infer_objects(copy=False) before interpolating instead.\n",
      "  df = df.interpolate(limit_direction='both').fillna(method='bfill').fillna(method='ffill')\n",
      "C:\\Users\\user\\AppData\\Local\\Temp\\ipykernel_10720\\2496765150.py:22: FutureWarning: DataFrame.fillna with 'method' is deprecated and will raise in a future version. Use obj.ffill() or obj.bfill() instead.\n",
      "  df = df.interpolate(limit_direction='both').fillna(method='bfill').fillna(method='ffill')\n",
      "  3%|▎         | 8/252 [00:01<00:50,  4.85it/s]C:\\Users\\user\\AppData\\Local\\Temp\\ipykernel_10720\\2496765150.py:22: FutureWarning: DataFrame.interpolate with object dtype is deprecated and will raise in a future version. Call obj.infer_objects(copy=False) before interpolating instead.\n",
      "  df = df.interpolate(limit_direction='both').fillna(method='bfill').fillna(method='ffill')\n",
      "C:\\Users\\user\\AppData\\Local\\Temp\\ipykernel_10720\\2496765150.py:22: FutureWarning: DataFrame.fillna with 'method' is deprecated and will raise in a future version. Use obj.ffill() or obj.bfill() instead.\n",
      "  df = df.interpolate(limit_direction='both').fillna(method='bfill').fillna(method='ffill')\n",
      "  4%|▎         | 9/252 [00:01<00:52,  4.64it/s]C:\\Users\\user\\AppData\\Local\\Temp\\ipykernel_10720\\2496765150.py:22: FutureWarning: DataFrame.interpolate with object dtype is deprecated and will raise in a future version. Call obj.infer_objects(copy=False) before interpolating instead.\n",
      "  df = df.interpolate(limit_direction='both').fillna(method='bfill').fillna(method='ffill')\n",
      "C:\\Users\\user\\AppData\\Local\\Temp\\ipykernel_10720\\2496765150.py:22: FutureWarning: DataFrame.fillna with 'method' is deprecated and will raise in a future version. Use obj.ffill() or obj.bfill() instead.\n",
      "  df = df.interpolate(limit_direction='both').fillna(method='bfill').fillna(method='ffill')\n",
      "  4%|▍         | 10/252 [00:02<00:50,  4.75it/s]C:\\Users\\user\\AppData\\Local\\Temp\\ipykernel_10720\\2496765150.py:22: FutureWarning: DataFrame.interpolate with object dtype is deprecated and will raise in a future version. Call obj.infer_objects(copy=False) before interpolating instead.\n",
      "  df = df.interpolate(limit_direction='both').fillna(method='bfill').fillna(method='ffill')\n",
      "C:\\Users\\user\\AppData\\Local\\Temp\\ipykernel_10720\\2496765150.py:22: FutureWarning: DataFrame.fillna with 'method' is deprecated and will raise in a future version. Use obj.ffill() or obj.bfill() instead.\n",
      "  df = df.interpolate(limit_direction='both').fillna(method='bfill').fillna(method='ffill')\n",
      "  4%|▍         | 11/252 [00:02<00:57,  4.16it/s]C:\\Users\\user\\AppData\\Local\\Temp\\ipykernel_10720\\2496765150.py:22: FutureWarning: DataFrame.interpolate with object dtype is deprecated and will raise in a future version. Call obj.infer_objects(copy=False) before interpolating instead.\n",
      "  df = df.interpolate(limit_direction='both').fillna(method='bfill').fillna(method='ffill')\n",
      "C:\\Users\\user\\AppData\\Local\\Temp\\ipykernel_10720\\2496765150.py:22: FutureWarning: DataFrame.fillna with 'method' is deprecated and will raise in a future version. Use obj.ffill() or obj.bfill() instead.\n",
      "  df = df.interpolate(limit_direction='both').fillna(method='bfill').fillna(method='ffill')\n",
      "  5%|▍         | 12/252 [00:02<00:56,  4.26it/s]C:\\Users\\user\\AppData\\Local\\Temp\\ipykernel_10720\\2496765150.py:22: FutureWarning: DataFrame.interpolate with object dtype is deprecated and will raise in a future version. Call obj.infer_objects(copy=False) before interpolating instead.\n",
      "  df = df.interpolate(limit_direction='both').fillna(method='bfill').fillna(method='ffill')\n",
      "C:\\Users\\user\\AppData\\Local\\Temp\\ipykernel_10720\\2496765150.py:22: FutureWarning: DataFrame.fillna with 'method' is deprecated and will raise in a future version. Use obj.ffill() or obj.bfill() instead.\n",
      "  df = df.interpolate(limit_direction='both').fillna(method='bfill').fillna(method='ffill')\n",
      "  5%|▌         | 13/252 [00:02<00:52,  4.54it/s]C:\\Users\\user\\AppData\\Local\\Temp\\ipykernel_10720\\2496765150.py:22: FutureWarning: DataFrame.interpolate with object dtype is deprecated and will raise in a future version. Call obj.infer_objects(copy=False) before interpolating instead.\n",
      "  df = df.interpolate(limit_direction='both').fillna(method='bfill').fillna(method='ffill')\n",
      "C:\\Users\\user\\AppData\\Local\\Temp\\ipykernel_10720\\2496765150.py:22: FutureWarning: DataFrame.fillna with 'method' is deprecated and will raise in a future version. Use obj.ffill() or obj.bfill() instead.\n",
      "  df = df.interpolate(limit_direction='both').fillna(method='bfill').fillna(method='ffill')\n",
      "  6%|▌         | 14/252 [00:03<00:58,  4.07it/s]C:\\Users\\user\\AppData\\Local\\Temp\\ipykernel_10720\\2496765150.py:22: FutureWarning: DataFrame.interpolate with object dtype is deprecated and will raise in a future version. Call obj.infer_objects(copy=False) before interpolating instead.\n",
      "  df = df.interpolate(limit_direction='both').fillna(method='bfill').fillna(method='ffill')\n",
      "C:\\Users\\user\\AppData\\Local\\Temp\\ipykernel_10720\\2496765150.py:22: FutureWarning: DataFrame.fillna with 'method' is deprecated and will raise in a future version. Use obj.ffill() or obj.bfill() instead.\n",
      "  df = df.interpolate(limit_direction='both').fillna(method='bfill').fillna(method='ffill')\n",
      "  6%|▌         | 15/252 [00:03<00:55,  4.24it/s]C:\\Users\\user\\AppData\\Local\\Temp\\ipykernel_10720\\2496765150.py:22: FutureWarning: DataFrame.interpolate with object dtype is deprecated and will raise in a future version. Call obj.infer_objects(copy=False) before interpolating instead.\n",
      "  df = df.interpolate(limit_direction='both').fillna(method='bfill').fillna(method='ffill')\n",
      "C:\\Users\\user\\AppData\\Local\\Temp\\ipykernel_10720\\2496765150.py:22: FutureWarning: DataFrame.fillna with 'method' is deprecated and will raise in a future version. Use obj.ffill() or obj.bfill() instead.\n",
      "  df = df.interpolate(limit_direction='both').fillna(method='bfill').fillna(method='ffill')\n",
      "  6%|▋         | 16/252 [00:03<00:53,  4.43it/s]C:\\Users\\user\\AppData\\Local\\Temp\\ipykernel_10720\\2496765150.py:22: FutureWarning: DataFrame.interpolate with object dtype is deprecated and will raise in a future version. Call obj.infer_objects(copy=False) before interpolating instead.\n",
      "  df = df.interpolate(limit_direction='both').fillna(method='bfill').fillna(method='ffill')\n",
      "C:\\Users\\user\\AppData\\Local\\Temp\\ipykernel_10720\\2496765150.py:22: FutureWarning: DataFrame.fillna with 'method' is deprecated and will raise in a future version. Use obj.ffill() or obj.bfill() instead.\n",
      "  df = df.interpolate(limit_direction='both').fillna(method='bfill').fillna(method='ffill')\n",
      "  7%|▋         | 17/252 [00:03<00:57,  4.12it/s]C:\\Users\\user\\AppData\\Local\\Temp\\ipykernel_10720\\2496765150.py:22: FutureWarning: DataFrame.interpolate with object dtype is deprecated and will raise in a future version. Call obj.infer_objects(copy=False) before interpolating instead.\n",
      "  df = df.interpolate(limit_direction='both').fillna(method='bfill').fillna(method='ffill')\n",
      "C:\\Users\\user\\AppData\\Local\\Temp\\ipykernel_10720\\2496765150.py:22: FutureWarning: DataFrame.fillna with 'method' is deprecated and will raise in a future version. Use obj.ffill() or obj.bfill() instead.\n",
      "  df = df.interpolate(limit_direction='both').fillna(method='bfill').fillna(method='ffill')\n",
      "  7%|▋         | 18/252 [00:04<00:53,  4.35it/s]C:\\Users\\user\\AppData\\Local\\Temp\\ipykernel_10720\\2496765150.py:22: FutureWarning: DataFrame.interpolate with object dtype is deprecated and will raise in a future version. Call obj.infer_objects(copy=False) before interpolating instead.\n",
      "  df = df.interpolate(limit_direction='both').fillna(method='bfill').fillna(method='ffill')\n",
      "C:\\Users\\user\\AppData\\Local\\Temp\\ipykernel_10720\\2496765150.py:22: FutureWarning: DataFrame.fillna with 'method' is deprecated and will raise in a future version. Use obj.ffill() or obj.bfill() instead.\n",
      "  df = df.interpolate(limit_direction='both').fillna(method='bfill').fillna(method='ffill')\n",
      "  8%|▊         | 19/252 [00:04<00:51,  4.48it/s]C:\\Users\\user\\AppData\\Local\\Temp\\ipykernel_10720\\2496765150.py:22: FutureWarning: DataFrame.interpolate with object dtype is deprecated and will raise in a future version. Call obj.infer_objects(copy=False) before interpolating instead.\n",
      "  df = df.interpolate(limit_direction='both').fillna(method='bfill').fillna(method='ffill')\n",
      "C:\\Users\\user\\AppData\\Local\\Temp\\ipykernel_10720\\2496765150.py:22: FutureWarning: DataFrame.fillna with 'method' is deprecated and will raise in a future version. Use obj.ffill() or obj.bfill() instead.\n",
      "  df = df.interpolate(limit_direction='both').fillna(method='bfill').fillna(method='ffill')\n",
      "  8%|▊         | 20/252 [00:04<00:57,  4.07it/s]C:\\Users\\user\\AppData\\Local\\Temp\\ipykernel_10720\\2496765150.py:22: FutureWarning: DataFrame.interpolate with object dtype is deprecated and will raise in a future version. Call obj.infer_objects(copy=False) before interpolating instead.\n",
      "  df = df.interpolate(limit_direction='both').fillna(method='bfill').fillna(method='ffill')\n",
      "C:\\Users\\user\\AppData\\Local\\Temp\\ipykernel_10720\\2496765150.py:22: FutureWarning: DataFrame.fillna with 'method' is deprecated and will raise in a future version. Use obj.ffill() or obj.bfill() instead.\n",
      "  df = df.interpolate(limit_direction='both').fillna(method='bfill').fillna(method='ffill')\n",
      "  8%|▊         | 21/252 [00:04<00:52,  4.37it/s]C:\\Users\\user\\AppData\\Local\\Temp\\ipykernel_10720\\2496765150.py:22: FutureWarning: DataFrame.interpolate with object dtype is deprecated and will raise in a future version. Call obj.infer_objects(copy=False) before interpolating instead.\n",
      "  df = df.interpolate(limit_direction='both').fillna(method='bfill').fillna(method='ffill')\n",
      "C:\\Users\\user\\AppData\\Local\\Temp\\ipykernel_10720\\2496765150.py:22: FutureWarning: DataFrame.fillna with 'method' is deprecated and will raise in a future version. Use obj.ffill() or obj.bfill() instead.\n",
      "  df = df.interpolate(limit_direction='both').fillna(method='bfill').fillna(method='ffill')\n",
      "  9%|▊         | 22/252 [00:05<00:51,  4.43it/s]C:\\Users\\user\\AppData\\Local\\Temp\\ipykernel_10720\\2496765150.py:22: FutureWarning: DataFrame.interpolate with object dtype is deprecated and will raise in a future version. Call obj.infer_objects(copy=False) before interpolating instead.\n",
      "  df = df.interpolate(limit_direction='both').fillna(method='bfill').fillna(method='ffill')\n",
      "C:\\Users\\user\\AppData\\Local\\Temp\\ipykernel_10720\\2496765150.py:22: FutureWarning: DataFrame.fillna with 'method' is deprecated and will raise in a future version. Use obj.ffill() or obj.bfill() instead.\n",
      "  df = df.interpolate(limit_direction='both').fillna(method='bfill').fillna(method='ffill')\n",
      "  9%|▉         | 23/252 [00:05<00:54,  4.21it/s]C:\\Users\\user\\AppData\\Local\\Temp\\ipykernel_10720\\2496765150.py:22: FutureWarning: DataFrame.interpolate with object dtype is deprecated and will raise in a future version. Call obj.infer_objects(copy=False) before interpolating instead.\n",
      "  df = df.interpolate(limit_direction='both').fillna(method='bfill').fillna(method='ffill')\n",
      "C:\\Users\\user\\AppData\\Local\\Temp\\ipykernel_10720\\2496765150.py:22: FutureWarning: DataFrame.fillna with 'method' is deprecated and will raise in a future version. Use obj.ffill() or obj.bfill() instead.\n",
      "  df = df.interpolate(limit_direction='both').fillna(method='bfill').fillna(method='ffill')\n",
      " 10%|▉         | 24/252 [00:05<00:51,  4.42it/s]C:\\Users\\user\\AppData\\Local\\Temp\\ipykernel_10720\\2496765150.py:22: FutureWarning: DataFrame.interpolate with object dtype is deprecated and will raise in a future version. Call obj.infer_objects(copy=False) before interpolating instead.\n",
      "  df = df.interpolate(limit_direction='both').fillna(method='bfill').fillna(method='ffill')\n",
      "C:\\Users\\user\\AppData\\Local\\Temp\\ipykernel_10720\\2496765150.py:22: FutureWarning: DataFrame.fillna with 'method' is deprecated and will raise in a future version. Use obj.ffill() or obj.bfill() instead.\n",
      "  df = df.interpolate(limit_direction='both').fillna(method='bfill').fillna(method='ffill')\n",
      " 10%|▉         | 25/252 [00:05<00:53,  4.24it/s]C:\\Users\\user\\AppData\\Local\\Temp\\ipykernel_10720\\2496765150.py:22: FutureWarning: DataFrame.interpolate with object dtype is deprecated and will raise in a future version. Call obj.infer_objects(copy=False) before interpolating instead.\n",
      "  df = df.interpolate(limit_direction='both').fillna(method='bfill').fillna(method='ffill')\n",
      "C:\\Users\\user\\AppData\\Local\\Temp\\ipykernel_10720\\2496765150.py:22: FutureWarning: DataFrame.fillna with 'method' is deprecated and will raise in a future version. Use obj.ffill() or obj.bfill() instead.\n",
      "  df = df.interpolate(limit_direction='both').fillna(method='bfill').fillna(method='ffill')\n",
      " 10%|█         | 26/252 [00:05<00:49,  4.55it/s]C:\\Users\\user\\AppData\\Local\\Temp\\ipykernel_10720\\2496765150.py:22: FutureWarning: DataFrame.interpolate with object dtype is deprecated and will raise in a future version. Call obj.infer_objects(copy=False) before interpolating instead.\n",
      "  df = df.interpolate(limit_direction='both').fillna(method='bfill').fillna(method='ffill')\n",
      "C:\\Users\\user\\AppData\\Local\\Temp\\ipykernel_10720\\2496765150.py:22: FutureWarning: DataFrame.fillna with 'method' is deprecated and will raise in a future version. Use obj.ffill() or obj.bfill() instead.\n",
      "  df = df.interpolate(limit_direction='both').fillna(method='bfill').fillna(method='ffill')\n",
      " 11%|█         | 27/252 [00:06<00:45,  4.95it/s]C:\\Users\\user\\AppData\\Local\\Temp\\ipykernel_10720\\2496765150.py:22: FutureWarning: DataFrame.interpolate with object dtype is deprecated and will raise in a future version. Call obj.infer_objects(copy=False) before interpolating instead.\n",
      "  df = df.interpolate(limit_direction='both').fillna(method='bfill').fillna(method='ffill')\n",
      "C:\\Users\\user\\AppData\\Local\\Temp\\ipykernel_10720\\2496765150.py:22: FutureWarning: DataFrame.fillna with 'method' is deprecated and will raise in a future version. Use obj.ffill() or obj.bfill() instead.\n",
      "  df = df.interpolate(limit_direction='both').fillna(method='bfill').fillna(method='ffill')\n",
      " 11%|█         | 28/252 [00:06<00:47,  4.73it/s]C:\\Users\\user\\AppData\\Local\\Temp\\ipykernel_10720\\2496765150.py:22: FutureWarning: DataFrame.interpolate with object dtype is deprecated and will raise in a future version. Call obj.infer_objects(copy=False) before interpolating instead.\n",
      "  df = df.interpolate(limit_direction='both').fillna(method='bfill').fillna(method='ffill')\n",
      "C:\\Users\\user\\AppData\\Local\\Temp\\ipykernel_10720\\2496765150.py:22: FutureWarning: DataFrame.fillna with 'method' is deprecated and will raise in a future version. Use obj.ffill() or obj.bfill() instead.\n",
      "  df = df.interpolate(limit_direction='both').fillna(method='bfill').fillna(method='ffill')\n",
      " 12%|█▏        | 29/252 [00:06<00:49,  4.51it/s]C:\\Users\\user\\AppData\\Local\\Temp\\ipykernel_10720\\2496765150.py:22: FutureWarning: DataFrame.interpolate with object dtype is deprecated and will raise in a future version. Call obj.infer_objects(copy=False) before interpolating instead.\n",
      "  df = df.interpolate(limit_direction='both').fillna(method='bfill').fillna(method='ffill')\n",
      "C:\\Users\\user\\AppData\\Local\\Temp\\ipykernel_10720\\2496765150.py:22: FutureWarning: DataFrame.fillna with 'method' is deprecated and will raise in a future version. Use obj.ffill() or obj.bfill() instead.\n",
      "  df = df.interpolate(limit_direction='both').fillna(method='bfill').fillna(method='ffill')\n",
      "C:\\Users\\user\\AppData\\Local\\Temp\\ipykernel_10720\\2496765150.py:22: FutureWarning: DataFrame.interpolate with object dtype is deprecated and will raise in a future version. Call obj.infer_objects(copy=False) before interpolating instead.\n",
      "  df = df.interpolate(limit_direction='both').fillna(method='bfill').fillna(method='ffill')\n",
      "C:\\Users\\user\\AppData\\Local\\Temp\\ipykernel_10720\\2496765150.py:22: FutureWarning: DataFrame.fillna with 'method' is deprecated and will raise in a future version. Use obj.ffill() or obj.bfill() instead.\n",
      "  df = df.interpolate(limit_direction='both').fillna(method='bfill').fillna(method='ffill')\n",
      " 12%|█▏        | 31/252 [00:06<00:33,  6.57it/s]C:\\Users\\user\\AppData\\Local\\Temp\\ipykernel_10720\\2496765150.py:22: FutureWarning: DataFrame.interpolate with object dtype is deprecated and will raise in a future version. Call obj.infer_objects(copy=False) before interpolating instead.\n",
      "  df = df.interpolate(limit_direction='both').fillna(method='bfill').fillna(method='ffill')\n",
      "C:\\Users\\user\\AppData\\Local\\Temp\\ipykernel_10720\\2496765150.py:22: FutureWarning: DataFrame.fillna with 'method' is deprecated and will raise in a future version. Use obj.ffill() or obj.bfill() instead.\n",
      "  df = df.interpolate(limit_direction='both').fillna(method='bfill').fillna(method='ffill')\n",
      " 13%|█▎        | 32/252 [00:06<00:39,  5.56it/s]C:\\Users\\user\\AppData\\Local\\Temp\\ipykernel_10720\\2496765150.py:22: FutureWarning: DataFrame.interpolate with object dtype is deprecated and will raise in a future version. Call obj.infer_objects(copy=False) before interpolating instead.\n",
      "  df = df.interpolate(limit_direction='both').fillna(method='bfill').fillna(method='ffill')\n",
      "C:\\Users\\user\\AppData\\Local\\Temp\\ipykernel_10720\\2496765150.py:22: FutureWarning: DataFrame.fillna with 'method' is deprecated and will raise in a future version. Use obj.ffill() or obj.bfill() instead.\n",
      "  df = df.interpolate(limit_direction='both').fillna(method='bfill').fillna(method='ffill')\n",
      "C:\\Users\\user\\AppData\\Local\\Temp\\ipykernel_10720\\2496765150.py:22: FutureWarning: DataFrame.interpolate with object dtype is deprecated and will raise in a future version. Call obj.infer_objects(copy=False) before interpolating instead.\n",
      "  df = df.interpolate(limit_direction='both').fillna(method='bfill').fillna(method='ffill')\n",
      "C:\\Users\\user\\AppData\\Local\\Temp\\ipykernel_10720\\2496765150.py:22: FutureWarning: DataFrame.fillna with 'method' is deprecated and will raise in a future version. Use obj.ffill() or obj.bfill() instead.\n",
      "  df = df.interpolate(limit_direction='both').fillna(method='bfill').fillna(method='ffill')\n",
      " 13%|█▎        | 34/252 [00:07<00:36,  6.00it/s]C:\\Users\\user\\AppData\\Local\\Temp\\ipykernel_10720\\2496765150.py:22: FutureWarning: DataFrame.interpolate with object dtype is deprecated and will raise in a future version. Call obj.infer_objects(copy=False) before interpolating instead.\n",
      "  df = df.interpolate(limit_direction='both').fillna(method='bfill').fillna(method='ffill')\n",
      "C:\\Users\\user\\AppData\\Local\\Temp\\ipykernel_10720\\2496765150.py:22: FutureWarning: DataFrame.fillna with 'method' is deprecated and will raise in a future version. Use obj.ffill() or obj.bfill() instead.\n",
      "  df = df.interpolate(limit_direction='both').fillna(method='bfill').fillna(method='ffill')\n",
      " 14%|█▍        | 35/252 [00:07<00:34,  6.32it/s]C:\\Users\\user\\AppData\\Local\\Temp\\ipykernel_10720\\2496765150.py:22: FutureWarning: DataFrame.interpolate with object dtype is deprecated and will raise in a future version. Call obj.infer_objects(copy=False) before interpolating instead.\n",
      "  df = df.interpolate(limit_direction='both').fillna(method='bfill').fillna(method='ffill')\n",
      "C:\\Users\\user\\AppData\\Local\\Temp\\ipykernel_10720\\2496765150.py:22: FutureWarning: DataFrame.fillna with 'method' is deprecated and will raise in a future version. Use obj.ffill() or obj.bfill() instead.\n",
      "  df = df.interpolate(limit_direction='both').fillna(method='bfill').fillna(method='ffill')\n",
      "C:\\Users\\user\\AppData\\Local\\Temp\\ipykernel_10720\\2496765150.py:22: FutureWarning: DataFrame.interpolate with object dtype is deprecated and will raise in a future version. Call obj.infer_objects(copy=False) before interpolating instead.\n",
      "  df = df.interpolate(limit_direction='both').fillna(method='bfill').fillna(method='ffill')\n",
      "C:\\Users\\user\\AppData\\Local\\Temp\\ipykernel_10720\\2496765150.py:22: FutureWarning: DataFrame.fillna with 'method' is deprecated and will raise in a future version. Use obj.ffill() or obj.bfill() instead.\n",
      "  df = df.interpolate(limit_direction='both').fillna(method='bfill').fillna(method='ffill')\n",
      " 15%|█▍        | 37/252 [00:07<00:28,  7.51it/s]C:\\Users\\user\\AppData\\Local\\Temp\\ipykernel_10720\\2496765150.py:22: FutureWarning: DataFrame.interpolate with object dtype is deprecated and will raise in a future version. Call obj.infer_objects(copy=False) before interpolating instead.\n",
      "  df = df.interpolate(limit_direction='both').fillna(method='bfill').fillna(method='ffill')\n",
      "C:\\Users\\user\\AppData\\Local\\Temp\\ipykernel_10720\\2496765150.py:22: FutureWarning: DataFrame.fillna with 'method' is deprecated and will raise in a future version. Use obj.ffill() or obj.bfill() instead.\n",
      "  df = df.interpolate(limit_direction='both').fillna(method='bfill').fillna(method='ffill')\n",
      " 15%|█▌        | 38/252 [00:07<00:27,  7.67it/s]C:\\Users\\user\\AppData\\Local\\Temp\\ipykernel_10720\\2496765150.py:22: FutureWarning: DataFrame.interpolate with object dtype is deprecated and will raise in a future version. Call obj.infer_objects(copy=False) before interpolating instead.\n",
      "  df = df.interpolate(limit_direction='both').fillna(method='bfill').fillna(method='ffill')\n",
      "C:\\Users\\user\\AppData\\Local\\Temp\\ipykernel_10720\\2496765150.py:22: FutureWarning: DataFrame.fillna with 'method' is deprecated and will raise in a future version. Use obj.ffill() or obj.bfill() instead.\n",
      "  df = df.interpolate(limit_direction='both').fillna(method='bfill').fillna(method='ffill')\n",
      " 15%|█▌        | 39/252 [00:07<00:31,  6.72it/s]C:\\Users\\user\\AppData\\Local\\Temp\\ipykernel_10720\\2496765150.py:22: FutureWarning: DataFrame.interpolate with object dtype is deprecated and will raise in a future version. Call obj.infer_objects(copy=False) before interpolating instead.\n",
      "  df = df.interpolate(limit_direction='both').fillna(method='bfill').fillna(method='ffill')\n",
      "C:\\Users\\user\\AppData\\Local\\Temp\\ipykernel_10720\\2496765150.py:22: FutureWarning: DataFrame.fillna with 'method' is deprecated and will raise in a future version. Use obj.ffill() or obj.bfill() instead.\n",
      "  df = df.interpolate(limit_direction='both').fillna(method='bfill').fillna(method='ffill')\n",
      " 16%|█▌        | 40/252 [00:08<00:29,  7.21it/s]C:\\Users\\user\\AppData\\Local\\Temp\\ipykernel_10720\\2496765150.py:22: FutureWarning: DataFrame.interpolate with object dtype is deprecated and will raise in a future version. Call obj.infer_objects(copy=False) before interpolating instead.\n",
      "  df = df.interpolate(limit_direction='both').fillna(method='bfill').fillna(method='ffill')\n",
      "C:\\Users\\user\\AppData\\Local\\Temp\\ipykernel_10720\\2496765150.py:22: FutureWarning: DataFrame.fillna with 'method' is deprecated and will raise in a future version. Use obj.ffill() or obj.bfill() instead.\n",
      "  df = df.interpolate(limit_direction='both').fillna(method='bfill').fillna(method='ffill')\n",
      "C:\\Users\\user\\AppData\\Local\\Temp\\ipykernel_10720\\2496765150.py:22: FutureWarning: DataFrame.interpolate with object dtype is deprecated and will raise in a future version. Call obj.infer_objects(copy=False) before interpolating instead.\n",
      "  df = df.interpolate(limit_direction='both').fillna(method='bfill').fillna(method='ffill')\n",
      "C:\\Users\\user\\AppData\\Local\\Temp\\ipykernel_10720\\2496765150.py:22: FutureWarning: DataFrame.fillna with 'method' is deprecated and will raise in a future version. Use obj.ffill() or obj.bfill() instead.\n",
      "  df = df.interpolate(limit_direction='both').fillna(method='bfill').fillna(method='ffill')\n",
      " 17%|█▋        | 42/252 [00:08<00:25,  8.32it/s]C:\\Users\\user\\AppData\\Local\\Temp\\ipykernel_10720\\2496765150.py:22: FutureWarning: DataFrame.interpolate with object dtype is deprecated and will raise in a future version. Call obj.infer_objects(copy=False) before interpolating instead.\n",
      "  df = df.interpolate(limit_direction='both').fillna(method='bfill').fillna(method='ffill')\n",
      "C:\\Users\\user\\AppData\\Local\\Temp\\ipykernel_10720\\2496765150.py:22: FutureWarning: DataFrame.fillna with 'method' is deprecated and will raise in a future version. Use obj.ffill() or obj.bfill() instead.\n",
      "  df = df.interpolate(limit_direction='both').fillna(method='bfill').fillna(method='ffill')\n",
      " 17%|█▋        | 43/252 [00:08<00:30,  6.84it/s]C:\\Users\\user\\AppData\\Local\\Temp\\ipykernel_10720\\2496765150.py:22: FutureWarning: DataFrame.interpolate with object dtype is deprecated and will raise in a future version. Call obj.infer_objects(copy=False) before interpolating instead.\n",
      "  df = df.interpolate(limit_direction='both').fillna(method='bfill').fillna(method='ffill')\n",
      "C:\\Users\\user\\AppData\\Local\\Temp\\ipykernel_10720\\2496765150.py:22: FutureWarning: DataFrame.fillna with 'method' is deprecated and will raise in a future version. Use obj.ffill() or obj.bfill() instead.\n",
      "  df = df.interpolate(limit_direction='both').fillna(method='bfill').fillna(method='ffill')\n",
      " 17%|█▋        | 44/252 [00:08<00:35,  5.81it/s]C:\\Users\\user\\AppData\\Local\\Temp\\ipykernel_10720\\2496765150.py:22: FutureWarning: DataFrame.interpolate with object dtype is deprecated and will raise in a future version. Call obj.infer_objects(copy=False) before interpolating instead.\n",
      "  df = df.interpolate(limit_direction='both').fillna(method='bfill').fillna(method='ffill')\n",
      "C:\\Users\\user\\AppData\\Local\\Temp\\ipykernel_10720\\2496765150.py:22: FutureWarning: DataFrame.fillna with 'method' is deprecated and will raise in a future version. Use obj.ffill() or obj.bfill() instead.\n",
      "  df = df.interpolate(limit_direction='both').fillna(method='bfill').fillna(method='ffill')\n",
      " 18%|█▊        | 45/252 [00:08<00:36,  5.67it/s]C:\\Users\\user\\AppData\\Local\\Temp\\ipykernel_10720\\2496765150.py:22: FutureWarning: DataFrame.interpolate with object dtype is deprecated and will raise in a future version. Call obj.infer_objects(copy=False) before interpolating instead.\n",
      "  df = df.interpolate(limit_direction='both').fillna(method='bfill').fillna(method='ffill')\n",
      "C:\\Users\\user\\AppData\\Local\\Temp\\ipykernel_10720\\2496765150.py:22: FutureWarning: DataFrame.fillna with 'method' is deprecated and will raise in a future version. Use obj.ffill() or obj.bfill() instead.\n",
      "  df = df.interpolate(limit_direction='both').fillna(method='bfill').fillna(method='ffill')\n",
      " 18%|█▊        | 46/252 [00:09<00:38,  5.35it/s]C:\\Users\\user\\AppData\\Local\\Temp\\ipykernel_10720\\2496765150.py:22: FutureWarning: DataFrame.interpolate with object dtype is deprecated and will raise in a future version. Call obj.infer_objects(copy=False) before interpolating instead.\n",
      "  df = df.interpolate(limit_direction='both').fillna(method='bfill').fillna(method='ffill')\n",
      "C:\\Users\\user\\AppData\\Local\\Temp\\ipykernel_10720\\2496765150.py:22: FutureWarning: DataFrame.fillna with 'method' is deprecated and will raise in a future version. Use obj.ffill() or obj.bfill() instead.\n",
      "  df = df.interpolate(limit_direction='both').fillna(method='bfill').fillna(method='ffill')\n",
      " 19%|█▊        | 47/252 [00:09<00:39,  5.18it/s]C:\\Users\\user\\AppData\\Local\\Temp\\ipykernel_10720\\2496765150.py:22: FutureWarning: DataFrame.interpolate with object dtype is deprecated and will raise in a future version. Call obj.infer_objects(copy=False) before interpolating instead.\n",
      "  df = df.interpolate(limit_direction='both').fillna(method='bfill').fillna(method='ffill')\n",
      "C:\\Users\\user\\AppData\\Local\\Temp\\ipykernel_10720\\2496765150.py:22: FutureWarning: DataFrame.fillna with 'method' is deprecated and will raise in a future version. Use obj.ffill() or obj.bfill() instead.\n",
      "  df = df.interpolate(limit_direction='both').fillna(method='bfill').fillna(method='ffill')\n",
      " 19%|█▉        | 48/252 [00:09<00:45,  4.51it/s]C:\\Users\\user\\AppData\\Local\\Temp\\ipykernel_10720\\2496765150.py:22: FutureWarning: DataFrame.interpolate with object dtype is deprecated and will raise in a future version. Call obj.infer_objects(copy=False) before interpolating instead.\n",
      "  df = df.interpolate(limit_direction='both').fillna(method='bfill').fillna(method='ffill')\n",
      "C:\\Users\\user\\AppData\\Local\\Temp\\ipykernel_10720\\2496765150.py:22: FutureWarning: DataFrame.fillna with 'method' is deprecated and will raise in a future version. Use obj.ffill() or obj.bfill() instead.\n",
      "  df = df.interpolate(limit_direction='both').fillna(method='bfill').fillna(method='ffill')\n",
      " 19%|█▉        | 49/252 [00:09<00:43,  4.66it/s]C:\\Users\\user\\AppData\\Local\\Temp\\ipykernel_10720\\2496765150.py:22: FutureWarning: DataFrame.interpolate with object dtype is deprecated and will raise in a future version. Call obj.infer_objects(copy=False) before interpolating instead.\n",
      "  df = df.interpolate(limit_direction='both').fillna(method='bfill').fillna(method='ffill')\n",
      "C:\\Users\\user\\AppData\\Local\\Temp\\ipykernel_10720\\2496765150.py:22: FutureWarning: DataFrame.fillna with 'method' is deprecated and will raise in a future version. Use obj.ffill() or obj.bfill() instead.\n",
      "  df = df.interpolate(limit_direction='both').fillna(method='bfill').fillna(method='ffill')\n",
      " 20%|█▉        | 50/252 [00:10<00:45,  4.45it/s]C:\\Users\\user\\AppData\\Local\\Temp\\ipykernel_10720\\2496765150.py:22: FutureWarning: DataFrame.interpolate with object dtype is deprecated and will raise in a future version. Call obj.infer_objects(copy=False) before interpolating instead.\n",
      "  df = df.interpolate(limit_direction='both').fillna(method='bfill').fillna(method='ffill')\n",
      "C:\\Users\\user\\AppData\\Local\\Temp\\ipykernel_10720\\2496765150.py:22: FutureWarning: DataFrame.fillna with 'method' is deprecated and will raise in a future version. Use obj.ffill() or obj.bfill() instead.\n",
      "  df = df.interpolate(limit_direction='both').fillna(method='bfill').fillna(method='ffill')\n",
      " 20%|██        | 51/252 [00:10<00:43,  4.59it/s]C:\\Users\\user\\AppData\\Local\\Temp\\ipykernel_10720\\2496765150.py:22: FutureWarning: DataFrame.interpolate with object dtype is deprecated and will raise in a future version. Call obj.infer_objects(copy=False) before interpolating instead.\n",
      "  df = df.interpolate(limit_direction='both').fillna(method='bfill').fillna(method='ffill')\n",
      "C:\\Users\\user\\AppData\\Local\\Temp\\ipykernel_10720\\2496765150.py:22: FutureWarning: DataFrame.fillna with 'method' is deprecated and will raise in a future version. Use obj.ffill() or obj.bfill() instead.\n",
      "  df = df.interpolate(limit_direction='both').fillna(method='bfill').fillna(method='ffill')\n",
      " 21%|██        | 52/252 [00:10<00:45,  4.40it/s]C:\\Users\\user\\AppData\\Local\\Temp\\ipykernel_10720\\2496765150.py:22: FutureWarning: DataFrame.interpolate with object dtype is deprecated and will raise in a future version. Call obj.infer_objects(copy=False) before interpolating instead.\n",
      "  df = df.interpolate(limit_direction='both').fillna(method='bfill').fillna(method='ffill')\n",
      "C:\\Users\\user\\AppData\\Local\\Temp\\ipykernel_10720\\2496765150.py:22: FutureWarning: DataFrame.fillna with 'method' is deprecated and will raise in a future version. Use obj.ffill() or obj.bfill() instead.\n",
      "  df = df.interpolate(limit_direction='both').fillna(method='bfill').fillna(method='ffill')\n",
      " 21%|██        | 53/252 [00:10<00:46,  4.24it/s]C:\\Users\\user\\AppData\\Local\\Temp\\ipykernel_10720\\2496765150.py:22: FutureWarning: DataFrame.interpolate with object dtype is deprecated and will raise in a future version. Call obj.infer_objects(copy=False) before interpolating instead.\n",
      "  df = df.interpolate(limit_direction='both').fillna(method='bfill').fillna(method='ffill')\n",
      "C:\\Users\\user\\AppData\\Local\\Temp\\ipykernel_10720\\2496765150.py:22: FutureWarning: DataFrame.fillna with 'method' is deprecated and will raise in a future version. Use obj.ffill() or obj.bfill() instead.\n",
      "  df = df.interpolate(limit_direction='both').fillna(method='bfill').fillna(method='ffill')\n",
      " 21%|██▏       | 54/252 [00:10<00:45,  4.40it/s]C:\\Users\\user\\AppData\\Local\\Temp\\ipykernel_10720\\2496765150.py:22: FutureWarning: DataFrame.interpolate with object dtype is deprecated and will raise in a future version. Call obj.infer_objects(copy=False) before interpolating instead.\n",
      "  df = df.interpolate(limit_direction='both').fillna(method='bfill').fillna(method='ffill')\n",
      "C:\\Users\\user\\AppData\\Local\\Temp\\ipykernel_10720\\2496765150.py:22: FutureWarning: DataFrame.fillna with 'method' is deprecated and will raise in a future version. Use obj.ffill() or obj.bfill() instead.\n",
      "  df = df.interpolate(limit_direction='both').fillna(method='bfill').fillna(method='ffill')\n",
      " 22%|██▏       | 55/252 [00:11<00:45,  4.34it/s]C:\\Users\\user\\AppData\\Local\\Temp\\ipykernel_10720\\2496765150.py:22: FutureWarning: DataFrame.interpolate with object dtype is deprecated and will raise in a future version. Call obj.infer_objects(copy=False) before interpolating instead.\n",
      "  df = df.interpolate(limit_direction='both').fillna(method='bfill').fillna(method='ffill')\n",
      "C:\\Users\\user\\AppData\\Local\\Temp\\ipykernel_10720\\2496765150.py:22: FutureWarning: DataFrame.fillna with 'method' is deprecated and will raise in a future version. Use obj.ffill() or obj.bfill() instead.\n",
      "  df = df.interpolate(limit_direction='both').fillna(method='bfill').fillna(method='ffill')\n",
      " 22%|██▏       | 56/252 [00:11<00:45,  4.31it/s]C:\\Users\\user\\AppData\\Local\\Temp\\ipykernel_10720\\2496765150.py:22: FutureWarning: DataFrame.interpolate with object dtype is deprecated and will raise in a future version. Call obj.infer_objects(copy=False) before interpolating instead.\n",
      "  df = df.interpolate(limit_direction='both').fillna(method='bfill').fillna(method='ffill')\n",
      "C:\\Users\\user\\AppData\\Local\\Temp\\ipykernel_10720\\2496765150.py:22: FutureWarning: DataFrame.fillna with 'method' is deprecated and will raise in a future version. Use obj.ffill() or obj.bfill() instead.\n",
      "  df = df.interpolate(limit_direction='both').fillna(method='bfill').fillna(method='ffill')\n",
      " 23%|██▎       | 57/252 [00:11<00:45,  4.26it/s]C:\\Users\\user\\AppData\\Local\\Temp\\ipykernel_10720\\2496765150.py:22: FutureWarning: DataFrame.interpolate with object dtype is deprecated and will raise in a future version. Call obj.infer_objects(copy=False) before interpolating instead.\n",
      "  df = df.interpolate(limit_direction='both').fillna(method='bfill').fillna(method='ffill')\n",
      "C:\\Users\\user\\AppData\\Local\\Temp\\ipykernel_10720\\2496765150.py:22: FutureWarning: DataFrame.fillna with 'method' is deprecated and will raise in a future version. Use obj.ffill() or obj.bfill() instead.\n",
      "  df = df.interpolate(limit_direction='both').fillna(method='bfill').fillna(method='ffill')\n",
      "C:\\Users\\user\\AppData\\Local\\Temp\\ipykernel_10720\\2496765150.py:22: FutureWarning: DataFrame.interpolate with object dtype is deprecated and will raise in a future version. Call obj.infer_objects(copy=False) before interpolating instead.\n",
      "  df = df.interpolate(limit_direction='both').fillna(method='bfill').fillna(method='ffill')\n",
      "C:\\Users\\user\\AppData\\Local\\Temp\\ipykernel_10720\\2496765150.py:22: FutureWarning: DataFrame.fillna with 'method' is deprecated and will raise in a future version. Use obj.ffill() or obj.bfill() instead.\n",
      "  df = df.interpolate(limit_direction='both').fillna(method='bfill').fillna(method='ffill')\n",
      " 23%|██▎       | 59/252 [00:11<00:37,  5.15it/s]C:\\Users\\user\\AppData\\Local\\Temp\\ipykernel_10720\\2496765150.py:22: FutureWarning: DataFrame.interpolate with object dtype is deprecated and will raise in a future version. Call obj.infer_objects(copy=False) before interpolating instead.\n",
      "  df = df.interpolate(limit_direction='both').fillna(method='bfill').fillna(method='ffill')\n",
      "C:\\Users\\user\\AppData\\Local\\Temp\\ipykernel_10720\\2496765150.py:22: FutureWarning: DataFrame.fillna with 'method' is deprecated and will raise in a future version. Use obj.ffill() or obj.bfill() instead.\n",
      "  df = df.interpolate(limit_direction='both').fillna(method='bfill').fillna(method='ffill')\n",
      " 24%|██▍       | 60/252 [00:12<00:39,  4.87it/s]C:\\Users\\user\\AppData\\Local\\Temp\\ipykernel_10720\\2496765150.py:22: FutureWarning: DataFrame.interpolate with object dtype is deprecated and will raise in a future version. Call obj.infer_objects(copy=False) before interpolating instead.\n",
      "  df = df.interpolate(limit_direction='both').fillna(method='bfill').fillna(method='ffill')\n",
      "C:\\Users\\user\\AppData\\Local\\Temp\\ipykernel_10720\\2496765150.py:22: FutureWarning: DataFrame.fillna with 'method' is deprecated and will raise in a future version. Use obj.ffill() or obj.bfill() instead.\n",
      "  df = df.interpolate(limit_direction='both').fillna(method='bfill').fillna(method='ffill')\n",
      " 24%|██▍       | 61/252 [00:12<00:44,  4.28it/s]C:\\Users\\user\\AppData\\Local\\Temp\\ipykernel_10720\\2496765150.py:22: FutureWarning: DataFrame.interpolate with object dtype is deprecated and will raise in a future version. Call obj.infer_objects(copy=False) before interpolating instead.\n",
      "  df = df.interpolate(limit_direction='both').fillna(method='bfill').fillna(method='ffill')\n",
      "C:\\Users\\user\\AppData\\Local\\Temp\\ipykernel_10720\\2496765150.py:22: FutureWarning: DataFrame.fillna with 'method' is deprecated and will raise in a future version. Use obj.ffill() or obj.bfill() instead.\n",
      "  df = df.interpolate(limit_direction='both').fillna(method='bfill').fillna(method='ffill')\n",
      " 25%|██▍       | 62/252 [00:12<00:44,  4.32it/s]C:\\Users\\user\\AppData\\Local\\Temp\\ipykernel_10720\\2496765150.py:22: FutureWarning: DataFrame.interpolate with object dtype is deprecated and will raise in a future version. Call obj.infer_objects(copy=False) before interpolating instead.\n",
      "  df = df.interpolate(limit_direction='both').fillna(method='bfill').fillna(method='ffill')\n",
      "C:\\Users\\user\\AppData\\Local\\Temp\\ipykernel_10720\\2496765150.py:22: FutureWarning: DataFrame.fillna with 'method' is deprecated and will raise in a future version. Use obj.ffill() or obj.bfill() instead.\n",
      "  df = df.interpolate(limit_direction='both').fillna(method='bfill').fillna(method='ffill')\n",
      " 25%|██▌       | 63/252 [00:12<00:43,  4.36it/s]C:\\Users\\user\\AppData\\Local\\Temp\\ipykernel_10720\\2496765150.py:22: FutureWarning: DataFrame.interpolate with object dtype is deprecated and will raise in a future version. Call obj.infer_objects(copy=False) before interpolating instead.\n",
      "  df = df.interpolate(limit_direction='both').fillna(method='bfill').fillna(method='ffill')\n",
      "C:\\Users\\user\\AppData\\Local\\Temp\\ipykernel_10720\\2496765150.py:22: FutureWarning: DataFrame.fillna with 'method' is deprecated and will raise in a future version. Use obj.ffill() or obj.bfill() instead.\n",
      "  df = df.interpolate(limit_direction='both').fillna(method='bfill').fillna(method='ffill')\n",
      " 25%|██▌       | 64/252 [00:13<00:43,  4.36it/s]C:\\Users\\user\\AppData\\Local\\Temp\\ipykernel_10720\\2496765150.py:22: FutureWarning: DataFrame.interpolate with object dtype is deprecated and will raise in a future version. Call obj.infer_objects(copy=False) before interpolating instead.\n",
      "  df = df.interpolate(limit_direction='both').fillna(method='bfill').fillna(method='ffill')\n",
      "C:\\Users\\user\\AppData\\Local\\Temp\\ipykernel_10720\\2496765150.py:22: FutureWarning: DataFrame.fillna with 'method' is deprecated and will raise in a future version. Use obj.ffill() or obj.bfill() instead.\n",
      "  df = df.interpolate(limit_direction='both').fillna(method='bfill').fillna(method='ffill')\n",
      " 26%|██▌       | 65/252 [00:13<00:45,  4.11it/s]C:\\Users\\user\\AppData\\Local\\Temp\\ipykernel_10720\\2496765150.py:22: FutureWarning: DataFrame.interpolate with object dtype is deprecated and will raise in a future version. Call obj.infer_objects(copy=False) before interpolating instead.\n",
      "  df = df.interpolate(limit_direction='both').fillna(method='bfill').fillna(method='ffill')\n",
      "C:\\Users\\user\\AppData\\Local\\Temp\\ipykernel_10720\\2496765150.py:22: FutureWarning: DataFrame.fillna with 'method' is deprecated and will raise in a future version. Use obj.ffill() or obj.bfill() instead.\n",
      "  df = df.interpolate(limit_direction='both').fillna(method='bfill').fillna(method='ffill')\n",
      " 26%|██▌       | 66/252 [00:13<00:44,  4.18it/s]C:\\Users\\user\\AppData\\Local\\Temp\\ipykernel_10720\\2496765150.py:22: FutureWarning: DataFrame.interpolate with object dtype is deprecated and will raise in a future version. Call obj.infer_objects(copy=False) before interpolating instead.\n",
      "  df = df.interpolate(limit_direction='both').fillna(method='bfill').fillna(method='ffill')\n",
      "C:\\Users\\user\\AppData\\Local\\Temp\\ipykernel_10720\\2496765150.py:22: FutureWarning: DataFrame.fillna with 'method' is deprecated and will raise in a future version. Use obj.ffill() or obj.bfill() instead.\n",
      "  df = df.interpolate(limit_direction='both').fillna(method='bfill').fillna(method='ffill')\n",
      " 27%|██▋       | 67/252 [00:13<00:44,  4.16it/s]C:\\Users\\user\\AppData\\Local\\Temp\\ipykernel_10720\\2496765150.py:22: FutureWarning: DataFrame.interpolate with object dtype is deprecated and will raise in a future version. Call obj.infer_objects(copy=False) before interpolating instead.\n",
      "  df = df.interpolate(limit_direction='both').fillna(method='bfill').fillna(method='ffill')\n",
      "C:\\Users\\user\\AppData\\Local\\Temp\\ipykernel_10720\\2496765150.py:22: FutureWarning: DataFrame.fillna with 'method' is deprecated and will raise in a future version. Use obj.ffill() or obj.bfill() instead.\n",
      "  df = df.interpolate(limit_direction='both').fillna(method='bfill').fillna(method='ffill')\n",
      " 27%|██▋       | 68/252 [00:14<00:44,  4.14it/s]C:\\Users\\user\\AppData\\Local\\Temp\\ipykernel_10720\\2496765150.py:22: FutureWarning: DataFrame.interpolate with object dtype is deprecated and will raise in a future version. Call obj.infer_objects(copy=False) before interpolating instead.\n",
      "  df = df.interpolate(limit_direction='both').fillna(method='bfill').fillna(method='ffill')\n",
      "C:\\Users\\user\\AppData\\Local\\Temp\\ipykernel_10720\\2496765150.py:22: FutureWarning: DataFrame.fillna with 'method' is deprecated and will raise in a future version. Use obj.ffill() or obj.bfill() instead.\n",
      "  df = df.interpolate(limit_direction='both').fillna(method='bfill').fillna(method='ffill')\n",
      " 27%|██▋       | 69/252 [00:14<00:41,  4.37it/s]C:\\Users\\user\\AppData\\Local\\Temp\\ipykernel_10720\\2496765150.py:22: FutureWarning: DataFrame.interpolate with object dtype is deprecated and will raise in a future version. Call obj.infer_objects(copy=False) before interpolating instead.\n",
      "  df = df.interpolate(limit_direction='both').fillna(method='bfill').fillna(method='ffill')\n",
      "C:\\Users\\user\\AppData\\Local\\Temp\\ipykernel_10720\\2496765150.py:22: FutureWarning: DataFrame.fillna with 'method' is deprecated and will raise in a future version. Use obj.ffill() or obj.bfill() instead.\n",
      "  df = df.interpolate(limit_direction='both').fillna(method='bfill').fillna(method='ffill')\n",
      " 28%|██▊       | 70/252 [00:14<00:37,  4.90it/s]C:\\Users\\user\\AppData\\Local\\Temp\\ipykernel_10720\\2496765150.py:22: FutureWarning: DataFrame.interpolate with object dtype is deprecated and will raise in a future version. Call obj.infer_objects(copy=False) before interpolating instead.\n",
      "  df = df.interpolate(limit_direction='both').fillna(method='bfill').fillna(method='ffill')\n",
      "C:\\Users\\user\\AppData\\Local\\Temp\\ipykernel_10720\\2496765150.py:22: FutureWarning: DataFrame.fillna with 'method' is deprecated and will raise in a future version. Use obj.ffill() or obj.bfill() instead.\n",
      "  df = df.interpolate(limit_direction='both').fillna(method='bfill').fillna(method='ffill')\n",
      "C:\\Users\\user\\AppData\\Local\\Temp\\ipykernel_10720\\2496765150.py:22: FutureWarning: DataFrame.interpolate with object dtype is deprecated and will raise in a future version. Call obj.infer_objects(copy=False) before interpolating instead.\n",
      "  df = df.interpolate(limit_direction='both').fillna(method='bfill').fillna(method='ffill')\n",
      "C:\\Users\\user\\AppData\\Local\\Temp\\ipykernel_10720\\2496765150.py:22: FutureWarning: DataFrame.fillna with 'method' is deprecated and will raise in a future version. Use obj.ffill() or obj.bfill() instead.\n",
      "  df = df.interpolate(limit_direction='both').fillna(method='bfill').fillna(method='ffill')\n",
      " 29%|██▊       | 72/252 [00:14<00:34,  5.27it/s]C:\\Users\\user\\AppData\\Local\\Temp\\ipykernel_10720\\2496765150.py:22: FutureWarning: DataFrame.interpolate with object dtype is deprecated and will raise in a future version. Call obj.infer_objects(copy=False) before interpolating instead.\n",
      "  df = df.interpolate(limit_direction='both').fillna(method='bfill').fillna(method='ffill')\n",
      "C:\\Users\\user\\AppData\\Local\\Temp\\ipykernel_10720\\2496765150.py:22: FutureWarning: DataFrame.fillna with 'method' is deprecated and will raise in a future version. Use obj.ffill() or obj.bfill() instead.\n",
      "  df = df.interpolate(limit_direction='both').fillna(method='bfill').fillna(method='ffill')\n",
      " 29%|██▉       | 73/252 [00:15<00:35,  5.04it/s]C:\\Users\\user\\AppData\\Local\\Temp\\ipykernel_10720\\2496765150.py:22: FutureWarning: DataFrame.interpolate with object dtype is deprecated and will raise in a future version. Call obj.infer_objects(copy=False) before interpolating instead.\n",
      "  df = df.interpolate(limit_direction='both').fillna(method='bfill').fillna(method='ffill')\n",
      "C:\\Users\\user\\AppData\\Local\\Temp\\ipykernel_10720\\2496765150.py:22: FutureWarning: DataFrame.fillna with 'method' is deprecated and will raise in a future version. Use obj.ffill() or obj.bfill() instead.\n",
      "  df = df.interpolate(limit_direction='both').fillna(method='bfill').fillna(method='ffill')\n",
      " 29%|██▉       | 74/252 [00:15<00:37,  4.73it/s]C:\\Users\\user\\AppData\\Local\\Temp\\ipykernel_10720\\2496765150.py:22: FutureWarning: DataFrame.interpolate with object dtype is deprecated and will raise in a future version. Call obj.infer_objects(copy=False) before interpolating instead.\n",
      "  df = df.interpolate(limit_direction='both').fillna(method='bfill').fillna(method='ffill')\n",
      "C:\\Users\\user\\AppData\\Local\\Temp\\ipykernel_10720\\2496765150.py:22: FutureWarning: DataFrame.fillna with 'method' is deprecated and will raise in a future version. Use obj.ffill() or obj.bfill() instead.\n",
      "  df = df.interpolate(limit_direction='both').fillna(method='bfill').fillna(method='ffill')\n",
      " 30%|██▉       | 75/252 [00:15<00:37,  4.66it/s]C:\\Users\\user\\AppData\\Local\\Temp\\ipykernel_10720\\2496765150.py:22: FutureWarning: DataFrame.interpolate with object dtype is deprecated and will raise in a future version. Call obj.infer_objects(copy=False) before interpolating instead.\n",
      "  df = df.interpolate(limit_direction='both').fillna(method='bfill').fillna(method='ffill')\n",
      "C:\\Users\\user\\AppData\\Local\\Temp\\ipykernel_10720\\2496765150.py:22: FutureWarning: DataFrame.fillna with 'method' is deprecated and will raise in a future version. Use obj.ffill() or obj.bfill() instead.\n",
      "  df = df.interpolate(limit_direction='both').fillna(method='bfill').fillna(method='ffill')\n",
      " 30%|███       | 76/252 [00:15<00:38,  4.58it/s]C:\\Users\\user\\AppData\\Local\\Temp\\ipykernel_10720\\2496765150.py:22: FutureWarning: DataFrame.interpolate with object dtype is deprecated and will raise in a future version. Call obj.infer_objects(copy=False) before interpolating instead.\n",
      "  df = df.interpolate(limit_direction='both').fillna(method='bfill').fillna(method='ffill')\n",
      "C:\\Users\\user\\AppData\\Local\\Temp\\ipykernel_10720\\2496765150.py:22: FutureWarning: DataFrame.fillna with 'method' is deprecated and will raise in a future version. Use obj.ffill() or obj.bfill() instead.\n",
      "  df = df.interpolate(limit_direction='both').fillna(method='bfill').fillna(method='ffill')\n",
      " 31%|███       | 77/252 [00:16<00:37,  4.69it/s]C:\\Users\\user\\AppData\\Local\\Temp\\ipykernel_10720\\2496765150.py:22: FutureWarning: DataFrame.interpolate with object dtype is deprecated and will raise in a future version. Call obj.infer_objects(copy=False) before interpolating instead.\n",
      "  df = df.interpolate(limit_direction='both').fillna(method='bfill').fillna(method='ffill')\n",
      "C:\\Users\\user\\AppData\\Local\\Temp\\ipykernel_10720\\2496765150.py:22: FutureWarning: DataFrame.fillna with 'method' is deprecated and will raise in a future version. Use obj.ffill() or obj.bfill() instead.\n",
      "  df = df.interpolate(limit_direction='both').fillna(method='bfill').fillna(method='ffill')\n",
      " 31%|███       | 78/252 [00:16<00:36,  4.73it/s]C:\\Users\\user\\AppData\\Local\\Temp\\ipykernel_10720\\2496765150.py:22: FutureWarning: DataFrame.interpolate with object dtype is deprecated and will raise in a future version. Call obj.infer_objects(copy=False) before interpolating instead.\n",
      "  df = df.interpolate(limit_direction='both').fillna(method='bfill').fillna(method='ffill')\n",
      "C:\\Users\\user\\AppData\\Local\\Temp\\ipykernel_10720\\2496765150.py:22: FutureWarning: DataFrame.fillna with 'method' is deprecated and will raise in a future version. Use obj.ffill() or obj.bfill() instead.\n",
      "  df = df.interpolate(limit_direction='both').fillna(method='bfill').fillna(method='ffill')\n",
      " 31%|███▏      | 79/252 [00:16<00:37,  4.62it/s]C:\\Users\\user\\AppData\\Local\\Temp\\ipykernel_10720\\2496765150.py:22: FutureWarning: DataFrame.interpolate with object dtype is deprecated and will raise in a future version. Call obj.infer_objects(copy=False) before interpolating instead.\n",
      "  df = df.interpolate(limit_direction='both').fillna(method='bfill').fillna(method='ffill')\n",
      "C:\\Users\\user\\AppData\\Local\\Temp\\ipykernel_10720\\2496765150.py:22: FutureWarning: DataFrame.fillna with 'method' is deprecated and will raise in a future version. Use obj.ffill() or obj.bfill() instead.\n",
      "  df = df.interpolate(limit_direction='both').fillna(method='bfill').fillna(method='ffill')\n",
      " 32%|███▏      | 80/252 [00:16<00:37,  4.64it/s]C:\\Users\\user\\AppData\\Local\\Temp\\ipykernel_10720\\2496765150.py:22: FutureWarning: DataFrame.interpolate with object dtype is deprecated and will raise in a future version. Call obj.infer_objects(copy=False) before interpolating instead.\n",
      "  df = df.interpolate(limit_direction='both').fillna(method='bfill').fillna(method='ffill')\n",
      "C:\\Users\\user\\AppData\\Local\\Temp\\ipykernel_10720\\2496765150.py:22: FutureWarning: DataFrame.fillna with 'method' is deprecated and will raise in a future version. Use obj.ffill() or obj.bfill() instead.\n",
      "  df = df.interpolate(limit_direction='both').fillna(method='bfill').fillna(method='ffill')\n",
      "C:\\Users\\user\\AppData\\Local\\Temp\\ipykernel_10720\\2496765150.py:22: FutureWarning: DataFrame.interpolate with object dtype is deprecated and will raise in a future version. Call obj.infer_objects(copy=False) before interpolating instead.\n",
      "  df = df.interpolate(limit_direction='both').fillna(method='bfill').fillna(method='ffill')\n",
      "C:\\Users\\user\\AppData\\Local\\Temp\\ipykernel_10720\\2496765150.py:22: FutureWarning: DataFrame.fillna with 'method' is deprecated and will raise in a future version. Use obj.ffill() or obj.bfill() instead.\n",
      "  df = df.interpolate(limit_direction='both').fillna(method='bfill').fillna(method='ffill')\n",
      " 33%|███▎      | 82/252 [00:16<00:26,  6.41it/s]C:\\Users\\user\\AppData\\Local\\Temp\\ipykernel_10720\\2496765150.py:22: FutureWarning: DataFrame.interpolate with object dtype is deprecated and will raise in a future version. Call obj.infer_objects(copy=False) before interpolating instead.\n",
      "  df = df.interpolate(limit_direction='both').fillna(method='bfill').fillna(method='ffill')\n",
      "C:\\Users\\user\\AppData\\Local\\Temp\\ipykernel_10720\\2496765150.py:22: FutureWarning: DataFrame.fillna with 'method' is deprecated and will raise in a future version. Use obj.ffill() or obj.bfill() instead.\n",
      "  df = df.interpolate(limit_direction='both').fillna(method='bfill').fillna(method='ffill')\n",
      "C:\\Users\\user\\AppData\\Local\\Temp\\ipykernel_10720\\2496765150.py:22: FutureWarning: DataFrame.interpolate with object dtype is deprecated and will raise in a future version. Call obj.infer_objects(copy=False) before interpolating instead.\n",
      "  df = df.interpolate(limit_direction='both').fillna(method='bfill').fillna(method='ffill')\n",
      "C:\\Users\\user\\AppData\\Local\\Temp\\ipykernel_10720\\2496765150.py:22: FutureWarning: DataFrame.fillna with 'method' is deprecated and will raise in a future version. Use obj.ffill() or obj.bfill() instead.\n",
      "  df = df.interpolate(limit_direction='both').fillna(method='bfill').fillna(method='ffill')\n",
      " 33%|███▎      | 84/252 [00:17<00:21,  7.69it/s]C:\\Users\\user\\AppData\\Local\\Temp\\ipykernel_10720\\2496765150.py:22: FutureWarning: DataFrame.interpolate with object dtype is deprecated and will raise in a future version. Call obj.infer_objects(copy=False) before interpolating instead.\n",
      "  df = df.interpolate(limit_direction='both').fillna(method='bfill').fillna(method='ffill')\n",
      "C:\\Users\\user\\AppData\\Local\\Temp\\ipykernel_10720\\2496765150.py:22: FutureWarning: DataFrame.fillna with 'method' is deprecated and will raise in a future version. Use obj.ffill() or obj.bfill() instead.\n",
      "  df = df.interpolate(limit_direction='both').fillna(method='bfill').fillna(method='ffill')\n",
      " 34%|███▎      | 85/252 [00:17<00:24,  6.72it/s]C:\\Users\\user\\AppData\\Local\\Temp\\ipykernel_10720\\2496765150.py:22: FutureWarning: DataFrame.interpolate with object dtype is deprecated and will raise in a future version. Call obj.infer_objects(copy=False) before interpolating instead.\n",
      "  df = df.interpolate(limit_direction='both').fillna(method='bfill').fillna(method='ffill')\n",
      "C:\\Users\\user\\AppData\\Local\\Temp\\ipykernel_10720\\2496765150.py:22: FutureWarning: DataFrame.fillna with 'method' is deprecated and will raise in a future version. Use obj.ffill() or obj.bfill() instead.\n",
      "  df = df.interpolate(limit_direction='both').fillna(method='bfill').fillna(method='ffill')\n",
      " 34%|███▍      | 86/252 [00:17<00:26,  6.18it/s]C:\\Users\\user\\AppData\\Local\\Temp\\ipykernel_10720\\2496765150.py:22: FutureWarning: DataFrame.interpolate with object dtype is deprecated and will raise in a future version. Call obj.infer_objects(copy=False) before interpolating instead.\n",
      "  df = df.interpolate(limit_direction='both').fillna(method='bfill').fillna(method='ffill')\n",
      "C:\\Users\\user\\AppData\\Local\\Temp\\ipykernel_10720\\2496765150.py:22: FutureWarning: DataFrame.fillna with 'method' is deprecated and will raise in a future version. Use obj.ffill() or obj.bfill() instead.\n",
      "  df = df.interpolate(limit_direction='both').fillna(method='bfill').fillna(method='ffill')\n",
      " 35%|███▍      | 87/252 [00:17<00:32,  5.09it/s]C:\\Users\\user\\AppData\\Local\\Temp\\ipykernel_10720\\2496765150.py:22: FutureWarning: DataFrame.interpolate with object dtype is deprecated and will raise in a future version. Call obj.infer_objects(copy=False) before interpolating instead.\n",
      "  df = df.interpolate(limit_direction='both').fillna(method='bfill').fillna(method='ffill')\n",
      "C:\\Users\\user\\AppData\\Local\\Temp\\ipykernel_10720\\2496765150.py:22: FutureWarning: DataFrame.fillna with 'method' is deprecated and will raise in a future version. Use obj.ffill() or obj.bfill() instead.\n",
      "  df = df.interpolate(limit_direction='both').fillna(method='bfill').fillna(method='ffill')\n",
      " 35%|███▍      | 88/252 [00:17<00:32,  5.09it/s]C:\\Users\\user\\AppData\\Local\\Temp\\ipykernel_10720\\2496765150.py:22: FutureWarning: DataFrame.interpolate with object dtype is deprecated and will raise in a future version. Call obj.infer_objects(copy=False) before interpolating instead.\n",
      "  df = df.interpolate(limit_direction='both').fillna(method='bfill').fillna(method='ffill')\n",
      "C:\\Users\\user\\AppData\\Local\\Temp\\ipykernel_10720\\2496765150.py:22: FutureWarning: DataFrame.fillna with 'method' is deprecated and will raise in a future version. Use obj.ffill() or obj.bfill() instead.\n",
      "  df = df.interpolate(limit_direction='both').fillna(method='bfill').fillna(method='ffill')\n",
      " 35%|███▌      | 89/252 [00:18<00:32,  5.04it/s]C:\\Users\\user\\AppData\\Local\\Temp\\ipykernel_10720\\2496765150.py:22: FutureWarning: DataFrame.interpolate with object dtype is deprecated and will raise in a future version. Call obj.infer_objects(copy=False) before interpolating instead.\n",
      "  df = df.interpolate(limit_direction='both').fillna(method='bfill').fillna(method='ffill')\n",
      "C:\\Users\\user\\AppData\\Local\\Temp\\ipykernel_10720\\2496765150.py:22: FutureWarning: DataFrame.fillna with 'method' is deprecated and will raise in a future version. Use obj.ffill() or obj.bfill() instead.\n",
      "  df = df.interpolate(limit_direction='both').fillna(method='bfill').fillna(method='ffill')\n",
      " 36%|███▌      | 90/252 [00:18<00:35,  4.54it/s]C:\\Users\\user\\AppData\\Local\\Temp\\ipykernel_10720\\2496765150.py:22: FutureWarning: DataFrame.interpolate with object dtype is deprecated and will raise in a future version. Call obj.infer_objects(copy=False) before interpolating instead.\n",
      "  df = df.interpolate(limit_direction='both').fillna(method='bfill').fillna(method='ffill')\n",
      "C:\\Users\\user\\AppData\\Local\\Temp\\ipykernel_10720\\2496765150.py:22: FutureWarning: DataFrame.fillna with 'method' is deprecated and will raise in a future version. Use obj.ffill() or obj.bfill() instead.\n",
      "  df = df.interpolate(limit_direction='both').fillna(method='bfill').fillna(method='ffill')\n",
      " 36%|███▌      | 91/252 [00:18<00:33,  4.74it/s]C:\\Users\\user\\AppData\\Local\\Temp\\ipykernel_10720\\2496765150.py:22: FutureWarning: DataFrame.interpolate with object dtype is deprecated and will raise in a future version. Call obj.infer_objects(copy=False) before interpolating instead.\n",
      "  df = df.interpolate(limit_direction='both').fillna(method='bfill').fillna(method='ffill')\n",
      "C:\\Users\\user\\AppData\\Local\\Temp\\ipykernel_10720\\2496765150.py:22: FutureWarning: DataFrame.fillna with 'method' is deprecated and will raise in a future version. Use obj.ffill() or obj.bfill() instead.\n",
      "  df = df.interpolate(limit_direction='both').fillna(method='bfill').fillna(method='ffill')\n",
      " 37%|███▋      | 92/252 [00:18<00:32,  4.91it/s]C:\\Users\\user\\AppData\\Local\\Temp\\ipykernel_10720\\2496765150.py:22: FutureWarning: DataFrame.interpolate with object dtype is deprecated and will raise in a future version. Call obj.infer_objects(copy=False) before interpolating instead.\n",
      "  df = df.interpolate(limit_direction='both').fillna(method='bfill').fillna(method='ffill')\n",
      "C:\\Users\\user\\AppData\\Local\\Temp\\ipykernel_10720\\2496765150.py:22: FutureWarning: DataFrame.fillna with 'method' is deprecated and will raise in a future version. Use obj.ffill() or obj.bfill() instead.\n",
      "  df = df.interpolate(limit_direction='both').fillna(method='bfill').fillna(method='ffill')\n",
      " 37%|███▋      | 93/252 [00:19<00:34,  4.67it/s]C:\\Users\\user\\AppData\\Local\\Temp\\ipykernel_10720\\2496765150.py:22: FutureWarning: DataFrame.interpolate with object dtype is deprecated and will raise in a future version. Call obj.infer_objects(copy=False) before interpolating instead.\n",
      "  df = df.interpolate(limit_direction='both').fillna(method='bfill').fillna(method='ffill')\n",
      "C:\\Users\\user\\AppData\\Local\\Temp\\ipykernel_10720\\2496765150.py:22: FutureWarning: DataFrame.fillna with 'method' is deprecated and will raise in a future version. Use obj.ffill() or obj.bfill() instead.\n",
      "  df = df.interpolate(limit_direction='both').fillna(method='bfill').fillna(method='ffill')\n",
      " 37%|███▋      | 94/252 [00:19<00:34,  4.60it/s]C:\\Users\\user\\AppData\\Local\\Temp\\ipykernel_10720\\2496765150.py:22: FutureWarning: DataFrame.interpolate with object dtype is deprecated and will raise in a future version. Call obj.infer_objects(copy=False) before interpolating instead.\n",
      "  df = df.interpolate(limit_direction='both').fillna(method='bfill').fillna(method='ffill')\n",
      "C:\\Users\\user\\AppData\\Local\\Temp\\ipykernel_10720\\2496765150.py:22: FutureWarning: DataFrame.fillna with 'method' is deprecated and will raise in a future version. Use obj.ffill() or obj.bfill() instead.\n",
      "  df = df.interpolate(limit_direction='both').fillna(method='bfill').fillna(method='ffill')\n",
      " 38%|███▊      | 95/252 [00:19<00:37,  4.17it/s]C:\\Users\\user\\AppData\\Local\\Temp\\ipykernel_10720\\2496765150.py:22: FutureWarning: DataFrame.interpolate with object dtype is deprecated and will raise in a future version. Call obj.infer_objects(copy=False) before interpolating instead.\n",
      "  df = df.interpolate(limit_direction='both').fillna(method='bfill').fillna(method='ffill')\n",
      "C:\\Users\\user\\AppData\\Local\\Temp\\ipykernel_10720\\2496765150.py:22: FutureWarning: DataFrame.fillna with 'method' is deprecated and will raise in a future version. Use obj.ffill() or obj.bfill() instead.\n",
      "  df = df.interpolate(limit_direction='both').fillna(method='bfill').fillna(method='ffill')\n",
      " 38%|███▊      | 96/252 [00:19<00:38,  4.10it/s]C:\\Users\\user\\AppData\\Local\\Temp\\ipykernel_10720\\2496765150.py:22: FutureWarning: DataFrame.interpolate with object dtype is deprecated and will raise in a future version. Call obj.infer_objects(copy=False) before interpolating instead.\n",
      "  df = df.interpolate(limit_direction='both').fillna(method='bfill').fillna(method='ffill')\n",
      "C:\\Users\\user\\AppData\\Local\\Temp\\ipykernel_10720\\2496765150.py:22: FutureWarning: DataFrame.fillna with 'method' is deprecated and will raise in a future version. Use obj.ffill() or obj.bfill() instead.\n",
      "  df = df.interpolate(limit_direction='both').fillna(method='bfill').fillna(method='ffill')\n",
      " 38%|███▊      | 97/252 [00:19<00:35,  4.32it/s]C:\\Users\\user\\AppData\\Local\\Temp\\ipykernel_10720\\2496765150.py:22: FutureWarning: DataFrame.interpolate with object dtype is deprecated and will raise in a future version. Call obj.infer_objects(copy=False) before interpolating instead.\n",
      "  df = df.interpolate(limit_direction='both').fillna(method='bfill').fillna(method='ffill')\n",
      "C:\\Users\\user\\AppData\\Local\\Temp\\ipykernel_10720\\2496765150.py:22: FutureWarning: DataFrame.fillna with 'method' is deprecated and will raise in a future version. Use obj.ffill() or obj.bfill() instead.\n",
      "  df = df.interpolate(limit_direction='both').fillna(method='bfill').fillna(method='ffill')\n",
      " 39%|███▉      | 98/252 [00:20<00:36,  4.21it/s]C:\\Users\\user\\AppData\\Local\\Temp\\ipykernel_10720\\2496765150.py:22: FutureWarning: DataFrame.interpolate with object dtype is deprecated and will raise in a future version. Call obj.infer_objects(copy=False) before interpolating instead.\n",
      "  df = df.interpolate(limit_direction='both').fillna(method='bfill').fillna(method='ffill')\n",
      "C:\\Users\\user\\AppData\\Local\\Temp\\ipykernel_10720\\2496765150.py:22: FutureWarning: DataFrame.fillna with 'method' is deprecated and will raise in a future version. Use obj.ffill() or obj.bfill() instead.\n",
      "  df = df.interpolate(limit_direction='both').fillna(method='bfill').fillna(method='ffill')\n",
      " 39%|███▉      | 99/252 [00:20<00:34,  4.44it/s]C:\\Users\\user\\AppData\\Local\\Temp\\ipykernel_10720\\2496765150.py:22: FutureWarning: DataFrame.interpolate with object dtype is deprecated and will raise in a future version. Call obj.infer_objects(copy=False) before interpolating instead.\n",
      "  df = df.interpolate(limit_direction='both').fillna(method='bfill').fillna(method='ffill')\n",
      "C:\\Users\\user\\AppData\\Local\\Temp\\ipykernel_10720\\2496765150.py:22: FutureWarning: DataFrame.fillna with 'method' is deprecated and will raise in a future version. Use obj.ffill() or obj.bfill() instead.\n",
      "  df = df.interpolate(limit_direction='both').fillna(method='bfill').fillna(method='ffill')\n",
      " 40%|███▉      | 100/252 [00:20<00:33,  4.60it/s]C:\\Users\\user\\AppData\\Local\\Temp\\ipykernel_10720\\2496765150.py:22: FutureWarning: DataFrame.interpolate with object dtype is deprecated and will raise in a future version. Call obj.infer_objects(copy=False) before interpolating instead.\n",
      "  df = df.interpolate(limit_direction='both').fillna(method='bfill').fillna(method='ffill')\n",
      "C:\\Users\\user\\AppData\\Local\\Temp\\ipykernel_10720\\2496765150.py:22: FutureWarning: DataFrame.fillna with 'method' is deprecated and will raise in a future version. Use obj.ffill() or obj.bfill() instead.\n",
      "  df = df.interpolate(limit_direction='both').fillna(method='bfill').fillna(method='ffill')\n",
      " 40%|████      | 101/252 [00:20<00:32,  4.65it/s]C:\\Users\\user\\AppData\\Local\\Temp\\ipykernel_10720\\2496765150.py:22: FutureWarning: DataFrame.interpolate with object dtype is deprecated and will raise in a future version. Call obj.infer_objects(copy=False) before interpolating instead.\n",
      "  df = df.interpolate(limit_direction='both').fillna(method='bfill').fillna(method='ffill')\n",
      "C:\\Users\\user\\AppData\\Local\\Temp\\ipykernel_10720\\2496765150.py:22: FutureWarning: DataFrame.fillna with 'method' is deprecated and will raise in a future version. Use obj.ffill() or obj.bfill() instead.\n",
      "  df = df.interpolate(limit_direction='both').fillna(method='bfill').fillna(method='ffill')\n",
      " 40%|████      | 102/252 [00:21<00:33,  4.44it/s]C:\\Users\\user\\AppData\\Local\\Temp\\ipykernel_10720\\2496765150.py:22: FutureWarning: DataFrame.interpolate with object dtype is deprecated and will raise in a future version. Call obj.infer_objects(copy=False) before interpolating instead.\n",
      "  df = df.interpolate(limit_direction='both').fillna(method='bfill').fillna(method='ffill')\n",
      "C:\\Users\\user\\AppData\\Local\\Temp\\ipykernel_10720\\2496765150.py:22: FutureWarning: DataFrame.fillna with 'method' is deprecated and will raise in a future version. Use obj.ffill() or obj.bfill() instead.\n",
      "  df = df.interpolate(limit_direction='both').fillna(method='bfill').fillna(method='ffill')\n",
      " 41%|████      | 103/252 [00:21<00:37,  3.93it/s]C:\\Users\\user\\AppData\\Local\\Temp\\ipykernel_10720\\2496765150.py:22: FutureWarning: DataFrame.interpolate with object dtype is deprecated and will raise in a future version. Call obj.infer_objects(copy=False) before interpolating instead.\n",
      "  df = df.interpolate(limit_direction='both').fillna(method='bfill').fillna(method='ffill')\n",
      "C:\\Users\\user\\AppData\\Local\\Temp\\ipykernel_10720\\2496765150.py:22: FutureWarning: DataFrame.fillna with 'method' is deprecated and will raise in a future version. Use obj.ffill() or obj.bfill() instead.\n",
      "  df = df.interpolate(limit_direction='both').fillna(method='bfill').fillna(method='ffill')\n",
      " 41%|████▏     | 104/252 [00:21<00:35,  4.17it/s]C:\\Users\\user\\AppData\\Local\\Temp\\ipykernel_10720\\2496765150.py:22: FutureWarning: DataFrame.interpolate with object dtype is deprecated and will raise in a future version. Call obj.infer_objects(copy=False) before interpolating instead.\n",
      "  df = df.interpolate(limit_direction='both').fillna(method='bfill').fillna(method='ffill')\n",
      "C:\\Users\\user\\AppData\\Local\\Temp\\ipykernel_10720\\2496765150.py:22: FutureWarning: DataFrame.fillna with 'method' is deprecated and will raise in a future version. Use obj.ffill() or obj.bfill() instead.\n",
      "  df = df.interpolate(limit_direction='both').fillna(method='bfill').fillna(method='ffill')\n",
      " 42%|████▏     | 105/252 [00:21<00:36,  4.03it/s]C:\\Users\\user\\AppData\\Local\\Temp\\ipykernel_10720\\2496765150.py:22: FutureWarning: DataFrame.interpolate with object dtype is deprecated and will raise in a future version. Call obj.infer_objects(copy=False) before interpolating instead.\n",
      "  df = df.interpolate(limit_direction='both').fillna(method='bfill').fillna(method='ffill')\n",
      "C:\\Users\\user\\AppData\\Local\\Temp\\ipykernel_10720\\2496765150.py:22: FutureWarning: DataFrame.fillna with 'method' is deprecated and will raise in a future version. Use obj.ffill() or obj.bfill() instead.\n",
      "  df = df.interpolate(limit_direction='both').fillna(method='bfill').fillna(method='ffill')\n",
      " 42%|████▏     | 106/252 [00:22<00:39,  3.70it/s]C:\\Users\\user\\AppData\\Local\\Temp\\ipykernel_10720\\2496765150.py:22: FutureWarning: DataFrame.interpolate with object dtype is deprecated and will raise in a future version. Call obj.infer_objects(copy=False) before interpolating instead.\n",
      "  df = df.interpolate(limit_direction='both').fillna(method='bfill').fillna(method='ffill')\n",
      "C:\\Users\\user\\AppData\\Local\\Temp\\ipykernel_10720\\2496765150.py:22: FutureWarning: DataFrame.fillna with 'method' is deprecated and will raise in a future version. Use obj.ffill() or obj.bfill() instead.\n",
      "  df = df.interpolate(limit_direction='both').fillna(method='bfill').fillna(method='ffill')\n",
      " 42%|████▏     | 107/252 [00:22<00:36,  3.99it/s]C:\\Users\\user\\AppData\\Local\\Temp\\ipykernel_10720\\2496765150.py:22: FutureWarning: DataFrame.interpolate with object dtype is deprecated and will raise in a future version. Call obj.infer_objects(copy=False) before interpolating instead.\n",
      "  df = df.interpolate(limit_direction='both').fillna(method='bfill').fillna(method='ffill')\n",
      "C:\\Users\\user\\AppData\\Local\\Temp\\ipykernel_10720\\2496765150.py:22: FutureWarning: DataFrame.fillna with 'method' is deprecated and will raise in a future version. Use obj.ffill() or obj.bfill() instead.\n",
      "  df = df.interpolate(limit_direction='both').fillna(method='bfill').fillna(method='ffill')\n",
      " 43%|████▎     | 108/252 [00:22<00:34,  4.21it/s]C:\\Users\\user\\AppData\\Local\\Temp\\ipykernel_10720\\2496765150.py:22: FutureWarning: DataFrame.interpolate with object dtype is deprecated and will raise in a future version. Call obj.infer_objects(copy=False) before interpolating instead.\n",
      "  df = df.interpolate(limit_direction='both').fillna(method='bfill').fillna(method='ffill')\n",
      "C:\\Users\\user\\AppData\\Local\\Temp\\ipykernel_10720\\2496765150.py:22: FutureWarning: DataFrame.fillna with 'method' is deprecated and will raise in a future version. Use obj.ffill() or obj.bfill() instead.\n",
      "  df = df.interpolate(limit_direction='both').fillna(method='bfill').fillna(method='ffill')\n",
      " 43%|████▎     | 109/252 [00:22<00:34,  4.18it/s]C:\\Users\\user\\AppData\\Local\\Temp\\ipykernel_10720\\2496765150.py:22: FutureWarning: DataFrame.interpolate with object dtype is deprecated and will raise in a future version. Call obj.infer_objects(copy=False) before interpolating instead.\n",
      "  df = df.interpolate(limit_direction='both').fillna(method='bfill').fillna(method='ffill')\n",
      "C:\\Users\\user\\AppData\\Local\\Temp\\ipykernel_10720\\2496765150.py:22: FutureWarning: DataFrame.fillna with 'method' is deprecated and will raise in a future version. Use obj.ffill() or obj.bfill() instead.\n",
      "  df = df.interpolate(limit_direction='both').fillna(method='bfill').fillna(method='ffill')\n",
      " 44%|████▎     | 110/252 [00:23<00:35,  4.02it/s]C:\\Users\\user\\AppData\\Local\\Temp\\ipykernel_10720\\2496765150.py:22: FutureWarning: DataFrame.interpolate with object dtype is deprecated and will raise in a future version. Call obj.infer_objects(copy=False) before interpolating instead.\n",
      "  df = df.interpolate(limit_direction='both').fillna(method='bfill').fillna(method='ffill')\n",
      "C:\\Users\\user\\AppData\\Local\\Temp\\ipykernel_10720\\2496765150.py:22: FutureWarning: DataFrame.fillna with 'method' is deprecated and will raise in a future version. Use obj.ffill() or obj.bfill() instead.\n",
      "  df = df.interpolate(limit_direction='both').fillna(method='bfill').fillna(method='ffill')\n",
      " 44%|████▍     | 111/252 [00:23<00:38,  3.71it/s]C:\\Users\\user\\AppData\\Local\\Temp\\ipykernel_10720\\2496765150.py:22: FutureWarning: DataFrame.interpolate with object dtype is deprecated and will raise in a future version. Call obj.infer_objects(copy=False) before interpolating instead.\n",
      "  df = df.interpolate(limit_direction='both').fillna(method='bfill').fillna(method='ffill')\n",
      "C:\\Users\\user\\AppData\\Local\\Temp\\ipykernel_10720\\2496765150.py:22: FutureWarning: DataFrame.fillna with 'method' is deprecated and will raise in a future version. Use obj.ffill() or obj.bfill() instead.\n",
      "  df = df.interpolate(limit_direction='both').fillna(method='bfill').fillna(method='ffill')\n",
      " 44%|████▍     | 112/252 [00:23<00:30,  4.55it/s]C:\\Users\\user\\AppData\\Local\\Temp\\ipykernel_10720\\2496765150.py:22: FutureWarning: DataFrame.interpolate with object dtype is deprecated and will raise in a future version. Call obj.infer_objects(copy=False) before interpolating instead.\n",
      "  df = df.interpolate(limit_direction='both').fillna(method='bfill').fillna(method='ffill')\n",
      "C:\\Users\\user\\AppData\\Local\\Temp\\ipykernel_10720\\2496765150.py:22: FutureWarning: DataFrame.fillna with 'method' is deprecated and will raise in a future version. Use obj.ffill() or obj.bfill() instead.\n",
      "  df = df.interpolate(limit_direction='both').fillna(method='bfill').fillna(method='ffill')\n",
      "C:\\Users\\user\\AppData\\Local\\Temp\\ipykernel_10720\\2496765150.py:22: FutureWarning: DataFrame.interpolate with object dtype is deprecated and will raise in a future version. Call obj.infer_objects(copy=False) before interpolating instead.\n",
      "  df = df.interpolate(limit_direction='both').fillna(method='bfill').fillna(method='ffill')\n",
      "C:\\Users\\user\\AppData\\Local\\Temp\\ipykernel_10720\\2496765150.py:22: FutureWarning: DataFrame.fillna with 'method' is deprecated and will raise in a future version. Use obj.ffill() or obj.bfill() instead.\n",
      "  df = df.interpolate(limit_direction='both').fillna(method='bfill').fillna(method='ffill')\n",
      " 45%|████▌     | 114/252 [00:23<00:25,  5.50it/s]C:\\Users\\user\\AppData\\Local\\Temp\\ipykernel_10720\\2496765150.py:22: FutureWarning: DataFrame.interpolate with object dtype is deprecated and will raise in a future version. Call obj.infer_objects(copy=False) before interpolating instead.\n",
      "  df = df.interpolate(limit_direction='both').fillna(method='bfill').fillna(method='ffill')\n",
      "C:\\Users\\user\\AppData\\Local\\Temp\\ipykernel_10720\\2496765150.py:22: FutureWarning: DataFrame.fillna with 'method' is deprecated and will raise in a future version. Use obj.ffill() or obj.bfill() instead.\n",
      "  df = df.interpolate(limit_direction='both').fillna(method='bfill').fillna(method='ffill')\n",
      " 46%|████▌     | 115/252 [00:24<00:26,  5.24it/s]C:\\Users\\user\\AppData\\Local\\Temp\\ipykernel_10720\\2496765150.py:22: FutureWarning: DataFrame.interpolate with object dtype is deprecated and will raise in a future version. Call obj.infer_objects(copy=False) before interpolating instead.\n",
      "  df = df.interpolate(limit_direction='both').fillna(method='bfill').fillna(method='ffill')\n",
      "C:\\Users\\user\\AppData\\Local\\Temp\\ipykernel_10720\\2496765150.py:22: FutureWarning: DataFrame.fillna with 'method' is deprecated and will raise in a future version. Use obj.ffill() or obj.bfill() instead.\n",
      "  df = df.interpolate(limit_direction='both').fillna(method='bfill').fillna(method='ffill')\n",
      " 46%|████▌     | 116/252 [00:24<00:26,  5.19it/s]C:\\Users\\user\\AppData\\Local\\Temp\\ipykernel_10720\\2496765150.py:22: FutureWarning: DataFrame.interpolate with object dtype is deprecated and will raise in a future version. Call obj.infer_objects(copy=False) before interpolating instead.\n",
      "  df = df.interpolate(limit_direction='both').fillna(method='bfill').fillna(method='ffill')\n",
      "C:\\Users\\user\\AppData\\Local\\Temp\\ipykernel_10720\\2496765150.py:22: FutureWarning: DataFrame.fillna with 'method' is deprecated and will raise in a future version. Use obj.ffill() or obj.bfill() instead.\n",
      "  df = df.interpolate(limit_direction='both').fillna(method='bfill').fillna(method='ffill')\n",
      " 46%|████▋     | 117/252 [00:24<00:27,  4.93it/s]C:\\Users\\user\\AppData\\Local\\Temp\\ipykernel_10720\\2496765150.py:22: FutureWarning: DataFrame.interpolate with object dtype is deprecated and will raise in a future version. Call obj.infer_objects(copy=False) before interpolating instead.\n",
      "  df = df.interpolate(limit_direction='both').fillna(method='bfill').fillna(method='ffill')\n",
      "C:\\Users\\user\\AppData\\Local\\Temp\\ipykernel_10720\\2496765150.py:22: FutureWarning: DataFrame.fillna with 'method' is deprecated and will raise in a future version. Use obj.ffill() or obj.bfill() instead.\n",
      "  df = df.interpolate(limit_direction='both').fillna(method='bfill').fillna(method='ffill')\n",
      " 47%|████▋     | 118/252 [00:24<00:28,  4.72it/s]C:\\Users\\user\\AppData\\Local\\Temp\\ipykernel_10720\\2496765150.py:22: FutureWarning: DataFrame.interpolate with object dtype is deprecated and will raise in a future version. Call obj.infer_objects(copy=False) before interpolating instead.\n",
      "  df = df.interpolate(limit_direction='both').fillna(method='bfill').fillna(method='ffill')\n",
      "C:\\Users\\user\\AppData\\Local\\Temp\\ipykernel_10720\\2496765150.py:22: FutureWarning: DataFrame.fillna with 'method' is deprecated and will raise in a future version. Use obj.ffill() or obj.bfill() instead.\n",
      "  df = df.interpolate(limit_direction='both').fillna(method='bfill').fillna(method='ffill')\n",
      " 47%|████▋     | 119/252 [00:24<00:24,  5.51it/s]C:\\Users\\user\\AppData\\Local\\Temp\\ipykernel_10720\\2496765150.py:22: FutureWarning: DataFrame.interpolate with object dtype is deprecated and will raise in a future version. Call obj.infer_objects(copy=False) before interpolating instead.\n",
      "  df = df.interpolate(limit_direction='both').fillna(method='bfill').fillna(method='ffill')\n",
      "C:\\Users\\user\\AppData\\Local\\Temp\\ipykernel_10720\\2496765150.py:22: FutureWarning: DataFrame.fillna with 'method' is deprecated and will raise in a future version. Use obj.ffill() or obj.bfill() instead.\n",
      "  df = df.interpolate(limit_direction='both').fillna(method='bfill').fillna(method='ffill')\n",
      " 48%|████▊     | 120/252 [00:25<00:25,  5.28it/s]C:\\Users\\user\\AppData\\Local\\Temp\\ipykernel_10720\\2496765150.py:22: FutureWarning: DataFrame.interpolate with object dtype is deprecated and will raise in a future version. Call obj.infer_objects(copy=False) before interpolating instead.\n",
      "  df = df.interpolate(limit_direction='both').fillna(method='bfill').fillna(method='ffill')\n",
      "C:\\Users\\user\\AppData\\Local\\Temp\\ipykernel_10720\\2496765150.py:22: FutureWarning: DataFrame.fillna with 'method' is deprecated and will raise in a future version. Use obj.ffill() or obj.bfill() instead.\n",
      "  df = df.interpolate(limit_direction='both').fillna(method='bfill').fillna(method='ffill')\n",
      " 48%|████▊     | 121/252 [00:25<00:27,  4.82it/s]C:\\Users\\user\\AppData\\Local\\Temp\\ipykernel_10720\\2496765150.py:22: FutureWarning: DataFrame.interpolate with object dtype is deprecated and will raise in a future version. Call obj.infer_objects(copy=False) before interpolating instead.\n",
      "  df = df.interpolate(limit_direction='both').fillna(method='bfill').fillna(method='ffill')\n",
      "C:\\Users\\user\\AppData\\Local\\Temp\\ipykernel_10720\\2496765150.py:22: FutureWarning: DataFrame.fillna with 'method' is deprecated and will raise in a future version. Use obj.ffill() or obj.bfill() instead.\n",
      "  df = df.interpolate(limit_direction='both').fillna(method='bfill').fillna(method='ffill')\n",
      " 48%|████▊     | 122/252 [00:25<00:28,  4.50it/s]C:\\Users\\user\\AppData\\Local\\Temp\\ipykernel_10720\\2496765150.py:22: FutureWarning: DataFrame.interpolate with object dtype is deprecated and will raise in a future version. Call obj.infer_objects(copy=False) before interpolating instead.\n",
      "  df = df.interpolate(limit_direction='both').fillna(method='bfill').fillna(method='ffill')\n",
      "C:\\Users\\user\\AppData\\Local\\Temp\\ipykernel_10720\\2496765150.py:22: FutureWarning: DataFrame.fillna with 'method' is deprecated and will raise in a future version. Use obj.ffill() or obj.bfill() instead.\n",
      "  df = df.interpolate(limit_direction='both').fillna(method='bfill').fillna(method='ffill')\n",
      " 49%|████▉     | 123/252 [00:25<00:26,  4.80it/s]C:\\Users\\user\\AppData\\Local\\Temp\\ipykernel_10720\\2496765150.py:22: FutureWarning: DataFrame.interpolate with object dtype is deprecated and will raise in a future version. Call obj.infer_objects(copy=False) before interpolating instead.\n",
      "  df = df.interpolate(limit_direction='both').fillna(method='bfill').fillna(method='ffill')\n",
      "C:\\Users\\user\\AppData\\Local\\Temp\\ipykernel_10720\\2496765150.py:22: FutureWarning: DataFrame.fillna with 'method' is deprecated and will raise in a future version. Use obj.ffill() or obj.bfill() instead.\n",
      "  df = df.interpolate(limit_direction='both').fillna(method='bfill').fillna(method='ffill')\n",
      " 49%|████▉     | 124/252 [00:25<00:26,  4.85it/s]C:\\Users\\user\\AppData\\Local\\Temp\\ipykernel_10720\\2496765150.py:22: FutureWarning: DataFrame.interpolate with object dtype is deprecated and will raise in a future version. Call obj.infer_objects(copy=False) before interpolating instead.\n",
      "  df = df.interpolate(limit_direction='both').fillna(method='bfill').fillna(method='ffill')\n",
      "C:\\Users\\user\\AppData\\Local\\Temp\\ipykernel_10720\\2496765150.py:22: FutureWarning: DataFrame.fillna with 'method' is deprecated and will raise in a future version. Use obj.ffill() or obj.bfill() instead.\n",
      "  df = df.interpolate(limit_direction='both').fillna(method='bfill').fillna(method='ffill')\n",
      " 50%|████▉     | 125/252 [00:26<00:26,  4.78it/s]C:\\Users\\user\\AppData\\Local\\Temp\\ipykernel_10720\\2496765150.py:22: FutureWarning: DataFrame.interpolate with object dtype is deprecated and will raise in a future version. Call obj.infer_objects(copy=False) before interpolating instead.\n",
      "  df = df.interpolate(limit_direction='both').fillna(method='bfill').fillna(method='ffill')\n",
      "C:\\Users\\user\\AppData\\Local\\Temp\\ipykernel_10720\\2496765150.py:22: FutureWarning: DataFrame.fillna with 'method' is deprecated and will raise in a future version. Use obj.ffill() or obj.bfill() instead.\n",
      "  df = df.interpolate(limit_direction='both').fillna(method='bfill').fillna(method='ffill')\n",
      " 50%|█████     | 126/252 [00:26<00:28,  4.49it/s]C:\\Users\\user\\AppData\\Local\\Temp\\ipykernel_10720\\2496765150.py:22: FutureWarning: DataFrame.interpolate with object dtype is deprecated and will raise in a future version. Call obj.infer_objects(copy=False) before interpolating instead.\n",
      "  df = df.interpolate(limit_direction='both').fillna(method='bfill').fillna(method='ffill')\n",
      "C:\\Users\\user\\AppData\\Local\\Temp\\ipykernel_10720\\2496765150.py:22: FutureWarning: DataFrame.fillna with 'method' is deprecated and will raise in a future version. Use obj.ffill() or obj.bfill() instead.\n",
      "  df = df.interpolate(limit_direction='both').fillna(method='bfill').fillna(method='ffill')\n",
      " 50%|█████     | 127/252 [00:26<00:26,  4.79it/s]C:\\Users\\user\\AppData\\Local\\Temp\\ipykernel_10720\\2496765150.py:22: FutureWarning: DataFrame.interpolate with object dtype is deprecated and will raise in a future version. Call obj.infer_objects(copy=False) before interpolating instead.\n",
      "  df = df.interpolate(limit_direction='both').fillna(method='bfill').fillna(method='ffill')\n",
      "C:\\Users\\user\\AppData\\Local\\Temp\\ipykernel_10720\\2496765150.py:22: FutureWarning: DataFrame.fillna with 'method' is deprecated and will raise in a future version. Use obj.ffill() or obj.bfill() instead.\n",
      "  df = df.interpolate(limit_direction='both').fillna(method='bfill').fillna(method='ffill')\n",
      " 51%|█████     | 128/252 [00:26<00:26,  4.64it/s]C:\\Users\\user\\AppData\\Local\\Temp\\ipykernel_10720\\2496765150.py:22: FutureWarning: DataFrame.interpolate with object dtype is deprecated and will raise in a future version. Call obj.infer_objects(copy=False) before interpolating instead.\n",
      "  df = df.interpolate(limit_direction='both').fillna(method='bfill').fillna(method='ffill')\n",
      "C:\\Users\\user\\AppData\\Local\\Temp\\ipykernel_10720\\2496765150.py:22: FutureWarning: DataFrame.fillna with 'method' is deprecated and will raise in a future version. Use obj.ffill() or obj.bfill() instead.\n",
      "  df = df.interpolate(limit_direction='both').fillna(method='bfill').fillna(method='ffill')\n",
      " 51%|█████     | 129/252 [00:27<00:27,  4.50it/s]C:\\Users\\user\\AppData\\Local\\Temp\\ipykernel_10720\\2496765150.py:22: FutureWarning: DataFrame.interpolate with object dtype is deprecated and will raise in a future version. Call obj.infer_objects(copy=False) before interpolating instead.\n",
      "  df = df.interpolate(limit_direction='both').fillna(method='bfill').fillna(method='ffill')\n",
      "C:\\Users\\user\\AppData\\Local\\Temp\\ipykernel_10720\\2496765150.py:22: FutureWarning: DataFrame.fillna with 'method' is deprecated and will raise in a future version. Use obj.ffill() or obj.bfill() instead.\n",
      "  df = df.interpolate(limit_direction='both').fillna(method='bfill').fillna(method='ffill')\n",
      " 52%|█████▏    | 130/252 [00:27<00:29,  4.15it/s]C:\\Users\\user\\AppData\\Local\\Temp\\ipykernel_10720\\2496765150.py:22: FutureWarning: DataFrame.interpolate with object dtype is deprecated and will raise in a future version. Call obj.infer_objects(copy=False) before interpolating instead.\n",
      "  df = df.interpolate(limit_direction='both').fillna(method='bfill').fillna(method='ffill')\n",
      "C:\\Users\\user\\AppData\\Local\\Temp\\ipykernel_10720\\2496765150.py:22: FutureWarning: DataFrame.fillna with 'method' is deprecated and will raise in a future version. Use obj.ffill() or obj.bfill() instead.\n",
      "  df = df.interpolate(limit_direction='both').fillna(method='bfill').fillna(method='ffill')\n",
      " 52%|█████▏    | 131/252 [00:27<00:27,  4.39it/s]C:\\Users\\user\\AppData\\Local\\Temp\\ipykernel_10720\\2496765150.py:22: FutureWarning: DataFrame.interpolate with object dtype is deprecated and will raise in a future version. Call obj.infer_objects(copy=False) before interpolating instead.\n",
      "  df = df.interpolate(limit_direction='both').fillna(method='bfill').fillna(method='ffill')\n",
      "C:\\Users\\user\\AppData\\Local\\Temp\\ipykernel_10720\\2496765150.py:22: FutureWarning: DataFrame.fillna with 'method' is deprecated and will raise in a future version. Use obj.ffill() or obj.bfill() instead.\n",
      "  df = df.interpolate(limit_direction='both').fillna(method='bfill').fillna(method='ffill')\n",
      " 52%|█████▏    | 132/252 [00:27<00:26,  4.54it/s]C:\\Users\\user\\AppData\\Local\\Temp\\ipykernel_10720\\2496765150.py:22: FutureWarning: DataFrame.interpolate with object dtype is deprecated and will raise in a future version. Call obj.infer_objects(copy=False) before interpolating instead.\n",
      "  df = df.interpolate(limit_direction='both').fillna(method='bfill').fillna(method='ffill')\n",
      "C:\\Users\\user\\AppData\\Local\\Temp\\ipykernel_10720\\2496765150.py:22: FutureWarning: DataFrame.fillna with 'method' is deprecated and will raise in a future version. Use obj.ffill() or obj.bfill() instead.\n",
      "  df = df.interpolate(limit_direction='both').fillna(method='bfill').fillna(method='ffill')\n",
      " 53%|█████▎    | 133/252 [00:27<00:26,  4.44it/s]C:\\Users\\user\\AppData\\Local\\Temp\\ipykernel_10720\\2496765150.py:22: FutureWarning: DataFrame.interpolate with object dtype is deprecated and will raise in a future version. Call obj.infer_objects(copy=False) before interpolating instead.\n",
      "  df = df.interpolate(limit_direction='both').fillna(method='bfill').fillna(method='ffill')\n",
      "C:\\Users\\user\\AppData\\Local\\Temp\\ipykernel_10720\\2496765150.py:22: FutureWarning: DataFrame.fillna with 'method' is deprecated and will raise in a future version. Use obj.ffill() or obj.bfill() instead.\n",
      "  df = df.interpolate(limit_direction='both').fillna(method='bfill').fillna(method='ffill')\n",
      " 53%|█████▎    | 134/252 [00:28<00:24,  4.87it/s]C:\\Users\\user\\AppData\\Local\\Temp\\ipykernel_10720\\2496765150.py:22: FutureWarning: DataFrame.interpolate with object dtype is deprecated and will raise in a future version. Call obj.infer_objects(copy=False) before interpolating instead.\n",
      "  df = df.interpolate(limit_direction='both').fillna(method='bfill').fillna(method='ffill')\n",
      "C:\\Users\\user\\AppData\\Local\\Temp\\ipykernel_10720\\2496765150.py:22: FutureWarning: DataFrame.fillna with 'method' is deprecated and will raise in a future version. Use obj.ffill() or obj.bfill() instead.\n",
      "  df = df.interpolate(limit_direction='both').fillna(method='bfill').fillna(method='ffill')\n",
      " 54%|█████▎    | 135/252 [00:28<00:23,  5.08it/s]C:\\Users\\user\\AppData\\Local\\Temp\\ipykernel_10720\\2496765150.py:22: FutureWarning: DataFrame.interpolate with object dtype is deprecated and will raise in a future version. Call obj.infer_objects(copy=False) before interpolating instead.\n",
      "  df = df.interpolate(limit_direction='both').fillna(method='bfill').fillna(method='ffill')\n",
      "C:\\Users\\user\\AppData\\Local\\Temp\\ipykernel_10720\\2496765150.py:22: FutureWarning: DataFrame.fillna with 'method' is deprecated and will raise in a future version. Use obj.ffill() or obj.bfill() instead.\n",
      "  df = df.interpolate(limit_direction='both').fillna(method='bfill').fillna(method='ffill')\n",
      " 54%|█████▍    | 136/252 [00:28<00:25,  4.56it/s]C:\\Users\\user\\AppData\\Local\\Temp\\ipykernel_10720\\2496765150.py:22: FutureWarning: DataFrame.interpolate with object dtype is deprecated and will raise in a future version. Call obj.infer_objects(copy=False) before interpolating instead.\n",
      "  df = df.interpolate(limit_direction='both').fillna(method='bfill').fillna(method='ffill')\n",
      "C:\\Users\\user\\AppData\\Local\\Temp\\ipykernel_10720\\2496765150.py:22: FutureWarning: DataFrame.fillna with 'method' is deprecated and will raise in a future version. Use obj.ffill() or obj.bfill() instead.\n",
      "  df = df.interpolate(limit_direction='both').fillna(method='bfill').fillna(method='ffill')\n",
      "C:\\Users\\user\\AppData\\Local\\Temp\\ipykernel_10720\\2496765150.py:22: FutureWarning: DataFrame.interpolate with object dtype is deprecated and will raise in a future version. Call obj.infer_objects(copy=False) before interpolating instead.\n",
      "  df = df.interpolate(limit_direction='both').fillna(method='bfill').fillna(method='ffill')\n",
      "C:\\Users\\user\\AppData\\Local\\Temp\\ipykernel_10720\\2496765150.py:22: FutureWarning: DataFrame.fillna with 'method' is deprecated and will raise in a future version. Use obj.ffill() or obj.bfill() instead.\n",
      "  df = df.interpolate(limit_direction='both').fillna(method='bfill').fillna(method='ffill')\n",
      " 55%|█████▍    | 138/252 [00:28<00:18,  6.19it/s]C:\\Users\\user\\AppData\\Local\\Temp\\ipykernel_10720\\2496765150.py:22: FutureWarning: DataFrame.interpolate with object dtype is deprecated and will raise in a future version. Call obj.infer_objects(copy=False) before interpolating instead.\n",
      "  df = df.interpolate(limit_direction='both').fillna(method='bfill').fillna(method='ffill')\n",
      "C:\\Users\\user\\AppData\\Local\\Temp\\ipykernel_10720\\2496765150.py:22: FutureWarning: DataFrame.fillna with 'method' is deprecated and will raise in a future version. Use obj.ffill() or obj.bfill() instead.\n",
      "  df = df.interpolate(limit_direction='both').fillna(method='bfill').fillna(method='ffill')\n",
      " 55%|█████▌    | 139/252 [00:28<00:18,  6.02it/s]C:\\Users\\user\\AppData\\Local\\Temp\\ipykernel_10720\\2496765150.py:22: FutureWarning: DataFrame.interpolate with object dtype is deprecated and will raise in a future version. Call obj.infer_objects(copy=False) before interpolating instead.\n",
      "  df = df.interpolate(limit_direction='both').fillna(method='bfill').fillna(method='ffill')\n",
      "C:\\Users\\user\\AppData\\Local\\Temp\\ipykernel_10720\\2496765150.py:22: FutureWarning: DataFrame.fillna with 'method' is deprecated and will raise in a future version. Use obj.ffill() or obj.bfill() instead.\n",
      "  df = df.interpolate(limit_direction='both').fillna(method='bfill').fillna(method='ffill')\n",
      " 56%|█████▌    | 140/252 [00:29<00:18,  5.92it/s]C:\\Users\\user\\AppData\\Local\\Temp\\ipykernel_10720\\2496765150.py:22: FutureWarning: DataFrame.interpolate with object dtype is deprecated and will raise in a future version. Call obj.infer_objects(copy=False) before interpolating instead.\n",
      "  df = df.interpolate(limit_direction='both').fillna(method='bfill').fillna(method='ffill')\n",
      "C:\\Users\\user\\AppData\\Local\\Temp\\ipykernel_10720\\2496765150.py:22: FutureWarning: DataFrame.fillna with 'method' is deprecated and will raise in a future version. Use obj.ffill() or obj.bfill() instead.\n",
      "  df = df.interpolate(limit_direction='both').fillna(method='bfill').fillna(method='ffill')\n",
      " 56%|█████▌    | 141/252 [00:29<00:20,  5.40it/s]C:\\Users\\user\\AppData\\Local\\Temp\\ipykernel_10720\\2496765150.py:22: FutureWarning: DataFrame.interpolate with object dtype is deprecated and will raise in a future version. Call obj.infer_objects(copy=False) before interpolating instead.\n",
      "  df = df.interpolate(limit_direction='both').fillna(method='bfill').fillna(method='ffill')\n",
      "C:\\Users\\user\\AppData\\Local\\Temp\\ipykernel_10720\\2496765150.py:22: FutureWarning: DataFrame.fillna with 'method' is deprecated and will raise in a future version. Use obj.ffill() or obj.bfill() instead.\n",
      "  df = df.interpolate(limit_direction='both').fillna(method='bfill').fillna(method='ffill')\n",
      " 56%|█████▋    | 142/252 [00:29<00:21,  5.06it/s]C:\\Users\\user\\AppData\\Local\\Temp\\ipykernel_10720\\2496765150.py:22: FutureWarning: DataFrame.interpolate with object dtype is deprecated and will raise in a future version. Call obj.infer_objects(copy=False) before interpolating instead.\n",
      "  df = df.interpolate(limit_direction='both').fillna(method='bfill').fillna(method='ffill')\n",
      "C:\\Users\\user\\AppData\\Local\\Temp\\ipykernel_10720\\2496765150.py:22: FutureWarning: DataFrame.fillna with 'method' is deprecated and will raise in a future version. Use obj.ffill() or obj.bfill() instead.\n",
      "  df = df.interpolate(limit_direction='both').fillna(method='bfill').fillna(method='ffill')\n",
      " 57%|█████▋    | 143/252 [00:29<00:22,  4.83it/s]C:\\Users\\user\\AppData\\Local\\Temp\\ipykernel_10720\\2496765150.py:22: FutureWarning: DataFrame.interpolate with object dtype is deprecated and will raise in a future version. Call obj.infer_objects(copy=False) before interpolating instead.\n",
      "  df = df.interpolate(limit_direction='both').fillna(method='bfill').fillna(method='ffill')\n",
      "C:\\Users\\user\\AppData\\Local\\Temp\\ipykernel_10720\\2496765150.py:22: FutureWarning: DataFrame.fillna with 'method' is deprecated and will raise in a future version. Use obj.ffill() or obj.bfill() instead.\n",
      "  df = df.interpolate(limit_direction='both').fillna(method='bfill').fillna(method='ffill')\n",
      " 57%|█████▋    | 144/252 [00:30<00:22,  4.75it/s]C:\\Users\\user\\AppData\\Local\\Temp\\ipykernel_10720\\2496765150.py:22: FutureWarning: DataFrame.interpolate with object dtype is deprecated and will raise in a future version. Call obj.infer_objects(copy=False) before interpolating instead.\n",
      "  df = df.interpolate(limit_direction='both').fillna(method='bfill').fillna(method='ffill')\n",
      "C:\\Users\\user\\AppData\\Local\\Temp\\ipykernel_10720\\2496765150.py:22: FutureWarning: DataFrame.fillna with 'method' is deprecated and will raise in a future version. Use obj.ffill() or obj.bfill() instead.\n",
      "  df = df.interpolate(limit_direction='both').fillna(method='bfill').fillna(method='ffill')\n",
      " 58%|█████▊    | 145/252 [00:30<00:22,  4.78it/s]C:\\Users\\user\\AppData\\Local\\Temp\\ipykernel_10720\\2496765150.py:22: FutureWarning: DataFrame.interpolate with object dtype is deprecated and will raise in a future version. Call obj.infer_objects(copy=False) before interpolating instead.\n",
      "  df = df.interpolate(limit_direction='both').fillna(method='bfill').fillna(method='ffill')\n",
      "C:\\Users\\user\\AppData\\Local\\Temp\\ipykernel_10720\\2496765150.py:22: FutureWarning: DataFrame.fillna with 'method' is deprecated and will raise in a future version. Use obj.ffill() or obj.bfill() instead.\n",
      "  df = df.interpolate(limit_direction='both').fillna(method='bfill').fillna(method='ffill')\n",
      "C:\\Users\\user\\AppData\\Local\\Temp\\ipykernel_10720\\2496765150.py:22: FutureWarning: DataFrame.interpolate with object dtype is deprecated and will raise in a future version. Call obj.infer_objects(copy=False) before interpolating instead.\n",
      "  df = df.interpolate(limit_direction='both').fillna(method='bfill').fillna(method='ffill')\n",
      "C:\\Users\\user\\AppData\\Local\\Temp\\ipykernel_10720\\2496765150.py:22: FutureWarning: DataFrame.fillna with 'method' is deprecated and will raise in a future version. Use obj.ffill() or obj.bfill() instead.\n",
      "  df = df.interpolate(limit_direction='both').fillna(method='bfill').fillna(method='ffill')\n",
      " 58%|█████▊    | 147/252 [00:30<00:15,  6.63it/s]C:\\Users\\user\\AppData\\Local\\Temp\\ipykernel_10720\\2496765150.py:22: FutureWarning: DataFrame.interpolate with object dtype is deprecated and will raise in a future version. Call obj.infer_objects(copy=False) before interpolating instead.\n",
      "  df = df.interpolate(limit_direction='both').fillna(method='bfill').fillna(method='ffill')\n",
      "C:\\Users\\user\\AppData\\Local\\Temp\\ipykernel_10720\\2496765150.py:22: FutureWarning: DataFrame.fillna with 'method' is deprecated and will raise in a future version. Use obj.ffill() or obj.bfill() instead.\n",
      "  df = df.interpolate(limit_direction='both').fillna(method='bfill').fillna(method='ffill')\n",
      " 59%|█████▊    | 148/252 [00:30<00:15,  6.84it/s]C:\\Users\\user\\AppData\\Local\\Temp\\ipykernel_10720\\2496765150.py:22: FutureWarning: DataFrame.interpolate with object dtype is deprecated and will raise in a future version. Call obj.infer_objects(copy=False) before interpolating instead.\n",
      "  df = df.interpolate(limit_direction='both').fillna(method='bfill').fillna(method='ffill')\n",
      "C:\\Users\\user\\AppData\\Local\\Temp\\ipykernel_10720\\2496765150.py:22: FutureWarning: DataFrame.fillna with 'method' is deprecated and will raise in a future version. Use obj.ffill() or obj.bfill() instead.\n",
      "  df = df.interpolate(limit_direction='both').fillna(method='bfill').fillna(method='ffill')\n",
      "C:\\Users\\user\\AppData\\Local\\Temp\\ipykernel_10720\\2496765150.py:22: FutureWarning: DataFrame.interpolate with object dtype is deprecated and will raise in a future version. Call obj.infer_objects(copy=False) before interpolating instead.\n",
      "  df = df.interpolate(limit_direction='both').fillna(method='bfill').fillna(method='ffill')\n",
      "C:\\Users\\user\\AppData\\Local\\Temp\\ipykernel_10720\\2496765150.py:22: FutureWarning: DataFrame.fillna with 'method' is deprecated and will raise in a future version. Use obj.ffill() or obj.bfill() instead.\n",
      "  df = df.interpolate(limit_direction='both').fillna(method='bfill').fillna(method='ffill')\n",
      " 60%|█████▉    | 150/252 [00:30<00:11,  8.88it/s]C:\\Users\\user\\AppData\\Local\\Temp\\ipykernel_10720\\2496765150.py:22: FutureWarning: DataFrame.interpolate with object dtype is deprecated and will raise in a future version. Call obj.infer_objects(copy=False) before interpolating instead.\n",
      "  df = df.interpolate(limit_direction='both').fillna(method='bfill').fillna(method='ffill')\n",
      "C:\\Users\\user\\AppData\\Local\\Temp\\ipykernel_10720\\2496765150.py:22: FutureWarning: DataFrame.fillna with 'method' is deprecated and will raise in a future version. Use obj.ffill() or obj.bfill() instead.\n",
      "  df = df.interpolate(limit_direction='both').fillna(method='bfill').fillna(method='ffill')\n",
      "C:\\Users\\user\\AppData\\Local\\Temp\\ipykernel_10720\\2496765150.py:22: FutureWarning: DataFrame.interpolate with object dtype is deprecated and will raise in a future version. Call obj.infer_objects(copy=False) before interpolating instead.\n",
      "  df = df.interpolate(limit_direction='both').fillna(method='bfill').fillna(method='ffill')\n",
      "C:\\Users\\user\\AppData\\Local\\Temp\\ipykernel_10720\\2496765150.py:22: FutureWarning: DataFrame.fillna with 'method' is deprecated and will raise in a future version. Use obj.ffill() or obj.bfill() instead.\n",
      "  df = df.interpolate(limit_direction='both').fillna(method='bfill').fillna(method='ffill')\n",
      " 60%|██████    | 152/252 [00:30<00:10,  9.22it/s]C:\\Users\\user\\AppData\\Local\\Temp\\ipykernel_10720\\2496765150.py:22: FutureWarning: DataFrame.interpolate with object dtype is deprecated and will raise in a future version. Call obj.infer_objects(copy=False) before interpolating instead.\n",
      "  df = df.interpolate(limit_direction='both').fillna(method='bfill').fillna(method='ffill')\n",
      "C:\\Users\\user\\AppData\\Local\\Temp\\ipykernel_10720\\2496765150.py:22: FutureWarning: DataFrame.fillna with 'method' is deprecated and will raise in a future version. Use obj.ffill() or obj.bfill() instead.\n",
      "  df = df.interpolate(limit_direction='both').fillna(method='bfill').fillna(method='ffill')\n",
      " 61%|██████    | 153/252 [00:31<00:13,  7.20it/s]C:\\Users\\user\\AppData\\Local\\Temp\\ipykernel_10720\\2496765150.py:22: FutureWarning: DataFrame.interpolate with object dtype is deprecated and will raise in a future version. Call obj.infer_objects(copy=False) before interpolating instead.\n",
      "  df = df.interpolate(limit_direction='both').fillna(method='bfill').fillna(method='ffill')\n",
      "C:\\Users\\user\\AppData\\Local\\Temp\\ipykernel_10720\\2496765150.py:22: FutureWarning: DataFrame.fillna with 'method' is deprecated and will raise in a future version. Use obj.ffill() or obj.bfill() instead.\n",
      "  df = df.interpolate(limit_direction='both').fillna(method='bfill').fillna(method='ffill')\n",
      " 61%|██████    | 154/252 [00:31<00:13,  7.45it/s]C:\\Users\\user\\AppData\\Local\\Temp\\ipykernel_10720\\2496765150.py:22: FutureWarning: DataFrame.interpolate with object dtype is deprecated and will raise in a future version. Call obj.infer_objects(copy=False) before interpolating instead.\n",
      "  df = df.interpolate(limit_direction='both').fillna(method='bfill').fillna(method='ffill')\n",
      "C:\\Users\\user\\AppData\\Local\\Temp\\ipykernel_10720\\2496765150.py:22: FutureWarning: DataFrame.fillna with 'method' is deprecated and will raise in a future version. Use obj.ffill() or obj.bfill() instead.\n",
      "  df = df.interpolate(limit_direction='both').fillna(method='bfill').fillna(method='ffill')\n",
      "C:\\Users\\user\\AppData\\Local\\Temp\\ipykernel_10720\\2496765150.py:22: FutureWarning: DataFrame.interpolate with object dtype is deprecated and will raise in a future version. Call obj.infer_objects(copy=False) before interpolating instead.\n",
      "  df = df.interpolate(limit_direction='both').fillna(method='bfill').fillna(method='ffill')\n",
      "C:\\Users\\user\\AppData\\Local\\Temp\\ipykernel_10720\\2496765150.py:22: FutureWarning: DataFrame.fillna with 'method' is deprecated and will raise in a future version. Use obj.ffill() or obj.bfill() instead.\n",
      "  df = df.interpolate(limit_direction='both').fillna(method='bfill').fillna(method='ffill')\n",
      " 62%|██████▏   | 156/252 [00:31<00:10,  8.81it/s]C:\\Users\\user\\AppData\\Local\\Temp\\ipykernel_10720\\2496765150.py:22: FutureWarning: DataFrame.interpolate with object dtype is deprecated and will raise in a future version. Call obj.infer_objects(copy=False) before interpolating instead.\n",
      "  df = df.interpolate(limit_direction='both').fillna(method='bfill').fillna(method='ffill')\n",
      "C:\\Users\\user\\AppData\\Local\\Temp\\ipykernel_10720\\2496765150.py:22: FutureWarning: DataFrame.fillna with 'method' is deprecated and will raise in a future version. Use obj.ffill() or obj.bfill() instead.\n",
      "  df = df.interpolate(limit_direction='both').fillna(method='bfill').fillna(method='ffill')\n",
      " 62%|██████▏   | 157/252 [00:31<00:10,  8.74it/s]C:\\Users\\user\\AppData\\Local\\Temp\\ipykernel_10720\\2496765150.py:22: FutureWarning: DataFrame.interpolate with object dtype is deprecated and will raise in a future version. Call obj.infer_objects(copy=False) before interpolating instead.\n",
      "  df = df.interpolate(limit_direction='both').fillna(method='bfill').fillna(method='ffill')\n",
      "C:\\Users\\user\\AppData\\Local\\Temp\\ipykernel_10720\\2496765150.py:22: FutureWarning: DataFrame.fillna with 'method' is deprecated and will raise in a future version. Use obj.ffill() or obj.bfill() instead.\n",
      "  df = df.interpolate(limit_direction='both').fillna(method='bfill').fillna(method='ffill')\n",
      " 63%|██████▎   | 158/252 [00:31<00:12,  7.57it/s]C:\\Users\\user\\AppData\\Local\\Temp\\ipykernel_10720\\2496765150.py:22: FutureWarning: DataFrame.interpolate with object dtype is deprecated and will raise in a future version. Call obj.infer_objects(copy=False) before interpolating instead.\n",
      "  df = df.interpolate(limit_direction='both').fillna(method='bfill').fillna(method='ffill')\n",
      "C:\\Users\\user\\AppData\\Local\\Temp\\ipykernel_10720\\2496765150.py:22: FutureWarning: DataFrame.fillna with 'method' is deprecated and will raise in a future version. Use obj.ffill() or obj.bfill() instead.\n",
      "  df = df.interpolate(limit_direction='both').fillna(method='bfill').fillna(method='ffill')\n",
      "C:\\Users\\user\\AppData\\Local\\Temp\\ipykernel_10720\\2496765150.py:22: FutureWarning: DataFrame.interpolate with object dtype is deprecated and will raise in a future version. Call obj.infer_objects(copy=False) before interpolating instead.\n",
      "  df = df.interpolate(limit_direction='both').fillna(method='bfill').fillna(method='ffill')\n",
      "C:\\Users\\user\\AppData\\Local\\Temp\\ipykernel_10720\\2496765150.py:22: FutureWarning: DataFrame.fillna with 'method' is deprecated and will raise in a future version. Use obj.ffill() or obj.bfill() instead.\n",
      "  df = df.interpolate(limit_direction='both').fillna(method='bfill').fillna(method='ffill')\n",
      " 63%|██████▎   | 160/252 [00:31<00:10,  8.83it/s]C:\\Users\\user\\AppData\\Local\\Temp\\ipykernel_10720\\2496765150.py:22: FutureWarning: DataFrame.interpolate with object dtype is deprecated and will raise in a future version. Call obj.infer_objects(copy=False) before interpolating instead.\n",
      "  df = df.interpolate(limit_direction='both').fillna(method='bfill').fillna(method='ffill')\n",
      "C:\\Users\\user\\AppData\\Local\\Temp\\ipykernel_10720\\2496765150.py:22: FutureWarning: DataFrame.fillna with 'method' is deprecated and will raise in a future version. Use obj.ffill() or obj.bfill() instead.\n",
      "  df = df.interpolate(limit_direction='both').fillna(method='bfill').fillna(method='ffill')\n",
      " 64%|██████▍   | 161/252 [00:32<00:13,  6.74it/s]C:\\Users\\user\\AppData\\Local\\Temp\\ipykernel_10720\\2496765150.py:22: FutureWarning: DataFrame.interpolate with object dtype is deprecated and will raise in a future version. Call obj.infer_objects(copy=False) before interpolating instead.\n",
      "  df = df.interpolate(limit_direction='both').fillna(method='bfill').fillna(method='ffill')\n",
      "C:\\Users\\user\\AppData\\Local\\Temp\\ipykernel_10720\\2496765150.py:22: FutureWarning: DataFrame.fillna with 'method' is deprecated and will raise in a future version. Use obj.ffill() or obj.bfill() instead.\n",
      "  df = df.interpolate(limit_direction='both').fillna(method='bfill').fillna(method='ffill')\n",
      " 64%|██████▍   | 162/252 [00:32<00:13,  6.45it/s]C:\\Users\\user\\AppData\\Local\\Temp\\ipykernel_10720\\2496765150.py:22: FutureWarning: DataFrame.interpolate with object dtype is deprecated and will raise in a future version. Call obj.infer_objects(copy=False) before interpolating instead.\n",
      "  df = df.interpolate(limit_direction='both').fillna(method='bfill').fillna(method='ffill')\n",
      "C:\\Users\\user\\AppData\\Local\\Temp\\ipykernel_10720\\2496765150.py:22: FutureWarning: DataFrame.fillna with 'method' is deprecated and will raise in a future version. Use obj.ffill() or obj.bfill() instead.\n",
      "  df = df.interpolate(limit_direction='both').fillna(method='bfill').fillna(method='ffill')\n",
      " 65%|██████▍   | 163/252 [00:32<00:14,  6.28it/s]C:\\Users\\user\\AppData\\Local\\Temp\\ipykernel_10720\\2496765150.py:22: FutureWarning: DataFrame.interpolate with object dtype is deprecated and will raise in a future version. Call obj.infer_objects(copy=False) before interpolating instead.\n",
      "  df = df.interpolate(limit_direction='both').fillna(method='bfill').fillna(method='ffill')\n",
      "C:\\Users\\user\\AppData\\Local\\Temp\\ipykernel_10720\\2496765150.py:22: FutureWarning: DataFrame.fillna with 'method' is deprecated and will raise in a future version. Use obj.ffill() or obj.bfill() instead.\n",
      "  df = df.interpolate(limit_direction='both').fillna(method='bfill').fillna(method='ffill')\n",
      "C:\\Users\\user\\AppData\\Local\\Temp\\ipykernel_10720\\2496765150.py:22: FutureWarning: DataFrame.interpolate with object dtype is deprecated and will raise in a future version. Call obj.infer_objects(copy=False) before interpolating instead.\n",
      "  df = df.interpolate(limit_direction='both').fillna(method='bfill').fillna(method='ffill')\n",
      "C:\\Users\\user\\AppData\\Local\\Temp\\ipykernel_10720\\2496765150.py:22: FutureWarning: DataFrame.fillna with 'method' is deprecated and will raise in a future version. Use obj.ffill() or obj.bfill() instead.\n",
      "  df = df.interpolate(limit_direction='both').fillna(method='bfill').fillna(method='ffill')\n",
      " 65%|██████▌   | 165/252 [00:32<00:12,  7.18it/s]C:\\Users\\user\\AppData\\Local\\Temp\\ipykernel_10720\\2496765150.py:22: FutureWarning: DataFrame.interpolate with object dtype is deprecated and will raise in a future version. Call obj.infer_objects(copy=False) before interpolating instead.\n",
      "  df = df.interpolate(limit_direction='both').fillna(method='bfill').fillna(method='ffill')\n",
      "C:\\Users\\user\\AppData\\Local\\Temp\\ipykernel_10720\\2496765150.py:22: FutureWarning: DataFrame.fillna with 'method' is deprecated and will raise in a future version. Use obj.ffill() or obj.bfill() instead.\n",
      "  df = df.interpolate(limit_direction='both').fillna(method='bfill').fillna(method='ffill')\n",
      " 66%|██████▌   | 166/252 [00:32<00:12,  6.79it/s]C:\\Users\\user\\AppData\\Local\\Temp\\ipykernel_10720\\2496765150.py:22: FutureWarning: DataFrame.interpolate with object dtype is deprecated and will raise in a future version. Call obj.infer_objects(copy=False) before interpolating instead.\n",
      "  df = df.interpolate(limit_direction='both').fillna(method='bfill').fillna(method='ffill')\n",
      "C:\\Users\\user\\AppData\\Local\\Temp\\ipykernel_10720\\2496765150.py:22: FutureWarning: DataFrame.fillna with 'method' is deprecated and will raise in a future version. Use obj.ffill() or obj.bfill() instead.\n",
      "  df = df.interpolate(limit_direction='both').fillna(method='bfill').fillna(method='ffill')\n",
      " 66%|██████▋   | 167/252 [00:33<00:13,  6.28it/s]C:\\Users\\user\\AppData\\Local\\Temp\\ipykernel_10720\\2496765150.py:22: FutureWarning: DataFrame.interpolate with object dtype is deprecated and will raise in a future version. Call obj.infer_objects(copy=False) before interpolating instead.\n",
      "  df = df.interpolate(limit_direction='both').fillna(method='bfill').fillna(method='ffill')\n",
      "C:\\Users\\user\\AppData\\Local\\Temp\\ipykernel_10720\\2496765150.py:22: FutureWarning: DataFrame.fillna with 'method' is deprecated and will raise in a future version. Use obj.ffill() or obj.bfill() instead.\n",
      "  df = df.interpolate(limit_direction='both').fillna(method='bfill').fillna(method='ffill')\n",
      " 67%|██████▋   | 168/252 [00:33<00:14,  5.77it/s]C:\\Users\\user\\AppData\\Local\\Temp\\ipykernel_10720\\2496765150.py:22: FutureWarning: DataFrame.interpolate with object dtype is deprecated and will raise in a future version. Call obj.infer_objects(copy=False) before interpolating instead.\n",
      "  df = df.interpolate(limit_direction='both').fillna(method='bfill').fillna(method='ffill')\n",
      "C:\\Users\\user\\AppData\\Local\\Temp\\ipykernel_10720\\2496765150.py:22: FutureWarning: DataFrame.fillna with 'method' is deprecated and will raise in a future version. Use obj.ffill() or obj.bfill() instead.\n",
      "  df = df.interpolate(limit_direction='both').fillna(method='bfill').fillna(method='ffill')\n",
      " 67%|██████▋   | 169/252 [00:33<00:15,  5.50it/s]C:\\Users\\user\\AppData\\Local\\Temp\\ipykernel_10720\\2496765150.py:22: FutureWarning: DataFrame.interpolate with object dtype is deprecated and will raise in a future version. Call obj.infer_objects(copy=False) before interpolating instead.\n",
      "  df = df.interpolate(limit_direction='both').fillna(method='bfill').fillna(method='ffill')\n",
      "C:\\Users\\user\\AppData\\Local\\Temp\\ipykernel_10720\\2496765150.py:22: FutureWarning: DataFrame.fillna with 'method' is deprecated and will raise in a future version. Use obj.ffill() or obj.bfill() instead.\n",
      "  df = df.interpolate(limit_direction='both').fillna(method='bfill').fillna(method='ffill')\n",
      "C:\\Users\\user\\AppData\\Local\\Temp\\ipykernel_10720\\2496765150.py:22: FutureWarning: DataFrame.interpolate with object dtype is deprecated and will raise in a future version. Call obj.infer_objects(copy=False) before interpolating instead.\n",
      "  df = df.interpolate(limit_direction='both').fillna(method='bfill').fillna(method='ffill')\n",
      "C:\\Users\\user\\AppData\\Local\\Temp\\ipykernel_10720\\2496765150.py:22: FutureWarning: DataFrame.fillna with 'method' is deprecated and will raise in a future version. Use obj.ffill() or obj.bfill() instead.\n",
      "  df = df.interpolate(limit_direction='both').fillna(method='bfill').fillna(method='ffill')\n",
      " 68%|██████▊   | 171/252 [00:33<00:11,  7.33it/s]C:\\Users\\user\\AppData\\Local\\Temp\\ipykernel_10720\\2496765150.py:22: FutureWarning: DataFrame.interpolate with object dtype is deprecated and will raise in a future version. Call obj.infer_objects(copy=False) before interpolating instead.\n",
      "  df = df.interpolate(limit_direction='both').fillna(method='bfill').fillna(method='ffill')\n",
      "C:\\Users\\user\\AppData\\Local\\Temp\\ipykernel_10720\\2496765150.py:22: FutureWarning: DataFrame.fillna with 'method' is deprecated and will raise in a future version. Use obj.ffill() or obj.bfill() instead.\n",
      "  df = df.interpolate(limit_direction='both').fillna(method='bfill').fillna(method='ffill')\n",
      " 68%|██████▊   | 172/252 [00:33<00:11,  7.20it/s]C:\\Users\\user\\AppData\\Local\\Temp\\ipykernel_10720\\2496765150.py:22: FutureWarning: DataFrame.interpolate with object dtype is deprecated and will raise in a future version. Call obj.infer_objects(copy=False) before interpolating instead.\n",
      "  df = df.interpolate(limit_direction='both').fillna(method='bfill').fillna(method='ffill')\n",
      "C:\\Users\\user\\AppData\\Local\\Temp\\ipykernel_10720\\2496765150.py:22: FutureWarning: DataFrame.fillna with 'method' is deprecated and will raise in a future version. Use obj.ffill() or obj.bfill() instead.\n",
      "  df = df.interpolate(limit_direction='both').fillna(method='bfill').fillna(method='ffill')\n",
      " 69%|██████▊   | 173/252 [00:33<00:11,  6.96it/s]C:\\Users\\user\\AppData\\Local\\Temp\\ipykernel_10720\\2496765150.py:22: FutureWarning: DataFrame.interpolate with object dtype is deprecated and will raise in a future version. Call obj.infer_objects(copy=False) before interpolating instead.\n",
      "  df = df.interpolate(limit_direction='both').fillna(method='bfill').fillna(method='ffill')\n",
      "C:\\Users\\user\\AppData\\Local\\Temp\\ipykernel_10720\\2496765150.py:22: FutureWarning: DataFrame.fillna with 'method' is deprecated and will raise in a future version. Use obj.ffill() or obj.bfill() instead.\n",
      "  df = df.interpolate(limit_direction='both').fillna(method='bfill').fillna(method='ffill')\n",
      " 69%|██████▉   | 174/252 [00:34<00:11,  6.85it/s]C:\\Users\\user\\AppData\\Local\\Temp\\ipykernel_10720\\2496765150.py:22: FutureWarning: DataFrame.interpolate with object dtype is deprecated and will raise in a future version. Call obj.infer_objects(copy=False) before interpolating instead.\n",
      "  df = df.interpolate(limit_direction='both').fillna(method='bfill').fillna(method='ffill')\n",
      "C:\\Users\\user\\AppData\\Local\\Temp\\ipykernel_10720\\2496765150.py:22: FutureWarning: DataFrame.fillna with 'method' is deprecated and will raise in a future version. Use obj.ffill() or obj.bfill() instead.\n",
      "  df = df.interpolate(limit_direction='both').fillna(method='bfill').fillna(method='ffill')\n",
      " 69%|██████▉   | 175/252 [00:34<00:11,  6.63it/s]C:\\Users\\user\\AppData\\Local\\Temp\\ipykernel_10720\\2496765150.py:22: FutureWarning: DataFrame.interpolate with object dtype is deprecated and will raise in a future version. Call obj.infer_objects(copy=False) before interpolating instead.\n",
      "  df = df.interpolate(limit_direction='both').fillna(method='bfill').fillna(method='ffill')\n",
      "C:\\Users\\user\\AppData\\Local\\Temp\\ipykernel_10720\\2496765150.py:22: FutureWarning: DataFrame.fillna with 'method' is deprecated and will raise in a future version. Use obj.ffill() or obj.bfill() instead.\n",
      "  df = df.interpolate(limit_direction='both').fillna(method='bfill').fillna(method='ffill')\n",
      " 70%|██████▉   | 176/252 [00:34<00:12,  5.90it/s]C:\\Users\\user\\AppData\\Local\\Temp\\ipykernel_10720\\2496765150.py:22: FutureWarning: DataFrame.interpolate with object dtype is deprecated and will raise in a future version. Call obj.infer_objects(copy=False) before interpolating instead.\n",
      "  df = df.interpolate(limit_direction='both').fillna(method='bfill').fillna(method='ffill')\n",
      "C:\\Users\\user\\AppData\\Local\\Temp\\ipykernel_10720\\2496765150.py:22: FutureWarning: DataFrame.fillna with 'method' is deprecated and will raise in a future version. Use obj.ffill() or obj.bfill() instead.\n",
      "  df = df.interpolate(limit_direction='both').fillna(method='bfill').fillna(method='ffill')\n",
      "C:\\Users\\user\\AppData\\Local\\Temp\\ipykernel_10720\\2496765150.py:22: FutureWarning: DataFrame.interpolate with object dtype is deprecated and will raise in a future version. Call obj.infer_objects(copy=False) before interpolating instead.\n",
      "  df = df.interpolate(limit_direction='both').fillna(method='bfill').fillna(method='ffill')\n",
      "C:\\Users\\user\\AppData\\Local\\Temp\\ipykernel_10720\\2496765150.py:22: FutureWarning: DataFrame.fillna with 'method' is deprecated and will raise in a future version. Use obj.ffill() or obj.bfill() instead.\n",
      "  df = df.interpolate(limit_direction='both').fillna(method='bfill').fillna(method='ffill')\n",
      " 71%|███████   | 178/252 [00:34<00:09,  7.86it/s]C:\\Users\\user\\AppData\\Local\\Temp\\ipykernel_10720\\2496765150.py:22: FutureWarning: DataFrame.interpolate with object dtype is deprecated and will raise in a future version. Call obj.infer_objects(copy=False) before interpolating instead.\n",
      "  df = df.interpolate(limit_direction='both').fillna(method='bfill').fillna(method='ffill')\n",
      "C:\\Users\\user\\AppData\\Local\\Temp\\ipykernel_10720\\2496765150.py:22: FutureWarning: DataFrame.fillna with 'method' is deprecated and will raise in a future version. Use obj.ffill() or obj.bfill() instead.\n",
      "  df = df.interpolate(limit_direction='both').fillna(method='bfill').fillna(method='ffill')\n",
      " 71%|███████   | 179/252 [00:34<00:08,  8.26it/s]C:\\Users\\user\\AppData\\Local\\Temp\\ipykernel_10720\\2496765150.py:22: FutureWarning: DataFrame.interpolate with object dtype is deprecated and will raise in a future version. Call obj.infer_objects(copy=False) before interpolating instead.\n",
      "  df = df.interpolate(limit_direction='both').fillna(method='bfill').fillna(method='ffill')\n",
      "C:\\Users\\user\\AppData\\Local\\Temp\\ipykernel_10720\\2496765150.py:22: FutureWarning: DataFrame.fillna with 'method' is deprecated and will raise in a future version. Use obj.ffill() or obj.bfill() instead.\n",
      "  df = df.interpolate(limit_direction='both').fillna(method='bfill').fillna(method='ffill')\n",
      "C:\\Users\\user\\AppData\\Local\\Temp\\ipykernel_10720\\2496765150.py:22: FutureWarning: DataFrame.interpolate with object dtype is deprecated and will raise in a future version. Call obj.infer_objects(copy=False) before interpolating instead.\n",
      "  df = df.interpolate(limit_direction='both').fillna(method='bfill').fillna(method='ffill')\n",
      "C:\\Users\\user\\AppData\\Local\\Temp\\ipykernel_10720\\2496765150.py:22: FutureWarning: DataFrame.fillna with 'method' is deprecated and will raise in a future version. Use obj.ffill() or obj.bfill() instead.\n",
      "  df = df.interpolate(limit_direction='both').fillna(method='bfill').fillna(method='ffill')\n",
      " 72%|███████▏  | 181/252 [00:34<00:07,  9.42it/s]C:\\Users\\user\\AppData\\Local\\Temp\\ipykernel_10720\\2496765150.py:22: FutureWarning: DataFrame.interpolate with object dtype is deprecated and will raise in a future version. Call obj.infer_objects(copy=False) before interpolating instead.\n",
      "  df = df.interpolate(limit_direction='both').fillna(method='bfill').fillna(method='ffill')\n",
      "C:\\Users\\user\\AppData\\Local\\Temp\\ipykernel_10720\\2496765150.py:22: FutureWarning: DataFrame.fillna with 'method' is deprecated and will raise in a future version. Use obj.ffill() or obj.bfill() instead.\n",
      "  df = df.interpolate(limit_direction='both').fillna(method='bfill').fillna(method='ffill')\n",
      "C:\\Users\\user\\AppData\\Local\\Temp\\ipykernel_10720\\2496765150.py:22: FutureWarning: DataFrame.interpolate with object dtype is deprecated and will raise in a future version. Call obj.infer_objects(copy=False) before interpolating instead.\n",
      "  df = df.interpolate(limit_direction='both').fillna(method='bfill').fillna(method='ffill')\n",
      "C:\\Users\\user\\AppData\\Local\\Temp\\ipykernel_10720\\2496765150.py:22: FutureWarning: DataFrame.fillna with 'method' is deprecated and will raise in a future version. Use obj.ffill() or obj.bfill() instead.\n",
      "  df = df.interpolate(limit_direction='both').fillna(method='bfill').fillna(method='ffill')\n",
      " 73%|███████▎  | 183/252 [00:35<00:06, 10.65it/s]C:\\Users\\user\\AppData\\Local\\Temp\\ipykernel_10720\\2496765150.py:22: FutureWarning: DataFrame.interpolate with object dtype is deprecated and will raise in a future version. Call obj.infer_objects(copy=False) before interpolating instead.\n",
      "  df = df.interpolate(limit_direction='both').fillna(method='bfill').fillna(method='ffill')\n",
      "C:\\Users\\user\\AppData\\Local\\Temp\\ipykernel_10720\\2496765150.py:22: FutureWarning: DataFrame.fillna with 'method' is deprecated and will raise in a future version. Use obj.ffill() or obj.bfill() instead.\n",
      "  df = df.interpolate(limit_direction='both').fillna(method='bfill').fillna(method='ffill')\n",
      "C:\\Users\\user\\AppData\\Local\\Temp\\ipykernel_10720\\2496765150.py:22: FutureWarning: DataFrame.interpolate with object dtype is deprecated and will raise in a future version. Call obj.infer_objects(copy=False) before interpolating instead.\n",
      "  df = df.interpolate(limit_direction='both').fillna(method='bfill').fillna(method='ffill')\n",
      "C:\\Users\\user\\AppData\\Local\\Temp\\ipykernel_10720\\2496765150.py:22: FutureWarning: DataFrame.fillna with 'method' is deprecated and will raise in a future version. Use obj.ffill() or obj.bfill() instead.\n",
      "  df = df.interpolate(limit_direction='both').fillna(method='bfill').fillna(method='ffill')\n",
      " 73%|███████▎  | 185/252 [00:35<00:05, 11.37it/s]C:\\Users\\user\\AppData\\Local\\Temp\\ipykernel_10720\\2496765150.py:22: FutureWarning: DataFrame.interpolate with object dtype is deprecated and will raise in a future version. Call obj.infer_objects(copy=False) before interpolating instead.\n",
      "  df = df.interpolate(limit_direction='both').fillna(method='bfill').fillna(method='ffill')\n",
      "C:\\Users\\user\\AppData\\Local\\Temp\\ipykernel_10720\\2496765150.py:22: FutureWarning: DataFrame.fillna with 'method' is deprecated and will raise in a future version. Use obj.ffill() or obj.bfill() instead.\n",
      "  df = df.interpolate(limit_direction='both').fillna(method='bfill').fillna(method='ffill')\n",
      "C:\\Users\\user\\AppData\\Local\\Temp\\ipykernel_10720\\2496765150.py:22: FutureWarning: DataFrame.interpolate with object dtype is deprecated and will raise in a future version. Call obj.infer_objects(copy=False) before interpolating instead.\n",
      "  df = df.interpolate(limit_direction='both').fillna(method='bfill').fillna(method='ffill')\n",
      "C:\\Users\\user\\AppData\\Local\\Temp\\ipykernel_10720\\2496765150.py:22: FutureWarning: DataFrame.fillna with 'method' is deprecated and will raise in a future version. Use obj.ffill() or obj.bfill() instead.\n",
      "  df = df.interpolate(limit_direction='both').fillna(method='bfill').fillna(method='ffill')\n",
      " 74%|███████▍  | 187/252 [00:35<00:05, 11.18it/s]C:\\Users\\user\\AppData\\Local\\Temp\\ipykernel_10720\\2496765150.py:22: FutureWarning: DataFrame.interpolate with object dtype is deprecated and will raise in a future version. Call obj.infer_objects(copy=False) before interpolating instead.\n",
      "  df = df.interpolate(limit_direction='both').fillna(method='bfill').fillna(method='ffill')\n",
      "C:\\Users\\user\\AppData\\Local\\Temp\\ipykernel_10720\\2496765150.py:22: FutureWarning: DataFrame.fillna with 'method' is deprecated and will raise in a future version. Use obj.ffill() or obj.bfill() instead.\n",
      "  df = df.interpolate(limit_direction='both').fillna(method='bfill').fillna(method='ffill')\n",
      "C:\\Users\\user\\AppData\\Local\\Temp\\ipykernel_10720\\2496765150.py:22: FutureWarning: DataFrame.interpolate with object dtype is deprecated and will raise in a future version. Call obj.infer_objects(copy=False) before interpolating instead.\n",
      "  df = df.interpolate(limit_direction='both').fillna(method='bfill').fillna(method='ffill')\n",
      "C:\\Users\\user\\AppData\\Local\\Temp\\ipykernel_10720\\2496765150.py:22: FutureWarning: DataFrame.fillna with 'method' is deprecated and will raise in a future version. Use obj.ffill() or obj.bfill() instead.\n",
      "  df = df.interpolate(limit_direction='both').fillna(method='bfill').fillna(method='ffill')\n",
      " 75%|███████▌  | 189/252 [00:35<00:05, 12.23it/s]C:\\Users\\user\\AppData\\Local\\Temp\\ipykernel_10720\\2496765150.py:22: FutureWarning: DataFrame.interpolate with object dtype is deprecated and will raise in a future version. Call obj.infer_objects(copy=False) before interpolating instead.\n",
      "  df = df.interpolate(limit_direction='both').fillna(method='bfill').fillna(method='ffill')\n",
      "C:\\Users\\user\\AppData\\Local\\Temp\\ipykernel_10720\\2496765150.py:22: FutureWarning: DataFrame.fillna with 'method' is deprecated and will raise in a future version. Use obj.ffill() or obj.bfill() instead.\n",
      "  df = df.interpolate(limit_direction='both').fillna(method='bfill').fillna(method='ffill')\n",
      "C:\\Users\\user\\AppData\\Local\\Temp\\ipykernel_10720\\2496765150.py:22: FutureWarning: DataFrame.interpolate with object dtype is deprecated and will raise in a future version. Call obj.infer_objects(copy=False) before interpolating instead.\n",
      "  df = df.interpolate(limit_direction='both').fillna(method='bfill').fillna(method='ffill')\n",
      "C:\\Users\\user\\AppData\\Local\\Temp\\ipykernel_10720\\2496765150.py:22: FutureWarning: DataFrame.fillna with 'method' is deprecated and will raise in a future version. Use obj.ffill() or obj.bfill() instead.\n",
      "  df = df.interpolate(limit_direction='both').fillna(method='bfill').fillna(method='ffill')\n",
      " 76%|███████▌  | 191/252 [00:35<00:07,  8.61it/s]C:\\Users\\user\\AppData\\Local\\Temp\\ipykernel_10720\\2496765150.py:22: FutureWarning: DataFrame.interpolate with object dtype is deprecated and will raise in a future version. Call obj.infer_objects(copy=False) before interpolating instead.\n",
      "  df = df.interpolate(limit_direction='both').fillna(method='bfill').fillna(method='ffill')\n",
      "C:\\Users\\user\\AppData\\Local\\Temp\\ipykernel_10720\\2496765150.py:22: FutureWarning: DataFrame.fillna with 'method' is deprecated and will raise in a future version. Use obj.ffill() or obj.bfill() instead.\n",
      "  df = df.interpolate(limit_direction='both').fillna(method='bfill').fillna(method='ffill')\n",
      "C:\\Users\\user\\AppData\\Local\\Temp\\ipykernel_10720\\2496765150.py:22: FutureWarning: DataFrame.interpolate with object dtype is deprecated and will raise in a future version. Call obj.infer_objects(copy=False) before interpolating instead.\n",
      "  df = df.interpolate(limit_direction='both').fillna(method='bfill').fillna(method='ffill')\n",
      "C:\\Users\\user\\AppData\\Local\\Temp\\ipykernel_10720\\2496765150.py:22: FutureWarning: DataFrame.fillna with 'method' is deprecated and will raise in a future version. Use obj.ffill() or obj.bfill() instead.\n",
      "  df = df.interpolate(limit_direction='both').fillna(method='bfill').fillna(method='ffill')\n",
      " 77%|███████▋  | 193/252 [00:36<00:08,  7.07it/s]C:\\Users\\user\\AppData\\Local\\Temp\\ipykernel_10720\\2496765150.py:22: FutureWarning: DataFrame.interpolate with object dtype is deprecated and will raise in a future version. Call obj.infer_objects(copy=False) before interpolating instead.\n",
      "  df = df.interpolate(limit_direction='both').fillna(method='bfill').fillna(method='ffill')\n",
      "C:\\Users\\user\\AppData\\Local\\Temp\\ipykernel_10720\\2496765150.py:22: FutureWarning: DataFrame.fillna with 'method' is deprecated and will raise in a future version. Use obj.ffill() or obj.bfill() instead.\n",
      "  df = df.interpolate(limit_direction='both').fillna(method='bfill').fillna(method='ffill')\n",
      " 77%|███████▋  | 194/252 [00:36<00:08,  7.05it/s]C:\\Users\\user\\AppData\\Local\\Temp\\ipykernel_10720\\2496765150.py:22: FutureWarning: DataFrame.interpolate with object dtype is deprecated and will raise in a future version. Call obj.infer_objects(copy=False) before interpolating instead.\n",
      "  df = df.interpolate(limit_direction='both').fillna(method='bfill').fillna(method='ffill')\n",
      "C:\\Users\\user\\AppData\\Local\\Temp\\ipykernel_10720\\2496765150.py:22: FutureWarning: DataFrame.fillna with 'method' is deprecated and will raise in a future version. Use obj.ffill() or obj.bfill() instead.\n",
      "  df = df.interpolate(limit_direction='both').fillna(method='bfill').fillna(method='ffill')\n",
      " 77%|███████▋  | 195/252 [00:36<00:08,  7.04it/s]C:\\Users\\user\\AppData\\Local\\Temp\\ipykernel_10720\\2496765150.py:22: FutureWarning: DataFrame.interpolate with object dtype is deprecated and will raise in a future version. Call obj.infer_objects(copy=False) before interpolating instead.\n",
      "  df = df.interpolate(limit_direction='both').fillna(method='bfill').fillna(method='ffill')\n",
      "C:\\Users\\user\\AppData\\Local\\Temp\\ipykernel_10720\\2496765150.py:22: FutureWarning: DataFrame.fillna with 'method' is deprecated and will raise in a future version. Use obj.ffill() or obj.bfill() instead.\n",
      "  df = df.interpolate(limit_direction='both').fillna(method='bfill').fillna(method='ffill')\n",
      " 78%|███████▊  | 196/252 [00:36<00:08,  6.82it/s]C:\\Users\\user\\AppData\\Local\\Temp\\ipykernel_10720\\2496765150.py:22: FutureWarning: DataFrame.interpolate with object dtype is deprecated and will raise in a future version. Call obj.infer_objects(copy=False) before interpolating instead.\n",
      "  df = df.interpolate(limit_direction='both').fillna(method='bfill').fillna(method='ffill')\n",
      "C:\\Users\\user\\AppData\\Local\\Temp\\ipykernel_10720\\2496765150.py:22: FutureWarning: DataFrame.fillna with 'method' is deprecated and will raise in a future version. Use obj.ffill() or obj.bfill() instead.\n",
      "  df = df.interpolate(limit_direction='both').fillna(method='bfill').fillna(method='ffill')\n",
      " 78%|███████▊  | 197/252 [00:36<00:07,  7.17it/s]C:\\Users\\user\\AppData\\Local\\Temp\\ipykernel_10720\\2496765150.py:22: FutureWarning: DataFrame.interpolate with object dtype is deprecated and will raise in a future version. Call obj.infer_objects(copy=False) before interpolating instead.\n",
      "  df = df.interpolate(limit_direction='both').fillna(method='bfill').fillna(method='ffill')\n",
      "C:\\Users\\user\\AppData\\Local\\Temp\\ipykernel_10720\\2496765150.py:22: FutureWarning: DataFrame.fillna with 'method' is deprecated and will raise in a future version. Use obj.ffill() or obj.bfill() instead.\n",
      "  df = df.interpolate(limit_direction='both').fillna(method='bfill').fillna(method='ffill')\n",
      "C:\\Users\\user\\AppData\\Local\\Temp\\ipykernel_10720\\2496765150.py:22: FutureWarning: DataFrame.interpolate with object dtype is deprecated and will raise in a future version. Call obj.infer_objects(copy=False) before interpolating instead.\n",
      "  df = df.interpolate(limit_direction='both').fillna(method='bfill').fillna(method='ffill')\n",
      "C:\\Users\\user\\AppData\\Local\\Temp\\ipykernel_10720\\2496765150.py:22: FutureWarning: DataFrame.fillna with 'method' is deprecated and will raise in a future version. Use obj.ffill() or obj.bfill() instead.\n",
      "  df = df.interpolate(limit_direction='both').fillna(method='bfill').fillna(method='ffill')\n",
      " 79%|███████▉  | 199/252 [00:36<00:05,  9.37it/s]C:\\Users\\user\\AppData\\Local\\Temp\\ipykernel_10720\\2496765150.py:22: FutureWarning: DataFrame.interpolate with object dtype is deprecated and will raise in a future version. Call obj.infer_objects(copy=False) before interpolating instead.\n",
      "  df = df.interpolate(limit_direction='both').fillna(method='bfill').fillna(method='ffill')\n",
      "C:\\Users\\user\\AppData\\Local\\Temp\\ipykernel_10720\\2496765150.py:22: FutureWarning: DataFrame.fillna with 'method' is deprecated and will raise in a future version. Use obj.ffill() or obj.bfill() instead.\n",
      "  df = df.interpolate(limit_direction='both').fillna(method='bfill').fillna(method='ffill')\n",
      "C:\\Users\\user\\AppData\\Local\\Temp\\ipykernel_10720\\2496765150.py:22: FutureWarning: DataFrame.interpolate with object dtype is deprecated and will raise in a future version. Call obj.infer_objects(copy=False) before interpolating instead.\n",
      "  df = df.interpolate(limit_direction='both').fillna(method='bfill').fillna(method='ffill')\n",
      "C:\\Users\\user\\AppData\\Local\\Temp\\ipykernel_10720\\2496765150.py:22: FutureWarning: DataFrame.fillna with 'method' is deprecated and will raise in a future version. Use obj.ffill() or obj.bfill() instead.\n",
      "  df = df.interpolate(limit_direction='both').fillna(method='bfill').fillna(method='ffill')\n",
      " 80%|███████▉  | 201/252 [00:37<00:04, 10.89it/s]C:\\Users\\user\\AppData\\Local\\Temp\\ipykernel_10720\\2496765150.py:22: FutureWarning: DataFrame.interpolate with object dtype is deprecated and will raise in a future version. Call obj.infer_objects(copy=False) before interpolating instead.\n",
      "  df = df.interpolate(limit_direction='both').fillna(method='bfill').fillna(method='ffill')\n",
      "C:\\Users\\user\\AppData\\Local\\Temp\\ipykernel_10720\\2496765150.py:22: FutureWarning: DataFrame.fillna with 'method' is deprecated and will raise in a future version. Use obj.ffill() or obj.bfill() instead.\n",
      "  df = df.interpolate(limit_direction='both').fillna(method='bfill').fillna(method='ffill')\n",
      "C:\\Users\\user\\AppData\\Local\\Temp\\ipykernel_10720\\2496765150.py:22: FutureWarning: DataFrame.interpolate with object dtype is deprecated and will raise in a future version. Call obj.infer_objects(copy=False) before interpolating instead.\n",
      "  df = df.interpolate(limit_direction='both').fillna(method='bfill').fillna(method='ffill')\n",
      "C:\\Users\\user\\AppData\\Local\\Temp\\ipykernel_10720\\2496765150.py:22: FutureWarning: DataFrame.fillna with 'method' is deprecated and will raise in a future version. Use obj.ffill() or obj.bfill() instead.\n",
      "  df = df.interpolate(limit_direction='both').fillna(method='bfill').fillna(method='ffill')\n",
      " 81%|████████  | 203/252 [00:37<00:03, 12.64it/s]C:\\Users\\user\\AppData\\Local\\Temp\\ipykernel_10720\\2496765150.py:22: FutureWarning: DataFrame.interpolate with object dtype is deprecated and will raise in a future version. Call obj.infer_objects(copy=False) before interpolating instead.\n",
      "  df = df.interpolate(limit_direction='both').fillna(method='bfill').fillna(method='ffill')\n",
      "C:\\Users\\user\\AppData\\Local\\Temp\\ipykernel_10720\\2496765150.py:22: FutureWarning: DataFrame.fillna with 'method' is deprecated and will raise in a future version. Use obj.ffill() or obj.bfill() instead.\n",
      "  df = df.interpolate(limit_direction='both').fillna(method='bfill').fillna(method='ffill')\n",
      "C:\\Users\\user\\AppData\\Local\\Temp\\ipykernel_10720\\2496765150.py:22: FutureWarning: DataFrame.interpolate with object dtype is deprecated and will raise in a future version. Call obj.infer_objects(copy=False) before interpolating instead.\n",
      "  df = df.interpolate(limit_direction='both').fillna(method='bfill').fillna(method='ffill')\n",
      "C:\\Users\\user\\AppData\\Local\\Temp\\ipykernel_10720\\2496765150.py:22: FutureWarning: DataFrame.fillna with 'method' is deprecated and will raise in a future version. Use obj.ffill() or obj.bfill() instead.\n",
      "  df = df.interpolate(limit_direction='both').fillna(method='bfill').fillna(method='ffill')\n",
      " 81%|████████▏ | 205/252 [00:37<00:04, 11.26it/s]C:\\Users\\user\\AppData\\Local\\Temp\\ipykernel_10720\\2496765150.py:22: FutureWarning: DataFrame.interpolate with object dtype is deprecated and will raise in a future version. Call obj.infer_objects(copy=False) before interpolating instead.\n",
      "  df = df.interpolate(limit_direction='both').fillna(method='bfill').fillna(method='ffill')\n",
      "C:\\Users\\user\\AppData\\Local\\Temp\\ipykernel_10720\\2496765150.py:22: FutureWarning: DataFrame.fillna with 'method' is deprecated and will raise in a future version. Use obj.ffill() or obj.bfill() instead.\n",
      "  df = df.interpolate(limit_direction='both').fillna(method='bfill').fillna(method='ffill')\n",
      "C:\\Users\\user\\AppData\\Local\\Temp\\ipykernel_10720\\2496765150.py:22: FutureWarning: DataFrame.interpolate with object dtype is deprecated and will raise in a future version. Call obj.infer_objects(copy=False) before interpolating instead.\n",
      "  df = df.interpolate(limit_direction='both').fillna(method='bfill').fillna(method='ffill')\n",
      "C:\\Users\\user\\AppData\\Local\\Temp\\ipykernel_10720\\2496765150.py:22: FutureWarning: DataFrame.fillna with 'method' is deprecated and will raise in a future version. Use obj.ffill() or obj.bfill() instead.\n",
      "  df = df.interpolate(limit_direction='both').fillna(method='bfill').fillna(method='ffill')\n",
      " 82%|████████▏ | 207/252 [00:37<00:04, 10.71it/s]C:\\Users\\user\\AppData\\Local\\Temp\\ipykernel_10720\\2496765150.py:22: FutureWarning: DataFrame.interpolate with object dtype is deprecated and will raise in a future version. Call obj.infer_objects(copy=False) before interpolating instead.\n",
      "  df = df.interpolate(limit_direction='both').fillna(method='bfill').fillna(method='ffill')\n",
      "C:\\Users\\user\\AppData\\Local\\Temp\\ipykernel_10720\\2496765150.py:22: FutureWarning: DataFrame.fillna with 'method' is deprecated and will raise in a future version. Use obj.ffill() or obj.bfill() instead.\n",
      "  df = df.interpolate(limit_direction='both').fillna(method='bfill').fillna(method='ffill')\n",
      "C:\\Users\\user\\AppData\\Local\\Temp\\ipykernel_10720\\2496765150.py:22: FutureWarning: DataFrame.interpolate with object dtype is deprecated and will raise in a future version. Call obj.infer_objects(copy=False) before interpolating instead.\n",
      "  df = df.interpolate(limit_direction='both').fillna(method='bfill').fillna(method='ffill')\n",
      "C:\\Users\\user\\AppData\\Local\\Temp\\ipykernel_10720\\2496765150.py:22: FutureWarning: DataFrame.fillna with 'method' is deprecated and will raise in a future version. Use obj.ffill() or obj.bfill() instead.\n",
      "  df = df.interpolate(limit_direction='both').fillna(method='bfill').fillna(method='ffill')\n",
      " 83%|████████▎ | 209/252 [00:37<00:04,  8.91it/s]C:\\Users\\user\\AppData\\Local\\Temp\\ipykernel_10720\\2496765150.py:22: FutureWarning: DataFrame.interpolate with object dtype is deprecated and will raise in a future version. Call obj.infer_objects(copy=False) before interpolating instead.\n",
      "  df = df.interpolate(limit_direction='both').fillna(method='bfill').fillna(method='ffill')\n",
      "C:\\Users\\user\\AppData\\Local\\Temp\\ipykernel_10720\\2496765150.py:22: FutureWarning: DataFrame.fillna with 'method' is deprecated and will raise in a future version. Use obj.ffill() or obj.bfill() instead.\n",
      "  df = df.interpolate(limit_direction='both').fillna(method='bfill').fillna(method='ffill')\n",
      "C:\\Users\\user\\AppData\\Local\\Temp\\ipykernel_10720\\2496765150.py:22: FutureWarning: DataFrame.interpolate with object dtype is deprecated and will raise in a future version. Call obj.infer_objects(copy=False) before interpolating instead.\n",
      "  df = df.interpolate(limit_direction='both').fillna(method='bfill').fillna(method='ffill')\n",
      "C:\\Users\\user\\AppData\\Local\\Temp\\ipykernel_10720\\2496765150.py:22: FutureWarning: DataFrame.fillna with 'method' is deprecated and will raise in a future version. Use obj.ffill() or obj.bfill() instead.\n",
      "  df = df.interpolate(limit_direction='both').fillna(method='bfill').fillna(method='ffill')\n",
      " 84%|████████▎ | 211/252 [00:38<00:03, 10.63it/s]C:\\Users\\user\\AppData\\Local\\Temp\\ipykernel_10720\\2496765150.py:22: FutureWarning: DataFrame.interpolate with object dtype is deprecated and will raise in a future version. Call obj.infer_objects(copy=False) before interpolating instead.\n",
      "  df = df.interpolate(limit_direction='both').fillna(method='bfill').fillna(method='ffill')\n",
      "C:\\Users\\user\\AppData\\Local\\Temp\\ipykernel_10720\\2496765150.py:22: FutureWarning: DataFrame.fillna with 'method' is deprecated and will raise in a future version. Use obj.ffill() or obj.bfill() instead.\n",
      "  df = df.interpolate(limit_direction='both').fillna(method='bfill').fillna(method='ffill')\n",
      "C:\\Users\\user\\AppData\\Local\\Temp\\ipykernel_10720\\2496765150.py:22: FutureWarning: DataFrame.interpolate with object dtype is deprecated and will raise in a future version. Call obj.infer_objects(copy=False) before interpolating instead.\n",
      "  df = df.interpolate(limit_direction='both').fillna(method='bfill').fillna(method='ffill')\n",
      "C:\\Users\\user\\AppData\\Local\\Temp\\ipykernel_10720\\2496765150.py:22: FutureWarning: DataFrame.fillna with 'method' is deprecated and will raise in a future version. Use obj.ffill() or obj.bfill() instead.\n",
      "  df = df.interpolate(limit_direction='both').fillna(method='bfill').fillna(method='ffill')\n",
      "C:\\Users\\user\\AppData\\Local\\Temp\\ipykernel_10720\\2496765150.py:22: FutureWarning: DataFrame.interpolate with object dtype is deprecated and will raise in a future version. Call obj.infer_objects(copy=False) before interpolating instead.\n",
      "  df = df.interpolate(limit_direction='both').fillna(method='bfill').fillna(method='ffill')\n",
      "C:\\Users\\user\\AppData\\Local\\Temp\\ipykernel_10720\\2496765150.py:22: FutureWarning: DataFrame.fillna with 'method' is deprecated and will raise in a future version. Use obj.ffill() or obj.bfill() instead.\n",
      "  df = df.interpolate(limit_direction='both').fillna(method='bfill').fillna(method='ffill')\n",
      " 85%|████████▍ | 214/252 [00:38<00:02, 12.92it/s]C:\\Users\\user\\AppData\\Local\\Temp\\ipykernel_10720\\2496765150.py:22: FutureWarning: DataFrame.interpolate with object dtype is deprecated and will raise in a future version. Call obj.infer_objects(copy=False) before interpolating instead.\n",
      "  df = df.interpolate(limit_direction='both').fillna(method='bfill').fillna(method='ffill')\n",
      "C:\\Users\\user\\AppData\\Local\\Temp\\ipykernel_10720\\2496765150.py:22: FutureWarning: DataFrame.fillna with 'method' is deprecated and will raise in a future version. Use obj.ffill() or obj.bfill() instead.\n",
      "  df = df.interpolate(limit_direction='both').fillna(method='bfill').fillna(method='ffill')\n",
      "C:\\Users\\user\\AppData\\Local\\Temp\\ipykernel_10720\\2496765150.py:22: FutureWarning: DataFrame.interpolate with object dtype is deprecated and will raise in a future version. Call obj.infer_objects(copy=False) before interpolating instead.\n",
      "  df = df.interpolate(limit_direction='both').fillna(method='bfill').fillna(method='ffill')\n",
      "C:\\Users\\user\\AppData\\Local\\Temp\\ipykernel_10720\\2496765150.py:22: FutureWarning: DataFrame.fillna with 'method' is deprecated and will raise in a future version. Use obj.ffill() or obj.bfill() instead.\n",
      "  df = df.interpolate(limit_direction='both').fillna(method='bfill').fillna(method='ffill')\n",
      " 86%|████████▌ | 216/252 [00:38<00:02, 12.44it/s]C:\\Users\\user\\AppData\\Local\\Temp\\ipykernel_10720\\2496765150.py:22: FutureWarning: DataFrame.interpolate with object dtype is deprecated and will raise in a future version. Call obj.infer_objects(copy=False) before interpolating instead.\n",
      "  df = df.interpolate(limit_direction='both').fillna(method='bfill').fillna(method='ffill')\n",
      "C:\\Users\\user\\AppData\\Local\\Temp\\ipykernel_10720\\2496765150.py:22: FutureWarning: DataFrame.fillna with 'method' is deprecated and will raise in a future version. Use obj.ffill() or obj.bfill() instead.\n",
      "  df = df.interpolate(limit_direction='both').fillna(method='bfill').fillna(method='ffill')\n",
      "C:\\Users\\user\\AppData\\Local\\Temp\\ipykernel_10720\\2496765150.py:22: FutureWarning: DataFrame.interpolate with object dtype is deprecated and will raise in a future version. Call obj.infer_objects(copy=False) before interpolating instead.\n",
      "  df = df.interpolate(limit_direction='both').fillna(method='bfill').fillna(method='ffill')\n",
      "C:\\Users\\user\\AppData\\Local\\Temp\\ipykernel_10720\\2496765150.py:22: FutureWarning: DataFrame.fillna with 'method' is deprecated and will raise in a future version. Use obj.ffill() or obj.bfill() instead.\n",
      "  df = df.interpolate(limit_direction='both').fillna(method='bfill').fillna(method='ffill')\n",
      " 87%|████████▋ | 218/252 [00:38<00:03, 10.79it/s]C:\\Users\\user\\AppData\\Local\\Temp\\ipykernel_10720\\2496765150.py:22: FutureWarning: DataFrame.interpolate with object dtype is deprecated and will raise in a future version. Call obj.infer_objects(copy=False) before interpolating instead.\n",
      "  df = df.interpolate(limit_direction='both').fillna(method='bfill').fillna(method='ffill')\n",
      "C:\\Users\\user\\AppData\\Local\\Temp\\ipykernel_10720\\2496765150.py:22: FutureWarning: DataFrame.fillna with 'method' is deprecated and will raise in a future version. Use obj.ffill() or obj.bfill() instead.\n",
      "  df = df.interpolate(limit_direction='both').fillna(method='bfill').fillna(method='ffill')\n",
      "C:\\Users\\user\\AppData\\Local\\Temp\\ipykernel_10720\\2496765150.py:22: FutureWarning: DataFrame.interpolate with object dtype is deprecated and will raise in a future version. Call obj.infer_objects(copy=False) before interpolating instead.\n",
      "  df = df.interpolate(limit_direction='both').fillna(method='bfill').fillna(method='ffill')\n",
      "C:\\Users\\user\\AppData\\Local\\Temp\\ipykernel_10720\\2496765150.py:22: FutureWarning: DataFrame.fillna with 'method' is deprecated and will raise in a future version. Use obj.ffill() or obj.bfill() instead.\n",
      "  df = df.interpolate(limit_direction='both').fillna(method='bfill').fillna(method='ffill')\n",
      " 87%|████████▋ | 220/252 [00:38<00:03, 10.22it/s]C:\\Users\\user\\AppData\\Local\\Temp\\ipykernel_10720\\2496765150.py:22: FutureWarning: DataFrame.interpolate with object dtype is deprecated and will raise in a future version. Call obj.infer_objects(copy=False) before interpolating instead.\n",
      "  df = df.interpolate(limit_direction='both').fillna(method='bfill').fillna(method='ffill')\n",
      "C:\\Users\\user\\AppData\\Local\\Temp\\ipykernel_10720\\2496765150.py:22: FutureWarning: DataFrame.fillna with 'method' is deprecated and will raise in a future version. Use obj.ffill() or obj.bfill() instead.\n",
      "  df = df.interpolate(limit_direction='both').fillna(method='bfill').fillna(method='ffill')\n",
      "C:\\Users\\user\\AppData\\Local\\Temp\\ipykernel_10720\\2496765150.py:22: FutureWarning: DataFrame.interpolate with object dtype is deprecated and will raise in a future version. Call obj.infer_objects(copy=False) before interpolating instead.\n",
      "  df = df.interpolate(limit_direction='both').fillna(method='bfill').fillna(method='ffill')\n",
      "C:\\Users\\user\\AppData\\Local\\Temp\\ipykernel_10720\\2496765150.py:22: FutureWarning: DataFrame.fillna with 'method' is deprecated and will raise in a future version. Use obj.ffill() or obj.bfill() instead.\n",
      "  df = df.interpolate(limit_direction='both').fillna(method='bfill').fillna(method='ffill')\n",
      " 88%|████████▊ | 222/252 [00:38<00:02, 11.74it/s]C:\\Users\\user\\AppData\\Local\\Temp\\ipykernel_10720\\2496765150.py:22: FutureWarning: DataFrame.interpolate with object dtype is deprecated and will raise in a future version. Call obj.infer_objects(copy=False) before interpolating instead.\n",
      "  df = df.interpolate(limit_direction='both').fillna(method='bfill').fillna(method='ffill')\n",
      "C:\\Users\\user\\AppData\\Local\\Temp\\ipykernel_10720\\2496765150.py:22: FutureWarning: DataFrame.fillna with 'method' is deprecated and will raise in a future version. Use obj.ffill() or obj.bfill() instead.\n",
      "  df = df.interpolate(limit_direction='both').fillna(method='bfill').fillna(method='ffill')\n",
      "C:\\Users\\user\\AppData\\Local\\Temp\\ipykernel_10720\\2496765150.py:22: FutureWarning: DataFrame.interpolate with object dtype is deprecated and will raise in a future version. Call obj.infer_objects(copy=False) before interpolating instead.\n",
      "  df = df.interpolate(limit_direction='both').fillna(method='bfill').fillna(method='ffill')\n",
      "C:\\Users\\user\\AppData\\Local\\Temp\\ipykernel_10720\\2496765150.py:22: FutureWarning: DataFrame.fillna with 'method' is deprecated and will raise in a future version. Use obj.ffill() or obj.bfill() instead.\n",
      "  df = df.interpolate(limit_direction='both').fillna(method='bfill').fillna(method='ffill')\n",
      " 89%|████████▉ | 224/252 [00:39<00:02, 11.87it/s]C:\\Users\\user\\AppData\\Local\\Temp\\ipykernel_10720\\2496765150.py:22: FutureWarning: DataFrame.interpolate with object dtype is deprecated and will raise in a future version. Call obj.infer_objects(copy=False) before interpolating instead.\n",
      "  df = df.interpolate(limit_direction='both').fillna(method='bfill').fillna(method='ffill')\n",
      "C:\\Users\\user\\AppData\\Local\\Temp\\ipykernel_10720\\2496765150.py:22: FutureWarning: DataFrame.fillna with 'method' is deprecated and will raise in a future version. Use obj.ffill() or obj.bfill() instead.\n",
      "  df = df.interpolate(limit_direction='both').fillna(method='bfill').fillna(method='ffill')\n",
      "C:\\Users\\user\\AppData\\Local\\Temp\\ipykernel_10720\\2496765150.py:22: FutureWarning: DataFrame.interpolate with object dtype is deprecated and will raise in a future version. Call obj.infer_objects(copy=False) before interpolating instead.\n",
      "  df = df.interpolate(limit_direction='both').fillna(method='bfill').fillna(method='ffill')\n",
      "C:\\Users\\user\\AppData\\Local\\Temp\\ipykernel_10720\\2496765150.py:22: FutureWarning: DataFrame.fillna with 'method' is deprecated and will raise in a future version. Use obj.ffill() or obj.bfill() instead.\n",
      "  df = df.interpolate(limit_direction='both').fillna(method='bfill').fillna(method='ffill')\n",
      " 90%|████████▉ | 226/252 [00:39<00:02,  8.95it/s]C:\\Users\\user\\AppData\\Local\\Temp\\ipykernel_10720\\2496765150.py:22: FutureWarning: DataFrame.interpolate with object dtype is deprecated and will raise in a future version. Call obj.infer_objects(copy=False) before interpolating instead.\n",
      "  df = df.interpolate(limit_direction='both').fillna(method='bfill').fillna(method='ffill')\n",
      "C:\\Users\\user\\AppData\\Local\\Temp\\ipykernel_10720\\2496765150.py:22: FutureWarning: DataFrame.fillna with 'method' is deprecated and will raise in a future version. Use obj.ffill() or obj.bfill() instead.\n",
      "  df = df.interpolate(limit_direction='both').fillna(method='bfill').fillna(method='ffill')\n",
      "C:\\Users\\user\\AppData\\Local\\Temp\\ipykernel_10720\\2496765150.py:22: FutureWarning: DataFrame.interpolate with object dtype is deprecated and will raise in a future version. Call obj.infer_objects(copy=False) before interpolating instead.\n",
      "  df = df.interpolate(limit_direction='both').fillna(method='bfill').fillna(method='ffill')\n",
      "C:\\Users\\user\\AppData\\Local\\Temp\\ipykernel_10720\\2496765150.py:22: FutureWarning: DataFrame.fillna with 'method' is deprecated and will raise in a future version. Use obj.ffill() or obj.bfill() instead.\n",
      "  df = df.interpolate(limit_direction='both').fillna(method='bfill').fillna(method='ffill')\n",
      " 90%|█████████ | 228/252 [00:39<00:02,  8.41it/s]C:\\Users\\user\\AppData\\Local\\Temp\\ipykernel_10720\\2496765150.py:22: FutureWarning: DataFrame.interpolate with object dtype is deprecated and will raise in a future version. Call obj.infer_objects(copy=False) before interpolating instead.\n",
      "  df = df.interpolate(limit_direction='both').fillna(method='bfill').fillna(method='ffill')\n",
      "C:\\Users\\user\\AppData\\Local\\Temp\\ipykernel_10720\\2496765150.py:22: FutureWarning: DataFrame.fillna with 'method' is deprecated and will raise in a future version. Use obj.ffill() or obj.bfill() instead.\n",
      "  df = df.interpolate(limit_direction='both').fillna(method='bfill').fillna(method='ffill')\n",
      "C:\\Users\\user\\AppData\\Local\\Temp\\ipykernel_10720\\2496765150.py:22: FutureWarning: DataFrame.interpolate with object dtype is deprecated and will raise in a future version. Call obj.infer_objects(copy=False) before interpolating instead.\n",
      "  df = df.interpolate(limit_direction='both').fillna(method='bfill').fillna(method='ffill')\n",
      "C:\\Users\\user\\AppData\\Local\\Temp\\ipykernel_10720\\2496765150.py:22: FutureWarning: DataFrame.fillna with 'method' is deprecated and will raise in a future version. Use obj.ffill() or obj.bfill() instead.\n",
      "  df = df.interpolate(limit_direction='both').fillna(method='bfill').fillna(method='ffill')\n",
      " 91%|█████████▏| 230/252 [00:39<00:02,  8.95it/s]C:\\Users\\user\\AppData\\Local\\Temp\\ipykernel_10720\\2496765150.py:22: FutureWarning: DataFrame.interpolate with object dtype is deprecated and will raise in a future version. Call obj.infer_objects(copy=False) before interpolating instead.\n",
      "  df = df.interpolate(limit_direction='both').fillna(method='bfill').fillna(method='ffill')\n",
      "C:\\Users\\user\\AppData\\Local\\Temp\\ipykernel_10720\\2496765150.py:22: FutureWarning: DataFrame.fillna with 'method' is deprecated and will raise in a future version. Use obj.ffill() or obj.bfill() instead.\n",
      "  df = df.interpolate(limit_direction='both').fillna(method='bfill').fillna(method='ffill')\n",
      " 92%|█████████▏| 231/252 [00:40<00:02,  8.78it/s]C:\\Users\\user\\AppData\\Local\\Temp\\ipykernel_10720\\2496765150.py:22: FutureWarning: DataFrame.interpolate with object dtype is deprecated and will raise in a future version. Call obj.infer_objects(copy=False) before interpolating instead.\n",
      "  df = df.interpolate(limit_direction='both').fillna(method='bfill').fillna(method='ffill')\n",
      "C:\\Users\\user\\AppData\\Local\\Temp\\ipykernel_10720\\2496765150.py:22: FutureWarning: DataFrame.fillna with 'method' is deprecated and will raise in a future version. Use obj.ffill() or obj.bfill() instead.\n",
      "  df = df.interpolate(limit_direction='both').fillna(method='bfill').fillna(method='ffill')\n",
      "C:\\Users\\user\\AppData\\Local\\Temp\\ipykernel_10720\\2496765150.py:22: FutureWarning: DataFrame.interpolate with object dtype is deprecated and will raise in a future version. Call obj.infer_objects(copy=False) before interpolating instead.\n",
      "  df = df.interpolate(limit_direction='both').fillna(method='bfill').fillna(method='ffill')\n",
      "C:\\Users\\user\\AppData\\Local\\Temp\\ipykernel_10720\\2496765150.py:22: FutureWarning: DataFrame.fillna with 'method' is deprecated and will raise in a future version. Use obj.ffill() or obj.bfill() instead.\n",
      "  df = df.interpolate(limit_direction='both').fillna(method='bfill').fillna(method='ffill')\n",
      " 92%|█████████▏| 233/252 [00:40<00:02,  9.13it/s]C:\\Users\\user\\AppData\\Local\\Temp\\ipykernel_10720\\2496765150.py:22: FutureWarning: DataFrame.interpolate with object dtype is deprecated and will raise in a future version. Call obj.infer_objects(copy=False) before interpolating instead.\n",
      "  df = df.interpolate(limit_direction='both').fillna(method='bfill').fillna(method='ffill')\n",
      "C:\\Users\\user\\AppData\\Local\\Temp\\ipykernel_10720\\2496765150.py:22: FutureWarning: DataFrame.fillna with 'method' is deprecated and will raise in a future version. Use obj.ffill() or obj.bfill() instead.\n",
      "  df = df.interpolate(limit_direction='both').fillna(method='bfill').fillna(method='ffill')\n",
      "C:\\Users\\user\\AppData\\Local\\Temp\\ipykernel_10720\\2496765150.py:22: FutureWarning: DataFrame.interpolate with object dtype is deprecated and will raise in a future version. Call obj.infer_objects(copy=False) before interpolating instead.\n",
      "  df = df.interpolate(limit_direction='both').fillna(method='bfill').fillna(method='ffill')\n",
      "C:\\Users\\user\\AppData\\Local\\Temp\\ipykernel_10720\\2496765150.py:22: FutureWarning: DataFrame.fillna with 'method' is deprecated and will raise in a future version. Use obj.ffill() or obj.bfill() instead.\n",
      "  df = df.interpolate(limit_direction='both').fillna(method='bfill').fillna(method='ffill')\n",
      " 93%|█████████▎| 235/252 [00:40<00:01,  9.72it/s]C:\\Users\\user\\AppData\\Local\\Temp\\ipykernel_10720\\2496765150.py:22: FutureWarning: DataFrame.interpolate with object dtype is deprecated and will raise in a future version. Call obj.infer_objects(copy=False) before interpolating instead.\n",
      "  df = df.interpolate(limit_direction='both').fillna(method='bfill').fillna(method='ffill')\n",
      "C:\\Users\\user\\AppData\\Local\\Temp\\ipykernel_10720\\2496765150.py:22: FutureWarning: DataFrame.fillna with 'method' is deprecated and will raise in a future version. Use obj.ffill() or obj.bfill() instead.\n",
      "  df = df.interpolate(limit_direction='both').fillna(method='bfill').fillna(method='ffill')\n",
      "C:\\Users\\user\\AppData\\Local\\Temp\\ipykernel_10720\\2496765150.py:22: FutureWarning: DataFrame.interpolate with object dtype is deprecated and will raise in a future version. Call obj.infer_objects(copy=False) before interpolating instead.\n",
      "  df = df.interpolate(limit_direction='both').fillna(method='bfill').fillna(method='ffill')\n",
      "C:\\Users\\user\\AppData\\Local\\Temp\\ipykernel_10720\\2496765150.py:22: FutureWarning: DataFrame.fillna with 'method' is deprecated and will raise in a future version. Use obj.ffill() or obj.bfill() instead.\n",
      "  df = df.interpolate(limit_direction='both').fillna(method='bfill').fillna(method='ffill')\n",
      " 94%|█████████▍| 237/252 [00:40<00:01, 10.09it/s]C:\\Users\\user\\AppData\\Local\\Temp\\ipykernel_10720\\2496765150.py:22: FutureWarning: DataFrame.interpolate with object dtype is deprecated and will raise in a future version. Call obj.infer_objects(copy=False) before interpolating instead.\n",
      "  df = df.interpolate(limit_direction='both').fillna(method='bfill').fillna(method='ffill')\n",
      "C:\\Users\\user\\AppData\\Local\\Temp\\ipykernel_10720\\2496765150.py:22: FutureWarning: DataFrame.fillna with 'method' is deprecated and will raise in a future version. Use obj.ffill() or obj.bfill() instead.\n",
      "  df = df.interpolate(limit_direction='both').fillna(method='bfill').fillna(method='ffill')\n",
      "C:\\Users\\user\\AppData\\Local\\Temp\\ipykernel_10720\\2496765150.py:22: FutureWarning: DataFrame.interpolate with object dtype is deprecated and will raise in a future version. Call obj.infer_objects(copy=False) before interpolating instead.\n",
      "  df = df.interpolate(limit_direction='both').fillna(method='bfill').fillna(method='ffill')\n",
      "C:\\Users\\user\\AppData\\Local\\Temp\\ipykernel_10720\\2496765150.py:22: FutureWarning: DataFrame.fillna with 'method' is deprecated and will raise in a future version. Use obj.ffill() or obj.bfill() instead.\n",
      "  df = df.interpolate(limit_direction='both').fillna(method='bfill').fillna(method='ffill')\n",
      " 95%|█████████▍| 239/252 [00:40<00:01,  8.49it/s]C:\\Users\\user\\AppData\\Local\\Temp\\ipykernel_10720\\2496765150.py:22: FutureWarning: DataFrame.interpolate with object dtype is deprecated and will raise in a future version. Call obj.infer_objects(copy=False) before interpolating instead.\n",
      "  df = df.interpolate(limit_direction='both').fillna(method='bfill').fillna(method='ffill')\n",
      "C:\\Users\\user\\AppData\\Local\\Temp\\ipykernel_10720\\2496765150.py:22: FutureWarning: DataFrame.fillna with 'method' is deprecated and will raise in a future version. Use obj.ffill() or obj.bfill() instead.\n",
      "  df = df.interpolate(limit_direction='both').fillna(method='bfill').fillna(method='ffill')\n",
      "C:\\Users\\user\\AppData\\Local\\Temp\\ipykernel_10720\\2496765150.py:22: FutureWarning: DataFrame.interpolate with object dtype is deprecated and will raise in a future version. Call obj.infer_objects(copy=False) before interpolating instead.\n",
      "  df = df.interpolate(limit_direction='both').fillna(method='bfill').fillna(method='ffill')\n",
      "C:\\Users\\user\\AppData\\Local\\Temp\\ipykernel_10720\\2496765150.py:22: FutureWarning: DataFrame.fillna with 'method' is deprecated and will raise in a future version. Use obj.ffill() or obj.bfill() instead.\n",
      "  df = df.interpolate(limit_direction='both').fillna(method='bfill').fillna(method='ffill')\n",
      " 96%|█████████▌| 241/252 [00:41<00:01,  9.69it/s]C:\\Users\\user\\AppData\\Local\\Temp\\ipykernel_10720\\2496765150.py:22: FutureWarning: DataFrame.interpolate with object dtype is deprecated and will raise in a future version. Call obj.infer_objects(copy=False) before interpolating instead.\n",
      "  df = df.interpolate(limit_direction='both').fillna(method='bfill').fillna(method='ffill')\n",
      "C:\\Users\\user\\AppData\\Local\\Temp\\ipykernel_10720\\2496765150.py:22: FutureWarning: DataFrame.fillna with 'method' is deprecated and will raise in a future version. Use obj.ffill() or obj.bfill() instead.\n",
      "  df = df.interpolate(limit_direction='both').fillna(method='bfill').fillna(method='ffill')\n",
      "C:\\Users\\user\\AppData\\Local\\Temp\\ipykernel_10720\\2496765150.py:22: FutureWarning: DataFrame.interpolate with object dtype is deprecated and will raise in a future version. Call obj.infer_objects(copy=False) before interpolating instead.\n",
      "  df = df.interpolate(limit_direction='both').fillna(method='bfill').fillna(method='ffill')\n",
      "C:\\Users\\user\\AppData\\Local\\Temp\\ipykernel_10720\\2496765150.py:22: FutureWarning: DataFrame.fillna with 'method' is deprecated and will raise in a future version. Use obj.ffill() or obj.bfill() instead.\n",
      "  df = df.interpolate(limit_direction='both').fillna(method='bfill').fillna(method='ffill')\n",
      " 96%|█████████▋| 243/252 [00:41<00:00, 10.10it/s]C:\\Users\\user\\AppData\\Local\\Temp\\ipykernel_10720\\2496765150.py:22: FutureWarning: DataFrame.interpolate with object dtype is deprecated and will raise in a future version. Call obj.infer_objects(copy=False) before interpolating instead.\n",
      "  df = df.interpolate(limit_direction='both').fillna(method='bfill').fillna(method='ffill')\n",
      "C:\\Users\\user\\AppData\\Local\\Temp\\ipykernel_10720\\2496765150.py:22: FutureWarning: DataFrame.fillna with 'method' is deprecated and will raise in a future version. Use obj.ffill() or obj.bfill() instead.\n",
      "  df = df.interpolate(limit_direction='both').fillna(method='bfill').fillna(method='ffill')\n",
      "C:\\Users\\user\\AppData\\Local\\Temp\\ipykernel_10720\\2496765150.py:22: FutureWarning: DataFrame.interpolate with object dtype is deprecated and will raise in a future version. Call obj.infer_objects(copy=False) before interpolating instead.\n",
      "  df = df.interpolate(limit_direction='both').fillna(method='bfill').fillna(method='ffill')\n",
      "C:\\Users\\user\\AppData\\Local\\Temp\\ipykernel_10720\\2496765150.py:22: FutureWarning: DataFrame.fillna with 'method' is deprecated and will raise in a future version. Use obj.ffill() or obj.bfill() instead.\n",
      "  df = df.interpolate(limit_direction='both').fillna(method='bfill').fillna(method='ffill')\n",
      " 97%|█████████▋| 245/252 [00:41<00:00,  9.42it/s]C:\\Users\\user\\AppData\\Local\\Temp\\ipykernel_10720\\2496765150.py:22: FutureWarning: DataFrame.interpolate with object dtype is deprecated and will raise in a future version. Call obj.infer_objects(copy=False) before interpolating instead.\n",
      "  df = df.interpolate(limit_direction='both').fillna(method='bfill').fillna(method='ffill')\n",
      "C:\\Users\\user\\AppData\\Local\\Temp\\ipykernel_10720\\2496765150.py:22: FutureWarning: DataFrame.fillna with 'method' is deprecated and will raise in a future version. Use obj.ffill() or obj.bfill() instead.\n",
      "  df = df.interpolate(limit_direction='both').fillna(method='bfill').fillna(method='ffill')\n",
      "C:\\Users\\user\\AppData\\Local\\Temp\\ipykernel_10720\\2496765150.py:22: FutureWarning: DataFrame.interpolate with object dtype is deprecated and will raise in a future version. Call obj.infer_objects(copy=False) before interpolating instead.\n",
      "  df = df.interpolate(limit_direction='both').fillna(method='bfill').fillna(method='ffill')\n",
      "C:\\Users\\user\\AppData\\Local\\Temp\\ipykernel_10720\\2496765150.py:22: FutureWarning: DataFrame.fillna with 'method' is deprecated and will raise in a future version. Use obj.ffill() or obj.bfill() instead.\n",
      "  df = df.interpolate(limit_direction='both').fillna(method='bfill').fillna(method='ffill')\n",
      " 98%|█████████▊| 247/252 [00:41<00:00,  8.53it/s]C:\\Users\\user\\AppData\\Local\\Temp\\ipykernel_10720\\2496765150.py:22: FutureWarning: DataFrame.interpolate with object dtype is deprecated and will raise in a future version. Call obj.infer_objects(copy=False) before interpolating instead.\n",
      "  df = df.interpolate(limit_direction='both').fillna(method='bfill').fillna(method='ffill')\n",
      "C:\\Users\\user\\AppData\\Local\\Temp\\ipykernel_10720\\2496765150.py:22: FutureWarning: DataFrame.fillna with 'method' is deprecated and will raise in a future version. Use obj.ffill() or obj.bfill() instead.\n",
      "  df = df.interpolate(limit_direction='both').fillna(method='bfill').fillna(method='ffill')\n",
      " 98%|█████████▊| 248/252 [00:41<00:00,  8.29it/s]C:\\Users\\user\\AppData\\Local\\Temp\\ipykernel_10720\\2496765150.py:22: FutureWarning: DataFrame.interpolate with object dtype is deprecated and will raise in a future version. Call obj.infer_objects(copy=False) before interpolating instead.\n",
      "  df = df.interpolate(limit_direction='both').fillna(method='bfill').fillna(method='ffill')\n",
      "C:\\Users\\user\\AppData\\Local\\Temp\\ipykernel_10720\\2496765150.py:22: FutureWarning: DataFrame.fillna with 'method' is deprecated and will raise in a future version. Use obj.ffill() or obj.bfill() instead.\n",
      "  df = df.interpolate(limit_direction='both').fillna(method='bfill').fillna(method='ffill')\n",
      " 99%|█████████▉| 249/252 [00:42<00:00,  8.10it/s]C:\\Users\\user\\AppData\\Local\\Temp\\ipykernel_10720\\2496765150.py:22: FutureWarning: DataFrame.interpolate with object dtype is deprecated and will raise in a future version. Call obj.infer_objects(copy=False) before interpolating instead.\n",
      "  df = df.interpolate(limit_direction='both').fillna(method='bfill').fillna(method='ffill')\n",
      "C:\\Users\\user\\AppData\\Local\\Temp\\ipykernel_10720\\2496765150.py:22: FutureWarning: DataFrame.fillna with 'method' is deprecated and will raise in a future version. Use obj.ffill() or obj.bfill() instead.\n",
      "  df = df.interpolate(limit_direction='both').fillna(method='bfill').fillna(method='ffill')\n",
      " 99%|█████████▉| 250/252 [00:42<00:00,  7.88it/s]C:\\Users\\user\\AppData\\Local\\Temp\\ipykernel_10720\\2496765150.py:22: FutureWarning: DataFrame.interpolate with object dtype is deprecated and will raise in a future version. Call obj.infer_objects(copy=False) before interpolating instead.\n",
      "  df = df.interpolate(limit_direction='both').fillna(method='bfill').fillna(method='ffill')\n",
      "C:\\Users\\user\\AppData\\Local\\Temp\\ipykernel_10720\\2496765150.py:22: FutureWarning: DataFrame.fillna with 'method' is deprecated and will raise in a future version. Use obj.ffill() or obj.bfill() instead.\n",
      "  df = df.interpolate(limit_direction='both').fillna(method='bfill').fillna(method='ffill')\n",
      "100%|█████████▉| 251/252 [00:42<00:00,  7.67it/s]C:\\Users\\user\\AppData\\Local\\Temp\\ipykernel_10720\\2496765150.py:22: FutureWarning: DataFrame.interpolate with object dtype is deprecated and will raise in a future version. Call obj.infer_objects(copy=False) before interpolating instead.\n",
      "  df = df.interpolate(limit_direction='both').fillna(method='bfill').fillna(method='ffill')\n",
      "C:\\Users\\user\\AppData\\Local\\Temp\\ipykernel_10720\\2496765150.py:22: FutureWarning: DataFrame.fillna with 'method' is deprecated and will raise in a future version. Use obj.ffill() or obj.bfill() instead.\n",
      "  df = df.interpolate(limit_direction='both').fillna(method='bfill').fillna(method='ffill')\n",
      "100%|██████████| 252/252 [00:42<00:00,  5.93it/s]\n"
     ]
    },
    {
     "name": "stdout",
     "output_type": "stream",
     "text": [
      "✅ Extracted 1260 samples with 222 features total.\n",
      "📁 Saved enriched dataset to: keypoints_csv\\Final_Gait_Features_Named.csv\n"
     ]
    }
   ],
   "source": [
    "import math\n",
    "\n",
    "# --- Utility functions ---\n",
    "def calculate_angle(a, b, c):\n",
    "    \"\"\"Compute angle (in degrees) between three 3D points a, b, c.\"\"\"\n",
    "    a, b, c = np.array(a), np.array(b), np.array(c)\n",
    "    ab, cb = a - b, c - b\n",
    "    cosine = np.dot(ab, cb) / (np.linalg.norm(ab) * np.linalg.norm(cb) + 1e-6)\n",
    "    return np.degrees(np.arccos(np.clip(cosine, -1.0, 1.0)))\n",
    "\n",
    "def calculate_distance(a, b):\n",
    "    \"\"\"Euclidean distance between two 3D points.\"\"\"\n",
    "    return np.linalg.norm(np.array(a) - np.array(b))\n",
    "\n",
    "\n",
    "def extract_segment_features(csv_path, segments=5):\n",
    "    df = pd.read_csv(csv_path)\n",
    "    if df.empty:\n",
    "        return []\n",
    "\n",
    "    # Handle missing values safely\n",
    "    df = df.interpolate(limit_direction='both').fillna(method='bfill').fillna(method='ffill')\n",
    "    if len(df.dropna()) < 10:\n",
    "        print(f\"Skipping {csv_path} (too few valid frames)\")\n",
    "        return []\n",
    "\n",
    "    segment_size = len(df) // segments\n",
    "    video_name = os.path.basename(csv_path)\n",
    "    label = df[\"label\"].iloc[0] if \"label\" in df.columns else \"Unknown\"\n",
    "\n",
    "    all_segment_features = []\n",
    "\n",
    "    for s in range(segments):\n",
    "        seg = df.iloc[s * segment_size : (s + 1) * segment_size]\n",
    "        if len(seg) < 3:\n",
    "            continue\n",
    "\n",
    "        numeric_cols = [c for c in df.columns if c.startswith((\"x_\", \"y_\", \"z_\"))]\n",
    "        means = seg[numeric_cols].mean()\n",
    "        stds = seg[numeric_cols].std()\n",
    "\n",
    "        frame = seg.iloc[len(seg)//2]\n",
    "        landmarks = np.array([[frame[f\"x_{i}\"], frame[f\"y_{i}\"], frame[f\"z_{i}\"]] for i in range(33)])\n",
    "\n",
    "        # --- (1) Joint angles ---\n",
    "        left_knee_angle = calculate_angle(landmarks[24], landmarks[26], landmarks[28])\n",
    "        right_knee_angle = calculate_angle(landmarks[23], landmarks[25], landmarks[27])\n",
    "        left_hip_angle = calculate_angle(landmarks[12], landmarks[24], landmarks[26])\n",
    "        right_hip_angle = calculate_angle(landmarks[11], landmarks[23], landmarks[25])\n",
    "        left_elbow_angle = calculate_angle(landmarks[12], landmarks[14], landmarks[16])\n",
    "        right_elbow_angle = calculate_angle(landmarks[11], landmarks[13], landmarks[15])\n",
    "        shoulder_tilt = calculate_angle(landmarks[11], landmarks[12], landmarks[24])\n",
    "\n",
    "        # --- (2) Distances ---\n",
    "        shoulder_width = calculate_distance(landmarks[11], landmarks[12])\n",
    "        hip_width = calculate_distance(landmarks[23], landmarks[24])\n",
    "        step_length = calculate_distance(landmarks[27], landmarks[28])\n",
    "        torso_length = calculate_distance(landmarks[11], landmarks[23])\n",
    "        leg_length_left = calculate_distance(landmarks[24], landmarks[28])\n",
    "        leg_length_right = calculate_distance(landmarks[23], landmarks[27])\n",
    "\n",
    "        # --- (3) Asymmetry features ---\n",
    "        knee_angle_diff = abs(left_knee_angle - right_knee_angle)\n",
    "        hip_angle_diff = abs(left_hip_angle - right_hip_angle)\n",
    "        leg_length_ratio = leg_length_left / (leg_length_right + 1e-6)\n",
    "        step_symmetry = abs(leg_length_left - leg_length_right)\n",
    "\n",
    "        # --- (4) Posture ---\n",
    "        com_x = np.mean([landmarks[11][0], landmarks[12][0], landmarks[23][0], landmarks[24][0]])\n",
    "        com_y = np.mean([landmarks[11][1], landmarks[12][1], landmarks[23][1], landmarks[24][1]])\n",
    "        posture_deviation = abs(landmarks[0][1] - com_y)\n",
    "\n",
    "        # --- (5) Stability ratios ---\n",
    "        shoulder_hip_ratio = shoulder_width / (hip_width + 1e-6)\n",
    "        limb_ratio = (leg_length_left + leg_length_right) / (torso_length + 1e-6)\n",
    "\n",
    "        biomech_dict = {\n",
    "            \"left_knee_angle\": left_knee_angle,\n",
    "            \"right_knee_angle\": right_knee_angle,\n",
    "            \"left_hip_angle\": left_hip_angle,\n",
    "            \"right_hip_angle\": right_hip_angle,\n",
    "            \"left_elbow_angle\": left_elbow_angle,\n",
    "            \"right_elbow_angle\": right_elbow_angle,\n",
    "            \"shoulder_tilt\": shoulder_tilt,\n",
    "            \"shoulder_width\": shoulder_width,\n",
    "            \"hip_width\": hip_width,\n",
    "            \"step_length\": step_length,\n",
    "            \"torso_length\": torso_length,\n",
    "            \"leg_length_left\": leg_length_left,\n",
    "            \"leg_length_right\": leg_length_right,\n",
    "            \"knee_angle_diff\": knee_angle_diff,\n",
    "            \"hip_angle_diff\": hip_angle_diff,\n",
    "            \"leg_length_ratio\": leg_length_ratio,\n",
    "            \"step_symmetry\": step_symmetry,\n",
    "            \"posture_deviation\": posture_deviation,\n",
    "            \"shoulder_hip_ratio\": shoulder_hip_ratio,\n",
    "            \"limb_ratio\": limb_ratio,\n",
    "            \"com_x\": com_x\n",
    "        }\n",
    "\n",
    "        # Merge statistical features (mean/std) + biomechanical\n",
    "        segment_features = {\n",
    "            \"video\": video_name,\n",
    "            \"label\": label,\n",
    "            \"segment\": s\n",
    "        }\n",
    "        # add mean/std prefixed columns\n",
    "        for col in means.index:\n",
    "            segment_features[f\"{col}_mean\"] = means[col]\n",
    "        for col in stds.index:\n",
    "            segment_features[f\"{col}_std\"] = stds[col]\n",
    "\n",
    "        # add biomechanical named features\n",
    "        segment_features.update(biomech_dict)\n",
    "\n",
    "        all_segment_features.append(segment_features)\n",
    "\n",
    "    return all_segment_features\n",
    "\n",
    "\n",
    "# --- Run over all extracted CSVs ---\n",
    "final_features = []\n",
    "for file in tqdm(os.listdir(OUTPUT_FOLDER)):\n",
    "    if file.endswith(\".csv\"):\n",
    "        csv_path = os.path.join(OUTPUT_FOLDER, file)\n",
    "        feats = extract_segment_features(csv_path, segments=5)\n",
    "        final_features.extend(feats)\n",
    "\n",
    "final_df = pd.DataFrame(final_features)\n",
    "final_csv_path = os.path.join(OUTPUT_FOLDER, \"Final_Gait_Features_Named.csv\")\n",
    "final_df.to_csv(final_csv_path, index=False)\n",
    "\n",
    "print(f\"✅ Extracted {len(final_df)} samples with {final_df.shape[1]} features total.\")\n",
    "print(f\"📁 Saved enriched dataset to: {final_csv_path}\")\n",
    "\n"
   ]
  },
  {
   "cell_type": "code",
   "execution_count": null,
   "id": "58ef493d",
   "metadata": {},
   "outputs": [],
   "source": []
  }
 ],
 "metadata": {
  "kernelspec": {
   "display_name": "GaitEnv",
   "language": "python",
   "name": "python3"
  },
  "language_info": {
   "codemirror_mode": {
    "name": "ipython",
    "version": 3
   },
   "file_extension": ".py",
   "mimetype": "text/x-python",
   "name": "python",
   "nbconvert_exporter": "python",
   "pygments_lexer": "ipython3",
   "version": "3.12.10"
  }
 },
 "nbformat": 4,
 "nbformat_minor": 5
}
