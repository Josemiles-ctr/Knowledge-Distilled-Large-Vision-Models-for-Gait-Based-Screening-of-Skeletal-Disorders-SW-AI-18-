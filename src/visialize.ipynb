{
 "cells": [
  {
   "cell_type": "code",
   "execution_count": null,
   "id": "4d30000f",
   "metadata": {},
   "outputs": [],
   "source": [
    "import pandas as pd\n",
    "import numpy as np\n",
    "import matplotlib.pyplot as plt\n",
    "import seaborn as sns\n",
    "import os\n",
    "import glob"
   ]
  },
  {
   "cell_type": "code",
   "execution_count": null,
   "id": "3a4fc8b8",
   "metadata": {},
   "outputs": [],
   "source": [
    "pd.set_option('display.max_columns', None)\n",
    "pd.set_option('display.max_rows', None)\n",
    "pd.set_option('display.max_colwidth', None)"
   ]
  },
  {
   "cell_type": "code",
   "execution_count": null,
   "id": "29758be9",
   "metadata": {},
   "outputs": [],
   "source": [
    "df=pd.read_csv(r\"C:\\Users\\Josemiles\\Desktop\\GaitLab\\src\\Datasets\\merged_data.csv\")  "
   ]
  },
  {
   "cell_type": "code",
   "execution_count": null,
   "id": "043c19ec",
   "metadata": {},
   "outputs": [],
   "source": [
    "df.shape"
   ]
  },
  {
   "cell_type": "code",
   "execution_count": null,
   "id": "587724e4",
   "metadata": {},
   "outputs": [],
   "source": [
    "df.isna().sum(axis=1)"
   ]
  },
  {
   "cell_type": "code",
   "execution_count": null,
   "id": "f93e6cb8",
   "metadata": {},
   "outputs": [],
   "source": [
    "df.dropna(inplace=True)\n",
    "df.shape"
   ]
  },
  {
   "cell_type": "code",
   "execution_count": null,
   "id": "01132a2a",
   "metadata": {},
   "outputs": [],
   "source": [
    "df.head()"
   ]
  },
  {
   "cell_type": "code",
   "execution_count": null,
   "id": "fbe82b9d",
   "metadata": {},
   "outputs": [],
   "source": [
    "def calculate_joint_angle(point_a, point_b, point_c):\n",
    "    try:\n",
    "        point_a, point_b, point_c = np.array(point_a), np.array(point_b), np.array(point_c)\n",
    "        \n",
    "        # Check for invalid points (NaN, inf, or None)\n",
    "        if (np.any(np.isnan([point_a, point_b, point_c])) or \n",
    "            np.any(np.isinf([point_a, point_b, point_c]))):\n",
    "            return 90.0  # Default neutral angle for timeseries continuity\n",
    "        \n",
    "        vector_ba = point_a - point_b\n",
    "        vector_bc = point_c - point_b\n",
    "        \n",
    "        # Calculate norms with safety check\n",
    "        norm_ba = np.linalg.norm(vector_ba)\n",
    "        norm_bc = np.linalg.norm(vector_bc)\n",
    "        \n",
    "        if norm_ba < 1e-8 or norm_bc < 1e-8:\n",
    "            return 90.0  # Default neutral angle\n",
    "        \n",
    "        # Calculate cosine with robust normalization\n",
    "        cos_angle = np.dot(vector_ba, vector_bc) / (norm_ba * norm_bc)\n",
    "        \n",
    "        # Ensure cos_angle is within valid range for arccos\n",
    "        cos_angle = np.clip(cos_angle, -1.0, 1.0)\n",
    "        \n",
    "        # Calculate angle and ensure it's finite\n",
    "        angle_radians = np.arccos(cos_angle)\n",
    "        angle_degrees = np.degrees(angle_radians)\n",
    "        \n",
    "        # Final safety check for timeseries integrity\n",
    "        if np.isnan(angle_degrees) or np.isinf(angle_degrees):\n",
    "            return 90.0\n",
    "            \n",
    "        return float(angle_degrees)\n",
    "        \n",
    "    except Exception:\n",
    "        # Fallback for any unexpected errors - maintain timeseries continuity\n",
    "        return 90.0\n"
   ]
  },
  {
   "cell_type": "code",
   "execution_count": null,
   "id": "5401dc1f",
   "metadata": {},
   "outputs": [],
   "source": [
    "#converting x_,y_,z_ landmark indexs to equivalent landmark names\n",
    "landmark_names = {\n",
    "    0: 'nose',\n",
    "    1: 'left_eye_inner',\n",
    "    2: 'left_eye',\n",
    "    3: 'left_eye_outer',\n",
    "    4: 'right_eye_inner',\n",
    "    5: 'right_eye',\n",
    "    6: 'right_eye_outer',\n",
    "    7: 'left_ear',\n",
    "    8: 'right_ear',\n",
    "    9: 'mouth_left',\n",
    "    10: 'mouth_right',\n",
    "    11: 'left_shoulder',\n",
    "    12: 'right_shoulder',\n",
    "    13: 'left_elbow',\n",
    "    14: 'right_elbow',\n",
    "    15: 'left_wrist',\n",
    "    16: 'right_wrist',\n",
    "    23: 'left_hip',\n",
    "    24: 'right_hip',\n",
    "    25: 'left_knee',\n",
    "    26: 'right_knee',\n",
    "    27: 'left_ankle',\n",
    "    28: 'right_ankle',\n",
    "    29: 'left_heel',\n",
    "    30: 'right_heel',\n",
    "    31: 'left_foot_index',\n",
    "    32: 'right_foot_index'\n",
    "}"
   ]
  },
  {
   "cell_type": "code",
   "execution_count": null,
   "id": "aeef921c",
   "metadata": {},
   "outputs": [],
   "source": [
    "df.columns"
   ]
  },
  {
   "cell_type": "code",
   "execution_count": null,
   "id": "b5b6e533",
   "metadata": {},
   "outputs": [],
   "source": [
    "df.columns = df.columns.map(\n",
    "    lambda col: (\n",
    "        f\"{col.split('_')[0]}_{landmark_names[int(col.split('_')[1])]}\"\n",
    "        if len(col.split('_')) > 1 \n",
    "        and col.split('_')[1].isdigit() \n",
    "        and int(col.split('_')[1]) in landmark_names\n",
    "        else col\n",
    "    )\n",
    ")\n",
    "df.columns"
   ]
  },
  {
   "cell_type": "code",
   "execution_count": null,
   "id": "2e9144e2",
   "metadata": {},
   "outputs": [],
   "source": [
    "#calculating angles for joints\n",
    "df['left_knee_angle'] = df.apply(\n",
    "    lambda row: calculate_joint_angle(\n",
    "        (row['x_left_hip'], row['y_left_hip'], row['z_left_hip']),\n",
    "        (row['x_left_knee'], row['y_left_knee'], row['z_left_knee']),\n",
    "        (row['x_left_ankle'], row['y_left_ankle'], row['z_left_ankle'])\n",
    "    ), axis=1\n",
    ")\n",
    "df['right_knee_angle'] = df.apply(\n",
    "    lambda row: calculate_joint_angle(\n",
    "        (row['x_right_hip'], row['y_right_hip'], row['z_right_hip']),\n",
    "        (row['x_right_knee'], row['y_right_knee'], row['z_right_knee']),\n",
    "        (row['x_right_ankle'], row['y_right_ankle'], row['z_right_ankle'])\n",
    "    ), axis=1\n",
    ")\n",
    "df['left_elbow_angle'] = df.apply(\n",
    "    lambda row: calculate_joint_angle(\n",
    "        (row['x_left_shoulder'], row['y_left_shoulder'], row['z_left_shoulder']),\n",
    "        (row['x_left_elbow'], row['y_left_elbow'], row['z_left_elbow']),\n",
    "        (row['x_left_wrist'], row['y_left_wrist'], row['z_left_wrist'])\n",
    "    ), axis=1\n",
    ")\n",
    "df['right_elbow_angle'] = df.apply(\n",
    "    lambda row: calculate_joint_angle(\n",
    "        (row['x_right_shoulder'], row['y_right_shoulder'], row['z_right_shoulder']),\n",
    "        (row['x_right_elbow'], row['y_right_elbow'], row['z_right_elbow']),\n",
    "        (row['x_right_wrist'], row['y_right_wrist'], row['z_right_wrist'])\n",
    "    ), axis=1\n",
    ")\n",
    "#hip angles\n",
    "df['left_hip_angle'] = df.apply(\n",
    "    lambda row: calculate_joint_angle(\n",
    "        (row['x_left_shoulder'], row['y_left_shoulder'], row['z_left_shoulder']),\n",
    "        (row['x_left_hip'], row['y_left_hip'], row['z_left_hip']),\n",
    "        (row['x_left_knee'], row['y_left_knee'], row['z_left_knee'])\n",
    "    ), axis=1\n",
    ")\n",
    "df['right_hip_angle'] = df.apply(\n",
    "    lambda row: calculate_joint_angle(\n",
    "        (row['x_right_shoulder'], row['y_right_shoulder'], row['z_right_shoulder']),\n",
    "        (row['x_right_hip'], row['y_right_hip'], row['z_right_hip']),\n",
    "        (row['x_right_knee'], row['y_right_knee'], row['z_right_knee'])\n",
    "    ), axis=1\n",
    ")\n",
    "#shalder angles\n",
    "df['left_shoulder_angle'] = df.apply(\n",
    "    lambda row: calculate_joint_angle(\n",
    "        (row['x_left_elbow'], row['y_left_elbow'], row['z_left_elbow']),\n",
    "        (row['x_left_shoulder'], row['y_left_shoulder'], row['z_left_shoulder']),\n",
    "        (row['x_left_hip'], row['y_left_hip'], row['z_left_hip'])\n",
    "    ), axis=1\n",
    ")\n",
    "df['right_shoulder_angle'] = df.apply(\n",
    "    lambda row: calculate_joint_angle(\n",
    "        (row['x_right_elbow'], row['y_right_elbow'], row['z_right_elbow']),\n",
    "        (row['x_right_shoulder'], row['y_right_shoulder'], row['z_right_shoulder']),\n",
    "        (row['x_right_hip'], row['y_right_hip'], row['z_right_hip'])\n",
    "    ), axis=1\n",
    ")\n",
    "df.head()"
   ]
  },
  {
   "cell_type": "code",
   "execution_count": null,
   "id": "363fcdc7",
   "metadata": {},
   "outputs": [],
   "source": [
    "#distinct label values\n",
    "df['label'].unique()"
   ]
  },
  {
   "cell_type": "code",
   "execution_count": null,
   "id": "4dfd4fe5",
   "metadata": {},
   "outputs": [],
   "source": [
    "#bar graph of label distribution\n",
    "plt.figure(figsize=(10, 6))\n",
    "sns.countplot(data=df, x='label', palette='tab10')\n",
    "plt.title('Distribution of Labels')\n",
    "plt.xlabel('Label')\n",
    "plt.ylabel('Count')\n",
    "plt.show()"
   ]
  },
  {
   "cell_type": "code",
   "execution_count": null,
   "id": "7dde40e5",
   "metadata": {},
   "outputs": [],
   "source": [
    "#plotting the variation of mean angles for left knee against their appropriate labels\n",
    "plt.figure(figsize=(12, 6))\n",
    "sns.barplot(data=df, x='label', y='left_knee_angle', palette='tab10')\n",
    "plt.title('Mean Left Knee Angle by Label')\n",
    "plt.xlabel('Label')\n",
    "plt.ylabel('Mean Left Knee Angle')\n",
    "plt.show()"
   ]
  },
  {
   "cell_type": "code",
   "execution_count": 34,
   "id": "d18b3ce6",
   "metadata": {},
   "outputs": [
    {
     "data": {
      "text/plain": [
       "(2204,)"
      ]
     },
     "execution_count": 34,
     "metadata": {},
     "output_type": "execute_result"
    }
   ],
   "source": [
    "binary_df=np.load(r\"C:\\Users\\Josemiles\\Desktop\\GaitLab\\src\\Datasets\\ts_data\\y_seq_len64_stride32.npy\")\n",
    "binary_df.shape"
   ]
  },
  {
   "cell_type": "code",
   "execution_count": 35,
   "id": "d0ecb271",
   "metadata": {},
   "outputs": [
    {
     "data": {
      "text/plain": [
       "array(['KOA_Early', 'KOA_Early', 'KOA_Early', ..., 'NonAssistive',\n",
       "       'NonAssistive', 'NonAssistive'], dtype='<U12')"
      ]
     },
     "execution_count": 35,
     "metadata": {},
     "output_type": "execute_result"
    }
   ],
   "source": [
    "binary_df"
   ]
  },
  {
   "cell_type": "code",
   "execution_count": 37,
   "id": "1d299ad6",
   "metadata": {},
   "outputs": [
    {
     "data": {
      "text/plain": [
       "(2204, 64, 21)"
      ]
     },
     "execution_count": 37,
     "metadata": {},
     "output_type": "execute_result"
    }
   ],
   "source": [
    "binary_df=np.load(r\"C:\\Users\\Josemiles\\Desktop\\GaitLab\\src\\Datasets\\ts_data\\x_seq_len64_stride32.npy\")\n",
    "binary_df.shape"
   ]
  }
 ],
 "metadata": {
  "kernelspec": {
   "display_name": "GaitEnv",
   "language": "python",
   "name": "python3"
  },
  "language_info": {
   "codemirror_mode": {
    "name": "ipython",
    "version": 3
   },
   "file_extension": ".py",
   "mimetype": "text/x-python",
   "name": "python",
   "nbconvert_exporter": "python",
   "pygments_lexer": "ipython3",
   "version": "3.12.10"
  }
 },
 "nbformat": 4,
 "nbformat_minor": 5
}
